{
 "cells": [
  {
   "cell_type": "code",
   "execution_count": 1,
   "id": "70728781",
   "metadata": {
    "execution": {
     "iopub.execute_input": "2022-07-04T03:54:00.097279Z",
     "iopub.status.busy": "2022-07-04T03:54:00.096779Z",
     "iopub.status.idle": "2022-07-04T03:54:00.107933Z",
     "shell.execute_reply": "2022-07-04T03:54:00.107156Z"
    },
    "papermill": {
     "duration": 0.021606,
     "end_time": "2022-07-04T03:54:00.110488",
     "exception": false,
     "start_time": "2022-07-04T03:54:00.088882",
     "status": "completed"
    },
    "tags": []
   },
   "outputs": [],
   "source": [
    "import pandas as pd"
   ]
  },
  {
   "cell_type": "code",
   "execution_count": 2,
   "id": "a5350ac3",
   "metadata": {
    "execution": {
     "iopub.execute_input": "2022-07-04T03:54:00.123521Z",
     "iopub.status.busy": "2022-07-04T03:54:00.123241Z",
     "iopub.status.idle": "2022-07-04T03:54:00.164757Z",
     "shell.execute_reply": "2022-07-04T03:54:00.163757Z"
    },
    "papermill": {
     "duration": 0.051419,
     "end_time": "2022-07-04T03:54:00.167334",
     "exception": false,
     "start_time": "2022-07-04T03:54:00.115915",
     "status": "completed"
    },
    "tags": []
   },
   "outputs": [
    {
     "data": {
      "text/html": [
       "<div>\n",
       "<style scoped>\n",
       "    .dataframe tbody tr th:only-of-type {\n",
       "        vertical-align: middle;\n",
       "    }\n",
       "\n",
       "    .dataframe tbody tr th {\n",
       "        vertical-align: top;\n",
       "    }\n",
       "\n",
       "    .dataframe thead th {\n",
       "        text-align: right;\n",
       "    }\n",
       "</style>\n",
       "<table border=\"1\" class=\"dataframe\">\n",
       "  <thead>\n",
       "    <tr style=\"text-align: right;\">\n",
       "      <th></th>\n",
       "      <th>PassengerId</th>\n",
       "      <th>Survived</th>\n",
       "      <th>Pclass</th>\n",
       "      <th>Name</th>\n",
       "      <th>Sex</th>\n",
       "      <th>Age</th>\n",
       "      <th>SibSp</th>\n",
       "      <th>Parch</th>\n",
       "      <th>Ticket</th>\n",
       "      <th>Fare</th>\n",
       "      <th>Cabin</th>\n",
       "      <th>Embarked</th>\n",
       "    </tr>\n",
       "  </thead>\n",
       "  <tbody>\n",
       "    <tr>\n",
       "      <th>0</th>\n",
       "      <td>1</td>\n",
       "      <td>0</td>\n",
       "      <td>3</td>\n",
       "      <td>Braund, Mr. Owen Harris</td>\n",
       "      <td>male</td>\n",
       "      <td>22.0</td>\n",
       "      <td>1</td>\n",
       "      <td>0</td>\n",
       "      <td>A/5 21171</td>\n",
       "      <td>7.2500</td>\n",
       "      <td>NaN</td>\n",
       "      <td>S</td>\n",
       "    </tr>\n",
       "    <tr>\n",
       "      <th>1</th>\n",
       "      <td>2</td>\n",
       "      <td>1</td>\n",
       "      <td>1</td>\n",
       "      <td>Cumings, Mrs. John Bradley (Florence Briggs Th...</td>\n",
       "      <td>female</td>\n",
       "      <td>38.0</td>\n",
       "      <td>1</td>\n",
       "      <td>0</td>\n",
       "      <td>PC 17599</td>\n",
       "      <td>71.2833</td>\n",
       "      <td>C85</td>\n",
       "      <td>C</td>\n",
       "    </tr>\n",
       "    <tr>\n",
       "      <th>2</th>\n",
       "      <td>3</td>\n",
       "      <td>1</td>\n",
       "      <td>3</td>\n",
       "      <td>Heikkinen, Miss. Laina</td>\n",
       "      <td>female</td>\n",
       "      <td>26.0</td>\n",
       "      <td>0</td>\n",
       "      <td>0</td>\n",
       "      <td>STON/O2. 3101282</td>\n",
       "      <td>7.9250</td>\n",
       "      <td>NaN</td>\n",
       "      <td>S</td>\n",
       "    </tr>\n",
       "    <tr>\n",
       "      <th>3</th>\n",
       "      <td>4</td>\n",
       "      <td>1</td>\n",
       "      <td>1</td>\n",
       "      <td>Futrelle, Mrs. Jacques Heath (Lily May Peel)</td>\n",
       "      <td>female</td>\n",
       "      <td>35.0</td>\n",
       "      <td>1</td>\n",
       "      <td>0</td>\n",
       "      <td>113803</td>\n",
       "      <td>53.1000</td>\n",
       "      <td>C123</td>\n",
       "      <td>S</td>\n",
       "    </tr>\n",
       "    <tr>\n",
       "      <th>4</th>\n",
       "      <td>5</td>\n",
       "      <td>0</td>\n",
       "      <td>3</td>\n",
       "      <td>Allen, Mr. William Henry</td>\n",
       "      <td>male</td>\n",
       "      <td>35.0</td>\n",
       "      <td>0</td>\n",
       "      <td>0</td>\n",
       "      <td>373450</td>\n",
       "      <td>8.0500</td>\n",
       "      <td>NaN</td>\n",
       "      <td>S</td>\n",
       "    </tr>\n",
       "  </tbody>\n",
       "</table>\n",
       "</div>"
      ],
      "text/plain": [
       "   PassengerId  Survived  Pclass  \\\n",
       "0            1         0       3   \n",
       "1            2         1       1   \n",
       "2            3         1       3   \n",
       "3            4         1       1   \n",
       "4            5         0       3   \n",
       "\n",
       "                                                Name     Sex   Age  SibSp  \\\n",
       "0                            Braund, Mr. Owen Harris    male  22.0      1   \n",
       "1  Cumings, Mrs. John Bradley (Florence Briggs Th...  female  38.0      1   \n",
       "2                             Heikkinen, Miss. Laina  female  26.0      0   \n",
       "3       Futrelle, Mrs. Jacques Heath (Lily May Peel)  female  35.0      1   \n",
       "4                           Allen, Mr. William Henry    male  35.0      0   \n",
       "\n",
       "   Parch            Ticket     Fare Cabin Embarked  \n",
       "0      0         A/5 21171   7.2500   NaN        S  \n",
       "1      0          PC 17599  71.2833   C85        C  \n",
       "2      0  STON/O2. 3101282   7.9250   NaN        S  \n",
       "3      0            113803  53.1000  C123        S  \n",
       "4      0            373450   8.0500   NaN        S  "
      ]
     },
     "execution_count": 2,
     "metadata": {},
     "output_type": "execute_result"
    }
   ],
   "source": [
    "train = pd.read_csv('../input/titanic/train.csv')\n",
    "train.head()"
   ]
  },
  {
   "cell_type": "code",
   "execution_count": 3,
   "id": "dc1c13c7",
   "metadata": {
    "execution": {
     "iopub.execute_input": "2022-07-04T03:54:00.180607Z",
     "iopub.status.busy": "2022-07-04T03:54:00.180027Z",
     "iopub.status.idle": "2022-07-04T03:54:00.216984Z",
     "shell.execute_reply": "2022-07-04T03:54:00.215927Z"
    },
    "papermill": {
     "duration": 0.04532,
     "end_time": "2022-07-04T03:54:00.218720",
     "exception": false,
     "start_time": "2022-07-04T03:54:00.173400",
     "status": "completed"
    },
    "tags": []
   },
   "outputs": [
    {
     "data": {
      "text/html": [
       "<div>\n",
       "<style scoped>\n",
       "    .dataframe tbody tr th:only-of-type {\n",
       "        vertical-align: middle;\n",
       "    }\n",
       "\n",
       "    .dataframe tbody tr th {\n",
       "        vertical-align: top;\n",
       "    }\n",
       "\n",
       "    .dataframe thead th {\n",
       "        text-align: right;\n",
       "    }\n",
       "</style>\n",
       "<table border=\"1\" class=\"dataframe\">\n",
       "  <thead>\n",
       "    <tr style=\"text-align: right;\">\n",
       "      <th></th>\n",
       "      <th>PassengerId</th>\n",
       "      <th>Survived</th>\n",
       "      <th>Pclass</th>\n",
       "      <th>Age</th>\n",
       "      <th>SibSp</th>\n",
       "      <th>Parch</th>\n",
       "      <th>Fare</th>\n",
       "    </tr>\n",
       "  </thead>\n",
       "  <tbody>\n",
       "    <tr>\n",
       "      <th>count</th>\n",
       "      <td>891.000000</td>\n",
       "      <td>891.000000</td>\n",
       "      <td>891.000000</td>\n",
       "      <td>714.000000</td>\n",
       "      <td>891.000000</td>\n",
       "      <td>891.000000</td>\n",
       "      <td>891.000000</td>\n",
       "    </tr>\n",
       "    <tr>\n",
       "      <th>mean</th>\n",
       "      <td>446.000000</td>\n",
       "      <td>0.383838</td>\n",
       "      <td>2.308642</td>\n",
       "      <td>29.699118</td>\n",
       "      <td>0.523008</td>\n",
       "      <td>0.381594</td>\n",
       "      <td>32.204208</td>\n",
       "    </tr>\n",
       "    <tr>\n",
       "      <th>std</th>\n",
       "      <td>257.353842</td>\n",
       "      <td>0.486592</td>\n",
       "      <td>0.836071</td>\n",
       "      <td>14.526497</td>\n",
       "      <td>1.102743</td>\n",
       "      <td>0.806057</td>\n",
       "      <td>49.693429</td>\n",
       "    </tr>\n",
       "    <tr>\n",
       "      <th>min</th>\n",
       "      <td>1.000000</td>\n",
       "      <td>0.000000</td>\n",
       "      <td>1.000000</td>\n",
       "      <td>0.420000</td>\n",
       "      <td>0.000000</td>\n",
       "      <td>0.000000</td>\n",
       "      <td>0.000000</td>\n",
       "    </tr>\n",
       "    <tr>\n",
       "      <th>25%</th>\n",
       "      <td>223.500000</td>\n",
       "      <td>0.000000</td>\n",
       "      <td>2.000000</td>\n",
       "      <td>20.125000</td>\n",
       "      <td>0.000000</td>\n",
       "      <td>0.000000</td>\n",
       "      <td>7.910400</td>\n",
       "    </tr>\n",
       "    <tr>\n",
       "      <th>50%</th>\n",
       "      <td>446.000000</td>\n",
       "      <td>0.000000</td>\n",
       "      <td>3.000000</td>\n",
       "      <td>28.000000</td>\n",
       "      <td>0.000000</td>\n",
       "      <td>0.000000</td>\n",
       "      <td>14.454200</td>\n",
       "    </tr>\n",
       "    <tr>\n",
       "      <th>75%</th>\n",
       "      <td>668.500000</td>\n",
       "      <td>1.000000</td>\n",
       "      <td>3.000000</td>\n",
       "      <td>38.000000</td>\n",
       "      <td>1.000000</td>\n",
       "      <td>0.000000</td>\n",
       "      <td>31.000000</td>\n",
       "    </tr>\n",
       "    <tr>\n",
       "      <th>max</th>\n",
       "      <td>891.000000</td>\n",
       "      <td>1.000000</td>\n",
       "      <td>3.000000</td>\n",
       "      <td>80.000000</td>\n",
       "      <td>8.000000</td>\n",
       "      <td>6.000000</td>\n",
       "      <td>512.329200</td>\n",
       "    </tr>\n",
       "  </tbody>\n",
       "</table>\n",
       "</div>"
      ],
      "text/plain": [
       "       PassengerId    Survived      Pclass         Age       SibSp  \\\n",
       "count   891.000000  891.000000  891.000000  714.000000  891.000000   \n",
       "mean    446.000000    0.383838    2.308642   29.699118    0.523008   \n",
       "std     257.353842    0.486592    0.836071   14.526497    1.102743   \n",
       "min       1.000000    0.000000    1.000000    0.420000    0.000000   \n",
       "25%     223.500000    0.000000    2.000000   20.125000    0.000000   \n",
       "50%     446.000000    0.000000    3.000000   28.000000    0.000000   \n",
       "75%     668.500000    1.000000    3.000000   38.000000    1.000000   \n",
       "max     891.000000    1.000000    3.000000   80.000000    8.000000   \n",
       "\n",
       "            Parch        Fare  \n",
       "count  891.000000  891.000000  \n",
       "mean     0.381594   32.204208  \n",
       "std      0.806057   49.693429  \n",
       "min      0.000000    0.000000  \n",
       "25%      0.000000    7.910400  \n",
       "50%      0.000000   14.454200  \n",
       "75%      0.000000   31.000000  \n",
       "max      6.000000  512.329200  "
      ]
     },
     "execution_count": 3,
     "metadata": {},
     "output_type": "execute_result"
    }
   ],
   "source": [
    "#Let's study the dataset to begin doing the predictions\n",
    "train.describe()"
   ]
  },
  {
   "cell_type": "code",
   "execution_count": 4,
   "id": "36514c9c",
   "metadata": {
    "execution": {
     "iopub.execute_input": "2022-07-04T03:54:00.230746Z",
     "iopub.status.busy": "2022-07-04T03:54:00.230446Z",
     "iopub.status.idle": "2022-07-04T03:54:00.240699Z",
     "shell.execute_reply": "2022-07-04T03:54:00.239605Z"
    },
    "papermill": {
     "duration": 0.018574,
     "end_time": "2022-07-04T03:54:00.242597",
     "exception": false,
     "start_time": "2022-07-04T03:54:00.224023",
     "status": "completed"
    },
    "tags": []
   },
   "outputs": [
    {
     "data": {
      "text/plain": [
       "347082      7\n",
       "CA. 2343    7\n",
       "1601        7\n",
       "3101295     6\n",
       "CA 2144     6\n",
       "           ..\n",
       "9234        1\n",
       "19988       1\n",
       "2693        1\n",
       "PC 17612    1\n",
       "370376      1\n",
       "Name: Ticket, Length: 681, dtype: int64"
      ]
     },
     "execution_count": 4,
     "metadata": {},
     "output_type": "execute_result"
    }
   ],
   "source": [
    "train['Ticket'].value_counts()"
   ]
  },
  {
   "cell_type": "code",
   "execution_count": 5,
   "id": "28a4a914",
   "metadata": {
    "execution": {
     "iopub.execute_input": "2022-07-04T03:54:00.255134Z",
     "iopub.status.busy": "2022-07-04T03:54:00.254750Z",
     "iopub.status.idle": "2022-07-04T03:54:00.264887Z",
     "shell.execute_reply": "2022-07-04T03:54:00.264010Z"
    },
    "papermill": {
     "duration": 0.019969,
     "end_time": "2022-07-04T03:54:00.267867",
     "exception": false,
     "start_time": "2022-07-04T03:54:00.247898",
     "status": "completed"
    },
    "tags": []
   },
   "outputs": [
    {
     "name": "stdout",
     "output_type": "stream",
     "text": [
      "(344, 12)\n"
     ]
    }
   ],
   "source": [
    "#those people have the same ticket number, therefore they bought together and probably where traveling together.\n",
    "group_tickets = train[train['Ticket'].map(train['Ticket'].value_counts() > 1)]\n",
    "print(group_tickets.shape)"
   ]
  },
  {
   "cell_type": "code",
   "execution_count": 6,
   "id": "394acf8c",
   "metadata": {
    "execution": {
     "iopub.execute_input": "2022-07-04T03:54:00.283034Z",
     "iopub.status.busy": "2022-07-04T03:54:00.282594Z",
     "iopub.status.idle": "2022-07-04T03:54:00.291226Z",
     "shell.execute_reply": "2022-07-04T03:54:00.290272Z"
    },
    "papermill": {
     "duration": 0.018512,
     "end_time": "2022-07-04T03:54:00.293621",
     "exception": false,
     "start_time": "2022-07-04T03:54:00.275109",
     "status": "completed"
    },
    "tags": []
   },
   "outputs": [
    {
     "name": "stdout",
     "output_type": "stream",
     "text": [
      "No cabin = 687\n"
     ]
    }
   ],
   "source": [
    "#There are too many missing values in cabin, they are cabinless people? This was a mistake? Probably, should drop this column.\n",
    "print('No cabin = %s' %train.Cabin.isna().sum())"
   ]
  },
  {
   "cell_type": "code",
   "execution_count": 7,
   "id": "7e079253",
   "metadata": {
    "execution": {
     "iopub.execute_input": "2022-07-04T03:54:00.307378Z",
     "iopub.status.busy": "2022-07-04T03:54:00.305883Z",
     "iopub.status.idle": "2022-07-04T03:54:00.324921Z",
     "shell.execute_reply": "2022-07-04T03:54:00.323022Z"
    },
    "papermill": {
     "duration": 0.028009,
     "end_time": "2022-07-04T03:54:00.327316",
     "exception": false,
     "start_time": "2022-07-04T03:54:00.299307",
     "status": "completed"
    },
    "tags": []
   },
   "outputs": [
    {
     "data": {
      "text/html": [
       "<div>\n",
       "<style scoped>\n",
       "    .dataframe tbody tr th:only-of-type {\n",
       "        vertical-align: middle;\n",
       "    }\n",
       "\n",
       "    .dataframe tbody tr th {\n",
       "        vertical-align: top;\n",
       "    }\n",
       "\n",
       "    .dataframe thead th {\n",
       "        text-align: right;\n",
       "    }\n",
       "</style>\n",
       "<table border=\"1\" class=\"dataframe\">\n",
       "  <thead>\n",
       "    <tr style=\"text-align: right;\">\n",
       "      <th></th>\n",
       "      <th>PassengerId</th>\n",
       "      <th>Survived</th>\n",
       "      <th>Pclass</th>\n",
       "      <th>Name</th>\n",
       "      <th>Sex</th>\n",
       "      <th>Age</th>\n",
       "      <th>SibSp</th>\n",
       "      <th>Parch</th>\n",
       "      <th>Ticket</th>\n",
       "      <th>Fare</th>\n",
       "      <th>Embarked</th>\n",
       "    </tr>\n",
       "  </thead>\n",
       "  <tbody>\n",
       "    <tr>\n",
       "      <th>0</th>\n",
       "      <td>1</td>\n",
       "      <td>0</td>\n",
       "      <td>3</td>\n",
       "      <td>Braund, Mr. Owen Harris</td>\n",
       "      <td>male</td>\n",
       "      <td>22.0</td>\n",
       "      <td>1</td>\n",
       "      <td>0</td>\n",
       "      <td>A/5 21171</td>\n",
       "      <td>7.2500</td>\n",
       "      <td>S</td>\n",
       "    </tr>\n",
       "    <tr>\n",
       "      <th>1</th>\n",
       "      <td>2</td>\n",
       "      <td>1</td>\n",
       "      <td>1</td>\n",
       "      <td>Cumings, Mrs. John Bradley (Florence Briggs Th...</td>\n",
       "      <td>female</td>\n",
       "      <td>38.0</td>\n",
       "      <td>1</td>\n",
       "      <td>0</td>\n",
       "      <td>PC 17599</td>\n",
       "      <td>71.2833</td>\n",
       "      <td>C</td>\n",
       "    </tr>\n",
       "    <tr>\n",
       "      <th>2</th>\n",
       "      <td>3</td>\n",
       "      <td>1</td>\n",
       "      <td>3</td>\n",
       "      <td>Heikkinen, Miss. Laina</td>\n",
       "      <td>female</td>\n",
       "      <td>26.0</td>\n",
       "      <td>0</td>\n",
       "      <td>0</td>\n",
       "      <td>STON/O2. 3101282</td>\n",
       "      <td>7.9250</td>\n",
       "      <td>S</td>\n",
       "    </tr>\n",
       "    <tr>\n",
       "      <th>3</th>\n",
       "      <td>4</td>\n",
       "      <td>1</td>\n",
       "      <td>1</td>\n",
       "      <td>Futrelle, Mrs. Jacques Heath (Lily May Peel)</td>\n",
       "      <td>female</td>\n",
       "      <td>35.0</td>\n",
       "      <td>1</td>\n",
       "      <td>0</td>\n",
       "      <td>113803</td>\n",
       "      <td>53.1000</td>\n",
       "      <td>S</td>\n",
       "    </tr>\n",
       "    <tr>\n",
       "      <th>4</th>\n",
       "      <td>5</td>\n",
       "      <td>0</td>\n",
       "      <td>3</td>\n",
       "      <td>Allen, Mr. William Henry</td>\n",
       "      <td>male</td>\n",
       "      <td>35.0</td>\n",
       "      <td>0</td>\n",
       "      <td>0</td>\n",
       "      <td>373450</td>\n",
       "      <td>8.0500</td>\n",
       "      <td>S</td>\n",
       "    </tr>\n",
       "  </tbody>\n",
       "</table>\n",
       "</div>"
      ],
      "text/plain": [
       "   PassengerId  Survived  Pclass  \\\n",
       "0            1         0       3   \n",
       "1            2         1       1   \n",
       "2            3         1       3   \n",
       "3            4         1       1   \n",
       "4            5         0       3   \n",
       "\n",
       "                                                Name     Sex   Age  SibSp  \\\n",
       "0                            Braund, Mr. Owen Harris    male  22.0      1   \n",
       "1  Cumings, Mrs. John Bradley (Florence Briggs Th...  female  38.0      1   \n",
       "2                             Heikkinen, Miss. Laina  female  26.0      0   \n",
       "3       Futrelle, Mrs. Jacques Heath (Lily May Peel)  female  35.0      1   \n",
       "4                           Allen, Mr. William Henry    male  35.0      0   \n",
       "\n",
       "   Parch            Ticket     Fare Embarked  \n",
       "0      0         A/5 21171   7.2500        S  \n",
       "1      0          PC 17599  71.2833        C  \n",
       "2      0  STON/O2. 3101282   7.9250        S  \n",
       "3      0            113803  53.1000        S  \n",
       "4      0            373450   8.0500        S  "
      ]
     },
     "execution_count": 7,
     "metadata": {},
     "output_type": "execute_result"
    }
   ],
   "source": [
    "train.drop(columns=('Cabin'), inplace=True)\n",
    "train.head()"
   ]
  },
  {
   "cell_type": "code",
   "execution_count": 8,
   "id": "7fce246d",
   "metadata": {
    "execution": {
     "iopub.execute_input": "2022-07-04T03:54:00.343441Z",
     "iopub.status.busy": "2022-07-04T03:54:00.342402Z",
     "iopub.status.idle": "2022-07-04T03:54:00.349414Z",
     "shell.execute_reply": "2022-07-04T03:54:00.348807Z"
    },
    "papermill": {
     "duration": 0.016504,
     "end_time": "2022-07-04T03:54:00.350888",
     "exception": false,
     "start_time": "2022-07-04T03:54:00.334384",
     "status": "completed"
    },
    "tags": []
   },
   "outputs": [
    {
     "data": {
      "text/plain": [
       "S    644\n",
       "C    168\n",
       "Q     77\n",
       "Name: Embarked, dtype: int64"
      ]
     },
     "execution_count": 8,
     "metadata": {},
     "output_type": "execute_result"
    }
   ],
   "source": [
    "#Do the place you emkared affects your survival chance? I will try dropping embarked.\n",
    "train['Embarked'].value_counts()"
   ]
  },
  {
   "cell_type": "code",
   "execution_count": 9,
   "id": "a338f202",
   "metadata": {
    "execution": {
     "iopub.execute_input": "2022-07-04T03:54:00.363255Z",
     "iopub.status.busy": "2022-07-04T03:54:00.362941Z",
     "iopub.status.idle": "2022-07-04T03:54:00.375602Z",
     "shell.execute_reply": "2022-07-04T03:54:00.374464Z"
    },
    "papermill": {
     "duration": 0.020806,
     "end_time": "2022-07-04T03:54:00.377340",
     "exception": false,
     "start_time": "2022-07-04T03:54:00.356534",
     "status": "completed"
    },
    "tags": []
   },
   "outputs": [
    {
     "data": {
      "text/plain": [
       "0.0    644\n",
       "1.0    168\n",
       "2.0     77\n",
       "Name: Embarked, dtype: int64"
      ]
     },
     "execution_count": 9,
     "metadata": {},
     "output_type": "execute_result"
    }
   ],
   "source": [
    "train.replace('S', 0, inplace=True)\n",
    "train.replace('C', 1, inplace=True)\n",
    "train.replace('Q', 2, inplace=True)\n",
    "train['Embarked'].value_counts()"
   ]
  },
  {
   "cell_type": "code",
   "execution_count": 10,
   "id": "1a179d7f",
   "metadata": {
    "execution": {
     "iopub.execute_input": "2022-07-04T03:54:00.389694Z",
     "iopub.status.busy": "2022-07-04T03:54:00.389246Z",
     "iopub.status.idle": "2022-07-04T03:54:00.394547Z",
     "shell.execute_reply": "2022-07-04T03:54:00.393995Z"
    },
    "papermill": {
     "duration": 0.013016,
     "end_time": "2022-07-04T03:54:00.395925",
     "exception": false,
     "start_time": "2022-07-04T03:54:00.382909",
     "status": "completed"
    },
    "tags": []
   },
   "outputs": [
    {
     "data": {
      "text/plain": [
       "2"
      ]
     },
     "execution_count": 10,
     "metadata": {},
     "output_type": "execute_result"
    }
   ],
   "source": [
    "train['Embarked'].isna().sum()"
   ]
  },
  {
   "cell_type": "code",
   "execution_count": 11,
   "id": "8d4142b7",
   "metadata": {
    "execution": {
     "iopub.execute_input": "2022-07-04T03:54:00.409069Z",
     "iopub.status.busy": "2022-07-04T03:54:00.408526Z",
     "iopub.status.idle": "2022-07-04T03:54:00.416422Z",
     "shell.execute_reply": "2022-07-04T03:54:00.415818Z"
    },
    "papermill": {
     "duration": 0.016319,
     "end_time": "2022-07-04T03:54:00.417989",
     "exception": false,
     "start_time": "2022-07-04T03:54:00.401670",
     "status": "completed"
    },
    "tags": []
   },
   "outputs": [
    {
     "data": {
      "text/plain": [
       "0"
      ]
     },
     "execution_count": 11,
     "metadata": {},
     "output_type": "execute_result"
    }
   ],
   "source": [
    "#Let's remove those nan\n",
    "train.dropna(subset=['Embarked'], inplace =True)\n",
    "train['Embarked'].isna().sum()"
   ]
  },
  {
   "cell_type": "code",
   "execution_count": 12,
   "id": "d63dd7b2",
   "metadata": {
    "execution": {
     "iopub.execute_input": "2022-07-04T03:54:00.431276Z",
     "iopub.status.busy": "2022-07-04T03:54:00.430685Z",
     "iopub.status.idle": "2022-07-04T03:54:00.439465Z",
     "shell.execute_reply": "2022-07-04T03:54:00.438940Z"
    },
    "papermill": {
     "duration": 0.017045,
     "end_time": "2022-07-04T03:54:00.440967",
     "exception": false,
     "start_time": "2022-07-04T03:54:00.423922",
     "status": "completed"
    },
    "tags": []
   },
   "outputs": [
    {
     "data": {
      "text/plain": [
       "1    577\n",
       "0    312\n",
       "Name: Sex, dtype: int64"
      ]
     },
     "execution_count": 12,
     "metadata": {},
     "output_type": "execute_result"
    }
   ],
   "source": [
    "#Let's convert the gender variable in numbers\n",
    "train.replace('male', 1, inplace=True)\n",
    "train.replace('female', 0, inplace=True)\n",
    "train['Sex'].value_counts()"
   ]
  },
  {
   "cell_type": "code",
   "execution_count": 13,
   "id": "5fc556ab",
   "metadata": {
    "execution": {
     "iopub.execute_input": "2022-07-04T03:54:00.454255Z",
     "iopub.status.busy": "2022-07-04T03:54:00.453798Z",
     "iopub.status.idle": "2022-07-04T03:54:00.459576Z",
     "shell.execute_reply": "2022-07-04T03:54:00.458858Z"
    },
    "papermill": {
     "duration": 0.014698,
     "end_time": "2022-07-04T03:54:00.461608",
     "exception": false,
     "start_time": "2022-07-04T03:54:00.446910",
     "status": "completed"
    },
    "tags": []
   },
   "outputs": [],
   "source": [
    "train.replace('male', 1, inplace=True)\n",
    "train.replace('female', 0, inplace=True)"
   ]
  },
  {
   "cell_type": "code",
   "execution_count": 14,
   "id": "2fd82102",
   "metadata": {
    "execution": {
     "iopub.execute_input": "2022-07-04T03:54:00.476582Z",
     "iopub.status.busy": "2022-07-04T03:54:00.475063Z",
     "iopub.status.idle": "2022-07-04T03:54:00.481411Z",
     "shell.execute_reply": "2022-07-04T03:54:00.480405Z"
    },
    "papermill": {
     "duration": 0.014652,
     "end_time": "2022-07-04T03:54:00.482807",
     "exception": false,
     "start_time": "2022-07-04T03:54:00.468155",
     "status": "completed"
    },
    "tags": []
   },
   "outputs": [],
   "source": [
    "#Selecting the variables\n",
    "X = train[['Pclass','Sex','Embarked']]\n",
    "y = train['Survived']"
   ]
  },
  {
   "cell_type": "code",
   "execution_count": 15,
   "id": "fe55461f",
   "metadata": {
    "execution": {
     "iopub.execute_input": "2022-07-04T03:54:00.496148Z",
     "iopub.status.busy": "2022-07-04T03:54:00.495599Z",
     "iopub.status.idle": "2022-07-04T03:54:01.754658Z",
     "shell.execute_reply": "2022-07-04T03:54:01.753195Z"
    },
    "papermill": {
     "duration": 1.268705,
     "end_time": "2022-07-04T03:54:01.757278",
     "exception": false,
     "start_time": "2022-07-04T03:54:00.488573",
     "status": "completed"
    },
    "tags": []
   },
   "outputs": [
    {
     "name": "stdout",
     "output_type": "stream",
     "text": [
      "The accuracy is 77.13%\n"
     ]
    }
   ],
   "source": [
    "from sklearn.model_selection import train_test_split\n",
    "from sklearn.ensemble import RandomForestClassifier\n",
    "from sklearn.metrics import accuracy_score\n",
    "import numpy as np\n",
    "\n",
    "X_train, X_test, y_train, y_test = train_test_split(X, y, stratify = y, random_state=1405)\n",
    "\n",
    "model = RandomForestClassifier(random_state=1405)\n",
    "model.fit(X_train,y_train)\n",
    "Predictions = model.predict(X_test)\n",
    "\n",
    "accuracy = accuracy_score(y_test, Predictions)\n",
    "print('The accuracy is %.2f%%' %(accuracy*100))"
   ]
  },
  {
   "cell_type": "code",
   "execution_count": 16,
   "id": "da0c6faf",
   "metadata": {
    "execution": {
     "iopub.execute_input": "2022-07-04T03:54:01.781312Z",
     "iopub.status.busy": "2022-07-04T03:54:01.780906Z",
     "iopub.status.idle": "2022-07-04T03:54:01.797771Z",
     "shell.execute_reply": "2022-07-04T03:54:01.796661Z"
    },
    "papermill": {
     "duration": 0.031058,
     "end_time": "2022-07-04T03:54:01.800164",
     "exception": false,
     "start_time": "2022-07-04T03:54:01.769106",
     "status": "completed"
    },
    "tags": []
   },
   "outputs": [],
   "source": [
    "test = pd.read_csv('../input/titanic/test.csv')\n",
    "test.replace('male', 1, inplace=True)\n",
    "test.replace('female', 0, inplace=True)\n",
    "test.replace('S', 0, inplace=True)\n",
    "test.replace('C', 1, inplace=True)\n",
    "test.replace('Q', 2, inplace=True)"
   ]
  },
  {
   "cell_type": "code",
   "execution_count": 17,
   "id": "721035a3",
   "metadata": {
    "execution": {
     "iopub.execute_input": "2022-07-04T03:54:01.820914Z",
     "iopub.status.busy": "2022-07-04T03:54:01.820427Z",
     "iopub.status.idle": "2022-07-04T03:54:01.831228Z",
     "shell.execute_reply": "2022-07-04T03:54:01.830333Z"
    },
    "papermill": {
     "duration": 0.023794,
     "end_time": "2022-07-04T03:54:01.833461",
     "exception": false,
     "start_time": "2022-07-04T03:54:01.809667",
     "status": "completed"
    },
    "tags": []
   },
   "outputs": [
    {
     "name": "stderr",
     "output_type": "stream",
     "text": [
      "/opt/conda/lib/python3.7/site-packages/pandas/core/frame.py:5244: SettingWithCopyWarning: \n",
      "A value is trying to be set on a copy of a slice from a DataFrame\n",
      "\n",
      "See the caveats in the documentation: https://pandas.pydata.org/pandas-docs/stable/user_guide/indexing.html#returning-a-view-versus-a-copy\n",
      "  method=method,\n"
     ]
    }
   ],
   "source": [
    "X_test = test[['Pclass','Sex','Embarked']]\n",
    "X_test.replace('male', 1, inplace=True)\n",
    "X_test.replace('female', 0, inplace=True)"
   ]
  },
  {
   "cell_type": "code",
   "execution_count": 18,
   "id": "a58246ea",
   "metadata": {
    "execution": {
     "iopub.execute_input": "2022-07-04T03:54:01.855467Z",
     "iopub.status.busy": "2022-07-04T03:54:01.854549Z",
     "iopub.status.idle": "2022-07-04T03:54:01.869241Z",
     "shell.execute_reply": "2022-07-04T03:54:01.867974Z"
    },
    "papermill": {
     "duration": 0.028366,
     "end_time": "2022-07-04T03:54:01.871699",
     "exception": false,
     "start_time": "2022-07-04T03:54:01.843333",
     "status": "completed"
    },
    "tags": []
   },
   "outputs": [
    {
     "name": "stdout",
     "output_type": "stream",
     "text": [
      "           Pclass         Sex    Embarked\n",
      "count  418.000000  418.000000  418.000000\n",
      "mean     2.265550    0.636364    0.464115\n",
      "std      0.841838    0.481622    0.685516\n",
      "min      1.000000    0.000000    0.000000\n",
      "25%      1.000000    0.000000    0.000000\n",
      "50%      3.000000    1.000000    0.000000\n",
      "75%      3.000000    1.000000    1.000000\n",
      "max      3.000000    1.000000    2.000000\n",
      "Pclass      0\n",
      "Sex         0\n",
      "Embarked    0\n",
      "dtype: int64\n",
      "(418, 3)\n",
      "(418, 11)\n"
     ]
    }
   ],
   "source": [
    "#Well... now we have to deal with it...\n",
    "print(X_test.describe())\n",
    "print(X_test.isna().sum())\n",
    "print(X_test.shape)\n",
    "print(test.shape)"
   ]
  },
  {
   "cell_type": "code",
   "execution_count": 19,
   "id": "5950f78e",
   "metadata": {
    "execution": {
     "iopub.execute_input": "2022-07-04T03:54:01.892875Z",
     "iopub.status.busy": "2022-07-04T03:54:01.892514Z",
     "iopub.status.idle": "2022-07-04T03:54:02.044754Z",
     "shell.execute_reply": "2022-07-04T03:54:02.043696Z"
    },
    "papermill": {
     "duration": 0.165353,
     "end_time": "2022-07-04T03:54:02.047249",
     "exception": false,
     "start_time": "2022-07-04T03:54:01.881896",
     "status": "completed"
    },
    "tags": []
   },
   "outputs": [],
   "source": [
    "#Lets model\n",
    "from sklearn.ensemble import RandomForestClassifier\n",
    "import numpy as np\n",
    "\n",
    "\n",
    "SEED = 1405\n",
    "np.random.seed(SEED)\n",
    "model = RandomForestClassifier()\n",
    "model.fit(X,y)\n",
    "Predictions = model.predict(X_test)"
   ]
  },
  {
   "cell_type": "code",
   "execution_count": 20,
   "id": "084b0c1a",
   "metadata": {
    "execution": {
     "iopub.execute_input": "2022-07-04T03:54:02.068913Z",
     "iopub.status.busy": "2022-07-04T03:54:02.067870Z",
     "iopub.status.idle": "2022-07-04T03:54:02.081928Z",
     "shell.execute_reply": "2022-07-04T03:54:02.080993Z"
    },
    "papermill": {
     "duration": 0.026505,
     "end_time": "2022-07-04T03:54:02.083618",
     "exception": false,
     "start_time": "2022-07-04T03:54:02.057113",
     "status": "completed"
    },
    "tags": []
   },
   "outputs": [
    {
     "data": {
      "text/html": [
       "<div>\n",
       "<style scoped>\n",
       "    .dataframe tbody tr th:only-of-type {\n",
       "        vertical-align: middle;\n",
       "    }\n",
       "\n",
       "    .dataframe tbody tr th {\n",
       "        vertical-align: top;\n",
       "    }\n",
       "\n",
       "    .dataframe thead th {\n",
       "        text-align: right;\n",
       "    }\n",
       "</style>\n",
       "<table border=\"1\" class=\"dataframe\">\n",
       "  <thead>\n",
       "    <tr style=\"text-align: right;\">\n",
       "      <th></th>\n",
       "      <th>PassengerId</th>\n",
       "      <th>Pclass</th>\n",
       "      <th>Name</th>\n",
       "      <th>Sex</th>\n",
       "      <th>Age</th>\n",
       "      <th>SibSp</th>\n",
       "      <th>Parch</th>\n",
       "      <th>Ticket</th>\n",
       "      <th>Fare</th>\n",
       "      <th>Cabin</th>\n",
       "      <th>Embarked</th>\n",
       "      <th>Survived</th>\n",
       "    </tr>\n",
       "  </thead>\n",
       "  <tbody>\n",
       "    <tr>\n",
       "      <th>0</th>\n",
       "      <td>892</td>\n",
       "      <td>3</td>\n",
       "      <td>Kelly, Mr. James</td>\n",
       "      <td>1</td>\n",
       "      <td>34.5</td>\n",
       "      <td>0</td>\n",
       "      <td>0</td>\n",
       "      <td>330911</td>\n",
       "      <td>7.8292</td>\n",
       "      <td>NaN</td>\n",
       "      <td>2</td>\n",
       "      <td>0</td>\n",
       "    </tr>\n",
       "    <tr>\n",
       "      <th>1</th>\n",
       "      <td>893</td>\n",
       "      <td>3</td>\n",
       "      <td>Wilkes, Mrs. James (Ellen Needs)</td>\n",
       "      <td>0</td>\n",
       "      <td>47.0</td>\n",
       "      <td>1</td>\n",
       "      <td>0</td>\n",
       "      <td>363272</td>\n",
       "      <td>7.0000</td>\n",
       "      <td>NaN</td>\n",
       "      <td>0</td>\n",
       "      <td>0</td>\n",
       "    </tr>\n",
       "    <tr>\n",
       "      <th>2</th>\n",
       "      <td>894</td>\n",
       "      <td>2</td>\n",
       "      <td>Myles, Mr. Thomas Francis</td>\n",
       "      <td>1</td>\n",
       "      <td>62.0</td>\n",
       "      <td>0</td>\n",
       "      <td>0</td>\n",
       "      <td>240276</td>\n",
       "      <td>9.6875</td>\n",
       "      <td>NaN</td>\n",
       "      <td>2</td>\n",
       "      <td>0</td>\n",
       "    </tr>\n",
       "    <tr>\n",
       "      <th>3</th>\n",
       "      <td>895</td>\n",
       "      <td>3</td>\n",
       "      <td>Wirz, Mr. Albert</td>\n",
       "      <td>1</td>\n",
       "      <td>27.0</td>\n",
       "      <td>0</td>\n",
       "      <td>0</td>\n",
       "      <td>315154</td>\n",
       "      <td>8.6625</td>\n",
       "      <td>NaN</td>\n",
       "      <td>0</td>\n",
       "      <td>0</td>\n",
       "    </tr>\n",
       "    <tr>\n",
       "      <th>4</th>\n",
       "      <td>896</td>\n",
       "      <td>3</td>\n",
       "      <td>Hirvonen, Mrs. Alexander (Helga E Lindqvist)</td>\n",
       "      <td>0</td>\n",
       "      <td>22.0</td>\n",
       "      <td>1</td>\n",
       "      <td>1</td>\n",
       "      <td>3101298</td>\n",
       "      <td>12.2875</td>\n",
       "      <td>NaN</td>\n",
       "      <td>0</td>\n",
       "      <td>0</td>\n",
       "    </tr>\n",
       "  </tbody>\n",
       "</table>\n",
       "</div>"
      ],
      "text/plain": [
       "   PassengerId  Pclass                                          Name  Sex  \\\n",
       "0          892       3                              Kelly, Mr. James    1   \n",
       "1          893       3              Wilkes, Mrs. James (Ellen Needs)    0   \n",
       "2          894       2                     Myles, Mr. Thomas Francis    1   \n",
       "3          895       3                              Wirz, Mr. Albert    1   \n",
       "4          896       3  Hirvonen, Mrs. Alexander (Helga E Lindqvist)    0   \n",
       "\n",
       "    Age  SibSp  Parch   Ticket     Fare Cabin  Embarked  Survived  \n",
       "0  34.5      0      0   330911   7.8292   NaN         2         0  \n",
       "1  47.0      1      0   363272   7.0000   NaN         0         0  \n",
       "2  62.0      0      0   240276   9.6875   NaN         2         0  \n",
       "3  27.0      0      0   315154   8.6625   NaN         0         0  \n",
       "4  22.0      1      1  3101298  12.2875   NaN         0         0  "
      ]
     },
     "execution_count": 20,
     "metadata": {},
     "output_type": "execute_result"
    }
   ],
   "source": [
    "test['Survived'] = Predictions\n",
    "test.head()"
   ]
  },
  {
   "cell_type": "code",
   "execution_count": 21,
   "id": "23441098",
   "metadata": {
    "execution": {
     "iopub.execute_input": "2022-07-04T03:54:02.097871Z",
     "iopub.status.busy": "2022-07-04T03:54:02.097498Z",
     "iopub.status.idle": "2022-07-04T03:54:02.112257Z",
     "shell.execute_reply": "2022-07-04T03:54:02.111434Z"
    },
    "papermill": {
     "duration": 0.024706,
     "end_time": "2022-07-04T03:54:02.114702",
     "exception": false,
     "start_time": "2022-07-04T03:54:02.089996",
     "status": "completed"
    },
    "tags": []
   },
   "outputs": [
    {
     "name": "stdout",
     "output_type": "stream",
     "text": [
      "(418, 2)\n"
     ]
    },
    {
     "name": "stderr",
     "output_type": "stream",
     "text": [
      "/opt/conda/lib/python3.7/site-packages/ipykernel_launcher.py:2: SettingWithCopyWarning: \n",
      "A value is trying to be set on a copy of a slice from a DataFrame.\n",
      "Try using .loc[row_indexer,col_indexer] = value instead\n",
      "\n",
      "See the caveats in the documentation: https://pandas.pydata.org/pandas-docs/stable/user_guide/indexing.html#returning-a-view-versus-a-copy\n",
      "  \n"
     ]
    },
    {
     "data": {
      "text/html": [
       "<div>\n",
       "<style scoped>\n",
       "    .dataframe tbody tr th:only-of-type {\n",
       "        vertical-align: middle;\n",
       "    }\n",
       "\n",
       "    .dataframe tbody tr th {\n",
       "        vertical-align: top;\n",
       "    }\n",
       "\n",
       "    .dataframe thead th {\n",
       "        text-align: right;\n",
       "    }\n",
       "</style>\n",
       "<table border=\"1\" class=\"dataframe\">\n",
       "  <thead>\n",
       "    <tr style=\"text-align: right;\">\n",
       "      <th></th>\n",
       "      <th>PassengerId</th>\n",
       "      <th>Survived</th>\n",
       "    </tr>\n",
       "  </thead>\n",
       "  <tbody>\n",
       "    <tr>\n",
       "      <th>0</th>\n",
       "      <td>892</td>\n",
       "      <td>0</td>\n",
       "    </tr>\n",
       "    <tr>\n",
       "      <th>1</th>\n",
       "      <td>893</td>\n",
       "      <td>0</td>\n",
       "    </tr>\n",
       "    <tr>\n",
       "      <th>2</th>\n",
       "      <td>894</td>\n",
       "      <td>0</td>\n",
       "    </tr>\n",
       "    <tr>\n",
       "      <th>3</th>\n",
       "      <td>895</td>\n",
       "      <td>0</td>\n",
       "    </tr>\n",
       "    <tr>\n",
       "      <th>4</th>\n",
       "      <td>896</td>\n",
       "      <td>0</td>\n",
       "    </tr>\n",
       "  </tbody>\n",
       "</table>\n",
       "</div>"
      ],
      "text/plain": [
       "   PassengerId  Survived\n",
       "0          892         0\n",
       "1          893         0\n",
       "2          894         0\n",
       "3          895         0\n",
       "4          896         0"
      ]
     },
     "execution_count": 21,
     "metadata": {},
     "output_type": "execute_result"
    }
   ],
   "source": [
    "submission = test[['PassengerId', 'Survived']]\n",
    "submission['Survived'] = submission['Survived'].astype(int)\n",
    "print(submission.shape)\n",
    "submission.head()"
   ]
  },
  {
   "cell_type": "code",
   "execution_count": 22,
   "id": "50181e96",
   "metadata": {
    "execution": {
     "iopub.execute_input": "2022-07-04T03:54:02.136876Z",
     "iopub.status.busy": "2022-07-04T03:54:02.136572Z",
     "iopub.status.idle": "2022-07-04T03:54:02.142899Z",
     "shell.execute_reply": "2022-07-04T03:54:02.142299Z"
    },
    "papermill": {
     "duration": 0.020024,
     "end_time": "2022-07-04T03:54:02.145352",
     "exception": false,
     "start_time": "2022-07-04T03:54:02.125328",
     "status": "completed"
    },
    "tags": []
   },
   "outputs": [],
   "source": [
    "submission.to_csv('./submission.csv', index=False)"
   ]
  }
 ],
 "metadata": {
  "kernelspec": {
   "display_name": "Python 3",
   "language": "python",
   "name": "python3"
  },
  "language_info": {
   "codemirror_mode": {
    "name": "ipython",
    "version": 3
   },
   "file_extension": ".py",
   "mimetype": "text/x-python",
   "name": "python",
   "nbconvert_exporter": "python",
   "pygments_lexer": "ipython3",
   "version": "3.7.12"
  },
  "papermill": {
   "default_parameters": {},
   "duration": 10.301713,
   "end_time": "2022-07-04T03:54:02.775707",
   "environment_variables": {},
   "exception": null,
   "input_path": "__notebook__.ipynb",
   "output_path": "__notebook__.ipynb",
   "parameters": {},
   "start_time": "2022-07-04T03:53:52.473994",
   "version": "2.3.4"
  }
 },
 "nbformat": 4,
 "nbformat_minor": 5
}

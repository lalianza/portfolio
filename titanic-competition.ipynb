{
 "cells": [
  {
   "cell_type": "code",
   "execution_count": 1,
   "id": "3fc8ace5",
   "metadata": {
    "execution": {
     "iopub.execute_input": "2022-07-04T00:17:29.463577Z",
     "iopub.status.busy": "2022-07-04T00:17:29.462853Z",
     "iopub.status.idle": "2022-07-04T00:17:29.473945Z",
     "shell.execute_reply": "2022-07-04T00:17:29.472678Z"
    },
    "papermill": {
     "duration": 0.023216,
     "end_time": "2022-07-04T00:17:29.476613",
     "exception": false,
     "start_time": "2022-07-04T00:17:29.453397",
     "status": "completed"
    },
    "tags": []
   },
   "outputs": [],
   "source": [
    "import pandas as pd"
   ]
  },
  {
   "cell_type": "code",
   "execution_count": 2,
   "id": "6d7d3a3b",
   "metadata": {
    "execution": {
     "iopub.execute_input": "2022-07-04T00:17:29.490988Z",
     "iopub.status.busy": "2022-07-04T00:17:29.490349Z",
     "iopub.status.idle": "2022-07-04T00:17:29.527913Z",
     "shell.execute_reply": "2022-07-04T00:17:29.526729Z"
    },
    "papermill": {
     "duration": 0.048475,
     "end_time": "2022-07-04T00:17:29.531246",
     "exception": false,
     "start_time": "2022-07-04T00:17:29.482771",
     "status": "completed"
    },
    "tags": []
   },
   "outputs": [
    {
     "data": {
      "text/html": [
       "<div>\n",
       "<style scoped>\n",
       "    .dataframe tbody tr th:only-of-type {\n",
       "        vertical-align: middle;\n",
       "    }\n",
       "\n",
       "    .dataframe tbody tr th {\n",
       "        vertical-align: top;\n",
       "    }\n",
       "\n",
       "    .dataframe thead th {\n",
       "        text-align: right;\n",
       "    }\n",
       "</style>\n",
       "<table border=\"1\" class=\"dataframe\">\n",
       "  <thead>\n",
       "    <tr style=\"text-align: right;\">\n",
       "      <th></th>\n",
       "      <th>PassengerId</th>\n",
       "      <th>Survived</th>\n",
       "      <th>Pclass</th>\n",
       "      <th>Name</th>\n",
       "      <th>Sex</th>\n",
       "      <th>Age</th>\n",
       "      <th>SibSp</th>\n",
       "      <th>Parch</th>\n",
       "      <th>Ticket</th>\n",
       "      <th>Fare</th>\n",
       "      <th>Cabin</th>\n",
       "      <th>Embarked</th>\n",
       "    </tr>\n",
       "  </thead>\n",
       "  <tbody>\n",
       "    <tr>\n",
       "      <th>0</th>\n",
       "      <td>1</td>\n",
       "      <td>0</td>\n",
       "      <td>3</td>\n",
       "      <td>Braund, Mr. Owen Harris</td>\n",
       "      <td>male</td>\n",
       "      <td>22.0</td>\n",
       "      <td>1</td>\n",
       "      <td>0</td>\n",
       "      <td>A/5 21171</td>\n",
       "      <td>7.2500</td>\n",
       "      <td>NaN</td>\n",
       "      <td>S</td>\n",
       "    </tr>\n",
       "    <tr>\n",
       "      <th>1</th>\n",
       "      <td>2</td>\n",
       "      <td>1</td>\n",
       "      <td>1</td>\n",
       "      <td>Cumings, Mrs. John Bradley (Florence Briggs Th...</td>\n",
       "      <td>female</td>\n",
       "      <td>38.0</td>\n",
       "      <td>1</td>\n",
       "      <td>0</td>\n",
       "      <td>PC 17599</td>\n",
       "      <td>71.2833</td>\n",
       "      <td>C85</td>\n",
       "      <td>C</td>\n",
       "    </tr>\n",
       "    <tr>\n",
       "      <th>2</th>\n",
       "      <td>3</td>\n",
       "      <td>1</td>\n",
       "      <td>3</td>\n",
       "      <td>Heikkinen, Miss. Laina</td>\n",
       "      <td>female</td>\n",
       "      <td>26.0</td>\n",
       "      <td>0</td>\n",
       "      <td>0</td>\n",
       "      <td>STON/O2. 3101282</td>\n",
       "      <td>7.9250</td>\n",
       "      <td>NaN</td>\n",
       "      <td>S</td>\n",
       "    </tr>\n",
       "    <tr>\n",
       "      <th>3</th>\n",
       "      <td>4</td>\n",
       "      <td>1</td>\n",
       "      <td>1</td>\n",
       "      <td>Futrelle, Mrs. Jacques Heath (Lily May Peel)</td>\n",
       "      <td>female</td>\n",
       "      <td>35.0</td>\n",
       "      <td>1</td>\n",
       "      <td>0</td>\n",
       "      <td>113803</td>\n",
       "      <td>53.1000</td>\n",
       "      <td>C123</td>\n",
       "      <td>S</td>\n",
       "    </tr>\n",
       "    <tr>\n",
       "      <th>4</th>\n",
       "      <td>5</td>\n",
       "      <td>0</td>\n",
       "      <td>3</td>\n",
       "      <td>Allen, Mr. William Henry</td>\n",
       "      <td>male</td>\n",
       "      <td>35.0</td>\n",
       "      <td>0</td>\n",
       "      <td>0</td>\n",
       "      <td>373450</td>\n",
       "      <td>8.0500</td>\n",
       "      <td>NaN</td>\n",
       "      <td>S</td>\n",
       "    </tr>\n",
       "  </tbody>\n",
       "</table>\n",
       "</div>"
      ],
      "text/plain": [
       "   PassengerId  Survived  Pclass  \\\n",
       "0            1         0       3   \n",
       "1            2         1       1   \n",
       "2            3         1       3   \n",
       "3            4         1       1   \n",
       "4            5         0       3   \n",
       "\n",
       "                                                Name     Sex   Age  SibSp  \\\n",
       "0                            Braund, Mr. Owen Harris    male  22.0      1   \n",
       "1  Cumings, Mrs. John Bradley (Florence Briggs Th...  female  38.0      1   \n",
       "2                             Heikkinen, Miss. Laina  female  26.0      0   \n",
       "3       Futrelle, Mrs. Jacques Heath (Lily May Peel)  female  35.0      1   \n",
       "4                           Allen, Mr. William Henry    male  35.0      0   \n",
       "\n",
       "   Parch            Ticket     Fare Cabin Embarked  \n",
       "0      0         A/5 21171   7.2500   NaN        S  \n",
       "1      0          PC 17599  71.2833   C85        C  \n",
       "2      0  STON/O2. 3101282   7.9250   NaN        S  \n",
       "3      0            113803  53.1000  C123        S  \n",
       "4      0            373450   8.0500   NaN        S  "
      ]
     },
     "execution_count": 2,
     "metadata": {},
     "output_type": "execute_result"
    }
   ],
   "source": [
    "train = pd.read_csv('../input/titanic/train.csv')\n",
    "train.head()"
   ]
  },
  {
   "cell_type": "code",
   "execution_count": 3,
   "id": "8de94eb5",
   "metadata": {
    "execution": {
     "iopub.execute_input": "2022-07-04T00:17:29.546110Z",
     "iopub.status.busy": "2022-07-04T00:17:29.545219Z",
     "iopub.status.idle": "2022-07-04T00:17:29.590374Z",
     "shell.execute_reply": "2022-07-04T00:17:29.589125Z"
    },
    "papermill": {
     "duration": 0.055341,
     "end_time": "2022-07-04T00:17:29.592913",
     "exception": false,
     "start_time": "2022-07-04T00:17:29.537572",
     "status": "completed"
    },
    "tags": []
   },
   "outputs": [
    {
     "data": {
      "text/html": [
       "<div>\n",
       "<style scoped>\n",
       "    .dataframe tbody tr th:only-of-type {\n",
       "        vertical-align: middle;\n",
       "    }\n",
       "\n",
       "    .dataframe tbody tr th {\n",
       "        vertical-align: top;\n",
       "    }\n",
       "\n",
       "    .dataframe thead th {\n",
       "        text-align: right;\n",
       "    }\n",
       "</style>\n",
       "<table border=\"1\" class=\"dataframe\">\n",
       "  <thead>\n",
       "    <tr style=\"text-align: right;\">\n",
       "      <th></th>\n",
       "      <th>PassengerId</th>\n",
       "      <th>Survived</th>\n",
       "      <th>Pclass</th>\n",
       "      <th>Age</th>\n",
       "      <th>SibSp</th>\n",
       "      <th>Parch</th>\n",
       "      <th>Fare</th>\n",
       "    </tr>\n",
       "  </thead>\n",
       "  <tbody>\n",
       "    <tr>\n",
       "      <th>count</th>\n",
       "      <td>891.000000</td>\n",
       "      <td>891.000000</td>\n",
       "      <td>891.000000</td>\n",
       "      <td>714.000000</td>\n",
       "      <td>891.000000</td>\n",
       "      <td>891.000000</td>\n",
       "      <td>891.000000</td>\n",
       "    </tr>\n",
       "    <tr>\n",
       "      <th>mean</th>\n",
       "      <td>446.000000</td>\n",
       "      <td>0.383838</td>\n",
       "      <td>2.308642</td>\n",
       "      <td>29.699118</td>\n",
       "      <td>0.523008</td>\n",
       "      <td>0.381594</td>\n",
       "      <td>32.204208</td>\n",
       "    </tr>\n",
       "    <tr>\n",
       "      <th>std</th>\n",
       "      <td>257.353842</td>\n",
       "      <td>0.486592</td>\n",
       "      <td>0.836071</td>\n",
       "      <td>14.526497</td>\n",
       "      <td>1.102743</td>\n",
       "      <td>0.806057</td>\n",
       "      <td>49.693429</td>\n",
       "    </tr>\n",
       "    <tr>\n",
       "      <th>min</th>\n",
       "      <td>1.000000</td>\n",
       "      <td>0.000000</td>\n",
       "      <td>1.000000</td>\n",
       "      <td>0.420000</td>\n",
       "      <td>0.000000</td>\n",
       "      <td>0.000000</td>\n",
       "      <td>0.000000</td>\n",
       "    </tr>\n",
       "    <tr>\n",
       "      <th>25%</th>\n",
       "      <td>223.500000</td>\n",
       "      <td>0.000000</td>\n",
       "      <td>2.000000</td>\n",
       "      <td>20.125000</td>\n",
       "      <td>0.000000</td>\n",
       "      <td>0.000000</td>\n",
       "      <td>7.910400</td>\n",
       "    </tr>\n",
       "    <tr>\n",
       "      <th>50%</th>\n",
       "      <td>446.000000</td>\n",
       "      <td>0.000000</td>\n",
       "      <td>3.000000</td>\n",
       "      <td>28.000000</td>\n",
       "      <td>0.000000</td>\n",
       "      <td>0.000000</td>\n",
       "      <td>14.454200</td>\n",
       "    </tr>\n",
       "    <tr>\n",
       "      <th>75%</th>\n",
       "      <td>668.500000</td>\n",
       "      <td>1.000000</td>\n",
       "      <td>3.000000</td>\n",
       "      <td>38.000000</td>\n",
       "      <td>1.000000</td>\n",
       "      <td>0.000000</td>\n",
       "      <td>31.000000</td>\n",
       "    </tr>\n",
       "    <tr>\n",
       "      <th>max</th>\n",
       "      <td>891.000000</td>\n",
       "      <td>1.000000</td>\n",
       "      <td>3.000000</td>\n",
       "      <td>80.000000</td>\n",
       "      <td>8.000000</td>\n",
       "      <td>6.000000</td>\n",
       "      <td>512.329200</td>\n",
       "    </tr>\n",
       "  </tbody>\n",
       "</table>\n",
       "</div>"
      ],
      "text/plain": [
       "       PassengerId    Survived      Pclass         Age       SibSp  \\\n",
       "count   891.000000  891.000000  891.000000  714.000000  891.000000   \n",
       "mean    446.000000    0.383838    2.308642   29.699118    0.523008   \n",
       "std     257.353842    0.486592    0.836071   14.526497    1.102743   \n",
       "min       1.000000    0.000000    1.000000    0.420000    0.000000   \n",
       "25%     223.500000    0.000000    2.000000   20.125000    0.000000   \n",
       "50%     446.000000    0.000000    3.000000   28.000000    0.000000   \n",
       "75%     668.500000    1.000000    3.000000   38.000000    1.000000   \n",
       "max     891.000000    1.000000    3.000000   80.000000    8.000000   \n",
       "\n",
       "            Parch        Fare  \n",
       "count  891.000000  891.000000  \n",
       "mean     0.381594   32.204208  \n",
       "std      0.806057   49.693429  \n",
       "min      0.000000    0.000000  \n",
       "25%      0.000000    7.910400  \n",
       "50%      0.000000   14.454200  \n",
       "75%      0.000000   31.000000  \n",
       "max      6.000000  512.329200  "
      ]
     },
     "execution_count": 3,
     "metadata": {},
     "output_type": "execute_result"
    }
   ],
   "source": [
    "#Let's study the dataset to begin doing the predictions\n",
    "train.describe()"
   ]
  },
  {
   "cell_type": "code",
   "execution_count": 4,
   "id": "597a94fd",
   "metadata": {
    "execution": {
     "iopub.execute_input": "2022-07-04T00:17:29.607621Z",
     "iopub.status.busy": "2022-07-04T00:17:29.607161Z",
     "iopub.status.idle": "2022-07-04T00:17:29.618593Z",
     "shell.execute_reply": "2022-07-04T00:17:29.617593Z"
    },
    "papermill": {
     "duration": 0.021198,
     "end_time": "2022-07-04T00:17:29.620655",
     "exception": false,
     "start_time": "2022-07-04T00:17:29.599457",
     "status": "completed"
    },
    "tags": []
   },
   "outputs": [
    {
     "data": {
      "text/plain": [
       "347082      7\n",
       "CA. 2343    7\n",
       "1601        7\n",
       "3101295     6\n",
       "CA 2144     6\n",
       "           ..\n",
       "9234        1\n",
       "19988       1\n",
       "2693        1\n",
       "PC 17612    1\n",
       "370376      1\n",
       "Name: Ticket, Length: 681, dtype: int64"
      ]
     },
     "execution_count": 4,
     "metadata": {},
     "output_type": "execute_result"
    }
   ],
   "source": [
    "train['Ticket'].value_counts()"
   ]
  },
  {
   "cell_type": "code",
   "execution_count": 5,
   "id": "386fd03d",
   "metadata": {
    "execution": {
     "iopub.execute_input": "2022-07-04T00:17:29.635673Z",
     "iopub.status.busy": "2022-07-04T00:17:29.634797Z",
     "iopub.status.idle": "2022-07-04T00:17:29.646520Z",
     "shell.execute_reply": "2022-07-04T00:17:29.645270Z"
    },
    "papermill": {
     "duration": 0.021934,
     "end_time": "2022-07-04T00:17:29.648903",
     "exception": false,
     "start_time": "2022-07-04T00:17:29.626969",
     "status": "completed"
    },
    "tags": []
   },
   "outputs": [
    {
     "name": "stdout",
     "output_type": "stream",
     "text": [
      "(344, 12)\n"
     ]
    }
   ],
   "source": [
    "#those people have the same ticket number, therefore they bought together and probably where traveling together.\n",
    "group_tickets = train[train['Ticket'].map(train['Ticket'].value_counts() > 1)]\n",
    "print(group_tickets.shape)"
   ]
  },
  {
   "cell_type": "code",
   "execution_count": 6,
   "id": "d4a0cd0b",
   "metadata": {
    "execution": {
     "iopub.execute_input": "2022-07-04T00:17:29.664401Z",
     "iopub.status.busy": "2022-07-04T00:17:29.663601Z",
     "iopub.status.idle": "2022-07-04T00:17:29.670250Z",
     "shell.execute_reply": "2022-07-04T00:17:29.669040Z"
    },
    "papermill": {
     "duration": 0.016686,
     "end_time": "2022-07-04T00:17:29.672204",
     "exception": false,
     "start_time": "2022-07-04T00:17:29.655518",
     "status": "completed"
    },
    "tags": []
   },
   "outputs": [
    {
     "name": "stdout",
     "output_type": "stream",
     "text": [
      "No cabin = 687\n"
     ]
    }
   ],
   "source": [
    "#There are too many missing values in cabin, they are cabinless people? This was a mistake? Probably, should drop this column.\n",
    "print('No cabin = %s' %train.Cabin.isna().sum())"
   ]
  },
  {
   "cell_type": "code",
   "execution_count": 7,
   "id": "accbed0c",
   "metadata": {
    "execution": {
     "iopub.execute_input": "2022-07-04T00:17:29.687162Z",
     "iopub.status.busy": "2022-07-04T00:17:29.686470Z",
     "iopub.status.idle": "2022-07-04T00:17:29.702838Z",
     "shell.execute_reply": "2022-07-04T00:17:29.701985Z"
    },
    "papermill": {
     "duration": 0.025843,
     "end_time": "2022-07-04T00:17:29.704617",
     "exception": false,
     "start_time": "2022-07-04T00:17:29.678774",
     "status": "completed"
    },
    "tags": []
   },
   "outputs": [
    {
     "data": {
      "text/html": [
       "<div>\n",
       "<style scoped>\n",
       "    .dataframe tbody tr th:only-of-type {\n",
       "        vertical-align: middle;\n",
       "    }\n",
       "\n",
       "    .dataframe tbody tr th {\n",
       "        vertical-align: top;\n",
       "    }\n",
       "\n",
       "    .dataframe thead th {\n",
       "        text-align: right;\n",
       "    }\n",
       "</style>\n",
       "<table border=\"1\" class=\"dataframe\">\n",
       "  <thead>\n",
       "    <tr style=\"text-align: right;\">\n",
       "      <th></th>\n",
       "      <th>PassengerId</th>\n",
       "      <th>Survived</th>\n",
       "      <th>Pclass</th>\n",
       "      <th>Name</th>\n",
       "      <th>Sex</th>\n",
       "      <th>Age</th>\n",
       "      <th>SibSp</th>\n",
       "      <th>Parch</th>\n",
       "      <th>Ticket</th>\n",
       "      <th>Fare</th>\n",
       "      <th>Embarked</th>\n",
       "    </tr>\n",
       "  </thead>\n",
       "  <tbody>\n",
       "    <tr>\n",
       "      <th>0</th>\n",
       "      <td>1</td>\n",
       "      <td>0</td>\n",
       "      <td>3</td>\n",
       "      <td>Braund, Mr. Owen Harris</td>\n",
       "      <td>male</td>\n",
       "      <td>22.0</td>\n",
       "      <td>1</td>\n",
       "      <td>0</td>\n",
       "      <td>A/5 21171</td>\n",
       "      <td>7.2500</td>\n",
       "      <td>S</td>\n",
       "    </tr>\n",
       "    <tr>\n",
       "      <th>1</th>\n",
       "      <td>2</td>\n",
       "      <td>1</td>\n",
       "      <td>1</td>\n",
       "      <td>Cumings, Mrs. John Bradley (Florence Briggs Th...</td>\n",
       "      <td>female</td>\n",
       "      <td>38.0</td>\n",
       "      <td>1</td>\n",
       "      <td>0</td>\n",
       "      <td>PC 17599</td>\n",
       "      <td>71.2833</td>\n",
       "      <td>C</td>\n",
       "    </tr>\n",
       "    <tr>\n",
       "      <th>2</th>\n",
       "      <td>3</td>\n",
       "      <td>1</td>\n",
       "      <td>3</td>\n",
       "      <td>Heikkinen, Miss. Laina</td>\n",
       "      <td>female</td>\n",
       "      <td>26.0</td>\n",
       "      <td>0</td>\n",
       "      <td>0</td>\n",
       "      <td>STON/O2. 3101282</td>\n",
       "      <td>7.9250</td>\n",
       "      <td>S</td>\n",
       "    </tr>\n",
       "    <tr>\n",
       "      <th>3</th>\n",
       "      <td>4</td>\n",
       "      <td>1</td>\n",
       "      <td>1</td>\n",
       "      <td>Futrelle, Mrs. Jacques Heath (Lily May Peel)</td>\n",
       "      <td>female</td>\n",
       "      <td>35.0</td>\n",
       "      <td>1</td>\n",
       "      <td>0</td>\n",
       "      <td>113803</td>\n",
       "      <td>53.1000</td>\n",
       "      <td>S</td>\n",
       "    </tr>\n",
       "    <tr>\n",
       "      <th>4</th>\n",
       "      <td>5</td>\n",
       "      <td>0</td>\n",
       "      <td>3</td>\n",
       "      <td>Allen, Mr. William Henry</td>\n",
       "      <td>male</td>\n",
       "      <td>35.0</td>\n",
       "      <td>0</td>\n",
       "      <td>0</td>\n",
       "      <td>373450</td>\n",
       "      <td>8.0500</td>\n",
       "      <td>S</td>\n",
       "    </tr>\n",
       "  </tbody>\n",
       "</table>\n",
       "</div>"
      ],
      "text/plain": [
       "   PassengerId  Survived  Pclass  \\\n",
       "0            1         0       3   \n",
       "1            2         1       1   \n",
       "2            3         1       3   \n",
       "3            4         1       1   \n",
       "4            5         0       3   \n",
       "\n",
       "                                                Name     Sex   Age  SibSp  \\\n",
       "0                            Braund, Mr. Owen Harris    male  22.0      1   \n",
       "1  Cumings, Mrs. John Bradley (Florence Briggs Th...  female  38.0      1   \n",
       "2                             Heikkinen, Miss. Laina  female  26.0      0   \n",
       "3       Futrelle, Mrs. Jacques Heath (Lily May Peel)  female  35.0      1   \n",
       "4                           Allen, Mr. William Henry    male  35.0      0   \n",
       "\n",
       "   Parch            Ticket     Fare Embarked  \n",
       "0      0         A/5 21171   7.2500        S  \n",
       "1      0          PC 17599  71.2833        C  \n",
       "2      0  STON/O2. 3101282   7.9250        S  \n",
       "3      0            113803  53.1000        S  \n",
       "4      0            373450   8.0500        S  "
      ]
     },
     "execution_count": 7,
     "metadata": {},
     "output_type": "execute_result"
    }
   ],
   "source": [
    "train.drop(columns=('Cabin'), inplace=True)\n",
    "train.head()"
   ]
  },
  {
   "cell_type": "code",
   "execution_count": 8,
   "id": "6bebd0fa",
   "metadata": {
    "execution": {
     "iopub.execute_input": "2022-07-04T00:17:29.720569Z",
     "iopub.status.busy": "2022-07-04T00:17:29.719838Z",
     "iopub.status.idle": "2022-07-04T00:17:31.270920Z",
     "shell.execute_reply": "2022-07-04T00:17:31.269676Z"
    },
    "papermill": {
     "duration": 1.562208,
     "end_time": "2022-07-04T00:17:31.273581",
     "exception": false,
     "start_time": "2022-07-04T00:17:29.711373",
     "status": "completed"
    },
    "tags": []
   },
   "outputs": [
    {
     "name": "stdout",
     "output_type": "stream",
     "text": [
      "No age = 177\n"
     ]
    },
    {
     "data": {
      "text/plain": [
       "0"
      ]
     },
     "execution_count": 8,
     "metadata": {},
     "output_type": "execute_result"
    }
   ],
   "source": [
    "#Large number os na, but is possible to deal with it.\n",
    "print('No age = %s' %train.Age.isna().sum())\n",
    "from sklearn.impute import KNNImputer\n",
    "Before_age = train[['Age']]\n",
    "imputer = KNNImputer(n_neighbors=5)\n",
    "After_age = imputer.fit_transform(Before_age)\n",
    "train['Age'] = After_age\n",
    "train['Age'].isna().sum()"
   ]
  },
  {
   "cell_type": "code",
   "execution_count": 9,
   "id": "55930000",
   "metadata": {
    "execution": {
     "iopub.execute_input": "2022-07-04T00:17:31.289822Z",
     "iopub.status.busy": "2022-07-04T00:17:31.289319Z",
     "iopub.status.idle": "2022-07-04T00:17:31.299626Z",
     "shell.execute_reply": "2022-07-04T00:17:31.298304Z"
    },
    "papermill": {
     "duration": 0.021351,
     "end_time": "2022-07-04T00:17:31.302102",
     "exception": false,
     "start_time": "2022-07-04T00:17:31.280751",
     "status": "completed"
    },
    "tags": []
   },
   "outputs": [
    {
     "data": {
      "text/plain": [
       "S    644\n",
       "C    168\n",
       "Q     77\n",
       "Name: Embarked, dtype: int64"
      ]
     },
     "execution_count": 9,
     "metadata": {},
     "output_type": "execute_result"
    }
   ],
   "source": [
    "#Do the place you emkared affects your survival chance? I will try dropping embarked.\n",
    "train['Embarked'].value_counts()"
   ]
  },
  {
   "cell_type": "code",
   "execution_count": 10,
   "id": "1ed44904",
   "metadata": {
    "execution": {
     "iopub.execute_input": "2022-07-04T00:17:31.318970Z",
     "iopub.status.busy": "2022-07-04T00:17:31.318547Z",
     "iopub.status.idle": "2022-07-04T00:17:31.336087Z",
     "shell.execute_reply": "2022-07-04T00:17:31.334761Z"
    },
    "papermill": {
     "duration": 0.029199,
     "end_time": "2022-07-04T00:17:31.338822",
     "exception": false,
     "start_time": "2022-07-04T00:17:31.309623",
     "status": "completed"
    },
    "tags": []
   },
   "outputs": [
    {
     "data": {
      "text/plain": [
       "0.0    644\n",
       "1.0    168\n",
       "2.0     77\n",
       "Name: Embarked, dtype: int64"
      ]
     },
     "execution_count": 10,
     "metadata": {},
     "output_type": "execute_result"
    }
   ],
   "source": [
    "train.replace('S', 0, inplace=True)\n",
    "train.replace('C', 1, inplace=True)\n",
    "train.replace('Q', 2, inplace=True)\n",
    "train['Embarked'].value_counts()"
   ]
  },
  {
   "cell_type": "code",
   "execution_count": 11,
   "id": "74402f28",
   "metadata": {
    "execution": {
     "iopub.execute_input": "2022-07-04T00:17:31.356205Z",
     "iopub.status.busy": "2022-07-04T00:17:31.355510Z",
     "iopub.status.idle": "2022-07-04T00:17:31.362978Z",
     "shell.execute_reply": "2022-07-04T00:17:31.362027Z"
    },
    "papermill": {
     "duration": 0.018869,
     "end_time": "2022-07-04T00:17:31.364974",
     "exception": false,
     "start_time": "2022-07-04T00:17:31.346105",
     "status": "completed"
    },
    "tags": []
   },
   "outputs": [
    {
     "data": {
      "text/plain": [
       "2"
      ]
     },
     "execution_count": 11,
     "metadata": {},
     "output_type": "execute_result"
    }
   ],
   "source": [
    "train['Embarked'].isna().sum()"
   ]
  },
  {
   "cell_type": "code",
   "execution_count": 12,
   "id": "570c4aaa",
   "metadata": {
    "execution": {
     "iopub.execute_input": "2022-07-04T00:17:31.381478Z",
     "iopub.status.busy": "2022-07-04T00:17:31.380763Z",
     "iopub.status.idle": "2022-07-04T00:17:31.392323Z",
     "shell.execute_reply": "2022-07-04T00:17:31.391126Z"
    },
    "papermill": {
     "duration": 0.022697,
     "end_time": "2022-07-04T00:17:31.394773",
     "exception": false,
     "start_time": "2022-07-04T00:17:31.372076",
     "status": "completed"
    },
    "tags": []
   },
   "outputs": [
    {
     "data": {
      "text/plain": [
       "0"
      ]
     },
     "execution_count": 12,
     "metadata": {},
     "output_type": "execute_result"
    }
   ],
   "source": [
    "#Let's remove those nan\n",
    "train.dropna(subset=['Embarked'], inplace =True)\n",
    "train['Embarked'].isna().sum()"
   ]
  },
  {
   "cell_type": "code",
   "execution_count": 13,
   "id": "6e5e1dec",
   "metadata": {
    "execution": {
     "iopub.execute_input": "2022-07-04T00:17:31.411400Z",
     "iopub.status.busy": "2022-07-04T00:17:31.410917Z",
     "iopub.status.idle": "2022-07-04T00:17:31.419934Z",
     "shell.execute_reply": "2022-07-04T00:17:31.418796Z"
    },
    "papermill": {
     "duration": 0.020165,
     "end_time": "2022-07-04T00:17:31.422333",
     "exception": false,
     "start_time": "2022-07-04T00:17:31.402168",
     "status": "completed"
    },
    "tags": []
   },
   "outputs": [
    {
     "data": {
      "text/plain": [
       "0    606\n",
       "1    209\n",
       "2     28\n",
       "4     18\n",
       "3     16\n",
       "8      7\n",
       "5      5\n",
       "Name: SibSp, dtype: int64"
      ]
     },
     "execution_count": 13,
     "metadata": {},
     "output_type": "execute_result"
    }
   ],
   "source": [
    "train['SibSp'].value_counts()"
   ]
  },
  {
   "cell_type": "code",
   "execution_count": 14,
   "id": "20d560a9",
   "metadata": {
    "execution": {
     "iopub.execute_input": "2022-07-04T00:17:31.440035Z",
     "iopub.status.busy": "2022-07-04T00:17:31.439121Z",
     "iopub.status.idle": "2022-07-04T00:17:31.448332Z",
     "shell.execute_reply": "2022-07-04T00:17:31.447516Z"
    },
    "papermill": {
     "duration": 0.020625,
     "end_time": "2022-07-04T00:17:31.450388",
     "exception": false,
     "start_time": "2022-07-04T00:17:31.429763",
     "status": "completed"
    },
    "tags": []
   },
   "outputs": [
    {
     "data": {
      "text/plain": [
       "0    676\n",
       "1    118\n",
       "2     80\n",
       "5      5\n",
       "3      5\n",
       "4      4\n",
       "6      1\n",
       "Name: Parch, dtype: int64"
      ]
     },
     "execution_count": 14,
     "metadata": {},
     "output_type": "execute_result"
    }
   ],
   "source": [
    "train['Parch'].value_counts()"
   ]
  },
  {
   "cell_type": "code",
   "execution_count": 15,
   "id": "c132b5c1",
   "metadata": {
    "execution": {
     "iopub.execute_input": "2022-07-04T00:17:31.468232Z",
     "iopub.status.busy": "2022-07-04T00:17:31.466906Z",
     "iopub.status.idle": "2022-07-04T00:17:31.477893Z",
     "shell.execute_reply": "2022-07-04T00:17:31.476924Z"
    },
    "papermill": {
     "duration": 0.022161,
     "end_time": "2022-07-04T00:17:31.480095",
     "exception": false,
     "start_time": "2022-07-04T00:17:31.457934",
     "status": "completed"
    },
    "tags": []
   },
   "outputs": [
    {
     "data": {
      "text/plain": [
       "1    577\n",
       "0    312\n",
       "Name: Sex, dtype: int64"
      ]
     },
     "execution_count": 15,
     "metadata": {},
     "output_type": "execute_result"
    }
   ],
   "source": [
    "#Let's convert the gender variable in numbers\n",
    "train.replace('male', 1, inplace=True)\n",
    "train.replace('female', 0, inplace=True)\n",
    "train['Sex'].value_counts()"
   ]
  },
  {
   "cell_type": "code",
   "execution_count": 16,
   "id": "60361896",
   "metadata": {
    "execution": {
     "iopub.execute_input": "2022-07-04T00:17:31.498195Z",
     "iopub.status.busy": "2022-07-04T00:17:31.496935Z",
     "iopub.status.idle": "2022-07-04T00:17:31.504814Z",
     "shell.execute_reply": "2022-07-04T00:17:31.503594Z"
    },
    "papermill": {
     "duration": 0.019508,
     "end_time": "2022-07-04T00:17:31.507395",
     "exception": false,
     "start_time": "2022-07-04T00:17:31.487887",
     "status": "completed"
    },
    "tags": []
   },
   "outputs": [],
   "source": [
    "train.replace('male', 1, inplace=True)\n",
    "train.replace('female', 0, inplace=True)"
   ]
  },
  {
   "cell_type": "code",
   "execution_count": 17,
   "id": "ac664ee7",
   "metadata": {
    "execution": {
     "iopub.execute_input": "2022-07-04T00:17:31.525233Z",
     "iopub.status.busy": "2022-07-04T00:17:31.523978Z",
     "iopub.status.idle": "2022-07-04T00:17:31.531589Z",
     "shell.execute_reply": "2022-07-04T00:17:31.530374Z"
    },
    "papermill": {
     "duration": 0.019125,
     "end_time": "2022-07-04T00:17:31.534083",
     "exception": false,
     "start_time": "2022-07-04T00:17:31.514958",
     "status": "completed"
    },
    "tags": []
   },
   "outputs": [],
   "source": [
    "#Selecting the variables\n",
    "X = train[['Pclass', 'Sex', 'Age', 'SibSp', 'Parch','Fare', 'Embarked']]\n",
    "y = train['Survived']"
   ]
  },
  {
   "cell_type": "code",
   "execution_count": 18,
   "id": "cca2c1bf",
   "metadata": {
    "execution": {
     "iopub.execute_input": "2022-07-04T00:17:31.551191Z",
     "iopub.status.busy": "2022-07-04T00:17:31.550717Z",
     "iopub.status.idle": "2022-07-04T00:17:31.581210Z",
     "shell.execute_reply": "2022-07-04T00:17:31.579473Z"
    },
    "papermill": {
     "duration": 0.042171,
     "end_time": "2022-07-04T00:17:31.583907",
     "exception": false,
     "start_time": "2022-07-04T00:17:31.541736",
     "status": "completed"
    },
    "tags": []
   },
   "outputs": [
    {
     "name": "stdout",
     "output_type": "stream",
     "text": [
      "           Pclass         Sex         Age       SibSp       Parch        Fare  \\\n",
      "count  889.000000  889.000000  889.000000  889.000000  889.000000  889.000000   \n",
      "mean     2.311586    0.649044   29.653446    0.524184    0.382452   32.096681   \n",
      "std      0.834700    0.477538   12.968366    1.103705    0.806761   49.697504   \n",
      "min      1.000000    0.000000    0.420000    0.000000    0.000000    0.000000   \n",
      "25%      2.000000    0.000000   22.000000    0.000000    0.000000    7.895800   \n",
      "50%      3.000000    1.000000   29.699118    0.000000    0.000000   14.454200   \n",
      "75%      3.000000    1.000000   35.000000    1.000000    0.000000   31.000000   \n",
      "max      3.000000    1.000000   80.000000    8.000000    6.000000  512.329200   \n",
      "\n",
      "         Embarked  \n",
      "count  889.000000  \n",
      "mean     0.362205  \n",
      "std      0.636157  \n",
      "min      0.000000  \n",
      "25%      0.000000  \n",
      "50%      0.000000  \n",
      "75%      1.000000  \n",
      "max      2.000000  \n",
      "Pclass      0\n",
      "Sex         0\n",
      "Age         0\n",
      "SibSp       0\n",
      "Parch       0\n",
      "Fare        0\n",
      "Embarked    0\n",
      "dtype: int64\n"
     ]
    }
   ],
   "source": [
    "print(X.describe())\n",
    "print(X.isna().sum())"
   ]
  },
  {
   "cell_type": "code",
   "execution_count": 19,
   "id": "ebd91439",
   "metadata": {
    "execution": {
     "iopub.execute_input": "2022-07-04T00:17:31.601269Z",
     "iopub.status.busy": "2022-07-04T00:17:31.600838Z",
     "iopub.status.idle": "2022-07-04T00:17:31.903542Z",
     "shell.execute_reply": "2022-07-04T00:17:31.902086Z"
    },
    "papermill": {
     "duration": 0.314366,
     "end_time": "2022-07-04T00:17:31.906013",
     "exception": false,
     "start_time": "2022-07-04T00:17:31.591647",
     "status": "completed"
    },
    "tags": []
   },
   "outputs": [
    {
     "name": "stdout",
     "output_type": "stream",
     "text": [
      "The accuracy is 77.13%\n"
     ]
    }
   ],
   "source": [
    "from sklearn.model_selection import train_test_split\n",
    "from sklearn.ensemble import RandomForestClassifier\n",
    "from sklearn.metrics import accuracy_score\n",
    "import numpy as np\n",
    "\n",
    "X_train, X_test, y_train, y_test = train_test_split(X, y, stratify = y)\n",
    "\n",
    "SEED = 1405\n",
    "np.random.seed(SEED)\n",
    "\n",
    "model = RandomForestClassifier()\n",
    "model.fit(X_train,y_train)\n",
    "Predictions = model.predict(X_test)\n",
    "\n",
    "accuracy = accuracy_score(y_test, Predictions)\n",
    "print('The accuracy is %.2f%%' %(accuracy*100))"
   ]
  },
  {
   "cell_type": "code",
   "execution_count": 20,
   "id": "59d5a286",
   "metadata": {
    "execution": {
     "iopub.execute_input": "2022-07-04T00:17:31.924166Z",
     "iopub.status.busy": "2022-07-04T00:17:31.923481Z",
     "iopub.status.idle": "2022-07-04T00:17:31.939823Z",
     "shell.execute_reply": "2022-07-04T00:17:31.938832Z"
    },
    "papermill": {
     "duration": 0.028138,
     "end_time": "2022-07-04T00:17:31.942231",
     "exception": false,
     "start_time": "2022-07-04T00:17:31.914093",
     "status": "completed"
    },
    "tags": []
   },
   "outputs": [],
   "source": [
    "test = pd.read_csv('../input/titanic/test.csv')\n",
    "test.replace('male', 1, inplace=True)\n",
    "test.replace('female', 0, inplace=True)\n",
    "test.replace('S', 0, inplace=True)\n",
    "test.replace('C', 1, inplace=True)\n",
    "test.replace('Q', 2, inplace=True)"
   ]
  },
  {
   "cell_type": "code",
   "execution_count": 21,
   "id": "ab88b894",
   "metadata": {
    "execution": {
     "iopub.execute_input": "2022-07-04T00:17:31.960035Z",
     "iopub.status.busy": "2022-07-04T00:17:31.959251Z",
     "iopub.status.idle": "2022-07-04T00:17:31.974195Z",
     "shell.execute_reply": "2022-07-04T00:17:31.973268Z"
    },
    "papermill": {
     "duration": 0.026821,
     "end_time": "2022-07-04T00:17:31.976752",
     "exception": false,
     "start_time": "2022-07-04T00:17:31.949931",
     "status": "completed"
    },
    "tags": []
   },
   "outputs": [
    {
     "name": "stderr",
     "output_type": "stream",
     "text": [
      "/opt/conda/lib/python3.7/site-packages/pandas/core/frame.py:5244: SettingWithCopyWarning: \n",
      "A value is trying to be set on a copy of a slice from a DataFrame\n",
      "\n",
      "See the caveats in the documentation: https://pandas.pydata.org/pandas-docs/stable/user_guide/indexing.html#returning-a-view-versus-a-copy\n",
      "  method=method,\n"
     ]
    }
   ],
   "source": [
    "X_test = test[['Pclass', 'Sex', 'Age', 'SibSp', 'Parch', 'Fare', 'Embarked']]\n",
    "X_test.replace('male', 1, inplace=True)\n",
    "X_test.replace('female', 0, inplace=True)"
   ]
  },
  {
   "cell_type": "code",
   "execution_count": 22,
   "id": "6ad54a1f",
   "metadata": {
    "execution": {
     "iopub.execute_input": "2022-07-04T00:17:31.993983Z",
     "iopub.status.busy": "2022-07-04T00:17:31.993516Z",
     "iopub.status.idle": "2022-07-04T00:17:32.022511Z",
     "shell.execute_reply": "2022-07-04T00:17:32.020959Z"
    },
    "papermill": {
     "duration": 0.041197,
     "end_time": "2022-07-04T00:17:32.025735",
     "exception": false,
     "start_time": "2022-07-04T00:17:31.984538",
     "status": "completed"
    },
    "tags": []
   },
   "outputs": [
    {
     "name": "stdout",
     "output_type": "stream",
     "text": [
      "           Pclass         Sex         Age       SibSp       Parch        Fare  \\\n",
      "count  418.000000  418.000000  332.000000  418.000000  418.000000  417.000000   \n",
      "mean     2.265550    0.636364   30.272590    0.447368    0.392344   35.627188   \n",
      "std      0.841838    0.481622   14.181209    0.896760    0.981429   55.907576   \n",
      "min      1.000000    0.000000    0.170000    0.000000    0.000000    0.000000   \n",
      "25%      1.000000    0.000000   21.000000    0.000000    0.000000    7.895800   \n",
      "50%      3.000000    1.000000   27.000000    0.000000    0.000000   14.454200   \n",
      "75%      3.000000    1.000000   39.000000    1.000000    0.000000   31.500000   \n",
      "max      3.000000    1.000000   76.000000    8.000000    9.000000  512.329200   \n",
      "\n",
      "         Embarked  \n",
      "count  418.000000  \n",
      "mean     0.464115  \n",
      "std      0.685516  \n",
      "min      0.000000  \n",
      "25%      0.000000  \n",
      "50%      0.000000  \n",
      "75%      1.000000  \n",
      "max      2.000000  \n",
      "Pclass       0\n",
      "Sex          0\n",
      "Age         86\n",
      "SibSp        0\n",
      "Parch        0\n",
      "Fare         1\n",
      "Embarked     0\n",
      "dtype: int64\n",
      "(418, 7)\n",
      "(418, 11)\n"
     ]
    }
   ],
   "source": [
    "#Well... now we have to deal with it...\n",
    "print(X_test.describe())\n",
    "print(X_test.isna().sum())\n",
    "print(X_test.shape)\n",
    "print(test.shape)"
   ]
  },
  {
   "cell_type": "code",
   "execution_count": 23,
   "id": "3715781a",
   "metadata": {
    "execution": {
     "iopub.execute_input": "2022-07-04T00:17:32.043596Z",
     "iopub.status.busy": "2022-07-04T00:17:32.042958Z",
     "iopub.status.idle": "2022-07-04T00:17:32.053077Z",
     "shell.execute_reply": "2022-07-04T00:17:32.051852Z"
    },
    "papermill": {
     "duration": 0.021674,
     "end_time": "2022-07-04T00:17:32.055468",
     "exception": false,
     "start_time": "2022-07-04T00:17:32.033794",
     "status": "completed"
    },
    "tags": []
   },
   "outputs": [
    {
     "name": "stderr",
     "output_type": "stream",
     "text": [
      "/opt/conda/lib/python3.7/site-packages/ipykernel_launcher.py:2: SettingWithCopyWarning: \n",
      "A value is trying to be set on a copy of a slice from a DataFrame.\n",
      "Try using .loc[row_indexer,col_indexer] = value instead\n",
      "\n",
      "See the caveats in the documentation: https://pandas.pydata.org/pandas-docs/stable/user_guide/indexing.html#returning-a-view-versus-a-copy\n",
      "  \n"
     ]
    },
    {
     "data": {
      "text/plain": [
       "0"
      ]
     },
     "execution_count": 23,
     "metadata": {},
     "output_type": "execute_result"
    }
   ],
   "source": [
    "#I need to deal with those na, I will start with Fare, that is only one and use the mean.\n",
    "X_test['Fare'] = X_test['Fare'].fillna(X_test['Fare'].mean())\n",
    "X_test['Fare'].isna().sum()"
   ]
  },
  {
   "cell_type": "code",
   "execution_count": 24,
   "id": "586943bb",
   "metadata": {
    "execution": {
     "iopub.execute_input": "2022-07-04T00:17:32.074048Z",
     "iopub.status.busy": "2022-07-04T00:17:32.073615Z",
     "iopub.status.idle": "2022-07-04T00:17:32.090951Z",
     "shell.execute_reply": "2022-07-04T00:17:32.089892Z"
    },
    "papermill": {
     "duration": 0.029328,
     "end_time": "2022-07-04T00:17:32.092897",
     "exception": false,
     "start_time": "2022-07-04T00:17:32.063569",
     "status": "completed"
    },
    "tags": []
   },
   "outputs": [
    {
     "name": "stderr",
     "output_type": "stream",
     "text": [
      "/opt/conda/lib/python3.7/site-packages/ipykernel_launcher.py:6: SettingWithCopyWarning: \n",
      "A value is trying to be set on a copy of a slice from a DataFrame.\n",
      "Try using .loc[row_indexer,col_indexer] = value instead\n",
      "\n",
      "See the caveats in the documentation: https://pandas.pydata.org/pandas-docs/stable/user_guide/indexing.html#returning-a-view-versus-a-copy\n",
      "  \n"
     ]
    },
    {
     "data": {
      "text/plain": [
       "0"
      ]
     },
     "execution_count": 24,
     "metadata": {},
     "output_type": "execute_result"
    }
   ],
   "source": [
    "#Let's try to use knnimputer to solve the nan at age.\n",
    "from sklearn.impute import KNNImputer\n",
    "Before_age = X_test[['Age']]\n",
    "imputer = KNNImputer(n_neighbors=5)\n",
    "After_age = imputer.fit_transform(Before_age)\n",
    "X_test['Age'] = After_age\n",
    "X_test['Age'].isna().sum()"
   ]
  },
  {
   "cell_type": "code",
   "execution_count": 25,
   "id": "5a8a94c3",
   "metadata": {
    "execution": {
     "iopub.execute_input": "2022-07-04T00:17:32.111900Z",
     "iopub.status.busy": "2022-07-04T00:17:32.110842Z",
     "iopub.status.idle": "2022-07-04T00:17:32.306175Z",
     "shell.execute_reply": "2022-07-04T00:17:32.304679Z"
    },
    "papermill": {
     "duration": 0.207935,
     "end_time": "2022-07-04T00:17:32.309121",
     "exception": false,
     "start_time": "2022-07-04T00:17:32.101186",
     "status": "completed"
    },
    "tags": []
   },
   "outputs": [],
   "source": [
    "#Lets model\n",
    "from sklearn.ensemble import RandomForestClassifier\n",
    "import numpy as np\n",
    "\n",
    "\n",
    "SEED = 1405\n",
    "np.random.seed(SEED)\n",
    "model = RandomForestClassifier()\n",
    "model.fit(X,y)\n",
    "Predictions = model.predict(X_test)"
   ]
  },
  {
   "cell_type": "code",
   "execution_count": 26,
   "id": "f7ffc745",
   "metadata": {
    "execution": {
     "iopub.execute_input": "2022-07-04T00:17:32.328079Z",
     "iopub.status.busy": "2022-07-04T00:17:32.327212Z",
     "iopub.status.idle": "2022-07-04T00:17:32.343448Z",
     "shell.execute_reply": "2022-07-04T00:17:32.342664Z"
    },
    "papermill": {
     "duration": 0.027954,
     "end_time": "2022-07-04T00:17:32.345348",
     "exception": false,
     "start_time": "2022-07-04T00:17:32.317394",
     "status": "completed"
    },
    "tags": []
   },
   "outputs": [
    {
     "data": {
      "text/html": [
       "<div>\n",
       "<style scoped>\n",
       "    .dataframe tbody tr th:only-of-type {\n",
       "        vertical-align: middle;\n",
       "    }\n",
       "\n",
       "    .dataframe tbody tr th {\n",
       "        vertical-align: top;\n",
       "    }\n",
       "\n",
       "    .dataframe thead th {\n",
       "        text-align: right;\n",
       "    }\n",
       "</style>\n",
       "<table border=\"1\" class=\"dataframe\">\n",
       "  <thead>\n",
       "    <tr style=\"text-align: right;\">\n",
       "      <th></th>\n",
       "      <th>PassengerId</th>\n",
       "      <th>Pclass</th>\n",
       "      <th>Name</th>\n",
       "      <th>Sex</th>\n",
       "      <th>Age</th>\n",
       "      <th>SibSp</th>\n",
       "      <th>Parch</th>\n",
       "      <th>Ticket</th>\n",
       "      <th>Fare</th>\n",
       "      <th>Cabin</th>\n",
       "      <th>Embarked</th>\n",
       "      <th>Survived</th>\n",
       "    </tr>\n",
       "  </thead>\n",
       "  <tbody>\n",
       "    <tr>\n",
       "      <th>0</th>\n",
       "      <td>892</td>\n",
       "      <td>3</td>\n",
       "      <td>Kelly, Mr. James</td>\n",
       "      <td>1</td>\n",
       "      <td>34.5</td>\n",
       "      <td>0</td>\n",
       "      <td>0</td>\n",
       "      <td>330911</td>\n",
       "      <td>7.8292</td>\n",
       "      <td>NaN</td>\n",
       "      <td>2</td>\n",
       "      <td>0</td>\n",
       "    </tr>\n",
       "    <tr>\n",
       "      <th>1</th>\n",
       "      <td>893</td>\n",
       "      <td>3</td>\n",
       "      <td>Wilkes, Mrs. James (Ellen Needs)</td>\n",
       "      <td>0</td>\n",
       "      <td>47.0</td>\n",
       "      <td>1</td>\n",
       "      <td>0</td>\n",
       "      <td>363272</td>\n",
       "      <td>7.0000</td>\n",
       "      <td>NaN</td>\n",
       "      <td>0</td>\n",
       "      <td>0</td>\n",
       "    </tr>\n",
       "    <tr>\n",
       "      <th>2</th>\n",
       "      <td>894</td>\n",
       "      <td>2</td>\n",
       "      <td>Myles, Mr. Thomas Francis</td>\n",
       "      <td>1</td>\n",
       "      <td>62.0</td>\n",
       "      <td>0</td>\n",
       "      <td>0</td>\n",
       "      <td>240276</td>\n",
       "      <td>9.6875</td>\n",
       "      <td>NaN</td>\n",
       "      <td>2</td>\n",
       "      <td>0</td>\n",
       "    </tr>\n",
       "    <tr>\n",
       "      <th>3</th>\n",
       "      <td>895</td>\n",
       "      <td>3</td>\n",
       "      <td>Wirz, Mr. Albert</td>\n",
       "      <td>1</td>\n",
       "      <td>27.0</td>\n",
       "      <td>0</td>\n",
       "      <td>0</td>\n",
       "      <td>315154</td>\n",
       "      <td>8.6625</td>\n",
       "      <td>NaN</td>\n",
       "      <td>0</td>\n",
       "      <td>1</td>\n",
       "    </tr>\n",
       "    <tr>\n",
       "      <th>4</th>\n",
       "      <td>896</td>\n",
       "      <td>3</td>\n",
       "      <td>Hirvonen, Mrs. Alexander (Helga E Lindqvist)</td>\n",
       "      <td>0</td>\n",
       "      <td>22.0</td>\n",
       "      <td>1</td>\n",
       "      <td>1</td>\n",
       "      <td>3101298</td>\n",
       "      <td>12.2875</td>\n",
       "      <td>NaN</td>\n",
       "      <td>0</td>\n",
       "      <td>0</td>\n",
       "    </tr>\n",
       "  </tbody>\n",
       "</table>\n",
       "</div>"
      ],
      "text/plain": [
       "   PassengerId  Pclass                                          Name  Sex  \\\n",
       "0          892       3                              Kelly, Mr. James    1   \n",
       "1          893       3              Wilkes, Mrs. James (Ellen Needs)    0   \n",
       "2          894       2                     Myles, Mr. Thomas Francis    1   \n",
       "3          895       3                              Wirz, Mr. Albert    1   \n",
       "4          896       3  Hirvonen, Mrs. Alexander (Helga E Lindqvist)    0   \n",
       "\n",
       "    Age  SibSp  Parch   Ticket     Fare Cabin  Embarked  Survived  \n",
       "0  34.5      0      0   330911   7.8292   NaN         2         0  \n",
       "1  47.0      1      0   363272   7.0000   NaN         0         0  \n",
       "2  62.0      0      0   240276   9.6875   NaN         2         0  \n",
       "3  27.0      0      0   315154   8.6625   NaN         0         1  \n",
       "4  22.0      1      1  3101298  12.2875   NaN         0         0  "
      ]
     },
     "execution_count": 26,
     "metadata": {},
     "output_type": "execute_result"
    }
   ],
   "source": [
    "test['Survived'] = Predictions\n",
    "test.head()"
   ]
  },
  {
   "cell_type": "code",
   "execution_count": 27,
   "id": "6c3d586f",
   "metadata": {
    "execution": {
     "iopub.execute_input": "2022-07-04T00:17:32.366469Z",
     "iopub.status.busy": "2022-07-04T00:17:32.364406Z",
     "iopub.status.idle": "2022-07-04T00:17:32.379891Z",
     "shell.execute_reply": "2022-07-04T00:17:32.378765Z"
    },
    "papermill": {
     "duration": 0.028356,
     "end_time": "2022-07-04T00:17:32.382891",
     "exception": false,
     "start_time": "2022-07-04T00:17:32.354535",
     "status": "completed"
    },
    "tags": []
   },
   "outputs": [
    {
     "name": "stdout",
     "output_type": "stream",
     "text": [
      "(418, 2)\n"
     ]
    },
    {
     "name": "stderr",
     "output_type": "stream",
     "text": [
      "/opt/conda/lib/python3.7/site-packages/ipykernel_launcher.py:2: SettingWithCopyWarning: \n",
      "A value is trying to be set on a copy of a slice from a DataFrame.\n",
      "Try using .loc[row_indexer,col_indexer] = value instead\n",
      "\n",
      "See the caveats in the documentation: https://pandas.pydata.org/pandas-docs/stable/user_guide/indexing.html#returning-a-view-versus-a-copy\n",
      "  \n"
     ]
    },
    {
     "data": {
      "text/html": [
       "<div>\n",
       "<style scoped>\n",
       "    .dataframe tbody tr th:only-of-type {\n",
       "        vertical-align: middle;\n",
       "    }\n",
       "\n",
       "    .dataframe tbody tr th {\n",
       "        vertical-align: top;\n",
       "    }\n",
       "\n",
       "    .dataframe thead th {\n",
       "        text-align: right;\n",
       "    }\n",
       "</style>\n",
       "<table border=\"1\" class=\"dataframe\">\n",
       "  <thead>\n",
       "    <tr style=\"text-align: right;\">\n",
       "      <th></th>\n",
       "      <th>PassengerId</th>\n",
       "      <th>Survived</th>\n",
       "    </tr>\n",
       "  </thead>\n",
       "  <tbody>\n",
       "    <tr>\n",
       "      <th>0</th>\n",
       "      <td>892</td>\n",
       "      <td>0</td>\n",
       "    </tr>\n",
       "    <tr>\n",
       "      <th>1</th>\n",
       "      <td>893</td>\n",
       "      <td>0</td>\n",
       "    </tr>\n",
       "    <tr>\n",
       "      <th>2</th>\n",
       "      <td>894</td>\n",
       "      <td>0</td>\n",
       "    </tr>\n",
       "    <tr>\n",
       "      <th>3</th>\n",
       "      <td>895</td>\n",
       "      <td>1</td>\n",
       "    </tr>\n",
       "    <tr>\n",
       "      <th>4</th>\n",
       "      <td>896</td>\n",
       "      <td>0</td>\n",
       "    </tr>\n",
       "  </tbody>\n",
       "</table>\n",
       "</div>"
      ],
      "text/plain": [
       "   PassengerId  Survived\n",
       "0          892         0\n",
       "1          893         0\n",
       "2          894         0\n",
       "3          895         1\n",
       "4          896         0"
      ]
     },
     "execution_count": 27,
     "metadata": {},
     "output_type": "execute_result"
    }
   ],
   "source": [
    "submission = test[['PassengerId', 'Survived']]\n",
    "submission['Survived'] = submission['Survived'].astype(int)\n",
    "print(submission.shape)\n",
    "submission.head()"
   ]
  },
  {
   "cell_type": "code",
   "execution_count": 28,
   "id": "f0a4c059",
   "metadata": {
    "execution": {
     "iopub.execute_input": "2022-07-04T00:17:32.402734Z",
     "iopub.status.busy": "2022-07-04T00:17:32.401279Z",
     "iopub.status.idle": "2022-07-04T00:17:32.411569Z",
     "shell.execute_reply": "2022-07-04T00:17:32.410527Z"
    },
    "papermill": {
     "duration": 0.022905,
     "end_time": "2022-07-04T00:17:32.414260",
     "exception": false,
     "start_time": "2022-07-04T00:17:32.391355",
     "status": "completed"
    },
    "tags": []
   },
   "outputs": [],
   "source": [
    "submission.to_csv('./submission.csv', index=False)"
   ]
  }
 ],
 "metadata": {
  "kernelspec": {
   "display_name": "Python 3",
   "language": "python",
   "name": "python3"
  },
  "language_info": {
   "codemirror_mode": {
    "name": "ipython",
    "version": 3
   },
   "file_extension": ".py",
   "mimetype": "text/x-python",
   "name": "python",
   "nbconvert_exporter": "python",
   "pygments_lexer": "ipython3",
   "version": "3.7.12"
  },
  "papermill": {
   "default_parameters": {},
   "duration": 13.485868,
   "end_time": "2022-07-04T00:17:33.447397",
   "environment_variables": {},
   "exception": null,
   "input_path": "__notebook__.ipynb",
   "output_path": "__notebook__.ipynb",
   "parameters": {},
   "start_time": "2022-07-04T00:17:19.961529",
   "version": "2.3.4"
  }
 },
 "nbformat": 4,
 "nbformat_minor": 5
}

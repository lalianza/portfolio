{
 "cells": [
  {
   "cell_type": "code",
   "execution_count": 1,
   "id": "5cd5dccf",
   "metadata": {
    "execution": {
     "iopub.execute_input": "2022-06-30T23:54:26.556225Z",
     "iopub.status.busy": "2022-06-30T23:54:26.555806Z",
     "iopub.status.idle": "2022-06-30T23:54:26.566435Z",
     "shell.execute_reply": "2022-06-30T23:54:26.565319Z"
    },
    "papermill": {
     "duration": 0.022219,
     "end_time": "2022-06-30T23:54:26.568506",
     "exception": false,
     "start_time": "2022-06-30T23:54:26.546287",
     "status": "completed"
    },
    "tags": []
   },
   "outputs": [],
   "source": [
    "import pandas as pd"
   ]
  },
  {
   "cell_type": "code",
   "execution_count": 2,
   "id": "42a345a6",
   "metadata": {
    "execution": {
     "iopub.execute_input": "2022-06-30T23:54:26.581686Z",
     "iopub.status.busy": "2022-06-30T23:54:26.581310Z",
     "iopub.status.idle": "2022-06-30T23:54:26.616160Z",
     "shell.execute_reply": "2022-06-30T23:54:26.615408Z"
    },
    "papermill": {
     "duration": 0.04412,
     "end_time": "2022-06-30T23:54:26.618529",
     "exception": false,
     "start_time": "2022-06-30T23:54:26.574409",
     "status": "completed"
    },
    "tags": []
   },
   "outputs": [
    {
     "data": {
      "text/html": [
       "<div>\n",
       "<style scoped>\n",
       "    .dataframe tbody tr th:only-of-type {\n",
       "        vertical-align: middle;\n",
       "    }\n",
       "\n",
       "    .dataframe tbody tr th {\n",
       "        vertical-align: top;\n",
       "    }\n",
       "\n",
       "    .dataframe thead th {\n",
       "        text-align: right;\n",
       "    }\n",
       "</style>\n",
       "<table border=\"1\" class=\"dataframe\">\n",
       "  <thead>\n",
       "    <tr style=\"text-align: right;\">\n",
       "      <th></th>\n",
       "      <th>PassengerId</th>\n",
       "      <th>Survived</th>\n",
       "      <th>Pclass</th>\n",
       "      <th>Name</th>\n",
       "      <th>Sex</th>\n",
       "      <th>Age</th>\n",
       "      <th>SibSp</th>\n",
       "      <th>Parch</th>\n",
       "      <th>Ticket</th>\n",
       "      <th>Fare</th>\n",
       "      <th>Cabin</th>\n",
       "      <th>Embarked</th>\n",
       "    </tr>\n",
       "  </thead>\n",
       "  <tbody>\n",
       "    <tr>\n",
       "      <th>0</th>\n",
       "      <td>1</td>\n",
       "      <td>0</td>\n",
       "      <td>3</td>\n",
       "      <td>Braund, Mr. Owen Harris</td>\n",
       "      <td>male</td>\n",
       "      <td>22.0</td>\n",
       "      <td>1</td>\n",
       "      <td>0</td>\n",
       "      <td>A/5 21171</td>\n",
       "      <td>7.2500</td>\n",
       "      <td>NaN</td>\n",
       "      <td>S</td>\n",
       "    </tr>\n",
       "    <tr>\n",
       "      <th>1</th>\n",
       "      <td>2</td>\n",
       "      <td>1</td>\n",
       "      <td>1</td>\n",
       "      <td>Cumings, Mrs. John Bradley (Florence Briggs Th...</td>\n",
       "      <td>female</td>\n",
       "      <td>38.0</td>\n",
       "      <td>1</td>\n",
       "      <td>0</td>\n",
       "      <td>PC 17599</td>\n",
       "      <td>71.2833</td>\n",
       "      <td>C85</td>\n",
       "      <td>C</td>\n",
       "    </tr>\n",
       "    <tr>\n",
       "      <th>2</th>\n",
       "      <td>3</td>\n",
       "      <td>1</td>\n",
       "      <td>3</td>\n",
       "      <td>Heikkinen, Miss. Laina</td>\n",
       "      <td>female</td>\n",
       "      <td>26.0</td>\n",
       "      <td>0</td>\n",
       "      <td>0</td>\n",
       "      <td>STON/O2. 3101282</td>\n",
       "      <td>7.9250</td>\n",
       "      <td>NaN</td>\n",
       "      <td>S</td>\n",
       "    </tr>\n",
       "    <tr>\n",
       "      <th>3</th>\n",
       "      <td>4</td>\n",
       "      <td>1</td>\n",
       "      <td>1</td>\n",
       "      <td>Futrelle, Mrs. Jacques Heath (Lily May Peel)</td>\n",
       "      <td>female</td>\n",
       "      <td>35.0</td>\n",
       "      <td>1</td>\n",
       "      <td>0</td>\n",
       "      <td>113803</td>\n",
       "      <td>53.1000</td>\n",
       "      <td>C123</td>\n",
       "      <td>S</td>\n",
       "    </tr>\n",
       "    <tr>\n",
       "      <th>4</th>\n",
       "      <td>5</td>\n",
       "      <td>0</td>\n",
       "      <td>3</td>\n",
       "      <td>Allen, Mr. William Henry</td>\n",
       "      <td>male</td>\n",
       "      <td>35.0</td>\n",
       "      <td>0</td>\n",
       "      <td>0</td>\n",
       "      <td>373450</td>\n",
       "      <td>8.0500</td>\n",
       "      <td>NaN</td>\n",
       "      <td>S</td>\n",
       "    </tr>\n",
       "  </tbody>\n",
       "</table>\n",
       "</div>"
      ],
      "text/plain": [
       "   PassengerId  Survived  Pclass  \\\n",
       "0            1         0       3   \n",
       "1            2         1       1   \n",
       "2            3         1       3   \n",
       "3            4         1       1   \n",
       "4            5         0       3   \n",
       "\n",
       "                                                Name     Sex   Age  SibSp  \\\n",
       "0                            Braund, Mr. Owen Harris    male  22.0      1   \n",
       "1  Cumings, Mrs. John Bradley (Florence Briggs Th...  female  38.0      1   \n",
       "2                             Heikkinen, Miss. Laina  female  26.0      0   \n",
       "3       Futrelle, Mrs. Jacques Heath (Lily May Peel)  female  35.0      1   \n",
       "4                           Allen, Mr. William Henry    male  35.0      0   \n",
       "\n",
       "   Parch            Ticket     Fare Cabin Embarked  \n",
       "0      0         A/5 21171   7.2500   NaN        S  \n",
       "1      0          PC 17599  71.2833   C85        C  \n",
       "2      0  STON/O2. 3101282   7.9250   NaN        S  \n",
       "3      0            113803  53.1000  C123        S  \n",
       "4      0            373450   8.0500   NaN        S  "
      ]
     },
     "execution_count": 2,
     "metadata": {},
     "output_type": "execute_result"
    }
   ],
   "source": [
    "train = pd.read_csv('../input/titanic/train.csv')\n",
    "train.head()"
   ]
  },
  {
   "cell_type": "code",
   "execution_count": 3,
   "id": "576a2042",
   "metadata": {
    "execution": {
     "iopub.execute_input": "2022-06-30T23:54:26.632100Z",
     "iopub.status.busy": "2022-06-30T23:54:26.631730Z",
     "iopub.status.idle": "2022-06-30T23:54:26.672517Z",
     "shell.execute_reply": "2022-06-30T23:54:26.671284Z"
    },
    "papermill": {
     "duration": 0.05023,
     "end_time": "2022-06-30T23:54:26.674749",
     "exception": false,
     "start_time": "2022-06-30T23:54:26.624519",
     "status": "completed"
    },
    "tags": []
   },
   "outputs": [
    {
     "data": {
      "text/html": [
       "<div>\n",
       "<style scoped>\n",
       "    .dataframe tbody tr th:only-of-type {\n",
       "        vertical-align: middle;\n",
       "    }\n",
       "\n",
       "    .dataframe tbody tr th {\n",
       "        vertical-align: top;\n",
       "    }\n",
       "\n",
       "    .dataframe thead th {\n",
       "        text-align: right;\n",
       "    }\n",
       "</style>\n",
       "<table border=\"1\" class=\"dataframe\">\n",
       "  <thead>\n",
       "    <tr style=\"text-align: right;\">\n",
       "      <th></th>\n",
       "      <th>PassengerId</th>\n",
       "      <th>Survived</th>\n",
       "      <th>Pclass</th>\n",
       "      <th>Age</th>\n",
       "      <th>SibSp</th>\n",
       "      <th>Parch</th>\n",
       "      <th>Fare</th>\n",
       "    </tr>\n",
       "  </thead>\n",
       "  <tbody>\n",
       "    <tr>\n",
       "      <th>count</th>\n",
       "      <td>891.000000</td>\n",
       "      <td>891.000000</td>\n",
       "      <td>891.000000</td>\n",
       "      <td>714.000000</td>\n",
       "      <td>891.000000</td>\n",
       "      <td>891.000000</td>\n",
       "      <td>891.000000</td>\n",
       "    </tr>\n",
       "    <tr>\n",
       "      <th>mean</th>\n",
       "      <td>446.000000</td>\n",
       "      <td>0.383838</td>\n",
       "      <td>2.308642</td>\n",
       "      <td>29.699118</td>\n",
       "      <td>0.523008</td>\n",
       "      <td>0.381594</td>\n",
       "      <td>32.204208</td>\n",
       "    </tr>\n",
       "    <tr>\n",
       "      <th>std</th>\n",
       "      <td>257.353842</td>\n",
       "      <td>0.486592</td>\n",
       "      <td>0.836071</td>\n",
       "      <td>14.526497</td>\n",
       "      <td>1.102743</td>\n",
       "      <td>0.806057</td>\n",
       "      <td>49.693429</td>\n",
       "    </tr>\n",
       "    <tr>\n",
       "      <th>min</th>\n",
       "      <td>1.000000</td>\n",
       "      <td>0.000000</td>\n",
       "      <td>1.000000</td>\n",
       "      <td>0.420000</td>\n",
       "      <td>0.000000</td>\n",
       "      <td>0.000000</td>\n",
       "      <td>0.000000</td>\n",
       "    </tr>\n",
       "    <tr>\n",
       "      <th>25%</th>\n",
       "      <td>223.500000</td>\n",
       "      <td>0.000000</td>\n",
       "      <td>2.000000</td>\n",
       "      <td>20.125000</td>\n",
       "      <td>0.000000</td>\n",
       "      <td>0.000000</td>\n",
       "      <td>7.910400</td>\n",
       "    </tr>\n",
       "    <tr>\n",
       "      <th>50%</th>\n",
       "      <td>446.000000</td>\n",
       "      <td>0.000000</td>\n",
       "      <td>3.000000</td>\n",
       "      <td>28.000000</td>\n",
       "      <td>0.000000</td>\n",
       "      <td>0.000000</td>\n",
       "      <td>14.454200</td>\n",
       "    </tr>\n",
       "    <tr>\n",
       "      <th>75%</th>\n",
       "      <td>668.500000</td>\n",
       "      <td>1.000000</td>\n",
       "      <td>3.000000</td>\n",
       "      <td>38.000000</td>\n",
       "      <td>1.000000</td>\n",
       "      <td>0.000000</td>\n",
       "      <td>31.000000</td>\n",
       "    </tr>\n",
       "    <tr>\n",
       "      <th>max</th>\n",
       "      <td>891.000000</td>\n",
       "      <td>1.000000</td>\n",
       "      <td>3.000000</td>\n",
       "      <td>80.000000</td>\n",
       "      <td>8.000000</td>\n",
       "      <td>6.000000</td>\n",
       "      <td>512.329200</td>\n",
       "    </tr>\n",
       "  </tbody>\n",
       "</table>\n",
       "</div>"
      ],
      "text/plain": [
       "       PassengerId    Survived      Pclass         Age       SibSp  \\\n",
       "count   891.000000  891.000000  891.000000  714.000000  891.000000   \n",
       "mean    446.000000    0.383838    2.308642   29.699118    0.523008   \n",
       "std     257.353842    0.486592    0.836071   14.526497    1.102743   \n",
       "min       1.000000    0.000000    1.000000    0.420000    0.000000   \n",
       "25%     223.500000    0.000000    2.000000   20.125000    0.000000   \n",
       "50%     446.000000    0.000000    3.000000   28.000000    0.000000   \n",
       "75%     668.500000    1.000000    3.000000   38.000000    1.000000   \n",
       "max     891.000000    1.000000    3.000000   80.000000    8.000000   \n",
       "\n",
       "            Parch        Fare  \n",
       "count  891.000000  891.000000  \n",
       "mean     0.381594   32.204208  \n",
       "std      0.806057   49.693429  \n",
       "min      0.000000    0.000000  \n",
       "25%      0.000000    7.910400  \n",
       "50%      0.000000   14.454200  \n",
       "75%      0.000000   31.000000  \n",
       "max      6.000000  512.329200  "
      ]
     },
     "execution_count": 3,
     "metadata": {},
     "output_type": "execute_result"
    }
   ],
   "source": [
    "#Let's study the dataset to begin doing the predictions\n",
    "train.describe()"
   ]
  },
  {
   "cell_type": "code",
   "execution_count": 4,
   "id": "0e79c84f",
   "metadata": {
    "execution": {
     "iopub.execute_input": "2022-06-30T23:54:26.688917Z",
     "iopub.status.busy": "2022-06-30T23:54:26.688570Z",
     "iopub.status.idle": "2022-06-30T23:54:26.698215Z",
     "shell.execute_reply": "2022-06-30T23:54:26.697283Z"
    },
    "papermill": {
     "duration": 0.019261,
     "end_time": "2022-06-30T23:54:26.700145",
     "exception": false,
     "start_time": "2022-06-30T23:54:26.680884",
     "status": "completed"
    },
    "tags": []
   },
   "outputs": [
    {
     "data": {
      "text/plain": [
       "347082      7\n",
       "CA. 2343    7\n",
       "1601        7\n",
       "3101295     6\n",
       "CA 2144     6\n",
       "           ..\n",
       "9234        1\n",
       "19988       1\n",
       "2693        1\n",
       "PC 17612    1\n",
       "370376      1\n",
       "Name: Ticket, Length: 681, dtype: int64"
      ]
     },
     "execution_count": 4,
     "metadata": {},
     "output_type": "execute_result"
    }
   ],
   "source": [
    "train['Ticket'].value_counts()"
   ]
  },
  {
   "cell_type": "code",
   "execution_count": 5,
   "id": "1da68aa3",
   "metadata": {
    "execution": {
     "iopub.execute_input": "2022-06-30T23:54:26.715037Z",
     "iopub.status.busy": "2022-06-30T23:54:26.714308Z",
     "iopub.status.idle": "2022-06-30T23:54:26.724853Z",
     "shell.execute_reply": "2022-06-30T23:54:26.723939Z"
    },
    "papermill": {
     "duration": 0.021093,
     "end_time": "2022-06-30T23:54:26.727515",
     "exception": false,
     "start_time": "2022-06-30T23:54:26.706422",
     "status": "completed"
    },
    "tags": []
   },
   "outputs": [
    {
     "name": "stdout",
     "output_type": "stream",
     "text": [
      "(344, 12)\n"
     ]
    }
   ],
   "source": [
    "#those people have the same ticket number, therefore they bought together and probably where traveling together.\n",
    "group_tickets = train[train['Ticket'].map(train['Ticket'].value_counts() > 1)]\n",
    "print(group_tickets.shape)"
   ]
  },
  {
   "cell_type": "code",
   "execution_count": 6,
   "id": "86188845",
   "metadata": {
    "execution": {
     "iopub.execute_input": "2022-06-30T23:54:26.743449Z",
     "iopub.status.busy": "2022-06-30T23:54:26.743059Z",
     "iopub.status.idle": "2022-06-30T23:54:26.748707Z",
     "shell.execute_reply": "2022-06-30T23:54:26.747919Z"
    },
    "papermill": {
     "duration": 0.015934,
     "end_time": "2022-06-30T23:54:26.751149",
     "exception": false,
     "start_time": "2022-06-30T23:54:26.735215",
     "status": "completed"
    },
    "tags": []
   },
   "outputs": [
    {
     "name": "stdout",
     "output_type": "stream",
     "text": [
      "No cabin = 687\n"
     ]
    }
   ],
   "source": [
    "#There are too many missing values in cabin, they are cabinless people? This was a mistake? Probably, should drop this column.\n",
    "print('No cabin = %s' %train.Cabin.isna().sum())"
   ]
  },
  {
   "cell_type": "code",
   "execution_count": 7,
   "id": "e5ddc9ad",
   "metadata": {
    "execution": {
     "iopub.execute_input": "2022-06-30T23:54:26.767623Z",
     "iopub.status.busy": "2022-06-30T23:54:26.767226Z",
     "iopub.status.idle": "2022-06-30T23:54:26.783023Z",
     "shell.execute_reply": "2022-06-30T23:54:26.781688Z"
    },
    "papermill": {
     "duration": 0.026221,
     "end_time": "2022-06-30T23:54:26.785191",
     "exception": false,
     "start_time": "2022-06-30T23:54:26.758970",
     "status": "completed"
    },
    "tags": []
   },
   "outputs": [
    {
     "data": {
      "text/html": [
       "<div>\n",
       "<style scoped>\n",
       "    .dataframe tbody tr th:only-of-type {\n",
       "        vertical-align: middle;\n",
       "    }\n",
       "\n",
       "    .dataframe tbody tr th {\n",
       "        vertical-align: top;\n",
       "    }\n",
       "\n",
       "    .dataframe thead th {\n",
       "        text-align: right;\n",
       "    }\n",
       "</style>\n",
       "<table border=\"1\" class=\"dataframe\">\n",
       "  <thead>\n",
       "    <tr style=\"text-align: right;\">\n",
       "      <th></th>\n",
       "      <th>PassengerId</th>\n",
       "      <th>Survived</th>\n",
       "      <th>Pclass</th>\n",
       "      <th>Name</th>\n",
       "      <th>Sex</th>\n",
       "      <th>Age</th>\n",
       "      <th>SibSp</th>\n",
       "      <th>Parch</th>\n",
       "      <th>Ticket</th>\n",
       "      <th>Fare</th>\n",
       "      <th>Embarked</th>\n",
       "    </tr>\n",
       "  </thead>\n",
       "  <tbody>\n",
       "    <tr>\n",
       "      <th>0</th>\n",
       "      <td>1</td>\n",
       "      <td>0</td>\n",
       "      <td>3</td>\n",
       "      <td>Braund, Mr. Owen Harris</td>\n",
       "      <td>male</td>\n",
       "      <td>22.0</td>\n",
       "      <td>1</td>\n",
       "      <td>0</td>\n",
       "      <td>A/5 21171</td>\n",
       "      <td>7.2500</td>\n",
       "      <td>S</td>\n",
       "    </tr>\n",
       "    <tr>\n",
       "      <th>1</th>\n",
       "      <td>2</td>\n",
       "      <td>1</td>\n",
       "      <td>1</td>\n",
       "      <td>Cumings, Mrs. John Bradley (Florence Briggs Th...</td>\n",
       "      <td>female</td>\n",
       "      <td>38.0</td>\n",
       "      <td>1</td>\n",
       "      <td>0</td>\n",
       "      <td>PC 17599</td>\n",
       "      <td>71.2833</td>\n",
       "      <td>C</td>\n",
       "    </tr>\n",
       "    <tr>\n",
       "      <th>2</th>\n",
       "      <td>3</td>\n",
       "      <td>1</td>\n",
       "      <td>3</td>\n",
       "      <td>Heikkinen, Miss. Laina</td>\n",
       "      <td>female</td>\n",
       "      <td>26.0</td>\n",
       "      <td>0</td>\n",
       "      <td>0</td>\n",
       "      <td>STON/O2. 3101282</td>\n",
       "      <td>7.9250</td>\n",
       "      <td>S</td>\n",
       "    </tr>\n",
       "    <tr>\n",
       "      <th>3</th>\n",
       "      <td>4</td>\n",
       "      <td>1</td>\n",
       "      <td>1</td>\n",
       "      <td>Futrelle, Mrs. Jacques Heath (Lily May Peel)</td>\n",
       "      <td>female</td>\n",
       "      <td>35.0</td>\n",
       "      <td>1</td>\n",
       "      <td>0</td>\n",
       "      <td>113803</td>\n",
       "      <td>53.1000</td>\n",
       "      <td>S</td>\n",
       "    </tr>\n",
       "    <tr>\n",
       "      <th>4</th>\n",
       "      <td>5</td>\n",
       "      <td>0</td>\n",
       "      <td>3</td>\n",
       "      <td>Allen, Mr. William Henry</td>\n",
       "      <td>male</td>\n",
       "      <td>35.0</td>\n",
       "      <td>0</td>\n",
       "      <td>0</td>\n",
       "      <td>373450</td>\n",
       "      <td>8.0500</td>\n",
       "      <td>S</td>\n",
       "    </tr>\n",
       "  </tbody>\n",
       "</table>\n",
       "</div>"
      ],
      "text/plain": [
       "   PassengerId  Survived  Pclass  \\\n",
       "0            1         0       3   \n",
       "1            2         1       1   \n",
       "2            3         1       3   \n",
       "3            4         1       1   \n",
       "4            5         0       3   \n",
       "\n",
       "                                                Name     Sex   Age  SibSp  \\\n",
       "0                            Braund, Mr. Owen Harris    male  22.0      1   \n",
       "1  Cumings, Mrs. John Bradley (Florence Briggs Th...  female  38.0      1   \n",
       "2                             Heikkinen, Miss. Laina  female  26.0      0   \n",
       "3       Futrelle, Mrs. Jacques Heath (Lily May Peel)  female  35.0      1   \n",
       "4                           Allen, Mr. William Henry    male  35.0      0   \n",
       "\n",
       "   Parch            Ticket     Fare Embarked  \n",
       "0      0         A/5 21171   7.2500        S  \n",
       "1      0          PC 17599  71.2833        C  \n",
       "2      0  STON/O2. 3101282   7.9250        S  \n",
       "3      0            113803  53.1000        S  \n",
       "4      0            373450   8.0500        S  "
      ]
     },
     "execution_count": 7,
     "metadata": {},
     "output_type": "execute_result"
    }
   ],
   "source": [
    "train.drop(columns=('Cabin'), inplace=True)\n",
    "train.head()"
   ]
  },
  {
   "cell_type": "code",
   "execution_count": 8,
   "id": "9000e8b1",
   "metadata": {
    "execution": {
     "iopub.execute_input": "2022-06-30T23:54:26.800208Z",
     "iopub.status.busy": "2022-06-30T23:54:26.799843Z",
     "iopub.status.idle": "2022-06-30T23:54:26.805529Z",
     "shell.execute_reply": "2022-06-30T23:54:26.804701Z"
    },
    "papermill": {
     "duration": 0.015692,
     "end_time": "2022-06-30T23:54:26.807631",
     "exception": false,
     "start_time": "2022-06-30T23:54:26.791939",
     "status": "completed"
    },
    "tags": []
   },
   "outputs": [
    {
     "name": "stdout",
     "output_type": "stream",
     "text": [
      "No age = 177\n"
     ]
    }
   ],
   "source": [
    "#Large number os na, but is possible to deal with it.\n",
    "print('No age = %s' %train.Age.isna().sum())"
   ]
  },
  {
   "cell_type": "code",
   "execution_count": 9,
   "id": "49876af5",
   "metadata": {
    "execution": {
     "iopub.execute_input": "2022-06-30T23:54:26.823022Z",
     "iopub.status.busy": "2022-06-30T23:54:26.822681Z",
     "iopub.status.idle": "2022-06-30T23:54:26.830249Z",
     "shell.execute_reply": "2022-06-30T23:54:26.829264Z"
    },
    "papermill": {
     "duration": 0.018569,
     "end_time": "2022-06-30T23:54:26.832856",
     "exception": false,
     "start_time": "2022-06-30T23:54:26.814287",
     "status": "completed"
    },
    "tags": []
   },
   "outputs": [
    {
     "name": "stdout",
     "output_type": "stream",
     "text": [
      "No age = 0\n"
     ]
    }
   ],
   "source": [
    "#I have a choice here, I could try to fill in the nan values in age, either with median, mean or\n",
    "#imputing values from other catgories to take an avarage mean. Or drop the nans.\n",
    "#I think the number still will be large enough to train. So I'll go with the drop option.\n",
    "train.dropna(subset=['Age'], inplace=True)\n",
    "print('No age = %s' %train.Age.isna().sum())"
   ]
  },
  {
   "cell_type": "code",
   "execution_count": 10,
   "id": "316bb1c4",
   "metadata": {
    "execution": {
     "iopub.execute_input": "2022-06-30T23:54:26.849649Z",
     "iopub.status.busy": "2022-06-30T23:54:26.849032Z",
     "iopub.status.idle": "2022-06-30T23:54:26.857380Z",
     "shell.execute_reply": "2022-06-30T23:54:26.856301Z"
    },
    "papermill": {
     "duration": 0.018777,
     "end_time": "2022-06-30T23:54:26.859381",
     "exception": false,
     "start_time": "2022-06-30T23:54:26.840604",
     "status": "completed"
    },
    "tags": []
   },
   "outputs": [
    {
     "data": {
      "text/plain": [
       "S    554\n",
       "C    130\n",
       "Q     28\n",
       "Name: Embarked, dtype: int64"
      ]
     },
     "execution_count": 10,
     "metadata": {},
     "output_type": "execute_result"
    }
   ],
   "source": [
    "#Do the place you emkared affects your survival chance? I mean... It shouldn't, but maybe it could affect where\n",
    "#you will be in the ship.\n",
    "train['Embarked'].value_counts()"
   ]
  },
  {
   "cell_type": "code",
   "execution_count": 11,
   "id": "c2b12b32",
   "metadata": {
    "execution": {
     "iopub.execute_input": "2022-06-30T23:54:26.876009Z",
     "iopub.status.busy": "2022-06-30T23:54:26.875231Z",
     "iopub.status.idle": "2022-06-30T23:54:26.889743Z",
     "shell.execute_reply": "2022-06-30T23:54:26.888813Z"
    },
    "papermill": {
     "duration": 0.025171,
     "end_time": "2022-06-30T23:54:26.891766",
     "exception": false,
     "start_time": "2022-06-30T23:54:26.866595",
     "status": "completed"
    },
    "tags": []
   },
   "outputs": [
    {
     "data": {
      "text/plain": [
       "0.0    554\n",
       "1.0    130\n",
       "2.0     28\n",
       "Name: Embarked, dtype: int64"
      ]
     },
     "execution_count": 11,
     "metadata": {},
     "output_type": "execute_result"
    }
   ],
   "source": [
    "train.replace('S', 0, inplace=True)\n",
    "train.replace('C', 1, inplace=True)\n",
    "train.replace('Q', 2, inplace=True)\n",
    "train['Embarked'].value_counts()"
   ]
  },
  {
   "cell_type": "code",
   "execution_count": 12,
   "id": "e97764ef",
   "metadata": {
    "execution": {
     "iopub.execute_input": "2022-06-30T23:54:26.907426Z",
     "iopub.status.busy": "2022-06-30T23:54:26.906720Z",
     "iopub.status.idle": "2022-06-30T23:54:26.914048Z",
     "shell.execute_reply": "2022-06-30T23:54:26.913236Z"
    },
    "papermill": {
     "duration": 0.017459,
     "end_time": "2022-06-30T23:54:26.916009",
     "exception": false,
     "start_time": "2022-06-30T23:54:26.898550",
     "status": "completed"
    },
    "tags": []
   },
   "outputs": [
    {
     "data": {
      "text/plain": [
       "2"
      ]
     },
     "execution_count": 12,
     "metadata": {},
     "output_type": "execute_result"
    }
   ],
   "source": [
    "train['Embarked'].isna().sum()"
   ]
  },
  {
   "cell_type": "code",
   "execution_count": 13,
   "id": "45ebbed6",
   "metadata": {
    "execution": {
     "iopub.execute_input": "2022-06-30T23:54:26.932561Z",
     "iopub.status.busy": "2022-06-30T23:54:26.931823Z",
     "iopub.status.idle": "2022-06-30T23:54:26.941936Z",
     "shell.execute_reply": "2022-06-30T23:54:26.940908Z"
    },
    "papermill": {
     "duration": 0.020376,
     "end_time": "2022-06-30T23:54:26.944033",
     "exception": false,
     "start_time": "2022-06-30T23:54:26.923657",
     "status": "completed"
    },
    "tags": []
   },
   "outputs": [
    {
     "data": {
      "text/plain": [
       "0"
      ]
     },
     "execution_count": 13,
     "metadata": {},
     "output_type": "execute_result"
    }
   ],
   "source": [
    "#Let's remove those nan\n",
    "train.dropna(subset=['Embarked'], inplace =True)\n",
    "train['Embarked'].isna().sum()"
   ]
  },
  {
   "cell_type": "code",
   "execution_count": 14,
   "id": "b8aec032",
   "metadata": {
    "execution": {
     "iopub.execute_input": "2022-06-30T23:54:26.960084Z",
     "iopub.status.busy": "2022-06-30T23:54:26.959348Z",
     "iopub.status.idle": "2022-06-30T23:54:26.967143Z",
     "shell.execute_reply": "2022-06-30T23:54:26.966347Z"
    },
    "papermill": {
     "duration": 0.018122,
     "end_time": "2022-06-30T23:54:26.969131",
     "exception": false,
     "start_time": "2022-06-30T23:54:26.951009",
     "status": "completed"
    },
    "tags": []
   },
   "outputs": [
    {
     "data": {
      "text/plain": [
       "0    469\n",
       "1    183\n",
       "2     25\n",
       "4     18\n",
       "3     12\n",
       "5      5\n",
       "Name: SibSp, dtype: int64"
      ]
     },
     "execution_count": 14,
     "metadata": {},
     "output_type": "execute_result"
    }
   ],
   "source": [
    "train['SibSp'].value_counts()"
   ]
  },
  {
   "cell_type": "code",
   "execution_count": 15,
   "id": "5a236ac8",
   "metadata": {
    "execution": {
     "iopub.execute_input": "2022-06-30T23:54:26.985504Z",
     "iopub.status.busy": "2022-06-30T23:54:26.985089Z",
     "iopub.status.idle": "2022-06-30T23:54:26.993524Z",
     "shell.execute_reply": "2022-06-30T23:54:26.992739Z"
    },
    "papermill": {
     "duration": 0.019269,
     "end_time": "2022-06-30T23:54:26.995453",
     "exception": false,
     "start_time": "2022-06-30T23:54:26.976184",
     "status": "completed"
    },
    "tags": []
   },
   "outputs": [
    {
     "data": {
      "text/plain": [
       "0    519\n",
       "1    110\n",
       "2     68\n",
       "5      5\n",
       "3      5\n",
       "4      4\n",
       "6      1\n",
       "Name: Parch, dtype: int64"
      ]
     },
     "execution_count": 15,
     "metadata": {},
     "output_type": "execute_result"
    }
   ],
   "source": [
    "train['Parch'].value_counts()"
   ]
  },
  {
   "cell_type": "code",
   "execution_count": 16,
   "id": "312b522c",
   "metadata": {
    "execution": {
     "iopub.execute_input": "2022-06-30T23:54:27.011569Z",
     "iopub.status.busy": "2022-06-30T23:54:27.011165Z",
     "iopub.status.idle": "2022-06-30T23:54:27.022595Z",
     "shell.execute_reply": "2022-06-30T23:54:27.021698Z"
    },
    "papermill": {
     "duration": 0.022013,
     "end_time": "2022-06-30T23:54:27.024636",
     "exception": false,
     "start_time": "2022-06-30T23:54:27.002623",
     "status": "completed"
    },
    "tags": []
   },
   "outputs": [
    {
     "data": {
      "text/plain": [
       "1    453\n",
       "0    259\n",
       "Name: Sex, dtype: int64"
      ]
     },
     "execution_count": 16,
     "metadata": {},
     "output_type": "execute_result"
    }
   ],
   "source": [
    "#Let's convert the gender variable in numbers\n",
    "train.replace('male', 1, inplace=True)\n",
    "train.replace('female', 0, inplace=True)\n",
    "train['Sex'].value_counts()"
   ]
  },
  {
   "cell_type": "code",
   "execution_count": 17,
   "id": "22c79b71",
   "metadata": {
    "execution": {
     "iopub.execute_input": "2022-06-30T23:54:27.041363Z",
     "iopub.status.busy": "2022-06-30T23:54:27.040753Z",
     "iopub.status.idle": "2022-06-30T23:54:27.047744Z",
     "shell.execute_reply": "2022-06-30T23:54:27.045984Z"
    },
    "papermill": {
     "duration": 0.02024,
     "end_time": "2022-06-30T23:54:27.052109",
     "exception": false,
     "start_time": "2022-06-30T23:54:27.031869",
     "status": "completed"
    },
    "tags": []
   },
   "outputs": [],
   "source": [
    "train.replace('male', 1, inplace=True)\n",
    "train.replace('female', 0, inplace=True)"
   ]
  },
  {
   "cell_type": "code",
   "execution_count": 18,
   "id": "2f7fd7a8",
   "metadata": {
    "execution": {
     "iopub.execute_input": "2022-06-30T23:54:27.069009Z",
     "iopub.status.busy": "2022-06-30T23:54:27.068639Z",
     "iopub.status.idle": "2022-06-30T23:54:27.076337Z",
     "shell.execute_reply": "2022-06-30T23:54:27.075588Z"
    },
    "papermill": {
     "duration": 0.018606,
     "end_time": "2022-06-30T23:54:27.078444",
     "exception": false,
     "start_time": "2022-06-30T23:54:27.059838",
     "status": "completed"
    },
    "tags": []
   },
   "outputs": [],
   "source": [
    "#Selecting the variables\n",
    "X = train[['Pclass', 'Sex', 'Age', 'SibSp', 'Parch', 'Fare', 'Embarked']]\n",
    "y = train['Survived']"
   ]
  },
  {
   "cell_type": "code",
   "execution_count": 19,
   "id": "b69d6d7d",
   "metadata": {
    "execution": {
     "iopub.execute_input": "2022-06-30T23:54:27.106593Z",
     "iopub.status.busy": "2022-06-30T23:54:27.105633Z",
     "iopub.status.idle": "2022-06-30T23:54:27.137063Z",
     "shell.execute_reply": "2022-06-30T23:54:27.135931Z"
    },
    "papermill": {
     "duration": 0.048657,
     "end_time": "2022-06-30T23:54:27.140995",
     "exception": false,
     "start_time": "2022-06-30T23:54:27.092338",
     "status": "completed"
    },
    "tags": []
   },
   "outputs": [
    {
     "name": "stdout",
     "output_type": "stream",
     "text": [
      "           Pclass         Sex         Age       SibSp       Parch        Fare  \\\n",
      "count  712.000000  712.000000  712.000000  712.000000  712.000000  712.000000   \n",
      "mean     2.240169    0.636236   29.642093    0.514045    0.432584   34.567251   \n",
      "std      0.836854    0.481420   14.492933    0.930692    0.854181   52.938648   \n",
      "min      1.000000    0.000000    0.420000    0.000000    0.000000    0.000000   \n",
      "25%      1.000000    0.000000   20.000000    0.000000    0.000000    8.050000   \n",
      "50%      2.000000    1.000000   28.000000    0.000000    0.000000   15.645850   \n",
      "75%      3.000000    1.000000   38.000000    1.000000    1.000000   33.000000   \n",
      "max      3.000000    1.000000   80.000000    5.000000    6.000000  512.329200   \n",
      "\n",
      "         Embarked  \n",
      "count  712.000000  \n",
      "mean     0.261236  \n",
      "std      0.521561  \n",
      "min      0.000000  \n",
      "25%      0.000000  \n",
      "50%      0.000000  \n",
      "75%      0.000000  \n",
      "max      2.000000  \n",
      "Pclass      0\n",
      "Sex         0\n",
      "Age         0\n",
      "SibSp       0\n",
      "Parch       0\n",
      "Fare        0\n",
      "Embarked    0\n",
      "dtype: int64\n"
     ]
    }
   ],
   "source": [
    "print(X.describe())\n",
    "print(X.isna().sum())"
   ]
  },
  {
   "cell_type": "code",
   "execution_count": 20,
   "id": "d6acae2c",
   "metadata": {
    "execution": {
     "iopub.execute_input": "2022-06-30T23:54:27.160879Z",
     "iopub.status.busy": "2022-06-30T23:54:27.160514Z",
     "iopub.status.idle": "2022-06-30T23:54:27.176529Z",
     "shell.execute_reply": "2022-06-30T23:54:27.175676Z"
    },
    "papermill": {
     "duration": 0.026538,
     "end_time": "2022-06-30T23:54:27.178545",
     "exception": false,
     "start_time": "2022-06-30T23:54:27.152007",
     "status": "completed"
    },
    "tags": []
   },
   "outputs": [],
   "source": [
    "test = pd.read_csv('../input/titanic/test.csv')\n",
    "test.replace('male', 1, inplace=True)\n",
    "test.replace('female', 0, inplace=True)\n",
    "test.replace('S', 0, inplace=True)\n",
    "test.replace('C', 1, inplace=True)\n",
    "test.replace('Q', 2, inplace=True)"
   ]
  },
  {
   "cell_type": "code",
   "execution_count": 21,
   "id": "ff90ccd3",
   "metadata": {
    "execution": {
     "iopub.execute_input": "2022-06-30T23:54:27.195127Z",
     "iopub.status.busy": "2022-06-30T23:54:27.194385Z",
     "iopub.status.idle": "2022-06-30T23:54:27.213020Z",
     "shell.execute_reply": "2022-06-30T23:54:27.211915Z"
    },
    "papermill": {
     "duration": 0.030496,
     "end_time": "2022-06-30T23:54:27.216319",
     "exception": false,
     "start_time": "2022-06-30T23:54:27.185823",
     "status": "completed"
    },
    "tags": []
   },
   "outputs": [
    {
     "name": "stderr",
     "output_type": "stream",
     "text": [
      "/opt/conda/lib/python3.7/site-packages/pandas/core/frame.py:5244: SettingWithCopyWarning: \n",
      "A value is trying to be set on a copy of a slice from a DataFrame\n",
      "\n",
      "See the caveats in the documentation: https://pandas.pydata.org/pandas-docs/stable/user_guide/indexing.html#returning-a-view-versus-a-copy\n",
      "  method=method,\n"
     ]
    }
   ],
   "source": [
    "X_test = test[['Pclass', 'Sex', 'Age', 'SibSp', 'Parch', 'Fare', 'Embarked']]\n",
    "X_test.replace('male', 1, inplace=True)\n",
    "X_test.replace('female', 0, inplace=True)"
   ]
  },
  {
   "cell_type": "code",
   "execution_count": 22,
   "id": "f87bc56f",
   "metadata": {
    "execution": {
     "iopub.execute_input": "2022-06-30T23:54:27.234530Z",
     "iopub.status.busy": "2022-06-30T23:54:27.233576Z",
     "iopub.status.idle": "2022-06-30T23:54:27.259398Z",
     "shell.execute_reply": "2022-06-30T23:54:27.258275Z"
    },
    "papermill": {
     "duration": 0.037444,
     "end_time": "2022-06-30T23:54:27.262282",
     "exception": false,
     "start_time": "2022-06-30T23:54:27.224838",
     "status": "completed"
    },
    "tags": []
   },
   "outputs": [
    {
     "name": "stdout",
     "output_type": "stream",
     "text": [
      "           Pclass         Sex         Age       SibSp       Parch        Fare  \\\n",
      "count  418.000000  418.000000  332.000000  418.000000  418.000000  417.000000   \n",
      "mean     2.265550    0.636364   30.272590    0.447368    0.392344   35.627188   \n",
      "std      0.841838    0.481622   14.181209    0.896760    0.981429   55.907576   \n",
      "min      1.000000    0.000000    0.170000    0.000000    0.000000    0.000000   \n",
      "25%      1.000000    0.000000   21.000000    0.000000    0.000000    7.895800   \n",
      "50%      3.000000    1.000000   27.000000    0.000000    0.000000   14.454200   \n",
      "75%      3.000000    1.000000   39.000000    1.000000    0.000000   31.500000   \n",
      "max      3.000000    1.000000   76.000000    8.000000    9.000000  512.329200   \n",
      "\n",
      "         Embarked  \n",
      "count  418.000000  \n",
      "mean     0.464115  \n",
      "std      0.685516  \n",
      "min      0.000000  \n",
      "25%      0.000000  \n",
      "50%      0.000000  \n",
      "75%      1.000000  \n",
      "max      2.000000  \n",
      "Pclass       0\n",
      "Sex          0\n",
      "Age         86\n",
      "SibSp        0\n",
      "Parch        0\n",
      "Fare         1\n",
      "Embarked     0\n",
      "dtype: int64\n",
      "(418, 7)\n",
      "(418, 11)\n"
     ]
    }
   ],
   "source": [
    "#Well... now we have to deal with it...\n",
    "print(X_test.describe())\n",
    "print(X_test.isna().sum())\n",
    "print(X_test.shape)\n",
    "print(test.shape)"
   ]
  },
  {
   "cell_type": "code",
   "execution_count": 23,
   "id": "ccc665ce",
   "metadata": {
    "execution": {
     "iopub.execute_input": "2022-06-30T23:54:27.279981Z",
     "iopub.status.busy": "2022-06-30T23:54:27.279628Z",
     "iopub.status.idle": "2022-06-30T23:54:27.288666Z",
     "shell.execute_reply": "2022-06-30T23:54:27.287000Z"
    },
    "papermill": {
     "duration": 0.020333,
     "end_time": "2022-06-30T23:54:27.290901",
     "exception": false,
     "start_time": "2022-06-30T23:54:27.270568",
     "status": "completed"
    },
    "tags": []
   },
   "outputs": [
    {
     "name": "stderr",
     "output_type": "stream",
     "text": [
      "/opt/conda/lib/python3.7/site-packages/ipykernel_launcher.py:2: SettingWithCopyWarning: \n",
      "A value is trying to be set on a copy of a slice from a DataFrame.\n",
      "Try using .loc[row_indexer,col_indexer] = value instead\n",
      "\n",
      "See the caveats in the documentation: https://pandas.pydata.org/pandas-docs/stable/user_guide/indexing.html#returning-a-view-versus-a-copy\n",
      "  \n"
     ]
    },
    {
     "data": {
      "text/plain": [
       "0"
      ]
     },
     "execution_count": 23,
     "metadata": {},
     "output_type": "execute_result"
    }
   ],
   "source": [
    "#I need to deal with those na, I will start with Fare, that is only one and use the mean.\n",
    "X_test['Fare'] = X_test['Fare'].fillna(X_test['Fare'].mean())\n",
    "X_test['Fare'].isna().sum()"
   ]
  },
  {
   "cell_type": "code",
   "execution_count": 24,
   "id": "694a7d47",
   "metadata": {
    "execution": {
     "iopub.execute_input": "2022-06-30T23:54:27.308246Z",
     "iopub.status.busy": "2022-06-30T23:54:27.307410Z",
     "iopub.status.idle": "2022-06-30T23:54:28.647918Z",
     "shell.execute_reply": "2022-06-30T23:54:28.646215Z"
    },
    "papermill": {
     "duration": 1.352046,
     "end_time": "2022-06-30T23:54:28.650596",
     "exception": false,
     "start_time": "2022-06-30T23:54:27.298550",
     "status": "completed"
    },
    "tags": []
   },
   "outputs": [
    {
     "name": "stderr",
     "output_type": "stream",
     "text": [
      "/opt/conda/lib/python3.7/site-packages/ipykernel_launcher.py:6: SettingWithCopyWarning: \n",
      "A value is trying to be set on a copy of a slice from a DataFrame.\n",
      "Try using .loc[row_indexer,col_indexer] = value instead\n",
      "\n",
      "See the caveats in the documentation: https://pandas.pydata.org/pandas-docs/stable/user_guide/indexing.html#returning-a-view-versus-a-copy\n",
      "  \n"
     ]
    },
    {
     "data": {
      "text/plain": [
       "0"
      ]
     },
     "execution_count": 24,
     "metadata": {},
     "output_type": "execute_result"
    }
   ],
   "source": [
    "#Let's try to use knnimputer to solve the nan at age.\n",
    "from sklearn.impute import KNNImputer\n",
    "Before_age = X_test[['Age']]\n",
    "imputer = KNNImputer(n_neighbors=2)\n",
    "After_age = imputer.fit_transform(Before_age)\n",
    "X_test['Age'] = After_age\n",
    "X_test['Age'].isna().sum()"
   ]
  },
  {
   "cell_type": "code",
   "execution_count": 25,
   "id": "cfe5b60d",
   "metadata": {
    "execution": {
     "iopub.execute_input": "2022-06-30T23:54:28.668166Z",
     "iopub.status.busy": "2022-06-30T23:54:28.667244Z",
     "iopub.status.idle": "2022-06-30T23:54:28.707876Z",
     "shell.execute_reply": "2022-06-30T23:54:28.706830Z"
    },
    "papermill": {
     "duration": 0.052045,
     "end_time": "2022-06-30T23:54:28.710432",
     "exception": false,
     "start_time": "2022-06-30T23:54:28.658387",
     "status": "completed"
    },
    "tags": []
   },
   "outputs": [],
   "source": [
    "#Lets model\n",
    "from sklearn.tree import DecisionTreeRegressor\n",
    "import numpy as np\n",
    "\n",
    "\n",
    "SEED = 1405\n",
    "np.random.seed(SEED)\n",
    "model = DecisionTreeRegressor()\n",
    "model.fit(X,y)\n",
    "Predictions = model.predict(X_test)"
   ]
  },
  {
   "cell_type": "code",
   "execution_count": 26,
   "id": "4e747a0a",
   "metadata": {
    "execution": {
     "iopub.execute_input": "2022-06-30T23:54:28.729245Z",
     "iopub.status.busy": "2022-06-30T23:54:28.728196Z",
     "iopub.status.idle": "2022-06-30T23:54:28.743639Z",
     "shell.execute_reply": "2022-06-30T23:54:28.742753Z"
    },
    "papermill": {
     "duration": 0.027178,
     "end_time": "2022-06-30T23:54:28.745733",
     "exception": false,
     "start_time": "2022-06-30T23:54:28.718555",
     "status": "completed"
    },
    "tags": []
   },
   "outputs": [
    {
     "data": {
      "text/html": [
       "<div>\n",
       "<style scoped>\n",
       "    .dataframe tbody tr th:only-of-type {\n",
       "        vertical-align: middle;\n",
       "    }\n",
       "\n",
       "    .dataframe tbody tr th {\n",
       "        vertical-align: top;\n",
       "    }\n",
       "\n",
       "    .dataframe thead th {\n",
       "        text-align: right;\n",
       "    }\n",
       "</style>\n",
       "<table border=\"1\" class=\"dataframe\">\n",
       "  <thead>\n",
       "    <tr style=\"text-align: right;\">\n",
       "      <th></th>\n",
       "      <th>PassengerId</th>\n",
       "      <th>Pclass</th>\n",
       "      <th>Name</th>\n",
       "      <th>Sex</th>\n",
       "      <th>Age</th>\n",
       "      <th>SibSp</th>\n",
       "      <th>Parch</th>\n",
       "      <th>Ticket</th>\n",
       "      <th>Fare</th>\n",
       "      <th>Cabin</th>\n",
       "      <th>Embarked</th>\n",
       "      <th>Survived</th>\n",
       "    </tr>\n",
       "  </thead>\n",
       "  <tbody>\n",
       "    <tr>\n",
       "      <th>0</th>\n",
       "      <td>892</td>\n",
       "      <td>3</td>\n",
       "      <td>Kelly, Mr. James</td>\n",
       "      <td>1</td>\n",
       "      <td>34.5</td>\n",
       "      <td>0</td>\n",
       "      <td>0</td>\n",
       "      <td>330911</td>\n",
       "      <td>7.8292</td>\n",
       "      <td>NaN</td>\n",
       "      <td>2</td>\n",
       "      <td>0.0</td>\n",
       "    </tr>\n",
       "    <tr>\n",
       "      <th>1</th>\n",
       "      <td>893</td>\n",
       "      <td>3</td>\n",
       "      <td>Wilkes, Mrs. James (Ellen Needs)</td>\n",
       "      <td>0</td>\n",
       "      <td>47.0</td>\n",
       "      <td>1</td>\n",
       "      <td>0</td>\n",
       "      <td>363272</td>\n",
       "      <td>7.0000</td>\n",
       "      <td>NaN</td>\n",
       "      <td>0</td>\n",
       "      <td>0.0</td>\n",
       "    </tr>\n",
       "    <tr>\n",
       "      <th>2</th>\n",
       "      <td>894</td>\n",
       "      <td>2</td>\n",
       "      <td>Myles, Mr. Thomas Francis</td>\n",
       "      <td>1</td>\n",
       "      <td>62.0</td>\n",
       "      <td>0</td>\n",
       "      <td>0</td>\n",
       "      <td>240276</td>\n",
       "      <td>9.6875</td>\n",
       "      <td>NaN</td>\n",
       "      <td>2</td>\n",
       "      <td>1.0</td>\n",
       "    </tr>\n",
       "    <tr>\n",
       "      <th>3</th>\n",
       "      <td>895</td>\n",
       "      <td>3</td>\n",
       "      <td>Wirz, Mr. Albert</td>\n",
       "      <td>1</td>\n",
       "      <td>27.0</td>\n",
       "      <td>0</td>\n",
       "      <td>0</td>\n",
       "      <td>315154</td>\n",
       "      <td>8.6625</td>\n",
       "      <td>NaN</td>\n",
       "      <td>0</td>\n",
       "      <td>1.0</td>\n",
       "    </tr>\n",
       "    <tr>\n",
       "      <th>4</th>\n",
       "      <td>896</td>\n",
       "      <td>3</td>\n",
       "      <td>Hirvonen, Mrs. Alexander (Helga E Lindqvist)</td>\n",
       "      <td>0</td>\n",
       "      <td>22.0</td>\n",
       "      <td>1</td>\n",
       "      <td>1</td>\n",
       "      <td>3101298</td>\n",
       "      <td>12.2875</td>\n",
       "      <td>NaN</td>\n",
       "      <td>0</td>\n",
       "      <td>0.0</td>\n",
       "    </tr>\n",
       "  </tbody>\n",
       "</table>\n",
       "</div>"
      ],
      "text/plain": [
       "   PassengerId  Pclass                                          Name  Sex  \\\n",
       "0          892       3                              Kelly, Mr. James    1   \n",
       "1          893       3              Wilkes, Mrs. James (Ellen Needs)    0   \n",
       "2          894       2                     Myles, Mr. Thomas Francis    1   \n",
       "3          895       3                              Wirz, Mr. Albert    1   \n",
       "4          896       3  Hirvonen, Mrs. Alexander (Helga E Lindqvist)    0   \n",
       "\n",
       "    Age  SibSp  Parch   Ticket     Fare Cabin  Embarked  Survived  \n",
       "0  34.5      0      0   330911   7.8292   NaN         2       0.0  \n",
       "1  47.0      1      0   363272   7.0000   NaN         0       0.0  \n",
       "2  62.0      0      0   240276   9.6875   NaN         2       1.0  \n",
       "3  27.0      0      0   315154   8.6625   NaN         0       1.0  \n",
       "4  22.0      1      1  3101298  12.2875   NaN         0       0.0  "
      ]
     },
     "execution_count": 26,
     "metadata": {},
     "output_type": "execute_result"
    }
   ],
   "source": [
    "test['Survived'] = Predictions\n",
    "test.head()"
   ]
  },
  {
   "cell_type": "code",
   "execution_count": 27,
   "id": "e79433eb",
   "metadata": {
    "execution": {
     "iopub.execute_input": "2022-06-30T23:54:28.764114Z",
     "iopub.status.busy": "2022-06-30T23:54:28.763394Z",
     "iopub.status.idle": "2022-06-30T23:54:28.777450Z",
     "shell.execute_reply": "2022-06-30T23:54:28.776015Z"
    },
    "papermill": {
     "duration": 0.025679,
     "end_time": "2022-06-30T23:54:28.779621",
     "exception": false,
     "start_time": "2022-06-30T23:54:28.753942",
     "status": "completed"
    },
    "tags": []
   },
   "outputs": [
    {
     "name": "stdout",
     "output_type": "stream",
     "text": [
      "(418, 2)\n"
     ]
    },
    {
     "name": "stderr",
     "output_type": "stream",
     "text": [
      "/opt/conda/lib/python3.7/site-packages/ipykernel_launcher.py:2: SettingWithCopyWarning: \n",
      "A value is trying to be set on a copy of a slice from a DataFrame.\n",
      "Try using .loc[row_indexer,col_indexer] = value instead\n",
      "\n",
      "See the caveats in the documentation: https://pandas.pydata.org/pandas-docs/stable/user_guide/indexing.html#returning-a-view-versus-a-copy\n",
      "  \n"
     ]
    },
    {
     "data": {
      "text/html": [
       "<div>\n",
       "<style scoped>\n",
       "    .dataframe tbody tr th:only-of-type {\n",
       "        vertical-align: middle;\n",
       "    }\n",
       "\n",
       "    .dataframe tbody tr th {\n",
       "        vertical-align: top;\n",
       "    }\n",
       "\n",
       "    .dataframe thead th {\n",
       "        text-align: right;\n",
       "    }\n",
       "</style>\n",
       "<table border=\"1\" class=\"dataframe\">\n",
       "  <thead>\n",
       "    <tr style=\"text-align: right;\">\n",
       "      <th></th>\n",
       "      <th>PassengerId</th>\n",
       "      <th>Survived</th>\n",
       "    </tr>\n",
       "  </thead>\n",
       "  <tbody>\n",
       "    <tr>\n",
       "      <th>0</th>\n",
       "      <td>892</td>\n",
       "      <td>0</td>\n",
       "    </tr>\n",
       "    <tr>\n",
       "      <th>1</th>\n",
       "      <td>893</td>\n",
       "      <td>0</td>\n",
       "    </tr>\n",
       "    <tr>\n",
       "      <th>2</th>\n",
       "      <td>894</td>\n",
       "      <td>1</td>\n",
       "    </tr>\n",
       "    <tr>\n",
       "      <th>3</th>\n",
       "      <td>895</td>\n",
       "      <td>1</td>\n",
       "    </tr>\n",
       "    <tr>\n",
       "      <th>4</th>\n",
       "      <td>896</td>\n",
       "      <td>0</td>\n",
       "    </tr>\n",
       "  </tbody>\n",
       "</table>\n",
       "</div>"
      ],
      "text/plain": [
       "   PassengerId  Survived\n",
       "0          892         0\n",
       "1          893         0\n",
       "2          894         1\n",
       "3          895         1\n",
       "4          896         0"
      ]
     },
     "execution_count": 27,
     "metadata": {},
     "output_type": "execute_result"
    }
   ],
   "source": [
    "submission = test[['PassengerId', 'Survived']]\n",
    "submission['Survived'] = submission['Survived'].astype(int)\n",
    "print(submission.shape)\n",
    "submission.head()"
   ]
  },
  {
   "cell_type": "code",
   "execution_count": 28,
   "id": "519f5f50",
   "metadata": {
    "execution": {
     "iopub.execute_input": "2022-06-30T23:54:28.798445Z",
     "iopub.status.busy": "2022-06-30T23:54:28.797296Z",
     "iopub.status.idle": "2022-06-30T23:54:28.805343Z",
     "shell.execute_reply": "2022-06-30T23:54:28.804529Z"
    },
    "papermill": {
     "duration": 0.019377,
     "end_time": "2022-06-30T23:54:28.807404",
     "exception": false,
     "start_time": "2022-06-30T23:54:28.788027",
     "status": "completed"
    },
    "tags": []
   },
   "outputs": [],
   "source": [
    "submission.to_csv('./submission.csv')"
   ]
  },
  {
   "cell_type": "code",
   "execution_count": null,
   "id": "89f32ae5",
   "metadata": {
    "papermill": {
     "duration": 0.007827,
     "end_time": "2022-06-30T23:54:28.823613",
     "exception": false,
     "start_time": "2022-06-30T23:54:28.815786",
     "status": "completed"
    },
    "tags": []
   },
   "outputs": [],
   "source": []
  }
 ],
 "metadata": {
  "kernelspec": {
   "display_name": "Python 3",
   "language": "python",
   "name": "python3"
  },
  "language_info": {
   "codemirror_mode": {
    "name": "ipython",
    "version": 3
   },
   "file_extension": ".py",
   "mimetype": "text/x-python",
   "name": "python",
   "nbconvert_exporter": "python",
   "pygments_lexer": "ipython3",
   "version": "3.7.12"
  },
  "papermill": {
   "default_parameters": {},
   "duration": 12.081276,
   "end_time": "2022-06-30T23:54:29.552664",
   "environment_variables": {},
   "exception": null,
   "input_path": "__notebook__.ipynb",
   "output_path": "__notebook__.ipynb",
   "parameters": {},
   "start_time": "2022-06-30T23:54:17.471388",
   "version": "2.3.4"
  }
 },
 "nbformat": 4,
 "nbformat_minor": 5
}

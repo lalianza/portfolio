{
 "cells": [
  {
   "cell_type": "markdown",
   "id": "90dacd1e",
   "metadata": {
    "papermill": {
     "duration": 0.010709,
     "end_time": "2022-06-07T14:57:09.191841",
     "exception": false,
     "start_time": "2022-06-07T14:57:09.181132",
     "status": "completed"
    },
    "tags": []
   },
   "source": [
    "# Estudo de Insights de Best Sellers \n",
    "## Best Sellers insights study"
   ]
  },
  {
   "cell_type": "markdown",
   "id": "04c747ad",
   "metadata": {
    "papermill": {
     "duration": 0.005669,
     "end_time": "2022-06-07T14:57:09.204215",
     "exception": false,
     "start_time": "2022-06-07T14:57:09.198546",
     "status": "completed"
    },
    "tags": []
   },
   "source": [
    "Os dados utilizados foram disponibilizados no Kaggle por Diógenes Silva. O propósito é estudar e demonstrar formas de utilizar os dados para gerar insights para uma editora especializada em Best Sellers. Nesse caso, busca-se entender quais são os livros que fazem mais sucesso vendidos na Amazon.\n",
    "\n",
    "The data used was disponibilized at Kaggle by Diógeneses Silva. The purpose of this notebook is to study and demonstrate ways to utilize data do generate insights for a best seller specialized publisher. In this case, we whant to know which books achieved most sucess at Amazon. "
   ]
  },
  {
   "cell_type": "code",
   "execution_count": 1,
   "id": "ccd0cf3a",
   "metadata": {
    "execution": {
     "iopub.execute_input": "2022-06-07T14:57:09.218604Z",
     "iopub.status.busy": "2022-06-07T14:57:09.217680Z",
     "iopub.status.idle": "2022-06-07T14:57:10.311831Z",
     "shell.execute_reply": "2022-06-07T14:57:10.310804Z"
    },
    "papermill": {
     "duration": 1.104192,
     "end_time": "2022-06-07T14:57:10.314274",
     "exception": false,
     "start_time": "2022-06-07T14:57:09.210082",
     "status": "completed"
    },
    "tags": []
   },
   "outputs": [],
   "source": [
    "import pandas as pd\n",
    "import seaborn as sns\n",
    "import numpy as np\n",
    "import matplotlib.pyplot as plt"
   ]
  },
  {
   "cell_type": "code",
   "execution_count": 2,
   "id": "de5c8c85",
   "metadata": {
    "execution": {
     "iopub.execute_input": "2022-06-07T14:57:10.328622Z",
     "iopub.status.busy": "2022-06-07T14:57:10.328279Z",
     "iopub.status.idle": "2022-06-07T14:57:10.353584Z",
     "shell.execute_reply": "2022-06-07T14:57:10.352758Z"
    },
    "papermill": {
     "duration": 0.035375,
     "end_time": "2022-06-07T14:57:10.355921",
     "exception": false,
     "start_time": "2022-06-07T14:57:10.320546",
     "status": "completed"
    },
    "tags": []
   },
   "outputs": [],
   "source": [
    "amazon = pd.read_csv('../input/bestsellers-books-amazon-ebay-and-barnesnoble/amazon_products.csv')"
   ]
  },
  {
   "cell_type": "code",
   "execution_count": 3,
   "id": "e56b6e0f",
   "metadata": {
    "execution": {
     "iopub.execute_input": "2022-06-07T14:57:10.370440Z",
     "iopub.status.busy": "2022-06-07T14:57:10.369282Z",
     "iopub.status.idle": "2022-06-07T14:57:10.375324Z",
     "shell.execute_reply": "2022-06-07T14:57:10.374422Z"
    },
    "papermill": {
     "duration": 0.015495,
     "end_time": "2022-06-07T14:57:10.377365",
     "exception": false,
     "start_time": "2022-06-07T14:57:10.361870",
     "status": "completed"
    },
    "tags": []
   },
   "outputs": [
    {
     "name": "stdout",
     "output_type": "stream",
     "text": [
      "(62, 6)\n"
     ]
    }
   ],
   "source": [
    "print(amazon.shape)"
   ]
  },
  {
   "cell_type": "markdown",
   "id": "55037e01",
   "metadata": {
    "execution": {
     "iopub.execute_input": "2022-06-04T19:26:34.29903Z",
     "iopub.status.busy": "2022-06-04T19:26:34.298616Z",
     "iopub.status.idle": "2022-06-04T19:26:34.30429Z",
     "shell.execute_reply": "2022-06-04T19:26:34.303305Z",
     "shell.execute_reply.started": "2022-06-04T19:26:34.298993Z"
    },
    "papermill": {
     "duration": 0.005654,
     "end_time": "2022-06-07T14:57:10.389226",
     "exception": false,
     "start_time": "2022-06-07T14:57:10.383572",
     "status": "completed"
    },
    "tags": []
   },
   "source": [
    "#### Preparando dados da Amazon\n",
    "\n",
    "#### Prepararing Amazon dataset"
   ]
  },
  {
   "cell_type": "code",
   "execution_count": 4,
   "id": "d78ed23b",
   "metadata": {
    "execution": {
     "iopub.execute_input": "2022-06-07T14:57:10.403159Z",
     "iopub.status.busy": "2022-06-07T14:57:10.402760Z",
     "iopub.status.idle": "2022-06-07T14:57:10.416375Z",
     "shell.execute_reply": "2022-06-07T14:57:10.415412Z"
    },
    "papermill": {
     "duration": 0.023125,
     "end_time": "2022-06-07T14:57:10.418545",
     "exception": false,
     "start_time": "2022-06-07T14:57:10.395420",
     "status": "completed"
    },
    "tags": []
   },
   "outputs": [
    {
     "data": {
      "text/plain": [
       "7"
      ]
     },
     "execution_count": 4,
     "metadata": {},
     "output_type": "execute_result"
    }
   ],
   "source": [
    "a = amazon.shape[0]\n",
    "amazon.dropna(inplace=True)\n",
    "b = amazon.shape[0]\n",
    "a-b"
   ]
  },
  {
   "cell_type": "code",
   "execution_count": 5,
   "id": "a83ce991",
   "metadata": {
    "execution": {
     "iopub.execute_input": "2022-06-07T14:57:10.433238Z",
     "iopub.status.busy": "2022-06-07T14:57:10.432639Z",
     "iopub.status.idle": "2022-06-07T14:57:10.446674Z",
     "shell.execute_reply": "2022-06-07T14:57:10.445830Z"
    },
    "papermill": {
     "duration": 0.023378,
     "end_time": "2022-06-07T14:57:10.448521",
     "exception": false,
     "start_time": "2022-06-07T14:57:10.425143",
     "status": "completed"
    },
    "tags": []
   },
   "outputs": [
    {
     "data": {
      "text/plain": [
       "0         4.8 out of 5 stars 314\n",
       "1      4.8 out of 5 stars 79,977\n",
       "2           4.2 out of 5 stars 4\n",
       "4         4.7 out of 5 stars 898\n",
       "5          4.6 out of 5 stars 21\n",
       "6         4.9 out of 5 stars 786\n",
       "7       4.9 out of 5 stars 2,620\n",
       "8     4.8 out of 5 stars 221,019\n",
       "9      4.9 out of 5 stars 36,141\n",
       "11     4.7 out of 5 stars 88,865\n",
       "12     4.6 out of 5 stars 85,090\n",
       "13     4.6 out of 5 stars 71,973\n",
       "14          5.0 out of 5 stars 5\n",
       "16          4.5 out of 5 stars 2\n",
       "17        4.8 out of 5 stars 857\n",
       "18     4.8 out of 5 stars 46,647\n",
       "19        4.7 out of 5 stars 578\n",
       "20         4.6 out of 5 stars 71\n",
       "21        4.8 out of 5 stars 162\n",
       "22      4.8 out of 5 stars 9,575\n",
       "23     4.9 out of 5 stars 48,681\n",
       "24     4.7 out of 5 stars 71,963\n",
       "25        4.2 out of 5 stars 254\n",
       "26         4.7 out of 5 stars 64\n",
       "27     4.7 out of 5 stars 41,036\n",
       "28     4.7 out of 5 stars 40,223\n",
       "29     4.7 out of 5 stars 77,926\n",
       "31     4.8 out of 5 stars 71,348\n",
       "32         4.6 out of 5 stars 36\n",
       "33     4.8 out of 5 stars 10,297\n",
       "34    4.3 out of 5 stars 153,933\n",
       "35     4.9 out of 5 stars 81,632\n",
       "36      4.8 out of 5 stars 1,516\n",
       "37     4.9 out of 5 stars 47,698\n",
       "38          4.8 out of 5 stars 9\n",
       "39     4.8 out of 5 stars 61,741\n",
       "40     4.7 out of 5 stars 63,958\n",
       "41     4.3 out of 5 stars 85,754\n",
       "42     4.7 out of 5 stars 74,976\n",
       "43        4.8 out of 5 stars 827\n",
       "44         4.2 out of 5 stars 34\n",
       "45     4.9 out of 5 stars 22,647\n",
       "46        4.7 out of 5 stars 503\n",
       "47     4.8 out of 5 stars 10,314\n",
       "48     4.8 out of 5 stars 27,460\n",
       "49     4.7 out of 5 stars 11,958\n",
       "50     4.6 out of 5 stars 66,694\n",
       "51          5.0 out of 5 stars 1\n",
       "52     4.6 out of 5 stars 43,332\n",
       "53      4.9 out of 5 stars 3,373\n",
       "54     4.7 out of 5 stars 12,769\n",
       "57      4.9 out of 5 stars 2,349\n",
       "58      4.9 out of 5 stars 7,958\n",
       "59     4.8 out of 5 stars 30,163\n",
       "60     4.4 out of 5 stars 45,575\n",
       "Name: Rating, dtype: object"
      ]
     },
     "execution_count": 5,
     "metadata": {},
     "output_type": "execute_result"
    }
   ],
   "source": [
    "amazon['Rating'].drop_duplicates()"
   ]
  },
  {
   "cell_type": "code",
   "execution_count": 6,
   "id": "5b5a0ebe",
   "metadata": {
    "execution": {
     "iopub.execute_input": "2022-06-07T14:57:10.463034Z",
     "iopub.status.busy": "2022-06-07T14:57:10.462404Z",
     "iopub.status.idle": "2022-06-07T14:57:10.469642Z",
     "shell.execute_reply": "2022-06-07T14:57:10.468700Z"
    },
    "papermill": {
     "duration": 0.016756,
     "end_time": "2022-06-07T14:57:10.471705",
     "exception": false,
     "start_time": "2022-06-07T14:57:10.454949",
     "status": "completed"
    },
    "tags": []
   },
   "outputs": [],
   "source": [
    "amazon['Only_Rating'] = amazon['Rating'].str.slice(stop=3)"
   ]
  },
  {
   "cell_type": "code",
   "execution_count": 7,
   "id": "ae76e58e",
   "metadata": {
    "execution": {
     "iopub.execute_input": "2022-06-07T14:57:10.486354Z",
     "iopub.status.busy": "2022-06-07T14:57:10.485405Z",
     "iopub.status.idle": "2022-06-07T14:57:10.506742Z",
     "shell.execute_reply": "2022-06-07T14:57:10.505748Z"
    },
    "papermill": {
     "duration": 0.03066,
     "end_time": "2022-06-07T14:57:10.508712",
     "exception": false,
     "start_time": "2022-06-07T14:57:10.478052",
     "status": "completed"
    },
    "tags": []
   },
   "outputs": [
    {
     "data": {
      "text/html": [
       "<div>\n",
       "<style scoped>\n",
       "    .dataframe tbody tr th:only-of-type {\n",
       "        vertical-align: middle;\n",
       "    }\n",
       "\n",
       "    .dataframe tbody tr th {\n",
       "        vertical-align: top;\n",
       "    }\n",
       "\n",
       "    .dataframe thead th {\n",
       "        text-align: right;\n",
       "    }\n",
       "</style>\n",
       "<table border=\"1\" class=\"dataframe\">\n",
       "  <thead>\n",
       "    <tr style=\"text-align: right;\">\n",
       "      <th></th>\n",
       "      <th>Book Name</th>\n",
       "      <th>Author</th>\n",
       "      <th>Price</th>\n",
       "      <th>Customers_Rated</th>\n",
       "      <th>Rating</th>\n",
       "      <th>Book_cover</th>\n",
       "      <th>Only_Rating</th>\n",
       "      <th>N_Rating</th>\n",
       "    </tr>\n",
       "  </thead>\n",
       "  <tbody>\n",
       "    <tr>\n",
       "      <th>0</th>\n",
       "      <td>Finding Me: A Memoir</td>\n",
       "      <td>Viola Davis</td>\n",
       "      <td>$18.84</td>\n",
       "      <td>314</td>\n",
       "      <td>4.8 out of 5 stars 314</td>\n",
       "      <td>Hardcover</td>\n",
       "      <td>4.8</td>\n",
       "      <td>314</td>\n",
       "    </tr>\n",
       "    <tr>\n",
       "      <th>1</th>\n",
       "      <td>Atomic Habits: An Easy &amp; Proven Way to Build G...</td>\n",
       "      <td>James Clear</td>\n",
       "      <td>$11.98</td>\n",
       "      <td>79,977</td>\n",
       "      <td>4.8 out of 5 stars 79,977</td>\n",
       "      <td>Hardcover</td>\n",
       "      <td>4.8</td>\n",
       "      <td>79,977</td>\n",
       "    </tr>\n",
       "    <tr>\n",
       "      <th>2</th>\n",
       "      <td>This Will Not Pass: Trump, Biden, and the Batt...</td>\n",
       "      <td>Jonathan Martin</td>\n",
       "      <td>$24.99</td>\n",
       "      <td>4</td>\n",
       "      <td>4.2 out of 5 stars 4</td>\n",
       "      <td>Hardcover</td>\n",
       "      <td>4.2</td>\n",
       "      <td>4</td>\n",
       "    </tr>\n",
       "    <tr>\n",
       "      <th>4</th>\n",
       "      <td>Just Tyrus: A Memoir</td>\n",
       "      <td>Tyrus</td>\n",
       "      <td>$32.49</td>\n",
       "      <td>898</td>\n",
       "      <td>4.7 out of 5 stars 898</td>\n",
       "      <td>Hardcover</td>\n",
       "      <td>4.7</td>\n",
       "      <td>898</td>\n",
       "    </tr>\n",
       "    <tr>\n",
       "      <th>5</th>\n",
       "      <td>Book Lovers</td>\n",
       "      <td>Emily Henry</td>\n",
       "      <td>$13.60</td>\n",
       "      <td>21</td>\n",
       "      <td>4.6 out of 5 stars 21</td>\n",
       "      <td>Paperback</td>\n",
       "      <td>4.6</td>\n",
       "      <td>21</td>\n",
       "    </tr>\n",
       "  </tbody>\n",
       "</table>\n",
       "</div>"
      ],
      "text/plain": [
       "                                           Book Name           Author   Price  \\\n",
       "0                               Finding Me: A Memoir      Viola Davis  $18.84   \n",
       "1  Atomic Habits: An Easy & Proven Way to Build G...      James Clear  $11.98   \n",
       "2  This Will Not Pass: Trump, Biden, and the Batt...  Jonathan Martin  $24.99   \n",
       "4                               Just Tyrus: A Memoir            Tyrus  $32.49   \n",
       "5                                        Book Lovers      Emily Henry  $13.60   \n",
       "\n",
       "  Customers_Rated                     Rating Book_cover Only_Rating N_Rating  \n",
       "0             314     4.8 out of 5 stars 314  Hardcover         4.8      314  \n",
       "1          79,977  4.8 out of 5 stars 79,977  Hardcover         4.8   79,977  \n",
       "2               4       4.2 out of 5 stars 4  Hardcover         4.2        4  \n",
       "4             898     4.7 out of 5 stars 898  Hardcover         4.7      898  \n",
       "5              21      4.6 out of 5 stars 21  Paperback         4.6       21  "
      ]
     },
     "execution_count": 7,
     "metadata": {},
     "output_type": "execute_result"
    }
   ],
   "source": [
    "N_Rating = amazon['Rating'].str.split(\" \", expand = True)\n",
    "N_Rating = N_Rating.iloc[:,4]\n",
    "N_Rating = N_Rating.str.slice(start=5)\n",
    "amazon['N_Rating'] = N_Rating\n",
    "amazon.head()"
   ]
  },
  {
   "cell_type": "code",
   "execution_count": 8,
   "id": "3414dcd7",
   "metadata": {
    "execution": {
     "iopub.execute_input": "2022-06-07T14:57:10.523103Z",
     "iopub.status.busy": "2022-06-07T14:57:10.522526Z",
     "iopub.status.idle": "2022-06-07T14:57:10.528078Z",
     "shell.execute_reply": "2022-06-07T14:57:10.527093Z"
    },
    "papermill": {
     "duration": 0.015056,
     "end_time": "2022-06-07T14:57:10.530168",
     "exception": false,
     "start_time": "2022-06-07T14:57:10.515112",
     "status": "completed"
    },
    "tags": []
   },
   "outputs": [],
   "source": [
    "amazon['N_Rating'].replace(\",\", \"\", regex=True, inplace=True)"
   ]
  },
  {
   "cell_type": "code",
   "execution_count": 9,
   "id": "8f44c4f6",
   "metadata": {
    "execution": {
     "iopub.execute_input": "2022-06-07T14:57:10.545375Z",
     "iopub.status.busy": "2022-06-07T14:57:10.544986Z",
     "iopub.status.idle": "2022-06-07T14:57:10.552582Z",
     "shell.execute_reply": "2022-06-07T14:57:10.551661Z"
    },
    "papermill": {
     "duration": 0.018394,
     "end_time": "2022-06-07T14:57:10.555541",
     "exception": false,
     "start_time": "2022-06-07T14:57:10.537147",
     "status": "completed"
    },
    "tags": []
   },
   "outputs": [
    {
     "name": "stdout",
     "output_type": "stream",
     "text": [
      "0     4.8\n",
      "2     4.2\n",
      "4     4.7\n",
      "5     4.6\n",
      "6     4.9\n",
      "14    5.0\n",
      "16    4.5\n",
      "34    4.3\n",
      "60    4.4\n",
      "Name: Only_Rating, dtype: object <bound method Series.drop_duplicates of 0         314\n",
      "1       79977\n",
      "2           4\n",
      "4         898\n",
      "5          21\n",
      "6         786\n",
      "7        2620\n",
      "8      221019\n",
      "9       36141\n",
      "11      88865\n",
      "12      85090\n",
      "13      71973\n",
      "14          5\n",
      "16          2\n",
      "17        857\n",
      "18      46647\n",
      "19        578\n",
      "20         71\n",
      "21        162\n",
      "22       9575\n",
      "23      48681\n",
      "24      71963\n",
      "25        254\n",
      "26         64\n",
      "27      41036\n",
      "28      40223\n",
      "29      77926\n",
      "31      71348\n",
      "32         36\n",
      "33      10297\n",
      "34     153933\n",
      "35      81632\n",
      "36       1516\n",
      "37      47698\n",
      "38          9\n",
      "39      61741\n",
      "40      63958\n",
      "41      85754\n",
      "42      74976\n",
      "43        827\n",
      "44         34\n",
      "45      22647\n",
      "46        503\n",
      "47      10314\n",
      "48      27460\n",
      "49      11958\n",
      "50      66694\n",
      "51          1\n",
      "52      43332\n",
      "53       3373\n",
      "54      12769\n",
      "57       2349\n",
      "58       7958\n",
      "59      30163\n",
      "60      45575\n",
      "Name: N_Rating, dtype: object>\n"
     ]
    }
   ],
   "source": [
    "print(amazon['Only_Rating'].drop_duplicates(), amazon['N_Rating'].drop_duplicates)"
   ]
  },
  {
   "cell_type": "code",
   "execution_count": 10,
   "id": "663c0b02",
   "metadata": {
    "execution": {
     "iopub.execute_input": "2022-06-07T14:57:10.570740Z",
     "iopub.status.busy": "2022-06-07T14:57:10.570047Z",
     "iopub.status.idle": "2022-06-07T14:57:10.576706Z",
     "shell.execute_reply": "2022-06-07T14:57:10.575911Z"
    },
    "papermill": {
     "duration": 0.016447,
     "end_time": "2022-06-07T14:57:10.578673",
     "exception": false,
     "start_time": "2022-06-07T14:57:10.562226",
     "status": "completed"
    },
    "tags": []
   },
   "outputs": [],
   "source": [
    "amazon['Only_Rating']=amazon['Only_Rating'].astype(float)\n",
    "amazon['N_Rating']=amazon['N_Rating'].astype(float)"
   ]
  },
  {
   "cell_type": "markdown",
   "id": "ac4fe6ee",
   "metadata": {
    "papermill": {
     "duration": 0.006074,
     "end_time": "2022-06-07T14:57:10.591434",
     "exception": false,
     "start_time": "2022-06-07T14:57:10.585360",
     "status": "completed"
    },
    "tags": []
   },
   "source": [
    "Definir sucesso pode ser a partir do número de avaliações, que indica o engajamento dos leitores; mas pode ser utilizado a avaliação em si, mas elas podem ser pouco confiáveis nos casos com poucas avaliações. Resolvi criar duas novas variáveis. Uma é a participação de cada livro na média ponderada; a outra é uma variável categórica de sucesso, sendo 1 para todas em que a média de avaliações é maior que a média ponderada, portanto ela ajuda a aumentar a média ponderada.\n",
    "\n",
    "We can define sucess using the number os ratings, which indicates the readers' engagement; but we can use the rating, which can be unreliable in cases where few people have rated. I choose to create two new variables. The first will be the participation of the book at the weightned mean; the others will be a categorical variabel called sucess, being 1 when the mean rating is larger than the weightned mean rating, therefore the book helps a higher weightned mean."
   ]
  },
  {
   "cell_type": "code",
   "execution_count": 11,
   "id": "89ae0fa0",
   "metadata": {
    "execution": {
     "iopub.execute_input": "2022-06-07T14:57:10.606273Z",
     "iopub.status.busy": "2022-06-07T14:57:10.605391Z",
     "iopub.status.idle": "2022-06-07T14:57:10.619888Z",
     "shell.execute_reply": "2022-06-07T14:57:10.618632Z"
    },
    "papermill": {
     "duration": 0.024513,
     "end_time": "2022-06-07T14:57:10.622336",
     "exception": false,
     "start_time": "2022-06-07T14:57:10.597823",
     "status": "completed"
    },
    "tags": []
   },
   "outputs": [
    {
     "name": "stdout",
     "output_type": "stream",
     "text": [
      "count    5.500000e+01\n",
      "mean     1.818182e-02\n",
      "std      2.327278e-02\n",
      "min      5.723942e-07\n",
      "25%      2.908163e-04\n",
      "50%      6.434008e-03\n",
      "75%      3.416961e-02\n",
      "max      1.214496e-01\n",
      "Name: W_Rating, dtype: float64\n"
     ]
    }
   ],
   "source": [
    "amazon['W_Rating'] = (amazon['Only_Rating']*amazon['N_Rating'])/(amazon['Only_Rating']*amazon['N_Rating']).sum()\n",
    "print(amazon['W_Rating'].describe())"
   ]
  },
  {
   "cell_type": "code",
   "execution_count": 12,
   "id": "9154dbe0",
   "metadata": {
    "execution": {
     "iopub.execute_input": "2022-06-07T14:57:10.638129Z",
     "iopub.status.busy": "2022-06-07T14:57:10.637188Z",
     "iopub.status.idle": "2022-06-07T14:57:10.674488Z",
     "shell.execute_reply": "2022-06-07T14:57:10.673507Z"
    },
    "papermill": {
     "duration": 0.047448,
     "end_time": "2022-06-07T14:57:10.676587",
     "exception": false,
     "start_time": "2022-06-07T14:57:10.629139",
     "status": "completed"
    },
    "tags": []
   },
   "outputs": [
    {
     "data": {
      "text/html": [
       "<div>\n",
       "<style scoped>\n",
       "    .dataframe tbody tr th:only-of-type {\n",
       "        vertical-align: middle;\n",
       "    }\n",
       "\n",
       "    .dataframe tbody tr th {\n",
       "        vertical-align: top;\n",
       "    }\n",
       "\n",
       "    .dataframe thead th {\n",
       "        text-align: right;\n",
       "    }\n",
       "</style>\n",
       "<table border=\"1\" class=\"dataframe\">\n",
       "  <thead>\n",
       "    <tr style=\"text-align: right;\">\n",
       "      <th></th>\n",
       "      <th>Book Name</th>\n",
       "      <th>Author</th>\n",
       "      <th>Price</th>\n",
       "      <th>Customers_Rated</th>\n",
       "      <th>Rating</th>\n",
       "      <th>Book_cover</th>\n",
       "      <th>Only_Rating</th>\n",
       "      <th>N_Rating</th>\n",
       "      <th>W_Rating</th>\n",
       "      <th>sucess</th>\n",
       "    </tr>\n",
       "  </thead>\n",
       "  <tbody>\n",
       "    <tr>\n",
       "      <th>0</th>\n",
       "      <td>Finding Me: A Memoir</td>\n",
       "      <td>Viola Davis</td>\n",
       "      <td>$18.84</td>\n",
       "      <td>314</td>\n",
       "      <td>4.8 out of 5 stars 314</td>\n",
       "      <td>Hardcover</td>\n",
       "      <td>4.8</td>\n",
       "      <td>314.0</td>\n",
       "      <td>0.000173</td>\n",
       "      <td>1</td>\n",
       "    </tr>\n",
       "    <tr>\n",
       "      <th>1</th>\n",
       "      <td>Atomic Habits: An Easy &amp; Proven Way to Build G...</td>\n",
       "      <td>James Clear</td>\n",
       "      <td>$11.98</td>\n",
       "      <td>79,977</td>\n",
       "      <td>4.8 out of 5 stars 79,977</td>\n",
       "      <td>Hardcover</td>\n",
       "      <td>4.8</td>\n",
       "      <td>79977.0</td>\n",
       "      <td>0.043947</td>\n",
       "      <td>1</td>\n",
       "    </tr>\n",
       "    <tr>\n",
       "      <th>2</th>\n",
       "      <td>This Will Not Pass: Trump, Biden, and the Batt...</td>\n",
       "      <td>Jonathan Martin</td>\n",
       "      <td>$24.99</td>\n",
       "      <td>4</td>\n",
       "      <td>4.2 out of 5 stars 4</td>\n",
       "      <td>Hardcover</td>\n",
       "      <td>4.2</td>\n",
       "      <td>4.0</td>\n",
       "      <td>0.000002</td>\n",
       "      <td>0</td>\n",
       "    </tr>\n",
       "    <tr>\n",
       "      <th>4</th>\n",
       "      <td>Just Tyrus: A Memoir</td>\n",
       "      <td>Tyrus</td>\n",
       "      <td>$32.49</td>\n",
       "      <td>898</td>\n",
       "      <td>4.7 out of 5 stars 898</td>\n",
       "      <td>Hardcover</td>\n",
       "      <td>4.7</td>\n",
       "      <td>898.0</td>\n",
       "      <td>0.000483</td>\n",
       "      <td>1</td>\n",
       "    </tr>\n",
       "    <tr>\n",
       "      <th>5</th>\n",
       "      <td>Book Lovers</td>\n",
       "      <td>Emily Henry</td>\n",
       "      <td>$13.60</td>\n",
       "      <td>21</td>\n",
       "      <td>4.6 out of 5 stars 21</td>\n",
       "      <td>Paperback</td>\n",
       "      <td>4.6</td>\n",
       "      <td>21.0</td>\n",
       "      <td>0.000011</td>\n",
       "      <td>0</td>\n",
       "    </tr>\n",
       "  </tbody>\n",
       "</table>\n",
       "</div>"
      ],
      "text/plain": [
       "                                           Book Name           Author   Price  \\\n",
       "0                               Finding Me: A Memoir      Viola Davis  $18.84   \n",
       "1  Atomic Habits: An Easy & Proven Way to Build G...      James Clear  $11.98   \n",
       "2  This Will Not Pass: Trump, Biden, and the Batt...  Jonathan Martin  $24.99   \n",
       "4                               Just Tyrus: A Memoir            Tyrus  $32.49   \n",
       "5                                        Book Lovers      Emily Henry  $13.60   \n",
       "\n",
       "  Customers_Rated                     Rating Book_cover  Only_Rating  \\\n",
       "0             314     4.8 out of 5 stars 314  Hardcover          4.8   \n",
       "1          79,977  4.8 out of 5 stars 79,977  Hardcover          4.8   \n",
       "2               4       4.2 out of 5 stars 4  Hardcover          4.2   \n",
       "4             898     4.7 out of 5 stars 898  Hardcover          4.7   \n",
       "5              21      4.6 out of 5 stars 21  Paperback          4.6   \n",
       "\n",
       "   N_Rating  W_Rating  sucess  \n",
       "0     314.0  0.000173       1  \n",
       "1   79977.0  0.043947       1  \n",
       "2       4.0  0.000002       0  \n",
       "4     898.0  0.000483       1  \n",
       "5      21.0  0.000011       0  "
      ]
     },
     "execution_count": 12,
     "metadata": {},
     "output_type": "execute_result"
    }
   ],
   "source": [
    "def sucess (Rating):\n",
    "    w_mean = (amazon['Only_Rating']*amazon['N_Rating']).sum()/amazon['N_Rating'].sum()\n",
    "    sucess = 0\n",
    "    if Rating > w_mean:\n",
    "        sucess = 1\n",
    "    return sucess\n",
    "amazon['sucess'] = amazon['Only_Rating'].apply(sucess)\n",
    "amazon.head()"
   ]
  },
  {
   "cell_type": "code",
   "execution_count": 13,
   "id": "184e56fc",
   "metadata": {
    "execution": {
     "iopub.execute_input": "2022-06-07T14:57:10.694025Z",
     "iopub.status.busy": "2022-06-07T14:57:10.693335Z",
     "iopub.status.idle": "2022-06-07T14:57:10.701870Z",
     "shell.execute_reply": "2022-06-07T14:57:10.700884Z"
    },
    "papermill": {
     "duration": 0.019332,
     "end_time": "2022-06-07T14:57:10.703897",
     "exception": false,
     "start_time": "2022-06-07T14:57:10.684565",
     "status": "completed"
    },
    "tags": []
   },
   "outputs": [
    {
     "data": {
      "text/plain": [
       "0     $18.84\n",
       "1     $11.98\n",
       "2     $24.99\n",
       "4     $32.49\n",
       "5     $13.60\n",
       "6     $17.05\n",
       "7     $14.18\n",
       "8      $9.98\n",
       "9      $8.98\n",
       "11    $11.17\n",
       "12    $11.26\n",
       "13     $9.42\n",
       "14     $9.99\n",
       "16    $18.29\n",
       "17    $19.48\n",
       "18    $11.40\n",
       "19     $9.95\n",
       "20    $19.43\n",
       "21    $13.38\n",
       "22    $18.34\n",
       "23     $5.06\n",
       "24    $12.22\n",
       "25    $22.46\n",
       "26    $18.60\n",
       "27    $11.90\n",
       "28    $10.40\n",
       "29     $7.74\n",
       "31     $4.53\n",
       "32    $16.38\n",
       "33    $14.95\n",
       "34    $13.29\n",
       "35    $34.68\n",
       "36    $12.54\n",
       "37     $4.98\n",
       "38    $19.59\n",
       "39     $5.99\n",
       "40    $10.78\n",
       "41    $13.50\n",
       "42     $8.89\n",
       "43    $10.83\n",
       "44    $20.59\n",
       "45     $5.36\n",
       "47    $18.27\n",
       "48    $12.70\n",
       "49    $16.95\n",
       "50    $13.76\n",
       "51    $17.99\n",
       "52    $16.88\n",
       "53     $7.19\n",
       "54     $9.59\n",
       "57     $6.89\n",
       "58    $29.99\n",
       "59    $16.59\n",
       "60    $18.00\n",
       "Name: Price, dtype: object"
      ]
     },
     "execution_count": 13,
     "metadata": {},
     "output_type": "execute_result"
    }
   ],
   "source": [
    "amazon['Price'].drop_duplicates()"
   ]
  },
  {
   "cell_type": "code",
   "execution_count": 14,
   "id": "967a5ccd",
   "metadata": {
    "execution": {
     "iopub.execute_input": "2022-06-07T14:57:10.720326Z",
     "iopub.status.busy": "2022-06-07T14:57:10.719238Z",
     "iopub.status.idle": "2022-06-07T14:57:10.725152Z",
     "shell.execute_reply": "2022-06-07T14:57:10.724390Z"
    },
    "papermill": {
     "duration": 0.016244,
     "end_time": "2022-06-07T14:57:10.727186",
     "exception": false,
     "start_time": "2022-06-07T14:57:10.710942",
     "status": "completed"
    },
    "tags": []
   },
   "outputs": [],
   "source": [
    "amazon['Price'] = amazon['Price'].str.slice(start=1)"
   ]
  },
  {
   "cell_type": "code",
   "execution_count": 15,
   "id": "181cbd43",
   "metadata": {
    "execution": {
     "iopub.execute_input": "2022-06-07T14:57:10.744402Z",
     "iopub.status.busy": "2022-06-07T14:57:10.743638Z",
     "iopub.status.idle": "2022-06-07T14:57:10.754308Z",
     "shell.execute_reply": "2022-06-07T14:57:10.753378Z"
    },
    "papermill": {
     "duration": 0.021371,
     "end_time": "2022-06-07T14:57:10.756229",
     "exception": false,
     "start_time": "2022-06-07T14:57:10.734858",
     "status": "completed"
    },
    "tags": []
   },
   "outputs": [
    {
     "data": {
      "text/plain": [
       "9.95     2\n",
       "18.84    1\n",
       "20.59    1\n",
       "13.29    1\n",
       "34.68    1\n",
       "12.54    1\n",
       "4.98     1\n",
       "19.59    1\n",
       "5.99     1\n",
       "10.78    1\n",
       "13.50    1\n",
       "8.89     1\n",
       "10.83    1\n",
       "5.36     1\n",
       "16.38    1\n",
       "18.27    1\n",
       "12.70    1\n",
       "16.95    1\n",
       "13.76    1\n",
       "17.99    1\n",
       "16.88    1\n",
       "7.19     1\n",
       "9.59     1\n",
       "6.89     1\n",
       "29.99    1\n",
       "16.59    1\n",
       "14.95    1\n",
       "4.53     1\n",
       "11.98    1\n",
       "7.74     1\n",
       "24.99    1\n",
       "32.49    1\n",
       "13.60    1\n",
       "17.05    1\n",
       "14.18    1\n",
       "9.98     1\n",
       "8.98     1\n",
       "11.17    1\n",
       "11.26    1\n",
       "9.42     1\n",
       "9.99     1\n",
       "18.29    1\n",
       "19.48    1\n",
       "11.40    1\n",
       "19.43    1\n",
       "13.38    1\n",
       "18.34    1\n",
       "5.06     1\n",
       "12.22    1\n",
       "22.46    1\n",
       "18.60    1\n",
       "11.90    1\n",
       "10.40    1\n",
       "18.00    1\n",
       "Name: Price, dtype: int64"
      ]
     },
     "execution_count": 15,
     "metadata": {},
     "output_type": "execute_result"
    }
   ],
   "source": [
    "amazon['Price'].value_counts()"
   ]
  },
  {
   "cell_type": "code",
   "execution_count": 16,
   "id": "ecb8f669",
   "metadata": {
    "execution": {
     "iopub.execute_input": "2022-06-07T14:57:10.772462Z",
     "iopub.status.busy": "2022-06-07T14:57:10.771762Z",
     "iopub.status.idle": "2022-06-07T14:57:10.778400Z",
     "shell.execute_reply": "2022-06-07T14:57:10.777216Z"
    },
    "papermill": {
     "duration": 0.016857,
     "end_time": "2022-06-07T14:57:10.780316",
     "exception": false,
     "start_time": "2022-06-07T14:57:10.763459",
     "status": "completed"
    },
    "tags": []
   },
   "outputs": [
    {
     "name": "stdout",
     "output_type": "stream",
     "text": [
      "<class 'pandas.core.series.Series'>\n"
     ]
    }
   ],
   "source": [
    "amazon['Price'] = amazon['Price'].astype(float)\n",
    "print(type(amazon['Price']))"
   ]
  },
  {
   "cell_type": "code",
   "execution_count": 17,
   "id": "fef7ce76",
   "metadata": {
    "execution": {
     "iopub.execute_input": "2022-06-07T14:57:10.796495Z",
     "iopub.status.busy": "2022-06-07T14:57:10.795932Z",
     "iopub.status.idle": "2022-06-07T14:57:10.819999Z",
     "shell.execute_reply": "2022-06-07T14:57:10.818882Z"
    },
    "papermill": {
     "duration": 0.034419,
     "end_time": "2022-06-07T14:57:10.822017",
     "exception": false,
     "start_time": "2022-06-07T14:57:10.787598",
     "status": "completed"
    },
    "tags": []
   },
   "outputs": [
    {
     "data": {
      "text/html": [
       "<div>\n",
       "<style scoped>\n",
       "    .dataframe tbody tr th:only-of-type {\n",
       "        vertical-align: middle;\n",
       "    }\n",
       "\n",
       "    .dataframe tbody tr th {\n",
       "        vertical-align: top;\n",
       "    }\n",
       "\n",
       "    .dataframe thead th {\n",
       "        text-align: right;\n",
       "    }\n",
       "</style>\n",
       "<table border=\"1\" class=\"dataframe\">\n",
       "  <thead>\n",
       "    <tr style=\"text-align: right;\">\n",
       "      <th></th>\n",
       "      <th>Book Name</th>\n",
       "      <th>Author</th>\n",
       "      <th>Price</th>\n",
       "      <th>Customers_Rated</th>\n",
       "      <th>Rating</th>\n",
       "      <th>Book_cover</th>\n",
       "      <th>Only_Rating</th>\n",
       "      <th>N_Rating</th>\n",
       "      <th>W_Rating</th>\n",
       "      <th>sucess</th>\n",
       "    </tr>\n",
       "  </thead>\n",
       "  <tbody>\n",
       "    <tr>\n",
       "      <th>0</th>\n",
       "      <td>Finding Me: A Memoir</td>\n",
       "      <td>Viola Davis</td>\n",
       "      <td>18.84</td>\n",
       "      <td>314</td>\n",
       "      <td>4.8 out of 5 stars 314</td>\n",
       "      <td>Hardcover</td>\n",
       "      <td>4.8</td>\n",
       "      <td>314.0</td>\n",
       "      <td>0.000173</td>\n",
       "      <td>1</td>\n",
       "    </tr>\n",
       "    <tr>\n",
       "      <th>1</th>\n",
       "      <td>Atomic Habits: An Easy &amp; Proven Way to Build G...</td>\n",
       "      <td>James Clear</td>\n",
       "      <td>11.98</td>\n",
       "      <td>79,977</td>\n",
       "      <td>4.8 out of 5 stars 79,977</td>\n",
       "      <td>Hardcover</td>\n",
       "      <td>4.8</td>\n",
       "      <td>79977.0</td>\n",
       "      <td>0.043947</td>\n",
       "      <td>1</td>\n",
       "    </tr>\n",
       "    <tr>\n",
       "      <th>4</th>\n",
       "      <td>Just Tyrus: A Memoir</td>\n",
       "      <td>Tyrus</td>\n",
       "      <td>32.49</td>\n",
       "      <td>898</td>\n",
       "      <td>4.7 out of 5 stars 898</td>\n",
       "      <td>Hardcover</td>\n",
       "      <td>4.7</td>\n",
       "      <td>898.0</td>\n",
       "      <td>0.000483</td>\n",
       "      <td>1</td>\n",
       "    </tr>\n",
       "    <tr>\n",
       "      <th>6</th>\n",
       "      <td>The Mothers and Daughters of the Bible Speak: ...</td>\n",
       "      <td>Shannon Bream</td>\n",
       "      <td>17.05</td>\n",
       "      <td>786</td>\n",
       "      <td>4.9 out of 5 stars 786</td>\n",
       "      <td>Hardcover</td>\n",
       "      <td>4.9</td>\n",
       "      <td>786.0</td>\n",
       "      <td>0.000441</td>\n",
       "      <td>1</td>\n",
       "    </tr>\n",
       "    <tr>\n",
       "      <th>7</th>\n",
       "      <td>Johnny the Walrus</td>\n",
       "      <td>Matt Walsh</td>\n",
       "      <td>14.18</td>\n",
       "      <td>2,620</td>\n",
       "      <td>4.9 out of 5 stars 2,620</td>\n",
       "      <td>Board book</td>\n",
       "      <td>4.9</td>\n",
       "      <td>2620.0</td>\n",
       "      <td>0.001470</td>\n",
       "      <td>1</td>\n",
       "    </tr>\n",
       "    <tr>\n",
       "      <th>8</th>\n",
       "      <td>Where the Crawdads Sing</td>\n",
       "      <td>Delia Owens</td>\n",
       "      <td>9.98</td>\n",
       "      <td>221,019</td>\n",
       "      <td>4.8 out of 5 stars 221,019</td>\n",
       "      <td>Paperback</td>\n",
       "      <td>4.8</td>\n",
       "      <td>221019.0</td>\n",
       "      <td>0.121450</td>\n",
       "      <td>1</td>\n",
       "    </tr>\n",
       "    <tr>\n",
       "      <th>9</th>\n",
       "      <td>Oh, the Places You'll Go!</td>\n",
       "      <td>Dr. Seuss</td>\n",
       "      <td>8.98</td>\n",
       "      <td>36,141</td>\n",
       "      <td>4.9 out of 5 stars 36,141</td>\n",
       "      <td>Hardcover</td>\n",
       "      <td>4.9</td>\n",
       "      <td>36141.0</td>\n",
       "      <td>0.020273</td>\n",
       "      <td>1</td>\n",
       "    </tr>\n",
       "    <tr>\n",
       "      <th>11</th>\n",
       "      <td>It Ends with Us: A Novel (1)</td>\n",
       "      <td>Colleen Hoover</td>\n",
       "      <td>11.17</td>\n",
       "      <td>88,865</td>\n",
       "      <td>4.7 out of 5 stars 88,865</td>\n",
       "      <td>Paperback</td>\n",
       "      <td>4.7</td>\n",
       "      <td>88865.0</td>\n",
       "      <td>0.047814</td>\n",
       "      <td>1</td>\n",
       "    </tr>\n",
       "    <tr>\n",
       "      <th>14</th>\n",
       "      <td>Mothers Day Gifts: Mom I Want to Hear Your Sto...</td>\n",
       "      <td>Alberta Chompegne</td>\n",
       "      <td>9.99</td>\n",
       "      <td>5</td>\n",
       "      <td>5.0 out of 5 stars 5</td>\n",
       "      <td>Paperback</td>\n",
       "      <td>5.0</td>\n",
       "      <td>5.0</td>\n",
       "      <td>0.000003</td>\n",
       "      <td>1</td>\n",
       "    </tr>\n",
       "    <tr>\n",
       "      <th>17</th>\n",
       "      <td>Half Baked Harvest Every Day: Recipes for Bala...</td>\n",
       "      <td>Tieghan Gerard</td>\n",
       "      <td>19.48</td>\n",
       "      <td>857</td>\n",
       "      <td>4.8 out of 5 stars 857</td>\n",
       "      <td>Hardcover</td>\n",
       "      <td>4.8</td>\n",
       "      <td>857.0</td>\n",
       "      <td>0.000471</td>\n",
       "      <td>1</td>\n",
       "    </tr>\n",
       "  </tbody>\n",
       "</table>\n",
       "</div>"
      ],
      "text/plain": [
       "                                            Book Name             Author  \\\n",
       "0                                Finding Me: A Memoir        Viola Davis   \n",
       "1   Atomic Habits: An Easy & Proven Way to Build G...        James Clear   \n",
       "4                                Just Tyrus: A Memoir              Tyrus   \n",
       "6   The Mothers and Daughters of the Bible Speak: ...      Shannon Bream   \n",
       "7                                   Johnny the Walrus         Matt Walsh   \n",
       "8                             Where the Crawdads Sing        Delia Owens   \n",
       "9                           Oh, the Places You'll Go!          Dr. Seuss   \n",
       "11                       It Ends with Us: A Novel (1)     Colleen Hoover   \n",
       "14  Mothers Day Gifts: Mom I Want to Hear Your Sto...  Alberta Chompegne   \n",
       "17  Half Baked Harvest Every Day: Recipes for Bala...     Tieghan Gerard   \n",
       "\n",
       "    Price Customers_Rated                      Rating  Book_cover  \\\n",
       "0   18.84             314      4.8 out of 5 stars 314   Hardcover   \n",
       "1   11.98          79,977   4.8 out of 5 stars 79,977   Hardcover   \n",
       "4   32.49             898      4.7 out of 5 stars 898   Hardcover   \n",
       "6   17.05             786      4.9 out of 5 stars 786   Hardcover   \n",
       "7   14.18           2,620    4.9 out of 5 stars 2,620  Board book   \n",
       "8    9.98         221,019  4.8 out of 5 stars 221,019   Paperback   \n",
       "9    8.98          36,141   4.9 out of 5 stars 36,141   Hardcover   \n",
       "11  11.17          88,865   4.7 out of 5 stars 88,865   Paperback   \n",
       "14   9.99               5        5.0 out of 5 stars 5   Paperback   \n",
       "17  19.48             857      4.8 out of 5 stars 857   Hardcover   \n",
       "\n",
       "    Only_Rating  N_Rating  W_Rating  sucess  \n",
       "0           4.8     314.0  0.000173       1  \n",
       "1           4.8   79977.0  0.043947       1  \n",
       "4           4.7     898.0  0.000483       1  \n",
       "6           4.9     786.0  0.000441       1  \n",
       "7           4.9    2620.0  0.001470       1  \n",
       "8           4.8  221019.0  0.121450       1  \n",
       "9           4.9   36141.0  0.020273       1  \n",
       "11          4.7   88865.0  0.047814       1  \n",
       "14          5.0       5.0  0.000003       1  \n",
       "17          4.8     857.0  0.000471       1  "
      ]
     },
     "execution_count": 17,
     "metadata": {},
     "output_type": "execute_result"
    }
   ],
   "source": [
    "sucess_amazon = amazon.query('sucess == 1')\n",
    "top_books_amazon = sucess_amazon['Book Name'][0:10]\n",
    "top_amazon = amazon[amazon['Book Name'].isin(top_books_amazon)]\n",
    "top_amazon"
   ]
  },
  {
   "cell_type": "code",
   "execution_count": 18,
   "id": "ca0e22f1",
   "metadata": {
    "execution": {
     "iopub.execute_input": "2022-06-07T14:57:10.838589Z",
     "iopub.status.busy": "2022-06-07T14:57:10.838029Z",
     "iopub.status.idle": "2022-06-07T14:57:10.858217Z",
     "shell.execute_reply": "2022-06-07T14:57:10.857059Z"
    },
    "papermill": {
     "duration": 0.031111,
     "end_time": "2022-06-07T14:57:10.860536",
     "exception": false,
     "start_time": "2022-06-07T14:57:10.829425",
     "status": "completed"
    },
    "tags": []
   },
   "outputs": [
    {
     "name": "stderr",
     "output_type": "stream",
     "text": [
      "/opt/conda/lib/python3.7/site-packages/ipykernel_launcher.py:1: SettingWithCopyWarning: \n",
      "A value is trying to be set on a copy of a slice from a DataFrame.\n",
      "Try using .loc[row_indexer,col_indexer] = value instead\n",
      "\n",
      "See the caveats in the documentation: https://pandas.pydata.org/pandas-docs/stable/user_guide/indexing.html#returning-a-view-versus-a-copy\n",
      "  \"\"\"Entry point for launching an IPython kernel.\n",
      "/opt/conda/lib/python3.7/site-packages/ipykernel_launcher.py:2: SettingWithCopyWarning: \n",
      "A value is trying to be set on a copy of a slice from a DataFrame.\n",
      "Try using .loc[row_indexer,col_indexer] = value instead\n",
      "\n",
      "See the caveats in the documentation: https://pandas.pydata.org/pandas-docs/stable/user_guide/indexing.html#returning-a-view-versus-a-copy\n",
      "  \n",
      "/opt/conda/lib/python3.7/site-packages/ipykernel_launcher.py:3: SettingWithCopyWarning: \n",
      "A value is trying to be set on a copy of a slice from a DataFrame.\n",
      "Try using .loc[row_indexer,col_indexer] = value instead\n",
      "\n",
      "See the caveats in the documentation: https://pandas.pydata.org/pandas-docs/stable/user_guide/indexing.html#returning-a-view-versus-a-copy\n",
      "  This is separate from the ipykernel package so we can avoid doing imports until\n"
     ]
    },
    {
     "data": {
      "text/html": [
       "<div>\n",
       "<style scoped>\n",
       "    .dataframe tbody tr th:only-of-type {\n",
       "        vertical-align: middle;\n",
       "    }\n",
       "\n",
       "    .dataframe tbody tr th {\n",
       "        vertical-align: top;\n",
       "    }\n",
       "\n",
       "    .dataframe thead th {\n",
       "        text-align: right;\n",
       "    }\n",
       "</style>\n",
       "<table border=\"1\" class=\"dataframe\">\n",
       "  <thead>\n",
       "    <tr style=\"text-align: right;\">\n",
       "      <th></th>\n",
       "      <th>Book Name</th>\n",
       "      <th>Author</th>\n",
       "      <th>Price</th>\n",
       "      <th>Customers_Rated</th>\n",
       "      <th>Rating</th>\n",
       "      <th>Book_cover</th>\n",
       "      <th>Only_Rating</th>\n",
       "      <th>N_Rating</th>\n",
       "      <th>W_Rating</th>\n",
       "      <th>sucess</th>\n",
       "    </tr>\n",
       "  </thead>\n",
       "  <tbody>\n",
       "    <tr>\n",
       "      <th>0</th>\n",
       "      <td>Finding Me</td>\n",
       "      <td>Viola Davis</td>\n",
       "      <td>18.84</td>\n",
       "      <td>314</td>\n",
       "      <td>4.8 out of 5 stars 314</td>\n",
       "      <td>Hardcover</td>\n",
       "      <td>4.8</td>\n",
       "      <td>314.0</td>\n",
       "      <td>0.000173</td>\n",
       "      <td>1</td>\n",
       "    </tr>\n",
       "    <tr>\n",
       "      <th>1</th>\n",
       "      <td>Atomic Habits</td>\n",
       "      <td>James Clear</td>\n",
       "      <td>11.98</td>\n",
       "      <td>79,977</td>\n",
       "      <td>4.8 out of 5 stars 79,977</td>\n",
       "      <td>Hardcover</td>\n",
       "      <td>4.8</td>\n",
       "      <td>79977.0</td>\n",
       "      <td>0.043947</td>\n",
       "      <td>1</td>\n",
       "    </tr>\n",
       "    <tr>\n",
       "      <th>4</th>\n",
       "      <td>Just Tyrus</td>\n",
       "      <td>Tyrus</td>\n",
       "      <td>32.49</td>\n",
       "      <td>898</td>\n",
       "      <td>4.7 out of 5 stars 898</td>\n",
       "      <td>Hardcover</td>\n",
       "      <td>4.7</td>\n",
       "      <td>898.0</td>\n",
       "      <td>0.000483</td>\n",
       "      <td>1</td>\n",
       "    </tr>\n",
       "    <tr>\n",
       "      <th>6</th>\n",
       "      <td>The Mothers and Daughters of the Bible Speak</td>\n",
       "      <td>Shannon Bream</td>\n",
       "      <td>17.05</td>\n",
       "      <td>786</td>\n",
       "      <td>4.9 out of 5 stars 786</td>\n",
       "      <td>Hardcover</td>\n",
       "      <td>4.9</td>\n",
       "      <td>786.0</td>\n",
       "      <td>0.000441</td>\n",
       "      <td>1</td>\n",
       "    </tr>\n",
       "    <tr>\n",
       "      <th>7</th>\n",
       "      <td>Johnny the Walrus</td>\n",
       "      <td>Matt Walsh</td>\n",
       "      <td>14.18</td>\n",
       "      <td>2,620</td>\n",
       "      <td>4.9 out of 5 stars 2,620</td>\n",
       "      <td>Board book</td>\n",
       "      <td>4.9</td>\n",
       "      <td>2620.0</td>\n",
       "      <td>0.001470</td>\n",
       "      <td>1</td>\n",
       "    </tr>\n",
       "    <tr>\n",
       "      <th>8</th>\n",
       "      <td>Where the Crawdads Sing</td>\n",
       "      <td>Delia Owens</td>\n",
       "      <td>9.98</td>\n",
       "      <td>221,019</td>\n",
       "      <td>4.8 out of 5 stars 221,019</td>\n",
       "      <td>Paperback</td>\n",
       "      <td>4.8</td>\n",
       "      <td>221019.0</td>\n",
       "      <td>0.121450</td>\n",
       "      <td>1</td>\n",
       "    </tr>\n",
       "    <tr>\n",
       "      <th>9</th>\n",
       "      <td>Oh, the Places You'll Go!</td>\n",
       "      <td>Dr. Seuss</td>\n",
       "      <td>8.98</td>\n",
       "      <td>36,141</td>\n",
       "      <td>4.9 out of 5 stars 36,141</td>\n",
       "      <td>Hardcover</td>\n",
       "      <td>4.9</td>\n",
       "      <td>36141.0</td>\n",
       "      <td>0.020273</td>\n",
       "      <td>1</td>\n",
       "    </tr>\n",
       "    <tr>\n",
       "      <th>11</th>\n",
       "      <td>It Ends with Us</td>\n",
       "      <td>Colleen Hoover</td>\n",
       "      <td>11.17</td>\n",
       "      <td>88,865</td>\n",
       "      <td>4.7 out of 5 stars 88,865</td>\n",
       "      <td>Paperback</td>\n",
       "      <td>4.7</td>\n",
       "      <td>88865.0</td>\n",
       "      <td>0.047814</td>\n",
       "      <td>1</td>\n",
       "    </tr>\n",
       "    <tr>\n",
       "      <th>14</th>\n",
       "      <td>Mothers Day Gifts</td>\n",
       "      <td>Alberta Chompegne</td>\n",
       "      <td>9.99</td>\n",
       "      <td>5</td>\n",
       "      <td>5.0 out of 5 stars 5</td>\n",
       "      <td>Paperback</td>\n",
       "      <td>5.0</td>\n",
       "      <td>5.0</td>\n",
       "      <td>0.000003</td>\n",
       "      <td>1</td>\n",
       "    </tr>\n",
       "    <tr>\n",
       "      <th>17</th>\n",
       "      <td>Half Baked Harvest Every Day</td>\n",
       "      <td>Tieghan Gerard</td>\n",
       "      <td>19.48</td>\n",
       "      <td>857</td>\n",
       "      <td>4.8 out of 5 stars 857</td>\n",
       "      <td>Hardcover</td>\n",
       "      <td>4.8</td>\n",
       "      <td>857.0</td>\n",
       "      <td>0.000471</td>\n",
       "      <td>1</td>\n",
       "    </tr>\n",
       "  </tbody>\n",
       "</table>\n",
       "</div>"
      ],
      "text/plain": [
       "                                       Book Name             Author  Price  \\\n",
       "0                                     Finding Me        Viola Davis  18.84   \n",
       "1                                  Atomic Habits        James Clear  11.98   \n",
       "4                                     Just Tyrus              Tyrus  32.49   \n",
       "6   The Mothers and Daughters of the Bible Speak      Shannon Bream  17.05   \n",
       "7                              Johnny the Walrus         Matt Walsh  14.18   \n",
       "8                        Where the Crawdads Sing        Delia Owens   9.98   \n",
       "9                      Oh, the Places You'll Go!          Dr. Seuss   8.98   \n",
       "11                               It Ends with Us     Colleen Hoover  11.17   \n",
       "14                             Mothers Day Gifts  Alberta Chompegne   9.99   \n",
       "17                  Half Baked Harvest Every Day     Tieghan Gerard  19.48   \n",
       "\n",
       "   Customers_Rated                      Rating  Book_cover  Only_Rating  \\\n",
       "0              314      4.8 out of 5 stars 314   Hardcover          4.8   \n",
       "1           79,977   4.8 out of 5 stars 79,977   Hardcover          4.8   \n",
       "4              898      4.7 out of 5 stars 898   Hardcover          4.7   \n",
       "6              786      4.9 out of 5 stars 786   Hardcover          4.9   \n",
       "7            2,620    4.9 out of 5 stars 2,620  Board book          4.9   \n",
       "8          221,019  4.8 out of 5 stars 221,019   Paperback          4.8   \n",
       "9           36,141   4.9 out of 5 stars 36,141   Hardcover          4.9   \n",
       "11          88,865   4.7 out of 5 stars 88,865   Paperback          4.7   \n",
       "14               5        5.0 out of 5 stars 5   Paperback          5.0   \n",
       "17             857      4.8 out of 5 stars 857   Hardcover          4.8   \n",
       "\n",
       "    N_Rating  W_Rating  sucess  \n",
       "0      314.0  0.000173       1  \n",
       "1    79977.0  0.043947       1  \n",
       "4      898.0  0.000483       1  \n",
       "6      786.0  0.000441       1  \n",
       "7     2620.0  0.001470       1  \n",
       "8   221019.0  0.121450       1  \n",
       "9    36141.0  0.020273       1  \n",
       "11   88865.0  0.047814       1  \n",
       "14       5.0  0.000003       1  \n",
       "17     857.0  0.000471       1  "
      ]
     },
     "execution_count": 18,
     "metadata": {},
     "output_type": "execute_result"
    }
   ],
   "source": [
    "top_amazon['Book Name'] = top_amazon['Book Name'].str.split(\":\").str[0]\n",
    "top_amazon['Book Name'] = top_amazon['Book Name'].str.split(\"(\").str[0]\n",
    "top_amazon['Book Name'] = top_amazon['Book Name'].str.split(\"-\").str[0]\n",
    "top_amazon"
   ]
  },
  {
   "cell_type": "markdown",
   "id": "b86ecaa6",
   "metadata": {
    "papermill": {
     "duration": 0.008339,
     "end_time": "2022-06-07T14:57:10.876878",
     "exception": false,
     "start_time": "2022-06-07T14:57:10.868539",
     "status": "completed"
    },
    "tags": []
   },
   "source": [
    "### Visualizando Amazon"
   ]
  },
  {
   "cell_type": "code",
   "execution_count": 19,
   "id": "7eda620f",
   "metadata": {
    "execution": {
     "iopub.execute_input": "2022-06-07T14:57:10.894339Z",
     "iopub.status.busy": "2022-06-07T14:57:10.893959Z",
     "iopub.status.idle": "2022-06-07T14:57:11.182867Z",
     "shell.execute_reply": "2022-06-07T14:57:11.181792Z"
    },
    "papermill": {
     "duration": 0.300208,
     "end_time": "2022-06-07T14:57:11.185031",
     "exception": false,
     "start_time": "2022-06-07T14:57:10.884823",
     "status": "completed"
    },
    "tags": []
   },
   "outputs": [
    {
     "data": {
      "text/plain": [
       "<AxesSubplot:title={'center':'Preço(dolar) por livro'}, xlabel='Preço', ylabel='Livro'>"
      ]
     },
     "execution_count": 19,
     "metadata": {},
     "output_type": "execute_result"
    },
    {
     "data": {
      "image/png": "[encoded data removed]",
      "text/plain": [
       "<Figure size 720x432 with 1 Axes>"
      ]
     },
     "metadata": {
      "needs_background": "light"
     },
     "output_type": "display_data"
    }
   ],
   "source": [
    "top_amazon = top_amazon.sort_values(by='Price', ascending=False)\n",
    "plt.figure(figsize=(10,6))\n",
    "g1 = sns.barplot(data=top_amazon, x='Price', y='Book Name', )\n",
    "g1.set_title('Preço(dolar) por livro', fontsize=25)\n",
    "g1.set_xlabel('Preço', fontsize=18)\n",
    "g1.set_ylabel('Livro', fontsize=18)\n",
    "g1"
   ]
  },
  {
   "cell_type": "code",
   "execution_count": 20,
   "id": "0b41c148",
   "metadata": {
    "execution": {
     "iopub.execute_input": "2022-06-07T14:57:11.204876Z",
     "iopub.status.busy": "2022-06-07T14:57:11.204457Z",
     "iopub.status.idle": "2022-06-07T14:57:11.460736Z",
     "shell.execute_reply": "2022-06-07T14:57:11.459746Z"
    },
    "papermill": {
     "duration": 0.268373,
     "end_time": "2022-06-07T14:57:11.462798",
     "exception": false,
     "start_time": "2022-06-07T14:57:11.194425",
     "status": "completed"
    },
    "tags": []
   },
   "outputs": [
    {
     "data": {
      "text/plain": [
       "<AxesSubplot:title={'center':'Avaliação Ponderada por livro'}, xlabel='Avaliação', ylabel='Livro'>"
      ]
     },
     "execution_count": 20,
     "metadata": {},
     "output_type": "execute_result"
    },
    {
     "data": {
      "image/png": "[encoded data removed]",
      "text/plain": [
       "<Figure size 720x432 with 1 Axes>"
      ]
     },
     "metadata": {
      "needs_background": "light"
     },
     "output_type": "display_data"
    }
   ],
   "source": [
    "top_amazon = top_amazon.sort_values(by='W_Rating', ascending=False)\n",
    "plt.figure(figsize=(10,6))\n",
    "g2 = sns.barplot(data=top_amazon, x='W_Rating', y='Book Name', )\n",
    "g2.set_title('Avaliação Ponderada por livro', fontsize=25)\n",
    "g2.set_xlabel('Avaliação', fontsize=18)\n",
    "g2.set_ylabel('Livro', fontsize=18)\n",
    "g2"
   ]
  },
  {
   "cell_type": "code",
   "execution_count": 21,
   "id": "25d90541",
   "metadata": {
    "execution": {
     "iopub.execute_input": "2022-06-07T14:57:11.483575Z",
     "iopub.status.busy": "2022-06-07T14:57:11.483173Z",
     "iopub.status.idle": "2022-06-07T14:57:11.716969Z",
     "shell.execute_reply": "2022-06-07T14:57:11.715873Z"
    },
    "papermill": {
     "duration": 0.246987,
     "end_time": "2022-06-07T14:57:11.719434",
     "exception": false,
     "start_time": "2022-06-07T14:57:11.472447",
     "status": "completed"
    },
    "tags": []
   },
   "outputs": [
    {
     "data": {
      "text/plain": [
       "<AxesSubplot:title={'center':'Relação geral entre preço e avaliação'}, xlabel='Avaliação', ylabel='Preço'>"
      ]
     },
     "execution_count": 21,
     "metadata": {},
     "output_type": "execute_result"
    },
    {
     "data": {
      "image/png": "[encoded data removed]",
      "text/plain": [
       "<Figure size 720x432 with 1 Axes>"
      ]
     },
     "metadata": {
      "needs_background": "light"
     },
     "output_type": "display_data"
    }
   ],
   "source": [
    "amazon = amazon.sort_values(by='Price', ascending=False)\n",
    "plt.figure(figsize=(10,6))\n",
    "g3 = sns.scatterplot(data=amazon, x='W_Rating', y='Price',s=100)\n",
    "g3.set_title('Relação geral entre preço e avaliação', fontsize=25)\n",
    "g3.set_xlabel('Avaliação', fontsize=18)\n",
    "g3.set_ylabel('Preço', fontsize=18)\n",
    "g3"
   ]
  },
  {
   "cell_type": "code",
   "execution_count": 22,
   "id": "07d8d3ca",
   "metadata": {
    "execution": {
     "iopub.execute_input": "2022-06-07T14:57:11.742797Z",
     "iopub.status.busy": "2022-06-07T14:57:11.741981Z",
     "iopub.status.idle": "2022-06-07T14:57:11.987492Z",
     "shell.execute_reply": "2022-06-07T14:57:11.986422Z"
    },
    "papermill": {
     "duration": 0.259569,
     "end_time": "2022-06-07T14:57:11.989768",
     "exception": false,
     "start_time": "2022-06-07T14:57:11.730199",
     "status": "completed"
    },
    "tags": []
   },
   "outputs": [
    {
     "name": "stderr",
     "output_type": "stream",
     "text": [
      "/opt/conda/lib/python3.7/site-packages/seaborn/distributions.py:2619: FutureWarning: `distplot` is a deprecated function and will be removed in a future version. Please adapt your code to use either `displot` (a figure-level function with similar flexibility) or `histplot` (an axes-level function for histograms).\n",
      "  warnings.warn(msg, FutureWarning)\n"
     ]
    },
    {
     "data": {
      "text/plain": [
       "<AxesSubplot:title={'center':'Distribuição da avaliação'}, xlabel='W_Rating', ylabel='Density'>"
      ]
     },
     "execution_count": 22,
     "metadata": {},
     "output_type": "execute_result"
    },
    {
     "data": {
      "image/png": "[encoded data removed]",
      "text/plain": [
       "<Figure size 720x432 with 1 Axes>"
      ]
     },
     "metadata": {
      "needs_background": "light"
     },
     "output_type": "display_data"
    }
   ],
   "source": [
    "plt.figure(figsize=(10,6))\n",
    "g4 = sns.distplot(amazon['W_Rating'])\n",
    "g4.set_title('Distribuição da avaliação', fontsize=25)\n",
    "g4"
   ]
  },
  {
   "cell_type": "code",
   "execution_count": 23,
   "id": "70963980",
   "metadata": {
    "execution": {
     "iopub.execute_input": "2022-06-07T14:57:12.013274Z",
     "iopub.status.busy": "2022-06-07T14:57:12.012176Z",
     "iopub.status.idle": "2022-06-07T14:57:12.213258Z",
     "shell.execute_reply": "2022-06-07T14:57:12.212304Z"
    },
    "papermill": {
     "duration": 0.215111,
     "end_time": "2022-06-07T14:57:12.215447",
     "exception": false,
     "start_time": "2022-06-07T14:57:12.000336",
     "status": "completed"
    },
    "tags": []
   },
   "outputs": [
    {
     "name": "stderr",
     "output_type": "stream",
     "text": [
      "/opt/conda/lib/python3.7/site-packages/seaborn/distributions.py:2619: FutureWarning: `distplot` is a deprecated function and will be removed in a future version. Please adapt your code to use either `displot` (a figure-level function with similar flexibility) or `histplot` (an axes-level function for histograms).\n",
      "  warnings.warn(msg, FutureWarning)\n"
     ]
    },
    {
     "data": {
      "text/plain": [
       "<AxesSubplot:title={'center':'Distribuição da avaliação'}, xlabel='W_Rating', ylabel='Density'>"
      ]
     },
     "execution_count": 23,
     "metadata": {},
     "output_type": "execute_result"
    },
    {
     "data": {
      "image/png": "[encoded data removed]",
      "text/plain": [
       "<Figure size 720x432 with 1 Axes>"
      ]
     },
     "metadata": {
      "needs_background": "light"
     },
     "output_type": "display_data"
    }
   ],
   "source": [
    "plt.figure(figsize=(10,6))\n",
    "g4 = sns.distplot(top_amazon['W_Rating'])\n",
    "g4.set_title('Distribuição da avaliação', fontsize=25)\n",
    "g4"
   ]
  },
  {
   "cell_type": "markdown",
   "id": "4185ebc9",
   "metadata": {
    "papermill": {
     "duration": 0.010685,
     "end_time": "2022-06-07T14:57:12.237531",
     "exception": false,
     "start_time": "2022-06-07T14:57:12.226846",
     "status": "completed"
    },
    "tags": []
   },
   "source": [
    "#### Insights\n",
    "Pouco pode ser concluído dessa amostra tão pequena, mas podemos entender quais são os cinco livros mais bem sucedidos considerando avaliação e número de avaliações:\n",
    "\n",
    "1. Where the crawdads sings - Delia Owens\n",
    "2. It ends with us - Colleen Hoover\n",
    "3. Atomic habits - James Clear\n",
    "4. Oh! The places you will go - Dr. Seuss\n",
    "5. Johnny the Walrus - Matt Walsh\n",
    "\n",
    "Com uma breve pesquisa, temos dois livros infantis no 4 e 5 lugares, um de auto-ajuda no 3 e dois romances no topo, sendo o 1 recomendado pelo New York Times e o 2 parte de uma série. Era esperado uma presença maior de auto-ajuda e os livros infantis são uma surpresa. Talvez, investir em livros infantis possa ser interessante. \n",
    "\n",
    "Melhores avaliações não significam livros mais caros. Uma forma de perceber isso é que somente um dos livros da lista de melhor avaliados está no top 5 de mais caros, que é **Johny the Walrus**. Sendo o mais caro a auto-biografia do lutador e influenciador Tyrus. O preço certamente é afetado pela fama do autor.\n",
    "___\n",
    "Little can be concluded from such a small sample, but we can understand which are the five books with more sucess considering rating and number of ratings:\n",
    "\n",
    "1. Where the crawdads sings - Delia Owens\n",
    "2. It ends with us - Colleen Hoover\n",
    "3. Atomic habits - James Clear\n",
    "4. Oh! The places you will go - Dr. Seuss\n",
    "5. Johnny the Walrus - Matt Walsh\n",
    "\n",
    "With a quick research, we have number 4 and 5 being childrens book, number 3 a self-help book, at the top two novels. Number 1 is a New York Times recomendation and number 2 is part of a series. It was expected a larger presence of self-help and the childrens book are a surprise. Maybe, investing in childrens book can be interesting.\n",
    "\n",
    "Better rating doesn't mean more expensive books. One way to notice that is by pointing that only one book from the top 5 list is presented at the top 5 more expensive books, **Johny the Walrus**. The most expensive book is a memoire from the influencer and westler Tyrus. The price is certainly affected by the fame of the author. "
   ]
  },
  {
   "cell_type": "code",
   "execution_count": null,
   "id": "23da5f21",
   "metadata": {
    "papermill": {
     "duration": 0.010323,
     "end_time": "2022-06-07T14:57:12.258350",
     "exception": false,
     "start_time": "2022-06-07T14:57:12.248027",
     "status": "completed"
    },
    "tags": []
   },
   "outputs": [],
   "source": []
  }
 ],
 "metadata": {
  "kernelspec": {
   "display_name": "Python 3",
   "language": "python",
   "name": "python3"
  },
  "language_info": {
   "codemirror_mode": {
    "name": "ipython",
    "version": 3
   },
   "file_extension": ".py",
   "mimetype": "text/x-python",
   "name": "python",
   "nbconvert_exporter": "python",
   "pygments_lexer": "ipython3",
   "version": "3.7.12"
  },
  "papermill": {
   "default_parameters": {},
   "duration": 12.982707,
   "end_time": "2022-06-07T14:57:12.991038",
   "environment_variables": {},
   "exception": null,
   "input_path": "__notebook__.ipynb",
   "output_path": "__notebook__.ipynb",
   "parameters": {},
   "start_time": "2022-06-07T14:57:00.008331",
   "version": "2.3.4"
  }
 },
 "nbformat": 4,
 "nbformat_minor": 5
}

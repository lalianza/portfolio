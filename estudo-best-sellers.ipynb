{
 "cells": [
  {
   "cell_type": "markdown",
   "id": "2a04134b",
   "metadata": {
    "papermill": {
     "duration": 0.010438,
     "end_time": "2022-06-06T03:54:13.535799",
     "exception": false,
     "start_time": "2022-06-06T03:54:13.525361",
     "status": "completed"
    },
    "tags": []
   },
   "source": [
    "# Estudo de Insights de Best Sellers \n",
    "## Best Sellers insights study"
   ]
  },
  {
   "cell_type": "markdown",
   "id": "ddd00e9e",
   "metadata": {
    "papermill": {
     "duration": 0.006946,
     "end_time": "2022-06-06T03:54:13.550170",
     "exception": false,
     "start_time": "2022-06-06T03:54:13.543224",
     "status": "completed"
    },
    "tags": []
   },
   "source": [
    "Os dados utilizados foram disponibilizados no Kaggle por Diógenes Silva. O propósito é estudar e demonstrar formas de utilizar os dados para gerar insights para uma editora especializada em Best Sellers. Nesse caso, busca-se entender quais são os livros que fazem mais sucesso vendidos na Amazon.\n",
    "\n",
    "The data used was disponibilized at Kaggle by Diógeneses Silva. The purpose of this notebook is to study and demonstrate ways to utilize data do generate insights for a best seller specialized publisher. In this case, we whant to know which books achieved most sucess at Amazon. "
   ]
  },
  {
   "cell_type": "code",
   "execution_count": 1,
   "id": "48b31ed4",
   "metadata": {
    "execution": {
     "iopub.execute_input": "2022-06-06T03:54:13.566835Z",
     "iopub.status.busy": "2022-06-06T03:54:13.565794Z",
     "iopub.status.idle": "2022-06-06T03:54:14.655790Z",
     "shell.execute_reply": "2022-06-06T03:54:14.654988Z"
    },
    "papermill": {
     "duration": 1.101146,
     "end_time": "2022-06-06T03:54:14.658359",
     "exception": false,
     "start_time": "2022-06-06T03:54:13.557213",
     "status": "completed"
    },
    "tags": []
   },
   "outputs": [],
   "source": [
    "import pandas as pd\n",
    "import seaborn as sns\n",
    "import numpy as np\n",
    "import matplotlib.pyplot as plt"
   ]
  },
  {
   "cell_type": "code",
   "execution_count": 2,
   "id": "03bff81a",
   "metadata": {
    "execution": {
     "iopub.execute_input": "2022-06-06T03:54:14.675404Z",
     "iopub.status.busy": "2022-06-06T03:54:14.674577Z",
     "iopub.status.idle": "2022-06-06T03:54:14.727896Z",
     "shell.execute_reply": "2022-06-06T03:54:14.727208Z"
    },
    "papermill": {
     "duration": 0.064091,
     "end_time": "2022-06-06T03:54:14.730060",
     "exception": false,
     "start_time": "2022-06-06T03:54:14.665969",
     "status": "completed"
    },
    "tags": []
   },
   "outputs": [],
   "source": [
    "amazon = pd.read_csv('../input/bestsellers-books-amazon-ebay-and-barnesnoble/amazon_products.csv')"
   ]
  },
  {
   "cell_type": "code",
   "execution_count": 3,
   "id": "c265b5b5",
   "metadata": {
    "execution": {
     "iopub.execute_input": "2022-06-06T03:54:14.746841Z",
     "iopub.status.busy": "2022-06-06T03:54:14.746455Z",
     "iopub.status.idle": "2022-06-06T03:54:14.750686Z",
     "shell.execute_reply": "2022-06-06T03:54:14.750053Z"
    },
    "papermill": {
     "duration": 0.016908,
     "end_time": "2022-06-06T03:54:14.754386",
     "exception": false,
     "start_time": "2022-06-06T03:54:14.737478",
     "status": "completed"
    },
    "tags": []
   },
   "outputs": [
    {
     "name": "stdout",
     "output_type": "stream",
     "text": [
      "(62, 6)\n"
     ]
    }
   ],
   "source": [
    "print(amazon.shape)"
   ]
  },
  {
   "cell_type": "markdown",
   "id": "51e5de49",
   "metadata": {
    "execution": {
     "iopub.execute_input": "2022-06-04T19:26:34.29903Z",
     "iopub.status.busy": "2022-06-04T19:26:34.298616Z",
     "iopub.status.idle": "2022-06-04T19:26:34.30429Z",
     "shell.execute_reply": "2022-06-04T19:26:34.303305Z",
     "shell.execute_reply.started": "2022-06-04T19:26:34.298993Z"
    },
    "papermill": {
     "duration": 0.007278,
     "end_time": "2022-06-06T03:54:14.769185",
     "exception": false,
     "start_time": "2022-06-06T03:54:14.761907",
     "status": "completed"
    },
    "tags": []
   },
   "source": [
    "#### Preparando dados da Amazon\n",
    "\n",
    "#### Prepararing Amazon dataset"
   ]
  },
  {
   "cell_type": "code",
   "execution_count": 4,
   "id": "969b2028",
   "metadata": {
    "execution": {
     "iopub.execute_input": "2022-06-06T03:54:14.785415Z",
     "iopub.status.busy": "2022-06-06T03:54:14.784654Z",
     "iopub.status.idle": "2022-06-06T03:54:14.798206Z",
     "shell.execute_reply": "2022-06-06T03:54:14.797270Z"
    },
    "papermill": {
     "duration": 0.023825,
     "end_time": "2022-06-06T03:54:14.800198",
     "exception": false,
     "start_time": "2022-06-06T03:54:14.776373",
     "status": "completed"
    },
    "tags": []
   },
   "outputs": [
    {
     "data": {
      "text/plain": [
       "7"
      ]
     },
     "execution_count": 4,
     "metadata": {},
     "output_type": "execute_result"
    }
   ],
   "source": [
    "a = amazon.shape[0]\n",
    "amazon.dropna(inplace=True)\n",
    "b = amazon.shape[0]\n",
    "a-b"
   ]
  },
  {
   "cell_type": "code",
   "execution_count": 5,
   "id": "7c1636a9",
   "metadata": {
    "execution": {
     "iopub.execute_input": "2022-06-06T03:54:14.816491Z",
     "iopub.status.busy": "2022-06-06T03:54:14.816137Z",
     "iopub.status.idle": "2022-06-06T03:54:14.829023Z",
     "shell.execute_reply": "2022-06-06T03:54:14.828081Z"
    },
    "papermill": {
     "duration": 0.023341,
     "end_time": "2022-06-06T03:54:14.830912",
     "exception": false,
     "start_time": "2022-06-06T03:54:14.807571",
     "status": "completed"
    },
    "tags": []
   },
   "outputs": [
    {
     "data": {
      "text/plain": [
       "0         4.8 out of 5 stars 314\n",
       "1      4.8 out of 5 stars 79,977\n",
       "2           4.2 out of 5 stars 4\n",
       "4         4.7 out of 5 stars 898\n",
       "5          4.6 out of 5 stars 21\n",
       "6         4.9 out of 5 stars 786\n",
       "7       4.9 out of 5 stars 2,620\n",
       "8     4.8 out of 5 stars 221,019\n",
       "9      4.9 out of 5 stars 36,141\n",
       "11     4.7 out of 5 stars 88,865\n",
       "12     4.6 out of 5 stars 85,090\n",
       "13     4.6 out of 5 stars 71,973\n",
       "14          5.0 out of 5 stars 5\n",
       "16          4.5 out of 5 stars 2\n",
       "17        4.8 out of 5 stars 857\n",
       "18     4.8 out of 5 stars 46,647\n",
       "19        4.7 out of 5 stars 578\n",
       "20         4.6 out of 5 stars 71\n",
       "21        4.8 out of 5 stars 162\n",
       "22      4.8 out of 5 stars 9,575\n",
       "23     4.9 out of 5 stars 48,681\n",
       "24     4.7 out of 5 stars 71,963\n",
       "25        4.2 out of 5 stars 254\n",
       "26         4.7 out of 5 stars 64\n",
       "27     4.7 out of 5 stars 41,036\n",
       "28     4.7 out of 5 stars 40,223\n",
       "29     4.7 out of 5 stars 77,926\n",
       "31     4.8 out of 5 stars 71,348\n",
       "32         4.6 out of 5 stars 36\n",
       "33     4.8 out of 5 stars 10,297\n",
       "34    4.3 out of 5 stars 153,933\n",
       "35     4.9 out of 5 stars 81,632\n",
       "36      4.8 out of 5 stars 1,516\n",
       "37     4.9 out of 5 stars 47,698\n",
       "38          4.8 out of 5 stars 9\n",
       "39     4.8 out of 5 stars 61,741\n",
       "40     4.7 out of 5 stars 63,958\n",
       "41     4.3 out of 5 stars 85,754\n",
       "42     4.7 out of 5 stars 74,976\n",
       "43        4.8 out of 5 stars 827\n",
       "44         4.2 out of 5 stars 34\n",
       "45     4.9 out of 5 stars 22,647\n",
       "46        4.7 out of 5 stars 503\n",
       "47     4.8 out of 5 stars 10,314\n",
       "48     4.8 out of 5 stars 27,460\n",
       "49     4.7 out of 5 stars 11,958\n",
       "50     4.6 out of 5 stars 66,694\n",
       "51          5.0 out of 5 stars 1\n",
       "52     4.6 out of 5 stars 43,332\n",
       "53      4.9 out of 5 stars 3,373\n",
       "54     4.7 out of 5 stars 12,769\n",
       "57      4.9 out of 5 stars 2,349\n",
       "58      4.9 out of 5 stars 7,958\n",
       "59     4.8 out of 5 stars 30,163\n",
       "60     4.4 out of 5 stars 45,575\n",
       "Name: Rating, dtype: object"
      ]
     },
     "execution_count": 5,
     "metadata": {},
     "output_type": "execute_result"
    }
   ],
   "source": [
    "amazon['Rating'].drop_duplicates()"
   ]
  },
  {
   "cell_type": "code",
   "execution_count": 6,
   "id": "981f48fc",
   "metadata": {
    "execution": {
     "iopub.execute_input": "2022-06-06T03:54:14.848260Z",
     "iopub.status.busy": "2022-06-06T03:54:14.847418Z",
     "iopub.status.idle": "2022-06-06T03:54:14.855709Z",
     "shell.execute_reply": "2022-06-06T03:54:14.854590Z"
    },
    "papermill": {
     "duration": 0.019249,
     "end_time": "2022-06-06T03:54:14.857816",
     "exception": false,
     "start_time": "2022-06-06T03:54:14.838567",
     "status": "completed"
    },
    "tags": []
   },
   "outputs": [],
   "source": [
    "amazon['Only_Rating'] = amazon['Rating'].str.slice(stop=3)"
   ]
  },
  {
   "cell_type": "code",
   "execution_count": 7,
   "id": "e51f8e57",
   "metadata": {
    "execution": {
     "iopub.execute_input": "2022-06-06T03:54:14.875562Z",
     "iopub.status.busy": "2022-06-06T03:54:14.874669Z",
     "iopub.status.idle": "2022-06-06T03:54:14.894928Z",
     "shell.execute_reply": "2022-06-06T03:54:14.893941Z"
    },
    "papermill": {
     "duration": 0.031369,
     "end_time": "2022-06-06T03:54:14.896963",
     "exception": false,
     "start_time": "2022-06-06T03:54:14.865594",
     "status": "completed"
    },
    "tags": []
   },
   "outputs": [
    {
     "data": {
      "text/html": [
       "<div>\n",
       "<style scoped>\n",
       "    .dataframe tbody tr th:only-of-type {\n",
       "        vertical-align: middle;\n",
       "    }\n",
       "\n",
       "    .dataframe tbody tr th {\n",
       "        vertical-align: top;\n",
       "    }\n",
       "\n",
       "    .dataframe thead th {\n",
       "        text-align: right;\n",
       "    }\n",
       "</style>\n",
       "<table border=\"1\" class=\"dataframe\">\n",
       "  <thead>\n",
       "    <tr style=\"text-align: right;\">\n",
       "      <th></th>\n",
       "      <th>Book Name</th>\n",
       "      <th>Author</th>\n",
       "      <th>Price</th>\n",
       "      <th>Customers_Rated</th>\n",
       "      <th>Rating</th>\n",
       "      <th>Book_cover</th>\n",
       "      <th>Only_Rating</th>\n",
       "      <th>N_Rating</th>\n",
       "    </tr>\n",
       "  </thead>\n",
       "  <tbody>\n",
       "    <tr>\n",
       "      <th>0</th>\n",
       "      <td>Finding Me: A Memoir</td>\n",
       "      <td>Viola Davis</td>\n",
       "      <td>$18.84</td>\n",
       "      <td>314</td>\n",
       "      <td>4.8 out of 5 stars 314</td>\n",
       "      <td>Hardcover</td>\n",
       "      <td>4.8</td>\n",
       "      <td>314</td>\n",
       "    </tr>\n",
       "    <tr>\n",
       "      <th>1</th>\n",
       "      <td>Atomic Habits: An Easy &amp; Proven Way to Build G...</td>\n",
       "      <td>James Clear</td>\n",
       "      <td>$11.98</td>\n",
       "      <td>79,977</td>\n",
       "      <td>4.8 out of 5 stars 79,977</td>\n",
       "      <td>Hardcover</td>\n",
       "      <td>4.8</td>\n",
       "      <td>79,977</td>\n",
       "    </tr>\n",
       "    <tr>\n",
       "      <th>2</th>\n",
       "      <td>This Will Not Pass: Trump, Biden, and the Batt...</td>\n",
       "      <td>Jonathan Martin</td>\n",
       "      <td>$24.99</td>\n",
       "      <td>4</td>\n",
       "      <td>4.2 out of 5 stars 4</td>\n",
       "      <td>Hardcover</td>\n",
       "      <td>4.2</td>\n",
       "      <td>4</td>\n",
       "    </tr>\n",
       "    <tr>\n",
       "      <th>4</th>\n",
       "      <td>Just Tyrus: A Memoir</td>\n",
       "      <td>Tyrus</td>\n",
       "      <td>$32.49</td>\n",
       "      <td>898</td>\n",
       "      <td>4.7 out of 5 stars 898</td>\n",
       "      <td>Hardcover</td>\n",
       "      <td>4.7</td>\n",
       "      <td>898</td>\n",
       "    </tr>\n",
       "    <tr>\n",
       "      <th>5</th>\n",
       "      <td>Book Lovers</td>\n",
       "      <td>Emily Henry</td>\n",
       "      <td>$13.60</td>\n",
       "      <td>21</td>\n",
       "      <td>4.6 out of 5 stars 21</td>\n",
       "      <td>Paperback</td>\n",
       "      <td>4.6</td>\n",
       "      <td>21</td>\n",
       "    </tr>\n",
       "  </tbody>\n",
       "</table>\n",
       "</div>"
      ],
      "text/plain": [
       "                                           Book Name           Author   Price  \\\n",
       "0                               Finding Me: A Memoir      Viola Davis  $18.84   \n",
       "1  Atomic Habits: An Easy & Proven Way to Build G...      James Clear  $11.98   \n",
       "2  This Will Not Pass: Trump, Biden, and the Batt...  Jonathan Martin  $24.99   \n",
       "4                               Just Tyrus: A Memoir            Tyrus  $32.49   \n",
       "5                                        Book Lovers      Emily Henry  $13.60   \n",
       "\n",
       "  Customers_Rated                     Rating Book_cover Only_Rating N_Rating  \n",
       "0             314     4.8 out of 5 stars 314  Hardcover         4.8      314  \n",
       "1          79,977  4.8 out of 5 stars 79,977  Hardcover         4.8   79,977  \n",
       "2               4       4.2 out of 5 stars 4  Hardcover         4.2        4  \n",
       "4             898     4.7 out of 5 stars 898  Hardcover         4.7      898  \n",
       "5              21      4.6 out of 5 stars 21  Paperback         4.6       21  "
      ]
     },
     "execution_count": 7,
     "metadata": {},
     "output_type": "execute_result"
    }
   ],
   "source": [
    "N_Rating = amazon['Rating'].str.split(\" \", expand = True)\n",
    "N_Rating = N_Rating.iloc[:,4]\n",
    "N_Rating = N_Rating.str.slice(start=5)\n",
    "amazon['N_Rating'] = N_Rating\n",
    "amazon.head()"
   ]
  },
  {
   "cell_type": "code",
   "execution_count": 8,
   "id": "9de0bafd",
   "metadata": {
    "execution": {
     "iopub.execute_input": "2022-06-06T03:54:14.914922Z",
     "iopub.status.busy": "2022-06-06T03:54:14.913884Z",
     "iopub.status.idle": "2022-06-06T03:54:14.919292Z",
     "shell.execute_reply": "2022-06-06T03:54:14.918647Z"
    },
    "papermill": {
     "duration": 0.016191,
     "end_time": "2022-06-06T03:54:14.921082",
     "exception": false,
     "start_time": "2022-06-06T03:54:14.904891",
     "status": "completed"
    },
    "tags": []
   },
   "outputs": [],
   "source": [
    "amazon['N_Rating'].replace(\",\", \"\", regex=True, inplace=True)"
   ]
  },
  {
   "cell_type": "code",
   "execution_count": 9,
   "id": "2a8c6f67",
   "metadata": {
    "execution": {
     "iopub.execute_input": "2022-06-06T03:54:14.938712Z",
     "iopub.status.busy": "2022-06-06T03:54:14.938087Z",
     "iopub.status.idle": "2022-06-06T03:54:14.945702Z",
     "shell.execute_reply": "2022-06-06T03:54:14.944610Z"
    },
    "papermill": {
     "duration": 0.019184,
     "end_time": "2022-06-06T03:54:14.948167",
     "exception": false,
     "start_time": "2022-06-06T03:54:14.928983",
     "status": "completed"
    },
    "tags": []
   },
   "outputs": [
    {
     "name": "stdout",
     "output_type": "stream",
     "text": [
      "0     4.8\n",
      "2     4.2\n",
      "4     4.7\n",
      "5     4.6\n",
      "6     4.9\n",
      "14    5.0\n",
      "16    4.5\n",
      "34    4.3\n",
      "60    4.4\n",
      "Name: Only_Rating, dtype: object <bound method Series.drop_duplicates of 0         314\n",
      "1       79977\n",
      "2           4\n",
      "4         898\n",
      "5          21\n",
      "6         786\n",
      "7        2620\n",
      "8      221019\n",
      "9       36141\n",
      "11      88865\n",
      "12      85090\n",
      "13      71973\n",
      "14          5\n",
      "16          2\n",
      "17        857\n",
      "18      46647\n",
      "19        578\n",
      "20         71\n",
      "21        162\n",
      "22       9575\n",
      "23      48681\n",
      "24      71963\n",
      "25        254\n",
      "26         64\n",
      "27      41036\n",
      "28      40223\n",
      "29      77926\n",
      "31      71348\n",
      "32         36\n",
      "33      10297\n",
      "34     153933\n",
      "35      81632\n",
      "36       1516\n",
      "37      47698\n",
      "38          9\n",
      "39      61741\n",
      "40      63958\n",
      "41      85754\n",
      "42      74976\n",
      "43        827\n",
      "44         34\n",
      "45      22647\n",
      "46        503\n",
      "47      10314\n",
      "48      27460\n",
      "49      11958\n",
      "50      66694\n",
      "51          1\n",
      "52      43332\n",
      "53       3373\n",
      "54      12769\n",
      "57       2349\n",
      "58       7958\n",
      "59      30163\n",
      "60      45575\n",
      "Name: N_Rating, dtype: object>\n"
     ]
    }
   ],
   "source": [
    "print(amazon['Only_Rating'].drop_duplicates(), amazon['N_Rating'].drop_duplicates)"
   ]
  },
  {
   "cell_type": "code",
   "execution_count": 10,
   "id": "6df0dfd0",
   "metadata": {
    "execution": {
     "iopub.execute_input": "2022-06-06T03:54:14.966155Z",
     "iopub.status.busy": "2022-06-06T03:54:14.965457Z",
     "iopub.status.idle": "2022-06-06T03:54:14.971049Z",
     "shell.execute_reply": "2022-06-06T03:54:14.970368Z"
    },
    "papermill": {
     "duration": 0.016526,
     "end_time": "2022-06-06T03:54:14.972767",
     "exception": false,
     "start_time": "2022-06-06T03:54:14.956241",
     "status": "completed"
    },
    "tags": []
   },
   "outputs": [],
   "source": [
    "amazon['Only_Rating']=amazon['Only_Rating'].astype(float)\n",
    "amazon['N_Rating']=amazon['N_Rating'].astype(float)"
   ]
  },
  {
   "cell_type": "markdown",
   "id": "372947bf",
   "metadata": {
    "papermill": {
     "duration": 0.007603,
     "end_time": "2022-06-06T03:54:14.988325",
     "exception": false,
     "start_time": "2022-06-06T03:54:14.980722",
     "status": "completed"
    },
    "tags": []
   },
   "source": [
    "O número de avaliações é muito discrepante. Vou criar uma variável que considere o peso da avaliação média na média ponderada total. Além disso, vou criar uma classificação de sucesso, sendo 1 livros com média de avaliação maior que a média ponderada, portanto contribuindo para uma média maior, e 0 para livros cuja média seja menor que a média ponderada.\n",
    "\n",
    "The number of people evaluating is too discrepant. I will create a variable considering the weight of the mean ratting at the total weightned mean.Also, I will create a sucess variable being 1 for books with rating mean higher than the weightned mean, therefore contributing to a higher mean, and 0 for for books with rating mean lower than the weightned mean."
   ]
  },
  {
   "cell_type": "code",
   "execution_count": 11,
   "id": "7bc166b8",
   "metadata": {
    "execution": {
     "iopub.execute_input": "2022-06-06T03:54:15.006043Z",
     "iopub.status.busy": "2022-06-06T03:54:15.005510Z",
     "iopub.status.idle": "2022-06-06T03:54:15.017474Z",
     "shell.execute_reply": "2022-06-06T03:54:15.016080Z"
    },
    "papermill": {
     "duration": 0.023493,
     "end_time": "2022-06-06T03:54:15.019602",
     "exception": false,
     "start_time": "2022-06-06T03:54:14.996109",
     "status": "completed"
    },
    "tags": []
   },
   "outputs": [
    {
     "name": "stdout",
     "output_type": "stream",
     "text": [
      "count    5.500000e+01\n",
      "mean     1.818182e-02\n",
      "std      2.327278e-02\n",
      "min      5.723942e-07\n",
      "25%      2.908163e-04\n",
      "50%      6.434008e-03\n",
      "75%      3.416961e-02\n",
      "max      1.214496e-01\n",
      "Name: W_Rating, dtype: float64\n"
     ]
    }
   ],
   "source": [
    "amazon['W_Rating'] = (amazon['Only_Rating']*amazon['N_Rating'])/(amazon['Only_Rating']*amazon['N_Rating']).sum()\n",
    "print(amazon['W_Rating'].describe())"
   ]
  },
  {
   "cell_type": "code",
   "execution_count": 12,
   "id": "f0133d9a",
   "metadata": {
    "execution": {
     "iopub.execute_input": "2022-06-06T03:54:15.037918Z",
     "iopub.status.busy": "2022-06-06T03:54:15.037401Z",
     "iopub.status.idle": "2022-06-06T03:54:15.068963Z",
     "shell.execute_reply": "2022-06-06T03:54:15.068217Z"
    },
    "papermill": {
     "duration": 0.042972,
     "end_time": "2022-06-06T03:54:15.070778",
     "exception": false,
     "start_time": "2022-06-06T03:54:15.027806",
     "status": "completed"
    },
    "tags": []
   },
   "outputs": [
    {
     "data": {
      "text/html": [
       "<div>\n",
       "<style scoped>\n",
       "    .dataframe tbody tr th:only-of-type {\n",
       "        vertical-align: middle;\n",
       "    }\n",
       "\n",
       "    .dataframe tbody tr th {\n",
       "        vertical-align: top;\n",
       "    }\n",
       "\n",
       "    .dataframe thead th {\n",
       "        text-align: right;\n",
       "    }\n",
       "</style>\n",
       "<table border=\"1\" class=\"dataframe\">\n",
       "  <thead>\n",
       "    <tr style=\"text-align: right;\">\n",
       "      <th></th>\n",
       "      <th>Book Name</th>\n",
       "      <th>Author</th>\n",
       "      <th>Price</th>\n",
       "      <th>Customers_Rated</th>\n",
       "      <th>Rating</th>\n",
       "      <th>Book_cover</th>\n",
       "      <th>Only_Rating</th>\n",
       "      <th>N_Rating</th>\n",
       "      <th>W_Rating</th>\n",
       "      <th>sucess</th>\n",
       "    </tr>\n",
       "  </thead>\n",
       "  <tbody>\n",
       "    <tr>\n",
       "      <th>0</th>\n",
       "      <td>Finding Me: A Memoir</td>\n",
       "      <td>Viola Davis</td>\n",
       "      <td>$18.84</td>\n",
       "      <td>314</td>\n",
       "      <td>4.8 out of 5 stars 314</td>\n",
       "      <td>Hardcover</td>\n",
       "      <td>4.8</td>\n",
       "      <td>314.0</td>\n",
       "      <td>0.000173</td>\n",
       "      <td>1</td>\n",
       "    </tr>\n",
       "    <tr>\n",
       "      <th>1</th>\n",
       "      <td>Atomic Habits: An Easy &amp; Proven Way to Build G...</td>\n",
       "      <td>James Clear</td>\n",
       "      <td>$11.98</td>\n",
       "      <td>79,977</td>\n",
       "      <td>4.8 out of 5 stars 79,977</td>\n",
       "      <td>Hardcover</td>\n",
       "      <td>4.8</td>\n",
       "      <td>79977.0</td>\n",
       "      <td>0.043947</td>\n",
       "      <td>1</td>\n",
       "    </tr>\n",
       "    <tr>\n",
       "      <th>2</th>\n",
       "      <td>This Will Not Pass: Trump, Biden, and the Batt...</td>\n",
       "      <td>Jonathan Martin</td>\n",
       "      <td>$24.99</td>\n",
       "      <td>4</td>\n",
       "      <td>4.2 out of 5 stars 4</td>\n",
       "      <td>Hardcover</td>\n",
       "      <td>4.2</td>\n",
       "      <td>4.0</td>\n",
       "      <td>0.000002</td>\n",
       "      <td>0</td>\n",
       "    </tr>\n",
       "    <tr>\n",
       "      <th>4</th>\n",
       "      <td>Just Tyrus: A Memoir</td>\n",
       "      <td>Tyrus</td>\n",
       "      <td>$32.49</td>\n",
       "      <td>898</td>\n",
       "      <td>4.7 out of 5 stars 898</td>\n",
       "      <td>Hardcover</td>\n",
       "      <td>4.7</td>\n",
       "      <td>898.0</td>\n",
       "      <td>0.000483</td>\n",
       "      <td>1</td>\n",
       "    </tr>\n",
       "    <tr>\n",
       "      <th>5</th>\n",
       "      <td>Book Lovers</td>\n",
       "      <td>Emily Henry</td>\n",
       "      <td>$13.60</td>\n",
       "      <td>21</td>\n",
       "      <td>4.6 out of 5 stars 21</td>\n",
       "      <td>Paperback</td>\n",
       "      <td>4.6</td>\n",
       "      <td>21.0</td>\n",
       "      <td>0.000011</td>\n",
       "      <td>0</td>\n",
       "    </tr>\n",
       "  </tbody>\n",
       "</table>\n",
       "</div>"
      ],
      "text/plain": [
       "                                           Book Name           Author   Price  \\\n",
       "0                               Finding Me: A Memoir      Viola Davis  $18.84   \n",
       "1  Atomic Habits: An Easy & Proven Way to Build G...      James Clear  $11.98   \n",
       "2  This Will Not Pass: Trump, Biden, and the Batt...  Jonathan Martin  $24.99   \n",
       "4                               Just Tyrus: A Memoir            Tyrus  $32.49   \n",
       "5                                        Book Lovers      Emily Henry  $13.60   \n",
       "\n",
       "  Customers_Rated                     Rating Book_cover  Only_Rating  \\\n",
       "0             314     4.8 out of 5 stars 314  Hardcover          4.8   \n",
       "1          79,977  4.8 out of 5 stars 79,977  Hardcover          4.8   \n",
       "2               4       4.2 out of 5 stars 4  Hardcover          4.2   \n",
       "4             898     4.7 out of 5 stars 898  Hardcover          4.7   \n",
       "5              21      4.6 out of 5 stars 21  Paperback          4.6   \n",
       "\n",
       "   N_Rating  W_Rating  sucess  \n",
       "0     314.0  0.000173       1  \n",
       "1   79977.0  0.043947       1  \n",
       "2       4.0  0.000002       0  \n",
       "4     898.0  0.000483       1  \n",
       "5      21.0  0.000011       0  "
      ]
     },
     "execution_count": 12,
     "metadata": {},
     "output_type": "execute_result"
    }
   ],
   "source": [
    "def sucess (Rating):\n",
    "    w_mean = (amazon['Only_Rating']*amazon['N_Rating']).sum()/amazon['N_Rating'].sum()\n",
    "    sucess = 0\n",
    "    if Rating > w_mean:\n",
    "        sucess = 1\n",
    "    return sucess\n",
    "amazon['sucess'] = amazon['Only_Rating'].apply(sucess)\n",
    "amazon.head()"
   ]
  },
  {
   "cell_type": "code",
   "execution_count": 13,
   "id": "b56118fd",
   "metadata": {
    "execution": {
     "iopub.execute_input": "2022-06-06T03:54:15.090220Z",
     "iopub.status.busy": "2022-06-06T03:54:15.089827Z",
     "iopub.status.idle": "2022-06-06T03:54:15.096932Z",
     "shell.execute_reply": "2022-06-06T03:54:15.096223Z"
    },
    "papermill": {
     "duration": 0.01921,
     "end_time": "2022-06-06T03:54:15.098702",
     "exception": false,
     "start_time": "2022-06-06T03:54:15.079492",
     "status": "completed"
    },
    "tags": []
   },
   "outputs": [
    {
     "data": {
      "text/plain": [
       "0     $18.84\n",
       "1     $11.98\n",
       "2     $24.99\n",
       "4     $32.49\n",
       "5     $13.60\n",
       "6     $17.05\n",
       "7     $14.18\n",
       "8      $9.98\n",
       "9      $8.98\n",
       "11    $11.17\n",
       "12    $11.26\n",
       "13     $9.42\n",
       "14     $9.99\n",
       "16    $18.29\n",
       "17    $19.48\n",
       "18    $11.40\n",
       "19     $9.95\n",
       "20    $19.43\n",
       "21    $13.38\n",
       "22    $18.34\n",
       "23     $5.06\n",
       "24    $12.22\n",
       "25    $22.46\n",
       "26    $18.60\n",
       "27    $11.90\n",
       "28    $10.40\n",
       "29     $7.74\n",
       "31     $4.53\n",
       "32    $16.38\n",
       "33    $14.95\n",
       "34    $13.29\n",
       "35    $34.68\n",
       "36    $12.54\n",
       "37     $4.98\n",
       "38    $19.59\n",
       "39     $5.99\n",
       "40    $10.78\n",
       "41    $13.50\n",
       "42     $8.89\n",
       "43    $10.83\n",
       "44    $20.59\n",
       "45     $5.36\n",
       "47    $18.27\n",
       "48    $12.70\n",
       "49    $16.95\n",
       "50    $13.76\n",
       "51    $17.99\n",
       "52    $16.88\n",
       "53     $7.19\n",
       "54     $9.59\n",
       "57     $6.89\n",
       "58    $29.99\n",
       "59    $16.59\n",
       "60    $18.00\n",
       "Name: Price, dtype: object"
      ]
     },
     "execution_count": 13,
     "metadata": {},
     "output_type": "execute_result"
    }
   ],
   "source": [
    "amazon['Price'].drop_duplicates()"
   ]
  },
  {
   "cell_type": "code",
   "execution_count": 14,
   "id": "967103d5",
   "metadata": {
    "execution": {
     "iopub.execute_input": "2022-06-06T03:54:15.117789Z",
     "iopub.status.busy": "2022-06-06T03:54:15.117277Z",
     "iopub.status.idle": "2022-06-06T03:54:15.121802Z",
     "shell.execute_reply": "2022-06-06T03:54:15.121134Z"
    },
    "papermill": {
     "duration": 0.01642,
     "end_time": "2022-06-06T03:54:15.123638",
     "exception": false,
     "start_time": "2022-06-06T03:54:15.107218",
     "status": "completed"
    },
    "tags": []
   },
   "outputs": [],
   "source": [
    "amazon['Price'] = amazon['Price'].str.slice(start=1)"
   ]
  },
  {
   "cell_type": "code",
   "execution_count": 15,
   "id": "f9eb652b",
   "metadata": {
    "execution": {
     "iopub.execute_input": "2022-06-06T03:54:15.143196Z",
     "iopub.status.busy": "2022-06-06T03:54:15.142680Z",
     "iopub.status.idle": "2022-06-06T03:54:15.151390Z",
     "shell.execute_reply": "2022-06-06T03:54:15.150651Z"
    },
    "papermill": {
     "duration": 0.020798,
     "end_time": "2022-06-06T03:54:15.153122",
     "exception": false,
     "start_time": "2022-06-06T03:54:15.132324",
     "status": "completed"
    },
    "tags": []
   },
   "outputs": [
    {
     "data": {
      "text/plain": [
       "9.95     2\n",
       "18.84    1\n",
       "20.59    1\n",
       "13.29    1\n",
       "34.68    1\n",
       "12.54    1\n",
       "4.98     1\n",
       "19.59    1\n",
       "5.99     1\n",
       "10.78    1\n",
       "13.50    1\n",
       "8.89     1\n",
       "10.83    1\n",
       "5.36     1\n",
       "16.38    1\n",
       "18.27    1\n",
       "12.70    1\n",
       "16.95    1\n",
       "13.76    1\n",
       "17.99    1\n",
       "16.88    1\n",
       "7.19     1\n",
       "9.59     1\n",
       "6.89     1\n",
       "29.99    1\n",
       "16.59    1\n",
       "14.95    1\n",
       "4.53     1\n",
       "11.98    1\n",
       "7.74     1\n",
       "24.99    1\n",
       "32.49    1\n",
       "13.60    1\n",
       "17.05    1\n",
       "14.18    1\n",
       "9.98     1\n",
       "8.98     1\n",
       "11.17    1\n",
       "11.26    1\n",
       "9.42     1\n",
       "9.99     1\n",
       "18.29    1\n",
       "19.48    1\n",
       "11.40    1\n",
       "19.43    1\n",
       "13.38    1\n",
       "18.34    1\n",
       "5.06     1\n",
       "12.22    1\n",
       "22.46    1\n",
       "18.60    1\n",
       "11.90    1\n",
       "10.40    1\n",
       "18.00    1\n",
       "Name: Price, dtype: int64"
      ]
     },
     "execution_count": 15,
     "metadata": {},
     "output_type": "execute_result"
    }
   ],
   "source": [
    "amazon['Price'].value_counts()"
   ]
  },
  {
   "cell_type": "code",
   "execution_count": 16,
   "id": "c912d947",
   "metadata": {
    "execution": {
     "iopub.execute_input": "2022-06-06T03:54:15.172573Z",
     "iopub.status.busy": "2022-06-06T03:54:15.171781Z",
     "iopub.status.idle": "2022-06-06T03:54:15.177772Z",
     "shell.execute_reply": "2022-06-06T03:54:15.176918Z"
    },
    "papermill": {
     "duration": 0.018843,
     "end_time": "2022-06-06T03:54:15.180721",
     "exception": false,
     "start_time": "2022-06-06T03:54:15.161878",
     "status": "completed"
    },
    "tags": []
   },
   "outputs": [
    {
     "name": "stdout",
     "output_type": "stream",
     "text": [
      "<class 'pandas.core.series.Series'>\n"
     ]
    }
   ],
   "source": [
    "amazon['Price'] = amazon['Price'].astype(float)\n",
    "print(type(amazon['Price']))"
   ]
  },
  {
   "cell_type": "code",
   "execution_count": 17,
   "id": "b53a202a",
   "metadata": {
    "execution": {
     "iopub.execute_input": "2022-06-06T03:54:15.200335Z",
     "iopub.status.busy": "2022-06-06T03:54:15.199588Z",
     "iopub.status.idle": "2022-06-06T03:54:15.226964Z",
     "shell.execute_reply": "2022-06-06T03:54:15.226053Z"
    },
    "papermill": {
     "duration": 0.039834,
     "end_time": "2022-06-06T03:54:15.229289",
     "exception": false,
     "start_time": "2022-06-06T03:54:15.189455",
     "status": "completed"
    },
    "tags": []
   },
   "outputs": [
    {
     "data": {
      "text/html": [
       "<div>\n",
       "<style scoped>\n",
       "    .dataframe tbody tr th:only-of-type {\n",
       "        vertical-align: middle;\n",
       "    }\n",
       "\n",
       "    .dataframe tbody tr th {\n",
       "        vertical-align: top;\n",
       "    }\n",
       "\n",
       "    .dataframe thead th {\n",
       "        text-align: right;\n",
       "    }\n",
       "</style>\n",
       "<table border=\"1\" class=\"dataframe\">\n",
       "  <thead>\n",
       "    <tr style=\"text-align: right;\">\n",
       "      <th></th>\n",
       "      <th>Book Name</th>\n",
       "      <th>Author</th>\n",
       "      <th>Price</th>\n",
       "      <th>Customers_Rated</th>\n",
       "      <th>Rating</th>\n",
       "      <th>Book_cover</th>\n",
       "      <th>Only_Rating</th>\n",
       "      <th>N_Rating</th>\n",
       "      <th>W_Rating</th>\n",
       "      <th>sucess</th>\n",
       "    </tr>\n",
       "  </thead>\n",
       "  <tbody>\n",
       "    <tr>\n",
       "      <th>0</th>\n",
       "      <td>Finding Me: A Memoir</td>\n",
       "      <td>Viola Davis</td>\n",
       "      <td>18.84</td>\n",
       "      <td>314</td>\n",
       "      <td>4.8 out of 5 stars 314</td>\n",
       "      <td>Hardcover</td>\n",
       "      <td>4.8</td>\n",
       "      <td>314.0</td>\n",
       "      <td>0.000173</td>\n",
       "      <td>1</td>\n",
       "    </tr>\n",
       "    <tr>\n",
       "      <th>1</th>\n",
       "      <td>Atomic Habits: An Easy &amp; Proven Way to Build G...</td>\n",
       "      <td>James Clear</td>\n",
       "      <td>11.98</td>\n",
       "      <td>79,977</td>\n",
       "      <td>4.8 out of 5 stars 79,977</td>\n",
       "      <td>Hardcover</td>\n",
       "      <td>4.8</td>\n",
       "      <td>79977.0</td>\n",
       "      <td>0.043947</td>\n",
       "      <td>1</td>\n",
       "    </tr>\n",
       "    <tr>\n",
       "      <th>4</th>\n",
       "      <td>Just Tyrus: A Memoir</td>\n",
       "      <td>Tyrus</td>\n",
       "      <td>32.49</td>\n",
       "      <td>898</td>\n",
       "      <td>4.7 out of 5 stars 898</td>\n",
       "      <td>Hardcover</td>\n",
       "      <td>4.7</td>\n",
       "      <td>898.0</td>\n",
       "      <td>0.000483</td>\n",
       "      <td>1</td>\n",
       "    </tr>\n",
       "    <tr>\n",
       "      <th>6</th>\n",
       "      <td>The Mothers and Daughters of the Bible Speak: ...</td>\n",
       "      <td>Shannon Bream</td>\n",
       "      <td>17.05</td>\n",
       "      <td>786</td>\n",
       "      <td>4.9 out of 5 stars 786</td>\n",
       "      <td>Hardcover</td>\n",
       "      <td>4.9</td>\n",
       "      <td>786.0</td>\n",
       "      <td>0.000441</td>\n",
       "      <td>1</td>\n",
       "    </tr>\n",
       "    <tr>\n",
       "      <th>7</th>\n",
       "      <td>Johnny the Walrus</td>\n",
       "      <td>Matt Walsh</td>\n",
       "      <td>14.18</td>\n",
       "      <td>2,620</td>\n",
       "      <td>4.9 out of 5 stars 2,620</td>\n",
       "      <td>Board book</td>\n",
       "      <td>4.9</td>\n",
       "      <td>2620.0</td>\n",
       "      <td>0.001470</td>\n",
       "      <td>1</td>\n",
       "    </tr>\n",
       "    <tr>\n",
       "      <th>8</th>\n",
       "      <td>Where the Crawdads Sing</td>\n",
       "      <td>Delia Owens</td>\n",
       "      <td>9.98</td>\n",
       "      <td>221,019</td>\n",
       "      <td>4.8 out of 5 stars 221,019</td>\n",
       "      <td>Paperback</td>\n",
       "      <td>4.8</td>\n",
       "      <td>221019.0</td>\n",
       "      <td>0.121450</td>\n",
       "      <td>1</td>\n",
       "    </tr>\n",
       "    <tr>\n",
       "      <th>9</th>\n",
       "      <td>Oh, the Places You'll Go!</td>\n",
       "      <td>Dr. Seuss</td>\n",
       "      <td>8.98</td>\n",
       "      <td>36,141</td>\n",
       "      <td>4.9 out of 5 stars 36,141</td>\n",
       "      <td>Hardcover</td>\n",
       "      <td>4.9</td>\n",
       "      <td>36141.0</td>\n",
       "      <td>0.020273</td>\n",
       "      <td>1</td>\n",
       "    </tr>\n",
       "    <tr>\n",
       "      <th>11</th>\n",
       "      <td>It Ends with Us: A Novel (1)</td>\n",
       "      <td>Colleen Hoover</td>\n",
       "      <td>11.17</td>\n",
       "      <td>88,865</td>\n",
       "      <td>4.7 out of 5 stars 88,865</td>\n",
       "      <td>Paperback</td>\n",
       "      <td>4.7</td>\n",
       "      <td>88865.0</td>\n",
       "      <td>0.047814</td>\n",
       "      <td>1</td>\n",
       "    </tr>\n",
       "    <tr>\n",
       "      <th>14</th>\n",
       "      <td>Mothers Day Gifts: Mom I Want to Hear Your Sto...</td>\n",
       "      <td>Alberta Chompegne</td>\n",
       "      <td>9.99</td>\n",
       "      <td>5</td>\n",
       "      <td>5.0 out of 5 stars 5</td>\n",
       "      <td>Paperback</td>\n",
       "      <td>5.0</td>\n",
       "      <td>5.0</td>\n",
       "      <td>0.000003</td>\n",
       "      <td>1</td>\n",
       "    </tr>\n",
       "    <tr>\n",
       "      <th>17</th>\n",
       "      <td>Half Baked Harvest Every Day: Recipes for Bala...</td>\n",
       "      <td>Tieghan Gerard</td>\n",
       "      <td>19.48</td>\n",
       "      <td>857</td>\n",
       "      <td>4.8 out of 5 stars 857</td>\n",
       "      <td>Hardcover</td>\n",
       "      <td>4.8</td>\n",
       "      <td>857.0</td>\n",
       "      <td>0.000471</td>\n",
       "      <td>1</td>\n",
       "    </tr>\n",
       "  </tbody>\n",
       "</table>\n",
       "</div>"
      ],
      "text/plain": [
       "                                            Book Name             Author  \\\n",
       "0                                Finding Me: A Memoir        Viola Davis   \n",
       "1   Atomic Habits: An Easy & Proven Way to Build G...        James Clear   \n",
       "4                                Just Tyrus: A Memoir              Tyrus   \n",
       "6   The Mothers and Daughters of the Bible Speak: ...      Shannon Bream   \n",
       "7                                   Johnny the Walrus         Matt Walsh   \n",
       "8                             Where the Crawdads Sing        Delia Owens   \n",
       "9                           Oh, the Places You'll Go!          Dr. Seuss   \n",
       "11                       It Ends with Us: A Novel (1)     Colleen Hoover   \n",
       "14  Mothers Day Gifts: Mom I Want to Hear Your Sto...  Alberta Chompegne   \n",
       "17  Half Baked Harvest Every Day: Recipes for Bala...     Tieghan Gerard   \n",
       "\n",
       "    Price Customers_Rated                      Rating  Book_cover  \\\n",
       "0   18.84             314      4.8 out of 5 stars 314   Hardcover   \n",
       "1   11.98          79,977   4.8 out of 5 stars 79,977   Hardcover   \n",
       "4   32.49             898      4.7 out of 5 stars 898   Hardcover   \n",
       "6   17.05             786      4.9 out of 5 stars 786   Hardcover   \n",
       "7   14.18           2,620    4.9 out of 5 stars 2,620  Board book   \n",
       "8    9.98         221,019  4.8 out of 5 stars 221,019   Paperback   \n",
       "9    8.98          36,141   4.9 out of 5 stars 36,141   Hardcover   \n",
       "11  11.17          88,865   4.7 out of 5 stars 88,865   Paperback   \n",
       "14   9.99               5        5.0 out of 5 stars 5   Paperback   \n",
       "17  19.48             857      4.8 out of 5 stars 857   Hardcover   \n",
       "\n",
       "    Only_Rating  N_Rating  W_Rating  sucess  \n",
       "0           4.8     314.0  0.000173       1  \n",
       "1           4.8   79977.0  0.043947       1  \n",
       "4           4.7     898.0  0.000483       1  \n",
       "6           4.9     786.0  0.000441       1  \n",
       "7           4.9    2620.0  0.001470       1  \n",
       "8           4.8  221019.0  0.121450       1  \n",
       "9           4.9   36141.0  0.020273       1  \n",
       "11          4.7   88865.0  0.047814       1  \n",
       "14          5.0       5.0  0.000003       1  \n",
       "17          4.8     857.0  0.000471       1  "
      ]
     },
     "execution_count": 17,
     "metadata": {},
     "output_type": "execute_result"
    }
   ],
   "source": [
    "sucess_amazon = amazon.query('sucess == 1')\n",
    "top_books_amazon = sucess_amazon['Book Name'][0:10]\n",
    "top_amazon = amazon[amazon['Book Name'].isin(top_books_amazon)]\n",
    "top_amazon"
   ]
  },
  {
   "cell_type": "code",
   "execution_count": 18,
   "id": "cd501352",
   "metadata": {
    "execution": {
     "iopub.execute_input": "2022-06-06T03:54:15.249726Z",
     "iopub.status.busy": "2022-06-06T03:54:15.249011Z",
     "iopub.status.idle": "2022-06-06T03:54:15.272868Z",
     "shell.execute_reply": "2022-06-06T03:54:15.271530Z"
    },
    "papermill": {
     "duration": 0.037334,
     "end_time": "2022-06-06T03:54:15.275833",
     "exception": false,
     "start_time": "2022-06-06T03:54:15.238499",
     "status": "completed"
    },
    "tags": []
   },
   "outputs": [
    {
     "name": "stderr",
     "output_type": "stream",
     "text": [
      "/opt/conda/lib/python3.7/site-packages/ipykernel_launcher.py:1: SettingWithCopyWarning: \n",
      "A value is trying to be set on a copy of a slice from a DataFrame.\n",
      "Try using .loc[row_indexer,col_indexer] = value instead\n",
      "\n",
      "See the caveats in the documentation: https://pandas.pydata.org/pandas-docs/stable/user_guide/indexing.html#returning-a-view-versus-a-copy\n",
      "  \"\"\"Entry point for launching an IPython kernel.\n",
      "/opt/conda/lib/python3.7/site-packages/ipykernel_launcher.py:2: SettingWithCopyWarning: \n",
      "A value is trying to be set on a copy of a slice from a DataFrame.\n",
      "Try using .loc[row_indexer,col_indexer] = value instead\n",
      "\n",
      "See the caveats in the documentation: https://pandas.pydata.org/pandas-docs/stable/user_guide/indexing.html#returning-a-view-versus-a-copy\n",
      "  \n",
      "/opt/conda/lib/python3.7/site-packages/ipykernel_launcher.py:3: SettingWithCopyWarning: \n",
      "A value is trying to be set on a copy of a slice from a DataFrame.\n",
      "Try using .loc[row_indexer,col_indexer] = value instead\n",
      "\n",
      "See the caveats in the documentation: https://pandas.pydata.org/pandas-docs/stable/user_guide/indexing.html#returning-a-view-versus-a-copy\n",
      "  This is separate from the ipykernel package so we can avoid doing imports until\n"
     ]
    },
    {
     "data": {
      "text/html": [
       "<div>\n",
       "<style scoped>\n",
       "    .dataframe tbody tr th:only-of-type {\n",
       "        vertical-align: middle;\n",
       "    }\n",
       "\n",
       "    .dataframe tbody tr th {\n",
       "        vertical-align: top;\n",
       "    }\n",
       "\n",
       "    .dataframe thead th {\n",
       "        text-align: right;\n",
       "    }\n",
       "</style>\n",
       "<table border=\"1\" class=\"dataframe\">\n",
       "  <thead>\n",
       "    <tr style=\"text-align: right;\">\n",
       "      <th></th>\n",
       "      <th>Book Name</th>\n",
       "      <th>Author</th>\n",
       "      <th>Price</th>\n",
       "      <th>Customers_Rated</th>\n",
       "      <th>Rating</th>\n",
       "      <th>Book_cover</th>\n",
       "      <th>Only_Rating</th>\n",
       "      <th>N_Rating</th>\n",
       "      <th>W_Rating</th>\n",
       "      <th>sucess</th>\n",
       "    </tr>\n",
       "  </thead>\n",
       "  <tbody>\n",
       "    <tr>\n",
       "      <th>0</th>\n",
       "      <td>Finding Me</td>\n",
       "      <td>Viola Davis</td>\n",
       "      <td>18.84</td>\n",
       "      <td>314</td>\n",
       "      <td>4.8 out of 5 stars 314</td>\n",
       "      <td>Hardcover</td>\n",
       "      <td>4.8</td>\n",
       "      <td>314.0</td>\n",
       "      <td>0.000173</td>\n",
       "      <td>1</td>\n",
       "    </tr>\n",
       "    <tr>\n",
       "      <th>1</th>\n",
       "      <td>Atomic Habits</td>\n",
       "      <td>James Clear</td>\n",
       "      <td>11.98</td>\n",
       "      <td>79,977</td>\n",
       "      <td>4.8 out of 5 stars 79,977</td>\n",
       "      <td>Hardcover</td>\n",
       "      <td>4.8</td>\n",
       "      <td>79977.0</td>\n",
       "      <td>0.043947</td>\n",
       "      <td>1</td>\n",
       "    </tr>\n",
       "    <tr>\n",
       "      <th>4</th>\n",
       "      <td>Just Tyrus</td>\n",
       "      <td>Tyrus</td>\n",
       "      <td>32.49</td>\n",
       "      <td>898</td>\n",
       "      <td>4.7 out of 5 stars 898</td>\n",
       "      <td>Hardcover</td>\n",
       "      <td>4.7</td>\n",
       "      <td>898.0</td>\n",
       "      <td>0.000483</td>\n",
       "      <td>1</td>\n",
       "    </tr>\n",
       "    <tr>\n",
       "      <th>6</th>\n",
       "      <td>The Mothers and Daughters of the Bible Speak</td>\n",
       "      <td>Shannon Bream</td>\n",
       "      <td>17.05</td>\n",
       "      <td>786</td>\n",
       "      <td>4.9 out of 5 stars 786</td>\n",
       "      <td>Hardcover</td>\n",
       "      <td>4.9</td>\n",
       "      <td>786.0</td>\n",
       "      <td>0.000441</td>\n",
       "      <td>1</td>\n",
       "    </tr>\n",
       "    <tr>\n",
       "      <th>7</th>\n",
       "      <td>Johnny the Walrus</td>\n",
       "      <td>Matt Walsh</td>\n",
       "      <td>14.18</td>\n",
       "      <td>2,620</td>\n",
       "      <td>4.9 out of 5 stars 2,620</td>\n",
       "      <td>Board book</td>\n",
       "      <td>4.9</td>\n",
       "      <td>2620.0</td>\n",
       "      <td>0.001470</td>\n",
       "      <td>1</td>\n",
       "    </tr>\n",
       "    <tr>\n",
       "      <th>8</th>\n",
       "      <td>Where the Crawdads Sing</td>\n",
       "      <td>Delia Owens</td>\n",
       "      <td>9.98</td>\n",
       "      <td>221,019</td>\n",
       "      <td>4.8 out of 5 stars 221,019</td>\n",
       "      <td>Paperback</td>\n",
       "      <td>4.8</td>\n",
       "      <td>221019.0</td>\n",
       "      <td>0.121450</td>\n",
       "      <td>1</td>\n",
       "    </tr>\n",
       "    <tr>\n",
       "      <th>9</th>\n",
       "      <td>Oh, the Places You'll Go!</td>\n",
       "      <td>Dr. Seuss</td>\n",
       "      <td>8.98</td>\n",
       "      <td>36,141</td>\n",
       "      <td>4.9 out of 5 stars 36,141</td>\n",
       "      <td>Hardcover</td>\n",
       "      <td>4.9</td>\n",
       "      <td>36141.0</td>\n",
       "      <td>0.020273</td>\n",
       "      <td>1</td>\n",
       "    </tr>\n",
       "    <tr>\n",
       "      <th>11</th>\n",
       "      <td>It Ends with Us</td>\n",
       "      <td>Colleen Hoover</td>\n",
       "      <td>11.17</td>\n",
       "      <td>88,865</td>\n",
       "      <td>4.7 out of 5 stars 88,865</td>\n",
       "      <td>Paperback</td>\n",
       "      <td>4.7</td>\n",
       "      <td>88865.0</td>\n",
       "      <td>0.047814</td>\n",
       "      <td>1</td>\n",
       "    </tr>\n",
       "    <tr>\n",
       "      <th>14</th>\n",
       "      <td>Mothers Day Gifts</td>\n",
       "      <td>Alberta Chompegne</td>\n",
       "      <td>9.99</td>\n",
       "      <td>5</td>\n",
       "      <td>5.0 out of 5 stars 5</td>\n",
       "      <td>Paperback</td>\n",
       "      <td>5.0</td>\n",
       "      <td>5.0</td>\n",
       "      <td>0.000003</td>\n",
       "      <td>1</td>\n",
       "    </tr>\n",
       "    <tr>\n",
       "      <th>17</th>\n",
       "      <td>Half Baked Harvest Every Day</td>\n",
       "      <td>Tieghan Gerard</td>\n",
       "      <td>19.48</td>\n",
       "      <td>857</td>\n",
       "      <td>4.8 out of 5 stars 857</td>\n",
       "      <td>Hardcover</td>\n",
       "      <td>4.8</td>\n",
       "      <td>857.0</td>\n",
       "      <td>0.000471</td>\n",
       "      <td>1</td>\n",
       "    </tr>\n",
       "  </tbody>\n",
       "</table>\n",
       "</div>"
      ],
      "text/plain": [
       "                                       Book Name             Author  Price  \\\n",
       "0                                     Finding Me        Viola Davis  18.84   \n",
       "1                                  Atomic Habits        James Clear  11.98   \n",
       "4                                     Just Tyrus              Tyrus  32.49   \n",
       "6   The Mothers and Daughters of the Bible Speak      Shannon Bream  17.05   \n",
       "7                              Johnny the Walrus         Matt Walsh  14.18   \n",
       "8                        Where the Crawdads Sing        Delia Owens   9.98   \n",
       "9                      Oh, the Places You'll Go!          Dr. Seuss   8.98   \n",
       "11                               It Ends with Us     Colleen Hoover  11.17   \n",
       "14                             Mothers Day Gifts  Alberta Chompegne   9.99   \n",
       "17                  Half Baked Harvest Every Day     Tieghan Gerard  19.48   \n",
       "\n",
       "   Customers_Rated                      Rating  Book_cover  Only_Rating  \\\n",
       "0              314      4.8 out of 5 stars 314   Hardcover          4.8   \n",
       "1           79,977   4.8 out of 5 stars 79,977   Hardcover          4.8   \n",
       "4              898      4.7 out of 5 stars 898   Hardcover          4.7   \n",
       "6              786      4.9 out of 5 stars 786   Hardcover          4.9   \n",
       "7            2,620    4.9 out of 5 stars 2,620  Board book          4.9   \n",
       "8          221,019  4.8 out of 5 stars 221,019   Paperback          4.8   \n",
       "9           36,141   4.9 out of 5 stars 36,141   Hardcover          4.9   \n",
       "11          88,865   4.7 out of 5 stars 88,865   Paperback          4.7   \n",
       "14               5        5.0 out of 5 stars 5   Paperback          5.0   \n",
       "17             857      4.8 out of 5 stars 857   Hardcover          4.8   \n",
       "\n",
       "    N_Rating  W_Rating  sucess  \n",
       "0      314.0  0.000173       1  \n",
       "1    79977.0  0.043947       1  \n",
       "4      898.0  0.000483       1  \n",
       "6      786.0  0.000441       1  \n",
       "7     2620.0  0.001470       1  \n",
       "8   221019.0  0.121450       1  \n",
       "9    36141.0  0.020273       1  \n",
       "11   88865.0  0.047814       1  \n",
       "14       5.0  0.000003       1  \n",
       "17     857.0  0.000471       1  "
      ]
     },
     "execution_count": 18,
     "metadata": {},
     "output_type": "execute_result"
    }
   ],
   "source": [
    "top_amazon['Book Name'] = top_amazon['Book Name'].str.split(\":\").str[0]\n",
    "top_amazon['Book Name'] = top_amazon['Book Name'].str.split(\"(\").str[0]\n",
    "top_amazon['Book Name'] = top_amazon['Book Name'].str.split(\"-\").str[0]\n",
    "top_amazon"
   ]
  },
  {
   "cell_type": "markdown",
   "id": "634d070c",
   "metadata": {
    "papermill": {
     "duration": 0.009669,
     "end_time": "2022-06-06T03:54:15.295263",
     "exception": false,
     "start_time": "2022-06-06T03:54:15.285594",
     "status": "completed"
    },
    "tags": []
   },
   "source": [
    "### Visualizando Amazon"
   ]
  },
  {
   "cell_type": "code",
   "execution_count": 19,
   "id": "ce156f13",
   "metadata": {
    "execution": {
     "iopub.execute_input": "2022-06-06T03:54:15.316964Z",
     "iopub.status.busy": "2022-06-06T03:54:15.316146Z",
     "iopub.status.idle": "2022-06-06T03:54:15.628276Z",
     "shell.execute_reply": "2022-06-06T03:54:15.627460Z"
    },
    "papermill": {
     "duration": 0.325883,
     "end_time": "2022-06-06T03:54:15.631040",
     "exception": false,
     "start_time": "2022-06-06T03:54:15.305157",
     "status": "completed"
    },
    "tags": []
   },
   "outputs": [
    {
     "data": {
      "text/plain": [
       "<AxesSubplot:title={'center':'Preço(dolar) por livro'}, xlabel='Avaliação', ylabel='Livro'>"
      ]
     },
     "execution_count": 19,
     "metadata": {},
     "output_type": "execute_result"
    },
    {
     "data": {
      "image/png": "[encoded data removed]",
      "text/plain": [
       "<Figure size 1080x720 with 1 Axes>"
      ]
     },
     "metadata": {
      "needs_background": "light"
     },
     "output_type": "display_data"
    }
   ],
   "source": [
    "top_amazon = top_amazon.sort_values(by='Price', ascending=False)\n",
    "plt.figure(figsize=(15,10))\n",
    "ax = sns.barplot(data=top_amazon, x='Price', y='Book Name', )\n",
    "ax.set_title('Preço(dolar) por livro', fontsize=25)\n",
    "ax.set_xlabel('Avaliação', fontsize=18)\n",
    "ax.set_ylabel('Livro', fontsize=18)\n",
    "ax"
   ]
  },
  {
   "cell_type": "code",
   "execution_count": 20,
   "id": "522c19c8",
   "metadata": {
    "execution": {
     "iopub.execute_input": "2022-06-06T03:54:15.655472Z",
     "iopub.status.busy": "2022-06-06T03:54:15.655068Z",
     "iopub.status.idle": "2022-06-06T03:54:15.935065Z",
     "shell.execute_reply": "2022-06-06T03:54:15.934015Z"
    },
    "papermill": {
     "duration": 0.294275,
     "end_time": "2022-06-06T03:54:15.937337",
     "exception": false,
     "start_time": "2022-06-06T03:54:15.643062",
     "status": "completed"
    },
    "tags": []
   },
   "outputs": [
    {
     "data": {
      "text/plain": [
       "<AxesSubplot:title={'center':'Avaliação Ponderada por livro'}, xlabel='Avaliação', ylabel='Livro'>"
      ]
     },
     "execution_count": 20,
     "metadata": {},
     "output_type": "execute_result"
    },
    {
     "data": {
      "image/png": "[encoded data removed]",
      "text/plain": [
       "<Figure size 1080x720 with 1 Axes>"
      ]
     },
     "metadata": {
      "needs_background": "light"
     },
     "output_type": "display_data"
    }
   ],
   "source": [
    "top_amazon = top_amazon.sort_values(by='W_Rating', ascending=False)\n",
    "plt.figure(figsize=(15,10))\n",
    "ax = sns.barplot(data=top_amazon, x='W_Rating', y='Book Name', )\n",
    "ax.set_title('Avaliação Ponderada por livro', fontsize=25)\n",
    "ax.set_xlabel('Avaliação', fontsize=18)\n",
    "ax.set_ylabel('Livro', fontsize=18)\n",
    "ax"
   ]
  },
  {
   "cell_type": "code",
   "execution_count": 21,
   "id": "e4810325",
   "metadata": {
    "execution": {
     "iopub.execute_input": "2022-06-06T03:54:15.961906Z",
     "iopub.status.busy": "2022-06-06T03:54:15.960975Z",
     "iopub.status.idle": "2022-06-06T03:54:16.203217Z",
     "shell.execute_reply": "2022-06-06T03:54:16.202424Z"
    },
    "papermill": {
     "duration": 0.257196,
     "end_time": "2022-06-06T03:54:16.205794",
     "exception": false,
     "start_time": "2022-06-06T03:54:15.948598",
     "status": "completed"
    },
    "tags": []
   },
   "outputs": [
    {
     "data": {
      "text/plain": [
       "62"
      ]
     },
     "execution_count": 21,
     "metadata": {},
     "output_type": "execute_result"
    },
    {
     "data": {
      "image/png": "[encoded data removed]",
      "text/plain": [
       "<Figure size 864x576 with 1 Axes>"
      ]
     },
     "metadata": {
      "needs_background": "light"
     },
     "output_type": "display_data"
    }
   ],
   "source": [
    "amazon = amazon.sort_values(by='Price', ascending=False)\n",
    "plt.figure(figsize=(12,8))\n",
    "ax = sns.scatterplot(data=amazon, x='W_Rating', y='Price',s=100)\n",
    "ax.set_title('Relação geral entre preço e avaliação', fontsize=25)\n",
    "ax.set_xlabel('Avaliação', fontsize=18)\n",
    "ax.set_ylabel('Preço', fontsize=18)\n",
    "a"
   ]
  },
  {
   "cell_type": "code",
   "execution_count": null,
   "id": "822fd8f8",
   "metadata": {
    "papermill": {
     "duration": 0.0119,
     "end_time": "2022-06-06T03:54:16.229659",
     "exception": false,
     "start_time": "2022-06-06T03:54:16.217759",
     "status": "completed"
    },
    "tags": []
   },
   "outputs": [],
   "source": []
  }
 ],
 "metadata": {
  "kernelspec": {
   "display_name": "Python 3",
   "language": "python",
   "name": "python3"
  },
  "language_info": {
   "codemirror_mode": {
    "name": "ipython",
    "version": 3
   },
   "file_extension": ".py",
   "mimetype": "text/x-python",
   "name": "python",
   "nbconvert_exporter": "python",
   "pygments_lexer": "ipython3",
   "version": "3.7.12"
  },
  "papermill": {
   "default_parameters": {},
   "duration": 12.960892,
   "end_time": "2022-06-06T03:54:16.961187",
   "environment_variables": {},
   "exception": null,
   "input_path": "__notebook__.ipynb",
   "output_path": "__notebook__.ipynb",
   "parameters": {},
   "start_time": "2022-06-06T03:54:04.000295",
   "version": "2.3.4"
  }
 },
 "nbformat": 4,
 "nbformat_minor": 5
}

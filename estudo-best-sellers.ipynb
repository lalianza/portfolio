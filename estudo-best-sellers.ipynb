{
 "cells": [
  {
   "cell_type": "markdown",
   "id": "82d2e116",
   "metadata": {
    "papermill": {
     "duration": 0.012013,
     "end_time": "2022-06-02T21:29:21.825312",
     "exception": false,
     "start_time": "2022-06-02T21:29:21.813299",
     "status": "completed"
    },
    "tags": []
   },
   "source": [
    "# Estudo de Insights de Best Sellers "
   ]
  },
  {
   "cell_type": "markdown",
   "id": "e9fd561c",
   "metadata": {
    "papermill": {
     "duration": 0.008432,
     "end_time": "2022-06-02T21:29:21.843387",
     "exception": false,
     "start_time": "2022-06-02T21:29:21.834955",
     "status": "completed"
    },
    "tags": []
   },
   "source": [
    "Os dados utilizados foram disponibilizados no Kaggle por Diógenes Silva. O propósito é estudar e demonstrar formas de utilizar os dados para gerar insights para uma editora especializada em Best Sellers. Os dados foram retirados de sites de três sites de venda, Amazon, Barnes & Noble, eBay. Os dados foram disponibilizados em duas formas, limpos e não limpos, irei utilizar os não limpos. "
   ]
  },
  {
   "cell_type": "code",
   "execution_count": 1,
   "id": "2c287d21",
   "metadata": {
    "execution": {
     "iopub.execute_input": "2022-06-02T21:29:21.862782Z",
     "iopub.status.busy": "2022-06-02T21:29:21.862263Z",
     "iopub.status.idle": "2022-06-02T21:29:22.988920Z",
     "shell.execute_reply": "2022-06-02T21:29:22.987844Z"
    },
    "papermill": {
     "duration": 1.139479,
     "end_time": "2022-06-02T21:29:22.991544",
     "exception": false,
     "start_time": "2022-06-02T21:29:21.852065",
     "status": "completed"
    },
    "tags": []
   },
   "outputs": [],
   "source": [
    "import pandas as pd\n",
    "import seaborn as sns\n",
    "import numpy as np\n",
    "import matplotlib.pyplot as plt\n",
    "from mpl_toolkits.mplot3d import Axes3D"
   ]
  },
  {
   "cell_type": "code",
   "execution_count": 2,
   "id": "a639ebd8",
   "metadata": {
    "execution": {
     "iopub.execute_input": "2022-06-02T21:29:23.009901Z",
     "iopub.status.busy": "2022-06-02T21:29:23.009471Z",
     "iopub.status.idle": "2022-06-02T21:29:23.052607Z",
     "shell.execute_reply": "2022-06-02T21:29:23.051697Z"
    },
    "papermill": {
     "duration": 0.05517,
     "end_time": "2022-06-02T21:29:23.055147",
     "exception": false,
     "start_time": "2022-06-02T21:29:22.999977",
     "status": "completed"
    },
    "tags": []
   },
   "outputs": [],
   "source": [
    "amazon = pd.read_csv('../input/bestsellers-books-amazon-ebay-and-barnesnoble/amazon_products.csv')\n",
    "barnes_nobles = pd.read_csv('../input/bestsellers-books-amazon-ebay-and-barnesnoble/barnes_noble_products.csv')\n",
    "ebay = pd.read_csv('../input/bestsellers-books-amazon-ebay-and-barnesnoble/ebay_products.csv')"
   ]
  },
  {
   "cell_type": "code",
   "execution_count": 3,
   "id": "ae76c9dd",
   "metadata": {
    "execution": {
     "iopub.execute_input": "2022-06-02T21:29:23.073833Z",
     "iopub.status.busy": "2022-06-02T21:29:23.073247Z",
     "iopub.status.idle": "2022-06-02T21:29:23.096487Z",
     "shell.execute_reply": "2022-06-02T21:29:23.095743Z"
    },
    "papermill": {
     "duration": 0.035499,
     "end_time": "2022-06-02T21:29:23.099182",
     "exception": false,
     "start_time": "2022-06-02T21:29:23.063683",
     "status": "completed"
    },
    "tags": []
   },
   "outputs": [
    {
     "data": {
      "text/html": [
       "<div>\n",
       "<style scoped>\n",
       "    .dataframe tbody tr th:only-of-type {\n",
       "        vertical-align: middle;\n",
       "    }\n",
       "\n",
       "    .dataframe tbody tr th {\n",
       "        vertical-align: top;\n",
       "    }\n",
       "\n",
       "    .dataframe thead th {\n",
       "        text-align: right;\n",
       "    }\n",
       "</style>\n",
       "<table border=\"1\" class=\"dataframe\">\n",
       "  <thead>\n",
       "    <tr style=\"text-align: right;\">\n",
       "      <th></th>\n",
       "      <th>Book Name</th>\n",
       "      <th>Author</th>\n",
       "      <th>Price</th>\n",
       "      <th>Customers_Rated</th>\n",
       "      <th>Rating</th>\n",
       "      <th>Book_cover</th>\n",
       "    </tr>\n",
       "  </thead>\n",
       "  <tbody>\n",
       "    <tr>\n",
       "      <th>0</th>\n",
       "      <td>Finding Me: A Memoir</td>\n",
       "      <td>Viola Davis</td>\n",
       "      <td>$18.84</td>\n",
       "      <td>314</td>\n",
       "      <td>4.8 out of 5 stars 314</td>\n",
       "      <td>Hardcover</td>\n",
       "    </tr>\n",
       "    <tr>\n",
       "      <th>1</th>\n",
       "      <td>Atomic Habits: An Easy &amp; Proven Way to Build G...</td>\n",
       "      <td>James Clear</td>\n",
       "      <td>$11.98</td>\n",
       "      <td>79,977</td>\n",
       "      <td>4.8 out of 5 stars 79,977</td>\n",
       "      <td>Hardcover</td>\n",
       "    </tr>\n",
       "    <tr>\n",
       "      <th>2</th>\n",
       "      <td>This Will Not Pass: Trump, Biden, and the Batt...</td>\n",
       "      <td>Jonathan Martin</td>\n",
       "      <td>$24.99</td>\n",
       "      <td>4</td>\n",
       "      <td>4.2 out of 5 stars 4</td>\n",
       "      <td>Hardcover</td>\n",
       "    </tr>\n",
       "    <tr>\n",
       "      <th>3</th>\n",
       "      <td>Bill O'Reilly</td>\n",
       "      <td>NaN</td>\n",
       "      <td>NaN</td>\n",
       "      <td>NaN</td>\n",
       "      <td>NaN</td>\n",
       "      <td>NaN</td>\n",
       "    </tr>\n",
       "    <tr>\n",
       "      <th>4</th>\n",
       "      <td>Just Tyrus: A Memoir</td>\n",
       "      <td>Tyrus</td>\n",
       "      <td>$32.49</td>\n",
       "      <td>898</td>\n",
       "      <td>4.7 out of 5 stars 898</td>\n",
       "      <td>Hardcover</td>\n",
       "    </tr>\n",
       "  </tbody>\n",
       "</table>\n",
       "</div>"
      ],
      "text/plain": [
       "                                           Book Name           Author   Price  \\\n",
       "0                               Finding Me: A Memoir      Viola Davis  $18.84   \n",
       "1  Atomic Habits: An Easy & Proven Way to Build G...      James Clear  $11.98   \n",
       "2  This Will Not Pass: Trump, Biden, and the Batt...  Jonathan Martin  $24.99   \n",
       "3                                      Bill O'Reilly              NaN     NaN   \n",
       "4                               Just Tyrus: A Memoir            Tyrus  $32.49   \n",
       "\n",
       "  Customers_Rated                     Rating Book_cover  \n",
       "0             314     4.8 out of 5 stars 314  Hardcover  \n",
       "1          79,977  4.8 out of 5 stars 79,977  Hardcover  \n",
       "2               4       4.2 out of 5 stars 4  Hardcover  \n",
       "3             NaN                        NaN        NaN  \n",
       "4             898     4.7 out of 5 stars 898  Hardcover  "
      ]
     },
     "execution_count": 3,
     "metadata": {},
     "output_type": "execute_result"
    }
   ],
   "source": [
    "amazon.head(5)"
   ]
  },
  {
   "cell_type": "code",
   "execution_count": 4,
   "id": "6add6fe6",
   "metadata": {
    "execution": {
     "iopub.execute_input": "2022-06-02T21:29:23.118506Z",
     "iopub.status.busy": "2022-06-02T21:29:23.117454Z",
     "iopub.status.idle": "2022-06-02T21:29:23.129302Z",
     "shell.execute_reply": "2022-06-02T21:29:23.128589Z"
    },
    "papermill": {
     "duration": 0.023379,
     "end_time": "2022-06-02T21:29:23.131422",
     "exception": false,
     "start_time": "2022-06-02T21:29:23.108043",
     "status": "completed"
    },
    "tags": []
   },
   "outputs": [
    {
     "data": {
      "text/html": [
       "<div>\n",
       "<style scoped>\n",
       "    .dataframe tbody tr th:only-of-type {\n",
       "        vertical-align: middle;\n",
       "    }\n",
       "\n",
       "    .dataframe tbody tr th {\n",
       "        vertical-align: top;\n",
       "    }\n",
       "\n",
       "    .dataframe thead th {\n",
       "        text-align: right;\n",
       "    }\n",
       "</style>\n",
       "<table border=\"1\" class=\"dataframe\">\n",
       "  <thead>\n",
       "    <tr style=\"text-align: right;\">\n",
       "      <th></th>\n",
       "      <th>Book Name</th>\n",
       "      <th>Year</th>\n",
       "      <th>Author</th>\n",
       "      <th>Price</th>\n",
       "      <th>Book_cover</th>\n",
       "    </tr>\n",
       "  </thead>\n",
       "  <tbody>\n",
       "    <tr>\n",
       "      <th>0</th>\n",
       "      <td>Heartstopper, Volume 2</td>\n",
       "      <td>2020</td>\n",
       "      <td>Alice Oseman</td>\n",
       "      <td>12.99</td>\n",
       "      <td>Paperback</td>\n",
       "    </tr>\n",
       "    <tr>\n",
       "      <th>1</th>\n",
       "      <td>Heartstopper, Volume 1</td>\n",
       "      <td>2020</td>\n",
       "      <td>Alice Oseman</td>\n",
       "      <td>12.99</td>\n",
       "      <td>Paperback</td>\n",
       "    </tr>\n",
       "    <tr>\n",
       "      <th>2</th>\n",
       "      <td>The Mothers and Daughters of the Bible Speak: ...</td>\n",
       "      <td>2022</td>\n",
       "      <td>Shannon Bream</td>\n",
       "      <td>19.99</td>\n",
       "      <td>Hardcover</td>\n",
       "    </tr>\n",
       "    <tr>\n",
       "      <th>3</th>\n",
       "      <td>Book Lovers</td>\n",
       "      <td>2022</td>\n",
       "      <td>Emily Henry</td>\n",
       "      <td>14.99</td>\n",
       "      <td>Paperback</td>\n",
       "    </tr>\n",
       "    <tr>\n",
       "      <th>4</th>\n",
       "      <td>Knight Owl</td>\n",
       "      <td>2022</td>\n",
       "      <td>Christopher Denise</td>\n",
       "      <td>14.99</td>\n",
       "      <td>Hardcover</td>\n",
       "    </tr>\n",
       "  </tbody>\n",
       "</table>\n",
       "</div>"
      ],
      "text/plain": [
       "                                           Book Name  Year  \\\n",
       "0                             Heartstopper, Volume 2  2020   \n",
       "1                             Heartstopper, Volume 1  2020   \n",
       "2  The Mothers and Daughters of the Bible Speak: ...  2022   \n",
       "3                                        Book Lovers  2022   \n",
       "4                                         Knight Owl  2022   \n",
       "\n",
       "               Author  Price Book_cover  \n",
       "0        Alice Oseman  12.99  Paperback  \n",
       "1        Alice Oseman  12.99  Paperback  \n",
       "2       Shannon Bream  19.99  Hardcover  \n",
       "3         Emily Henry  14.99  Paperback  \n",
       "4  Christopher Denise  14.99  Hardcover  "
      ]
     },
     "execution_count": 4,
     "metadata": {},
     "output_type": "execute_result"
    }
   ],
   "source": [
    "barnes_nobles.head(5)"
   ]
  },
  {
   "cell_type": "code",
   "execution_count": 5,
   "id": "48cbf25a",
   "metadata": {
    "execution": {
     "iopub.execute_input": "2022-06-02T21:29:23.151441Z",
     "iopub.status.busy": "2022-06-02T21:29:23.150911Z",
     "iopub.status.idle": "2022-06-02T21:29:23.165700Z",
     "shell.execute_reply": "2022-06-02T21:29:23.164948Z"
    },
    "papermill": {
     "duration": 0.027548,
     "end_time": "2022-06-02T21:29:23.167947",
     "exception": false,
     "start_time": "2022-06-02T21:29:23.140399",
     "status": "completed"
    },
    "tags": []
   },
   "outputs": [
    {
     "data": {
      "text/html": [
       "<div>\n",
       "<style scoped>\n",
       "    .dataframe tbody tr th:only-of-type {\n",
       "        vertical-align: middle;\n",
       "    }\n",
       "\n",
       "    .dataframe tbody tr th {\n",
       "        vertical-align: top;\n",
       "    }\n",
       "\n",
       "    .dataframe thead th {\n",
       "        text-align: right;\n",
       "    }\n",
       "</style>\n",
       "<table border=\"1\" class=\"dataframe\">\n",
       "  <thead>\n",
       "    <tr style=\"text-align: right;\">\n",
       "      <th></th>\n",
       "      <th>Book Name</th>\n",
       "      <th>Author</th>\n",
       "      <th>Year</th>\n",
       "      <th>Book_cover</th>\n",
       "      <th>price_new</th>\n",
       "      <th>price_used</th>\n",
       "      <th>Rating</th>\n",
       "      <th>Customers_Rated</th>\n",
       "    </tr>\n",
       "  </thead>\n",
       "  <tbody>\n",
       "    <tr>\n",
       "      <th>0</th>\n",
       "      <td>The Lost Book of Herbal Remedies</td>\n",
       "      <td>Claude Davis</td>\n",
       "      <td>2018</td>\n",
       "      <td>Paperback</td>\n",
       "      <td>37.00</td>\n",
       "      <td>35.00</td>\n",
       "      <td>4.8</td>\n",
       "      <td>359.0</td>\n",
       "    </tr>\n",
       "    <tr>\n",
       "      <th>1</th>\n",
       "      <td>Just Tyrus : A Memoir</td>\n",
       "      <td>Tyrus</td>\n",
       "      <td>2022</td>\n",
       "      <td>Hardcover</td>\n",
       "      <td>22.00</td>\n",
       "      <td>---</td>\n",
       "      <td>No</td>\n",
       "      <td>NaN</td>\n",
       "    </tr>\n",
       "    <tr>\n",
       "      <th>2</th>\n",
       "      <td>Heartstopper Ser.: Heartstopper (Heartstopper #1)</td>\n",
       "      <td>Alice Oseman</td>\n",
       "      <td>2020</td>\n",
       "      <td>Trade Paperback</td>\n",
       "      <td>21.95</td>\n",
       "      <td>10.36</td>\n",
       "      <td>5.0</td>\n",
       "      <td>1.0</td>\n",
       "    </tr>\n",
       "    <tr>\n",
       "      <th>3</th>\n",
       "      <td>River of Time : My Descent into Depression and...</td>\n",
       "      <td>Naomi Judd</td>\n",
       "      <td>2017</td>\n",
       "      <td>Trade Paperback</td>\n",
       "      <td>22.95</td>\n",
       "      <td>16.93</td>\n",
       "      <td>No</td>\n",
       "      <td>NaN</td>\n",
       "    </tr>\n",
       "    <tr>\n",
       "      <th>4</th>\n",
       "      <td>Bill o'Reilly's Killing Ser.: Killing the Kill...</td>\n",
       "      <td>Martin Dugard and Bill O'Reilly</td>\n",
       "      <td>2022</td>\n",
       "      <td>Hardcover</td>\n",
       "      <td>19.99</td>\n",
       "      <td>---</td>\n",
       "      <td>No</td>\n",
       "      <td>NaN</td>\n",
       "    </tr>\n",
       "  </tbody>\n",
       "</table>\n",
       "</div>"
      ],
      "text/plain": [
       "                                           Book Name  \\\n",
       "0                   The Lost Book of Herbal Remedies   \n",
       "1                              Just Tyrus : A Memoir   \n",
       "2  Heartstopper Ser.: Heartstopper (Heartstopper #1)   \n",
       "3  River of Time : My Descent into Depression and...   \n",
       "4  Bill o'Reilly's Killing Ser.: Killing the Kill...   \n",
       "\n",
       "                            Author  Year       Book_cover  price_new  \\\n",
       "0                     Claude Davis  2018        Paperback      37.00   \n",
       "1                            Tyrus  2022        Hardcover      22.00   \n",
       "2                     Alice Oseman  2020  Trade Paperback      21.95   \n",
       "3                       Naomi Judd  2017  Trade Paperback      22.95   \n",
       "4  Martin Dugard and Bill O'Reilly  2022        Hardcover      19.99   \n",
       "\n",
       "  price_used Rating  Customers_Rated  \n",
       "0      35.00    4.8            359.0  \n",
       "1        ---    No               NaN  \n",
       "2      10.36    5.0              1.0  \n",
       "3      16.93    No               NaN  \n",
       "4        ---    No               NaN  "
      ]
     },
     "execution_count": 5,
     "metadata": {},
     "output_type": "execute_result"
    }
   ],
   "source": [
    "ebay.head(5)"
   ]
  },
  {
   "cell_type": "code",
   "execution_count": 6,
   "id": "673cf049",
   "metadata": {
    "execution": {
     "iopub.execute_input": "2022-06-02T21:29:23.189300Z",
     "iopub.status.busy": "2022-06-02T21:29:23.188509Z",
     "iopub.status.idle": "2022-06-02T21:29:23.196874Z",
     "shell.execute_reply": "2022-06-02T21:29:23.195055Z"
    },
    "papermill": {
     "duration": 0.022961,
     "end_time": "2022-06-02T21:29:23.199918",
     "exception": false,
     "start_time": "2022-06-02T21:29:23.176957",
     "status": "completed"
    },
    "tags": []
   },
   "outputs": [
    {
     "name": "stdout",
     "output_type": "stream",
     "text": [
      "(62, 6) (80, 5) (100, 8)\n"
     ]
    }
   ],
   "source": [
    "print(amazon.shape, barnes_nobles.shape, ebay.shape)"
   ]
  },
  {
   "cell_type": "code",
   "execution_count": 7,
   "id": "d5e25d70",
   "metadata": {
    "execution": {
     "iopub.execute_input": "2022-06-02T21:29:23.222154Z",
     "iopub.status.busy": "2022-06-02T21:29:23.221200Z",
     "iopub.status.idle": "2022-06-02T21:29:23.232185Z",
     "shell.execute_reply": "2022-06-02T21:29:23.231233Z"
    },
    "papermill": {
     "duration": 0.023449,
     "end_time": "2022-06-02T21:29:23.234167",
     "exception": false,
     "start_time": "2022-06-02T21:29:23.210718",
     "status": "completed"
    },
    "tags": []
   },
   "outputs": [
    {
     "data": {
      "text/plain": [
       "7"
      ]
     },
     "execution_count": 7,
     "metadata": {},
     "output_type": "execute_result"
    }
   ],
   "source": [
    "a = amazon.shape[0]\n",
    "amazon.dropna(inplace=True)\n",
    "b = amazon.shape[0]\n",
    "a-b"
   ]
  },
  {
   "cell_type": "code",
   "execution_count": 8,
   "id": "9e87d82d",
   "metadata": {
    "execution": {
     "iopub.execute_input": "2022-06-02T21:29:23.254093Z",
     "iopub.status.busy": "2022-06-02T21:29:23.253679Z",
     "iopub.status.idle": "2022-06-02T21:29:23.267250Z",
     "shell.execute_reply": "2022-06-02T21:29:23.266465Z"
    },
    "papermill": {
     "duration": 0.02585,
     "end_time": "2022-06-02T21:29:23.269197",
     "exception": false,
     "start_time": "2022-06-02T21:29:23.243347",
     "status": "completed"
    },
    "tags": []
   },
   "outputs": [
    {
     "data": {
      "text/plain": [
       "0"
      ]
     },
     "execution_count": 8,
     "metadata": {},
     "output_type": "execute_result"
    }
   ],
   "source": [
    "a = barnes_nobles.shape[0]\n",
    "barnes_nobles.dropna(inplace=True)\n",
    "b = barnes_nobles.shape[0]\n",
    "a-b"
   ]
  },
  {
   "cell_type": "code",
   "execution_count": 9,
   "id": "4e433a0c",
   "metadata": {
    "execution": {
     "iopub.execute_input": "2022-06-02T21:29:23.290908Z",
     "iopub.status.busy": "2022-06-02T21:29:23.290484Z",
     "iopub.status.idle": "2022-06-02T21:29:23.299588Z",
     "shell.execute_reply": "2022-06-02T21:29:23.298828Z"
    },
    "papermill": {
     "duration": 0.022355,
     "end_time": "2022-06-02T21:29:23.301521",
     "exception": false,
     "start_time": "2022-06-02T21:29:23.279166",
     "status": "completed"
    },
    "tags": []
   },
   "outputs": [
    {
     "data": {
      "text/plain": [
       "43"
      ]
     },
     "execution_count": 9,
     "metadata": {},
     "output_type": "execute_result"
    }
   ],
   "source": [
    "a = ebay.shape[0]\n",
    "ebay.dropna(inplace=True)\n",
    "b = ebay.shape[0]\n",
    "a-b"
   ]
  },
  {
   "cell_type": "markdown",
   "id": "9bced1f9",
   "metadata": {
    "papermill": {
     "duration": 0.008988,
     "end_time": "2022-06-02T21:29:23.319865",
     "exception": false,
     "start_time": "2022-06-02T21:29:23.310877",
     "status": "completed"
    },
    "tags": []
   },
   "source": [
    "### Tratando livros da Amazon"
   ]
  },
  {
   "cell_type": "code",
   "execution_count": 10,
   "id": "7b684e87",
   "metadata": {
    "execution": {
     "iopub.execute_input": "2022-06-02T21:29:23.340844Z",
     "iopub.status.busy": "2022-06-02T21:29:23.340043Z",
     "iopub.status.idle": "2022-06-02T21:29:23.346045Z",
     "shell.execute_reply": "2022-06-02T21:29:23.344700Z"
    },
    "papermill": {
     "duration": 0.018768,
     "end_time": "2022-06-02T21:29:23.348082",
     "exception": false,
     "start_time": "2022-06-02T21:29:23.329314",
     "status": "completed"
    },
    "tags": []
   },
   "outputs": [
    {
     "name": "stdout",
     "output_type": "stream",
     "text": [
      "(55, 6) (80, 5) (57, 8)\n"
     ]
    }
   ],
   "source": [
    "print(amazon.shape, barnes_nobles.shape, ebay.shape)"
   ]
  },
  {
   "cell_type": "code",
   "execution_count": 11,
   "id": "e2ab7667",
   "metadata": {
    "execution": {
     "iopub.execute_input": "2022-06-02T21:29:23.369076Z",
     "iopub.status.busy": "2022-06-02T21:29:23.368448Z",
     "iopub.status.idle": "2022-06-02T21:29:23.380812Z",
     "shell.execute_reply": "2022-06-02T21:29:23.379935Z"
    },
    "papermill": {
     "duration": 0.025133,
     "end_time": "2022-06-02T21:29:23.382842",
     "exception": false,
     "start_time": "2022-06-02T21:29:23.357709",
     "status": "completed"
    },
    "tags": []
   },
   "outputs": [
    {
     "data": {
      "text/plain": [
       "0         4.8 out of 5 stars 314\n",
       "1      4.8 out of 5 stars 79,977\n",
       "2           4.2 out of 5 stars 4\n",
       "4         4.7 out of 5 stars 898\n",
       "5          4.6 out of 5 stars 21\n",
       "6         4.9 out of 5 stars 786\n",
       "7       4.9 out of 5 stars 2,620\n",
       "8     4.8 out of 5 stars 221,019\n",
       "9      4.9 out of 5 stars 36,141\n",
       "11     4.7 out of 5 stars 88,865\n",
       "12     4.6 out of 5 stars 85,090\n",
       "13     4.6 out of 5 stars 71,973\n",
       "14          5.0 out of 5 stars 5\n",
       "16          4.5 out of 5 stars 2\n",
       "17        4.8 out of 5 stars 857\n",
       "18     4.8 out of 5 stars 46,647\n",
       "19        4.7 out of 5 stars 578\n",
       "20         4.6 out of 5 stars 71\n",
       "21        4.8 out of 5 stars 162\n",
       "22      4.8 out of 5 stars 9,575\n",
       "23     4.9 out of 5 stars 48,681\n",
       "24     4.7 out of 5 stars 71,963\n",
       "25        4.2 out of 5 stars 254\n",
       "26         4.7 out of 5 stars 64\n",
       "27     4.7 out of 5 stars 41,036\n",
       "28     4.7 out of 5 stars 40,223\n",
       "29     4.7 out of 5 stars 77,926\n",
       "31     4.8 out of 5 stars 71,348\n",
       "32         4.6 out of 5 stars 36\n",
       "33     4.8 out of 5 stars 10,297\n",
       "34    4.3 out of 5 stars 153,933\n",
       "35     4.9 out of 5 stars 81,632\n",
       "36      4.8 out of 5 stars 1,516\n",
       "37     4.9 out of 5 stars 47,698\n",
       "38          4.8 out of 5 stars 9\n",
       "39     4.8 out of 5 stars 61,741\n",
       "40     4.7 out of 5 stars 63,958\n",
       "41     4.3 out of 5 stars 85,754\n",
       "42     4.7 out of 5 stars 74,976\n",
       "43        4.8 out of 5 stars 827\n",
       "44         4.2 out of 5 stars 34\n",
       "45     4.9 out of 5 stars 22,647\n",
       "46        4.7 out of 5 stars 503\n",
       "47     4.8 out of 5 stars 10,314\n",
       "48     4.8 out of 5 stars 27,460\n",
       "49     4.7 out of 5 stars 11,958\n",
       "50     4.6 out of 5 stars 66,694\n",
       "51          5.0 out of 5 stars 1\n",
       "52     4.6 out of 5 stars 43,332\n",
       "53      4.9 out of 5 stars 3,373\n",
       "54     4.7 out of 5 stars 12,769\n",
       "57      4.9 out of 5 stars 2,349\n",
       "58      4.9 out of 5 stars 7,958\n",
       "59     4.8 out of 5 stars 30,163\n",
       "60     4.4 out of 5 stars 45,575\n",
       "Name: Rating, dtype: object"
      ]
     },
     "execution_count": 11,
     "metadata": {},
     "output_type": "execute_result"
    }
   ],
   "source": [
    "amazon['Rating'].drop_duplicates()"
   ]
  },
  {
   "cell_type": "code",
   "execution_count": 12,
   "id": "3882246e",
   "metadata": {
    "execution": {
     "iopub.execute_input": "2022-06-02T21:29:23.404714Z",
     "iopub.status.busy": "2022-06-02T21:29:23.404054Z",
     "iopub.status.idle": "2022-06-02T21:29:23.409435Z",
     "shell.execute_reply": "2022-06-02T21:29:23.408631Z"
    },
    "papermill": {
     "duration": 0.019181,
     "end_time": "2022-06-02T21:29:23.411685",
     "exception": false,
     "start_time": "2022-06-02T21:29:23.392504",
     "status": "completed"
    },
    "tags": []
   },
   "outputs": [],
   "source": [
    "amazon['Rating'] = amazon['Rating'].str.slice(stop=3)"
   ]
  },
  {
   "cell_type": "code",
   "execution_count": 13,
   "id": "8e57665d",
   "metadata": {
    "execution": {
     "iopub.execute_input": "2022-06-02T21:29:23.433706Z",
     "iopub.status.busy": "2022-06-02T21:29:23.433067Z",
     "iopub.status.idle": "2022-06-02T21:29:23.442481Z",
     "shell.execute_reply": "2022-06-02T21:29:23.441664Z"
    },
    "papermill": {
     "duration": 0.022463,
     "end_time": "2022-06-02T21:29:23.444461",
     "exception": false,
     "start_time": "2022-06-02T21:29:23.421998",
     "status": "completed"
    },
    "tags": []
   },
   "outputs": [
    {
     "data": {
      "text/plain": [
       "4.8    16\n",
       "4.7    13\n",
       "4.9    10\n",
       "4.6     7\n",
       "4.2     3\n",
       "5.0     2\n",
       "4.3     2\n",
       "4.5     1\n",
       "4.4     1\n",
       "Name: Rating, dtype: int64"
      ]
     },
     "execution_count": 13,
     "metadata": {},
     "output_type": "execute_result"
    }
   ],
   "source": [
    "amazon['Rating'].value_counts()"
   ]
  },
  {
   "cell_type": "code",
   "execution_count": 14,
   "id": "34a4ed46",
   "metadata": {
    "execution": {
     "iopub.execute_input": "2022-06-02T21:29:23.467141Z",
     "iopub.status.busy": "2022-06-02T21:29:23.466009Z",
     "iopub.status.idle": "2022-06-02T21:29:23.474886Z",
     "shell.execute_reply": "2022-06-02T21:29:23.473957Z"
    },
    "papermill": {
     "duration": 0.022082,
     "end_time": "2022-06-02T21:29:23.476863",
     "exception": false,
     "start_time": "2022-06-02T21:29:23.454781",
     "status": "completed"
    },
    "tags": []
   },
   "outputs": [
    {
     "data": {
      "text/plain": [
       "0     $18.84\n",
       "1     $11.98\n",
       "2     $24.99\n",
       "4     $32.49\n",
       "5     $13.60\n",
       "6     $17.05\n",
       "7     $14.18\n",
       "8      $9.98\n",
       "9      $8.98\n",
       "11    $11.17\n",
       "12    $11.26\n",
       "13     $9.42\n",
       "14     $9.99\n",
       "16    $18.29\n",
       "17    $19.48\n",
       "18    $11.40\n",
       "19     $9.95\n",
       "20    $19.43\n",
       "21    $13.38\n",
       "22    $18.34\n",
       "23     $5.06\n",
       "24    $12.22\n",
       "25    $22.46\n",
       "26    $18.60\n",
       "27    $11.90\n",
       "28    $10.40\n",
       "29     $7.74\n",
       "31     $4.53\n",
       "32    $16.38\n",
       "33    $14.95\n",
       "34    $13.29\n",
       "35    $34.68\n",
       "36    $12.54\n",
       "37     $4.98\n",
       "38    $19.59\n",
       "39     $5.99\n",
       "40    $10.78\n",
       "41    $13.50\n",
       "42     $8.89\n",
       "43    $10.83\n",
       "44    $20.59\n",
       "45     $5.36\n",
       "47    $18.27\n",
       "48    $12.70\n",
       "49    $16.95\n",
       "50    $13.76\n",
       "51    $17.99\n",
       "52    $16.88\n",
       "53     $7.19\n",
       "54     $9.59\n",
       "57     $6.89\n",
       "58    $29.99\n",
       "59    $16.59\n",
       "60    $18.00\n",
       "Name: Price, dtype: object"
      ]
     },
     "execution_count": 14,
     "metadata": {},
     "output_type": "execute_result"
    }
   ],
   "source": [
    "amazon['Price'].drop_duplicates()"
   ]
  },
  {
   "cell_type": "code",
   "execution_count": 15,
   "id": "6caf73f7",
   "metadata": {
    "execution": {
     "iopub.execute_input": "2022-06-02T21:29:23.499256Z",
     "iopub.status.busy": "2022-06-02T21:29:23.498628Z",
     "iopub.status.idle": "2022-06-02T21:29:23.503797Z",
     "shell.execute_reply": "2022-06-02T21:29:23.502901Z"
    },
    "papermill": {
     "duration": 0.01869,
     "end_time": "2022-06-02T21:29:23.505875",
     "exception": false,
     "start_time": "2022-06-02T21:29:23.487185",
     "status": "completed"
    },
    "tags": []
   },
   "outputs": [],
   "source": [
    "amazon['Price'] = amazon['Price'].str.slice(start=1)"
   ]
  },
  {
   "cell_type": "code",
   "execution_count": 16,
   "id": "caed5d65",
   "metadata": {
    "execution": {
     "iopub.execute_input": "2022-06-02T21:29:23.528378Z",
     "iopub.status.busy": "2022-06-02T21:29:23.527285Z",
     "iopub.status.idle": "2022-06-02T21:29:23.536513Z",
     "shell.execute_reply": "2022-06-02T21:29:23.535004Z"
    },
    "papermill": {
     "duration": 0.022522,
     "end_time": "2022-06-02T21:29:23.538518",
     "exception": false,
     "start_time": "2022-06-02T21:29:23.515996",
     "status": "completed"
    },
    "tags": []
   },
   "outputs": [
    {
     "data": {
      "text/plain": [
       "9.95     2\n",
       "18.84    1\n",
       "20.59    1\n",
       "13.29    1\n",
       "34.68    1\n",
       "12.54    1\n",
       "4.98     1\n",
       "19.59    1\n",
       "5.99     1\n",
       "10.78    1\n",
       "13.50    1\n",
       "8.89     1\n",
       "10.83    1\n",
       "5.36     1\n",
       "16.38    1\n",
       "18.27    1\n",
       "12.70    1\n",
       "16.95    1\n",
       "13.76    1\n",
       "17.99    1\n",
       "16.88    1\n",
       "7.19     1\n",
       "9.59     1\n",
       "6.89     1\n",
       "29.99    1\n",
       "16.59    1\n",
       "14.95    1\n",
       "4.53     1\n",
       "11.98    1\n",
       "7.74     1\n",
       "24.99    1\n",
       "32.49    1\n",
       "13.60    1\n",
       "17.05    1\n",
       "14.18    1\n",
       "9.98     1\n",
       "8.98     1\n",
       "11.17    1\n",
       "11.26    1\n",
       "9.42     1\n",
       "9.99     1\n",
       "18.29    1\n",
       "19.48    1\n",
       "11.40    1\n",
       "19.43    1\n",
       "13.38    1\n",
       "18.34    1\n",
       "5.06     1\n",
       "12.22    1\n",
       "22.46    1\n",
       "18.60    1\n",
       "11.90    1\n",
       "10.40    1\n",
       "18.00    1\n",
       "Name: Price, dtype: int64"
      ]
     },
     "execution_count": 16,
     "metadata": {},
     "output_type": "execute_result"
    }
   ],
   "source": [
    "amazon['Price'].value_counts()"
   ]
  },
  {
   "cell_type": "code",
   "execution_count": 17,
   "id": "c29ea7f3",
   "metadata": {
    "execution": {
     "iopub.execute_input": "2022-06-02T21:29:23.561681Z",
     "iopub.status.busy": "2022-06-02T21:29:23.560921Z",
     "iopub.status.idle": "2022-06-02T21:29:23.569502Z",
     "shell.execute_reply": "2022-06-02T21:29:23.568210Z"
    },
    "papermill": {
     "duration": 0.024256,
     "end_time": "2022-06-02T21:29:23.573225",
     "exception": false,
     "start_time": "2022-06-02T21:29:23.548969",
     "status": "completed"
    },
    "tags": []
   },
   "outputs": [
    {
     "name": "stdout",
     "output_type": "stream",
     "text": [
      "<class 'pandas.core.series.Series'> <class 'list'>\n"
     ]
    }
   ],
   "source": [
    "amazon['Price'] = amazon['Price'].astype(float)\n",
    "amazon['Rating'] = amazon['Rating'].astype(float)\n",
    "print(type(amazon['Price']), type(['Rating']))"
   ]
  },
  {
   "cell_type": "code",
   "execution_count": 18,
   "id": "930c6083",
   "metadata": {
    "execution": {
     "iopub.execute_input": "2022-06-02T21:29:23.596819Z",
     "iopub.status.busy": "2022-06-02T21:29:23.595996Z",
     "iopub.status.idle": "2022-06-02T21:29:23.602434Z",
     "shell.execute_reply": "2022-06-02T21:29:23.601557Z"
    },
    "papermill": {
     "duration": 0.020502,
     "end_time": "2022-06-02T21:29:23.604772",
     "exception": false,
     "start_time": "2022-06-02T21:29:23.584270",
     "status": "completed"
    },
    "tags": []
   },
   "outputs": [],
   "source": [
    "sns.set_palette('Set3')\n",
    "sns.set_style('ticks')"
   ]
  },
  {
   "cell_type": "code",
   "execution_count": 19,
   "id": "0002b4af",
   "metadata": {
    "execution": {
     "iopub.execute_input": "2022-06-02T21:29:23.627609Z",
     "iopub.status.busy": "2022-06-02T21:29:23.626877Z",
     "iopub.status.idle": "2022-06-02T21:29:23.632847Z",
     "shell.execute_reply": "2022-06-02T21:29:23.632065Z"
    },
    "papermill": {
     "duration": 0.019852,
     "end_time": "2022-06-02T21:29:23.635001",
     "exception": false,
     "start_time": "2022-06-02T21:29:23.615149",
     "status": "completed"
    },
    "tags": []
   },
   "outputs": [],
   "source": [
    "amazon = amazon.sort_values(by='Rating', ascending=True)"
   ]
  },
  {
   "cell_type": "code",
   "execution_count": 20,
   "id": "d402a788",
   "metadata": {
    "execution": {
     "iopub.execute_input": "2022-06-02T21:29:23.657516Z",
     "iopub.status.busy": "2022-06-02T21:29:23.656816Z",
     "iopub.status.idle": "2022-06-02T21:29:23.666320Z",
     "shell.execute_reply": "2022-06-02T21:29:23.665385Z"
    },
    "papermill": {
     "duration": 0.02349,
     "end_time": "2022-06-02T21:29:23.668574",
     "exception": false,
     "start_time": "2022-06-02T21:29:23.645084",
     "status": "completed"
    },
    "tags": []
   },
   "outputs": [
    {
     "data": {
      "text/plain": [
       "Colleen Hoover              4\n",
       "Shannon Bream               2\n",
       "Questions About Me          2\n",
       "Tieghan Gerard              2\n",
       "Daphne Oz                   1\n",
       "Tui T. Sutherland           1\n",
       "Viola Davis                 1\n",
       "Crystal Radke               1\n",
       "Joanna Gaines               1\n",
       "Brené Brown                 1\n",
       "JJ Smith                    1\n",
       "Bessel van der Kolk M.D.    1\n",
       "James Clear                 1\n",
       "Kentaro Miura               1\n",
       "Delia Owens                 1\n",
       "Gregory E. Lang             1\n",
       "Kobi Yamada                 1\n",
       "Robert Munsch               1\n",
       "Matt Walsh                  1\n",
       "Dr. Seuss                   1\n",
       "Margaret Wise Brown         1\n",
       "Eric Carle                  1\n",
       "J. K. Rowling               1\n",
       "Pablo Neruda                1\n",
       "Shelby Van Pelt             1\n",
       "Jimmy Fallon                1\n",
       "Heidi Murkoff               1\n",
       "James Patterson             1\n",
       "Jonathan Martin             1\n",
       "Laura Dave                  1\n",
       "Matt Haig                   1\n",
       "Amor Towles                 1\n",
       "Steven Rinella              1\n",
       "Mark Manson                 1\n",
       "Taylor Jenkins Reid         1\n",
       "Robin Marty                 1\n",
       "Emily Henry                 1\n",
       "Wonder House Books          1\n",
       "Tina Brown                  1\n",
       "Robert Greene               1\n",
       "Douglas Murray              1\n",
       "Megan Logan MSW  LCSW       1\n",
       "Tyrus                       1\n",
       "Don Miguel Ruiz             1\n",
       "Rand McNally                1\n",
       "Paulo Coelho                1\n",
       "Dale Carnegie               1\n",
       "School Zone                 1\n",
       "Alberta Chompegne           1\n",
       "Name: Author, dtype: int64"
      ]
     },
     "execution_count": 20,
     "metadata": {},
     "output_type": "execute_result"
    }
   ],
   "source": [
    "amazon['Author'].value_counts()"
   ]
  },
  {
   "cell_type": "code",
   "execution_count": 21,
   "id": "c7d60eb6",
   "metadata": {
    "execution": {
     "iopub.execute_input": "2022-06-02T21:29:23.692320Z",
     "iopub.status.busy": "2022-06-02T21:29:23.691556Z",
     "iopub.status.idle": "2022-06-02T21:29:23.709330Z",
     "shell.execute_reply": "2022-06-02T21:29:23.708227Z"
    },
    "papermill": {
     "duration": 0.032423,
     "end_time": "2022-06-02T21:29:23.711472",
     "exception": false,
     "start_time": "2022-06-02T21:29:23.679049",
     "status": "completed"
    },
    "tags": []
   },
   "outputs": [
    {
     "data": {
      "text/html": [
       "<div>\n",
       "<style scoped>\n",
       "    .dataframe tbody tr th:only-of-type {\n",
       "        vertical-align: middle;\n",
       "    }\n",
       "\n",
       "    .dataframe tbody tr th {\n",
       "        vertical-align: top;\n",
       "    }\n",
       "\n",
       "    .dataframe thead th {\n",
       "        text-align: right;\n",
       "    }\n",
       "</style>\n",
       "<table border=\"1\" class=\"dataframe\">\n",
       "  <thead>\n",
       "    <tr style=\"text-align: right;\">\n",
       "      <th></th>\n",
       "      <th>Avaliação</th>\n",
       "      <th>Número de autores</th>\n",
       "    </tr>\n",
       "  </thead>\n",
       "  <tbody>\n",
       "    <tr>\n",
       "      <th>0</th>\n",
       "      <td>4.8</td>\n",
       "      <td>16</td>\n",
       "    </tr>\n",
       "    <tr>\n",
       "      <th>1</th>\n",
       "      <td>4.7</td>\n",
       "      <td>13</td>\n",
       "    </tr>\n",
       "    <tr>\n",
       "      <th>2</th>\n",
       "      <td>4.9</td>\n",
       "      <td>10</td>\n",
       "    </tr>\n",
       "    <tr>\n",
       "      <th>3</th>\n",
       "      <td>4.6</td>\n",
       "      <td>7</td>\n",
       "    </tr>\n",
       "    <tr>\n",
       "      <th>4</th>\n",
       "      <td>4.2</td>\n",
       "      <td>3</td>\n",
       "    </tr>\n",
       "    <tr>\n",
       "      <th>5</th>\n",
       "      <td>4.3</td>\n",
       "      <td>2</td>\n",
       "    </tr>\n",
       "    <tr>\n",
       "      <th>6</th>\n",
       "      <td>5.0</td>\n",
       "      <td>2</td>\n",
       "    </tr>\n",
       "    <tr>\n",
       "      <th>7</th>\n",
       "      <td>4.4</td>\n",
       "      <td>1</td>\n",
       "    </tr>\n",
       "    <tr>\n",
       "      <th>8</th>\n",
       "      <td>4.5</td>\n",
       "      <td>1</td>\n",
       "    </tr>\n",
       "  </tbody>\n",
       "</table>\n",
       "</div>"
      ],
      "text/plain": [
       "   Avaliação  Número de autores\n",
       "0        4.8                 16\n",
       "1        4.7                 13\n",
       "2        4.9                 10\n",
       "3        4.6                  7\n",
       "4        4.2                  3\n",
       "5        4.3                  2\n",
       "6        5.0                  2\n",
       "7        4.4                  1\n",
       "8        4.5                  1"
      ]
     },
     "execution_count": 21,
     "metadata": {},
     "output_type": "execute_result"
    }
   ],
   "source": [
    "amazon_autores_avaliacao = pd.DataFrame(amazon['Rating'].value_counts())\n",
    "amazon_autores_avaliacao.reset_index(inplace=True)\n",
    "amazon_autores_avaliacao.rename(columns={'index': 'Avaliação','Rating':'Número de autores'}, inplace=True)\n",
    "amazon_autores_avaliacao"
   ]
  },
  {
   "cell_type": "markdown",
   "id": "f11c730c",
   "metadata": {
    "papermill": {
     "duration": 0.010607,
     "end_time": "2022-06-02T21:29:23.732815",
     "exception": false,
     "start_time": "2022-06-02T21:29:23.722208",
     "status": "completed"
    },
    "tags": []
   },
   "source": []
  },
  {
   "cell_type": "code",
   "execution_count": 22,
   "id": "cb456189",
   "metadata": {
    "execution": {
     "iopub.execute_input": "2022-06-02T21:29:23.756655Z",
     "iopub.status.busy": "2022-06-02T21:29:23.756218Z",
     "iopub.status.idle": "2022-06-02T21:29:24.300499Z",
     "shell.execute_reply": "2022-06-02T21:29:24.299299Z"
    },
    "papermill": {
     "duration": 0.55909,
     "end_time": "2022-06-02T21:29:24.302906",
     "exception": false,
     "start_time": "2022-06-02T21:29:23.743816",
     "status": "completed"
    },
    "tags": []
   },
   "outputs": [
    {
     "data": {
      "text/plain": [
       "<AxesSubplot:title={'center':'Preço(dolar) por Avaliação'}, xlabel='Avaliação', ylabel='Preço(dolar)'>"
      ]
     },
     "execution_count": 22,
     "metadata": {},
     "output_type": "execute_result"
    },
    {
     "data": {
      "image/png": "[encoded data removed]",
      "text/plain": [
       "<Figure size 1080x720 with 1 Axes>"
      ]
     },
     "metadata": {},
     "output_type": "display_data"
    }
   ],
   "source": [
    "plt.figure(figsize=(15,10))\n",
    "ax = sns.barplot(data=amazon, x='Rating', y='Price', )\n",
    "ax.set_title('Preço(dolar) por Avaliação', fontsize=25)\n",
    "ax.set_xlabel('Avaliação', fontsize=18)\n",
    "ax.set_ylabel('Preço(dolar)', fontsize=18)\n",
    "ax"
   ]
  },
  {
   "cell_type": "code",
   "execution_count": 23,
   "id": "23cf76e6",
   "metadata": {
    "execution": {
     "iopub.execute_input": "2022-06-02T21:29:24.327239Z",
     "iopub.status.busy": "2022-06-02T21:29:24.326469Z",
     "iopub.status.idle": "2022-06-02T21:29:24.567871Z",
     "shell.execute_reply": "2022-06-02T21:29:24.566772Z"
    },
    "papermill": {
     "duration": 0.255834,
     "end_time": "2022-06-02T21:29:24.570225",
     "exception": false,
     "start_time": "2022-06-02T21:29:24.314391",
     "status": "completed"
    },
    "tags": []
   },
   "outputs": [
    {
     "data": {
      "text/plain": [
       "<AxesSubplot:title={'center':'Número de autores por avaliação'}, xlabel='Avaliação', ylabel='Número de autores'>"
      ]
     },
     "execution_count": 23,
     "metadata": {},
     "output_type": "execute_result"
    },
    {
     "data": {
      "image/png": "[encoded data removed]",
      "text/plain": [
       "<Figure size 1080x720 with 1 Axes>"
      ]
     },
     "metadata": {},
     "output_type": "display_data"
    }
   ],
   "source": [
    "plt.figure(figsize=(15,10))\n",
    "ax = sns.barplot(data=amazon_autores_avaliacao, x='Avaliação', y='Número de autores', )\n",
    "ax.set_title('Número de autores por avaliação', fontsize=25)\n",
    "ax.set_xlabel('Avaliação', fontsize=18)\n",
    "ax.set_ylabel('Número de autores', fontsize=18)\n",
    "ax"
   ]
  },
  {
   "cell_type": "code",
   "execution_count": 24,
   "id": "091411af",
   "metadata": {
    "execution": {
     "iopub.execute_input": "2022-06-02T21:29:24.596009Z",
     "iopub.status.busy": "2022-06-02T21:29:24.595615Z",
     "iopub.status.idle": "2022-06-02T21:29:24.827345Z",
     "shell.execute_reply": "2022-06-02T21:29:24.826312Z"
    },
    "papermill": {
     "duration": 0.247255,
     "end_time": "2022-06-02T21:29:24.829366",
     "exception": false,
     "start_time": "2022-06-02T21:29:24.582111",
     "status": "completed"
    },
    "tags": []
   },
   "outputs": [
    {
     "data": {
      "text/plain": [
       "<AxesSubplot:title={'center':'Dstribuição de frequencia do preço'}, xlabel='Preço', ylabel='Frequência'>"
      ]
     },
     "execution_count": 24,
     "metadata": {},
     "output_type": "execute_result"
    },
    {
     "data": {
      "image/png": "[encoded data removed]",
      "text/plain": [
       "<Figure size 1080x720 with 1 Axes>"
      ]
     },
     "metadata": {},
     "output_type": "display_data"
    }
   ],
   "source": [
    "plt.figure(figsize=(15,10))\n",
    "ax = sns.histplot(amazon['Price'], bins=7)\n",
    "ax.set_title('Dstribuição de frequencia do preço', fontsize=25)\n",
    "ax.set_xlabel('Preço', fontsize=18)\n",
    "ax.set_ylabel('Frequência', fontsize=18)\n",
    "ax"
   ]
  },
  {
   "cell_type": "markdown",
   "id": "a6482285",
   "metadata": {
    "papermill": {
     "duration": 0.011951,
     "end_time": "2022-06-02T21:29:24.853683",
     "exception": false,
     "start_time": "2022-06-02T21:29:24.841732",
     "status": "completed"
    },
    "tags": []
   },
   "source": [
    "### Breves conclusões:\n",
    "* Livros mais bem avaliados parecem ser mais baratos que os piores avaliados;\n",
    "* Ainda assim, existe uma tendência de melhores avaliações, havendo mais autores com avaliações entre 4.6 e 4.9.\n",
    "* Existem mais livros com preços entre 10 e 20 dolares. Esses são melhores avaliados, possivelmente a tendência média é de boas avaliações de best sellers. "
   ]
  },
  {
   "cell_type": "code",
   "execution_count": null,
   "id": "a075b472",
   "metadata": {
    "papermill": {
     "duration": 0.012019,
     "end_time": "2022-06-02T21:29:24.878204",
     "exception": false,
     "start_time": "2022-06-02T21:29:24.866185",
     "status": "completed"
    },
    "tags": []
   },
   "outputs": [],
   "source": []
  }
 ],
 "metadata": {
  "kernelspec": {
   "display_name": "Python 3",
   "language": "python",
   "name": "python3"
  },
  "language_info": {
   "codemirror_mode": {
    "name": "ipython",
    "version": 3
   },
   "file_extension": ".py",
   "mimetype": "text/x-python",
   "name": "python",
   "nbconvert_exporter": "python",
   "pygments_lexer": "ipython3",
   "version": "3.7.12"
  },
  "papermill": {
   "default_parameters": {},
   "duration": 14.321399,
   "end_time": "2022-06-02T21:29:25.612639",
   "environment_variables": {},
   "exception": null,
   "input_path": "__notebook__.ipynb",
   "output_path": "__notebook__.ipynb",
   "parameters": {},
   "start_time": "2022-06-02T21:29:11.291240",
   "version": "2.3.4"
  }
 },
 "nbformat": 4,
 "nbformat_minor": 5
}

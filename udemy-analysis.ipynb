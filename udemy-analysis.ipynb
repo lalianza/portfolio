{
 "cells": [
  {
   "cell_type": "markdown",
   "id": "42503ed2",
   "metadata": {
    "papermill": {
     "duration": 0.01575,
     "end_time": "2022-06-01T02:01:49.641732",
     "exception": false,
     "start_time": "2022-06-01T02:01:49.625982",
     "status": "completed"
    },
    "tags": []
   },
   "source": [
    "# Análise de dados dos cursos do UDEMY por número de inscritos\n",
    "#### Essa análise usa dados coletados no Kaggle de cursos do Udemy. O foco é realizar uma análise por cursos que obtiveram mais inscritos, não rendimento do curso. Seria possível realizar o rendimento multiplicando o custo pelo número de inscritos (ambas informações disponíveis), mas foram realizadas promoções e descontos que podem não ter sido durante todo o período de disponibilidade do curso, o que afetaria o ganho total por curso. Ao invés disso, custo e promoção serão utilizadas como variáveis independentes."
   ]
  },
  {
   "cell_type": "code",
   "execution_count": 1,
   "id": "ec16cff5",
   "metadata": {
    "execution": {
     "iopub.execute_input": "2022-06-01T02:01:49.673616Z",
     "iopub.status.busy": "2022-06-01T02:01:49.672735Z",
     "iopub.status.idle": "2022-06-01T02:01:50.844709Z",
     "shell.execute_reply": "2022-06-01T02:01:50.843676Z"
    },
    "papermill": {
     "duration": 1.190957,
     "end_time": "2022-06-01T02:01:50.847627",
     "exception": false,
     "start_time": "2022-06-01T02:01:49.656670",
     "status": "completed"
    },
    "tags": []
   },
   "outputs": [],
   "source": [
    "#Importando bibliotecas usadas inicialmente\n",
    "import pandas as pd\n",
    "import numpy as np\n",
    "import seaborn as sns\n",
    "import matplotlib as mpl\n",
    "import matplotlib.pyplot as plt"
   ]
  },
  {
   "cell_type": "code",
   "execution_count": 2,
   "id": "71f90584",
   "metadata": {
    "execution": {
     "iopub.execute_input": "2022-06-01T02:01:50.878085Z",
     "iopub.status.busy": "2022-06-01T02:01:50.877618Z",
     "iopub.status.idle": "2022-06-01T02:01:51.015465Z",
     "shell.execute_reply": "2022-06-01T02:01:51.014491Z"
    },
    "papermill": {
     "duration": 0.157218,
     "end_time": "2022-06-01T02:01:51.019258",
     "exception": false,
     "start_time": "2022-06-01T02:01:50.862040",
     "status": "completed"
    },
    "tags": []
   },
   "outputs": [
    {
     "data": {
      "text/html": [
       "<div>\n",
       "<style scoped>\n",
       "    .dataframe tbody tr th:only-of-type {\n",
       "        vertical-align: middle;\n",
       "    }\n",
       "\n",
       "    .dataframe tbody tr th {\n",
       "        vertical-align: top;\n",
       "    }\n",
       "\n",
       "    .dataframe thead th {\n",
       "        text-align: right;\n",
       "    }\n",
       "</style>\n",
       "<table border=\"1\" class=\"dataframe\">\n",
       "  <thead>\n",
       "    <tr style=\"text-align: right;\">\n",
       "      <th></th>\n",
       "      <th>id</th>\n",
       "      <th>title</th>\n",
       "      <th>url</th>\n",
       "      <th>is_paid</th>\n",
       "      <th>num_subscribers</th>\n",
       "      <th>avg_rating</th>\n",
       "      <th>avg_rating_recent</th>\n",
       "      <th>rating</th>\n",
       "      <th>num_reviews</th>\n",
       "      <th>is_wishlisted</th>\n",
       "      <th>num_published_lectures</th>\n",
       "      <th>num_published_practice_tests</th>\n",
       "      <th>created</th>\n",
       "      <th>published_time</th>\n",
       "      <th>discount_price__amount</th>\n",
       "      <th>discount_price__currency</th>\n",
       "      <th>discount_price__price_string</th>\n",
       "      <th>price_detail__amount</th>\n",
       "      <th>price_detail__currency</th>\n",
       "      <th>price_detail__price_string</th>\n",
       "    </tr>\n",
       "  </thead>\n",
       "  <tbody>\n",
       "    <tr>\n",
       "      <th>0</th>\n",
       "      <td>762616</td>\n",
       "      <td>The Complete SQL Bootcamp 2020: Go from Zero t...</td>\n",
       "      <td>/course/the-complete-sql-bootcamp/</td>\n",
       "      <td>True</td>\n",
       "      <td>295509</td>\n",
       "      <td>4.66019</td>\n",
       "      <td>4.67874</td>\n",
       "      <td>4.67874</td>\n",
       "      <td>78006</td>\n",
       "      <td>False</td>\n",
       "      <td>84</td>\n",
       "      <td>0</td>\n",
       "      <td>2016-02-14T22:57:48Z</td>\n",
       "      <td>2016-04-06T05:16:11Z</td>\n",
       "      <td>455.0</td>\n",
       "      <td>INR</td>\n",
       "      <td>₹455</td>\n",
       "      <td>8640.0</td>\n",
       "      <td>INR</td>\n",
       "      <td>₹8,640</td>\n",
       "    </tr>\n",
       "    <tr>\n",
       "      <th>1</th>\n",
       "      <td>937678</td>\n",
       "      <td>Tableau 2020 A-Z: Hands-On Tableau Training fo...</td>\n",
       "      <td>/course/tableau10/</td>\n",
       "      <td>True</td>\n",
       "      <td>209070</td>\n",
       "      <td>4.58956</td>\n",
       "      <td>4.60015</td>\n",
       "      <td>4.60015</td>\n",
       "      <td>54581</td>\n",
       "      <td>False</td>\n",
       "      <td>78</td>\n",
       "      <td>0</td>\n",
       "      <td>2016-08-22T12:10:18Z</td>\n",
       "      <td>2016-08-23T16:59:49Z</td>\n",
       "      <td>455.0</td>\n",
       "      <td>INR</td>\n",
       "      <td>₹455</td>\n",
       "      <td>8640.0</td>\n",
       "      <td>INR</td>\n",
       "      <td>₹8,640</td>\n",
       "    </tr>\n",
       "    <tr>\n",
       "      <th>2</th>\n",
       "      <td>1361790</td>\n",
       "      <td>PMP Exam Prep Seminar -  PMBOK Guide 6</td>\n",
       "      <td>/course/pmp-pmbok6-35-pdus/</td>\n",
       "      <td>True</td>\n",
       "      <td>155282</td>\n",
       "      <td>4.59491</td>\n",
       "      <td>4.59326</td>\n",
       "      <td>4.59326</td>\n",
       "      <td>52653</td>\n",
       "      <td>False</td>\n",
       "      <td>292</td>\n",
       "      <td>2</td>\n",
       "      <td>2017-09-26T16:32:48Z</td>\n",
       "      <td>2017-11-14T23:58:14Z</td>\n",
       "      <td>455.0</td>\n",
       "      <td>INR</td>\n",
       "      <td>₹455</td>\n",
       "      <td>8640.0</td>\n",
       "      <td>INR</td>\n",
       "      <td>₹8,640</td>\n",
       "    </tr>\n",
       "    <tr>\n",
       "      <th>3</th>\n",
       "      <td>648826</td>\n",
       "      <td>The Complete Financial Analyst Course 2020</td>\n",
       "      <td>/course/the-complete-financial-analyst-course/</td>\n",
       "      <td>True</td>\n",
       "      <td>245860</td>\n",
       "      <td>4.54407</td>\n",
       "      <td>4.53772</td>\n",
       "      <td>4.53772</td>\n",
       "      <td>46447</td>\n",
       "      <td>False</td>\n",
       "      <td>338</td>\n",
       "      <td>0</td>\n",
       "      <td>2015-10-23T13:34:35Z</td>\n",
       "      <td>2016-01-21T01:38:48Z</td>\n",
       "      <td>455.0</td>\n",
       "      <td>INR</td>\n",
       "      <td>₹455</td>\n",
       "      <td>8640.0</td>\n",
       "      <td>INR</td>\n",
       "      <td>₹8,640</td>\n",
       "    </tr>\n",
       "    <tr>\n",
       "      <th>4</th>\n",
       "      <td>637930</td>\n",
       "      <td>An Entire MBA in 1 Course:Award Winning Busine...</td>\n",
       "      <td>/course/an-entire-mba-in-1-courseaward-winning...</td>\n",
       "      <td>True</td>\n",
       "      <td>374836</td>\n",
       "      <td>4.47080</td>\n",
       "      <td>4.47173</td>\n",
       "      <td>4.47173</td>\n",
       "      <td>41630</td>\n",
       "      <td>False</td>\n",
       "      <td>83</td>\n",
       "      <td>0</td>\n",
       "      <td>2015-10-12T06:39:46Z</td>\n",
       "      <td>2016-01-11T21:39:33Z</td>\n",
       "      <td>455.0</td>\n",
       "      <td>INR</td>\n",
       "      <td>₹455</td>\n",
       "      <td>8640.0</td>\n",
       "      <td>INR</td>\n",
       "      <td>₹8,640</td>\n",
       "    </tr>\n",
       "  </tbody>\n",
       "</table>\n",
       "</div>"
      ],
      "text/plain": [
       "        id                                              title  \\\n",
       "0   762616  The Complete SQL Bootcamp 2020: Go from Zero t...   \n",
       "1   937678  Tableau 2020 A-Z: Hands-On Tableau Training fo...   \n",
       "2  1361790             PMP Exam Prep Seminar -  PMBOK Guide 6   \n",
       "3   648826         The Complete Financial Analyst Course 2020   \n",
       "4   637930  An Entire MBA in 1 Course:Award Winning Busine...   \n",
       "\n",
       "                                                 url  is_paid  \\\n",
       "0                 /course/the-complete-sql-bootcamp/     True   \n",
       "1                                 /course/tableau10/     True   \n",
       "2                        /course/pmp-pmbok6-35-pdus/     True   \n",
       "3     /course/the-complete-financial-analyst-course/     True   \n",
       "4  /course/an-entire-mba-in-1-courseaward-winning...     True   \n",
       "\n",
       "   num_subscribers  avg_rating  avg_rating_recent   rating  num_reviews  \\\n",
       "0           295509     4.66019            4.67874  4.67874        78006   \n",
       "1           209070     4.58956            4.60015  4.60015        54581   \n",
       "2           155282     4.59491            4.59326  4.59326        52653   \n",
       "3           245860     4.54407            4.53772  4.53772        46447   \n",
       "4           374836     4.47080            4.47173  4.47173        41630   \n",
       "\n",
       "   is_wishlisted  num_published_lectures  num_published_practice_tests  \\\n",
       "0          False                      84                             0   \n",
       "1          False                      78                             0   \n",
       "2          False                     292                             2   \n",
       "3          False                     338                             0   \n",
       "4          False                      83                             0   \n",
       "\n",
       "                created        published_time  discount_price__amount  \\\n",
       "0  2016-02-14T22:57:48Z  2016-04-06T05:16:11Z                   455.0   \n",
       "1  2016-08-22T12:10:18Z  2016-08-23T16:59:49Z                   455.0   \n",
       "2  2017-09-26T16:32:48Z  2017-11-14T23:58:14Z                   455.0   \n",
       "3  2015-10-23T13:34:35Z  2016-01-21T01:38:48Z                   455.0   \n",
       "4  2015-10-12T06:39:46Z  2016-01-11T21:39:33Z                   455.0   \n",
       "\n",
       "  discount_price__currency discount_price__price_string  price_detail__amount  \\\n",
       "0                      INR                         ₹455                8640.0   \n",
       "1                      INR                         ₹455                8640.0   \n",
       "2                      INR                         ₹455                8640.0   \n",
       "3                      INR                         ₹455                8640.0   \n",
       "4                      INR                         ₹455                8640.0   \n",
       "\n",
       "  price_detail__currency price_detail__price_string  \n",
       "0                    INR                     ₹8,640  \n",
       "1                    INR                     ₹8,640  \n",
       "2                    INR                     ₹8,640  \n",
       "3                    INR                     ₹8,640  \n",
       "4                    INR                     ₹8,640  "
      ]
     },
     "execution_count": 2,
     "metadata": {},
     "output_type": "execute_result"
    }
   ],
   "source": [
    "#importando base de dados e visualizando \n",
    "data = pd.read_csv('../input/business-courses-udemy-10k-courses/udemy_output_All_Business_p1_p626.csv')\n",
    "data.head(5)"
   ]
  },
  {
   "cell_type": "code",
   "execution_count": 3,
   "id": "2998d2de",
   "metadata": {
    "execution": {
     "iopub.execute_input": "2022-06-01T02:01:51.051071Z",
     "iopub.status.busy": "2022-06-01T02:01:51.050380Z",
     "iopub.status.idle": "2022-06-01T02:01:51.110723Z",
     "shell.execute_reply": "2022-06-01T02:01:51.109741Z"
    },
    "papermill": {
     "duration": 0.079053,
     "end_time": "2022-06-01T02:01:51.113157",
     "exception": false,
     "start_time": "2022-06-01T02:01:51.034104",
     "status": "completed"
    },
    "tags": []
   },
   "outputs": [
    {
     "data": {
      "text/html": [
       "<div>\n",
       "<style scoped>\n",
       "    .dataframe tbody tr th:only-of-type {\n",
       "        vertical-align: middle;\n",
       "    }\n",
       "\n",
       "    .dataframe tbody tr th {\n",
       "        vertical-align: top;\n",
       "    }\n",
       "\n",
       "    .dataframe thead th {\n",
       "        text-align: right;\n",
       "    }\n",
       "</style>\n",
       "<table border=\"1\" class=\"dataframe\">\n",
       "  <thead>\n",
       "    <tr style=\"text-align: right;\">\n",
       "      <th></th>\n",
       "      <th>id</th>\n",
       "      <th>num_subscribers</th>\n",
       "      <th>avg_rating</th>\n",
       "      <th>avg_rating_recent</th>\n",
       "      <th>rating</th>\n",
       "      <th>num_reviews</th>\n",
       "      <th>num_published_lectures</th>\n",
       "      <th>num_published_practice_tests</th>\n",
       "      <th>discount_price__amount</th>\n",
       "      <th>price_detail__amount</th>\n",
       "    </tr>\n",
       "  </thead>\n",
       "  <tbody>\n",
       "    <tr>\n",
       "      <th>count</th>\n",
       "      <td>9.447000e+03</td>\n",
       "      <td>9447.000000</td>\n",
       "      <td>9447.000000</td>\n",
       "      <td>9447.000000</td>\n",
       "      <td>9447.000000</td>\n",
       "      <td>9447.000000</td>\n",
       "      <td>9447.000000</td>\n",
       "      <td>9447.000000</td>\n",
       "      <td>8937.000000</td>\n",
       "      <td>9447.000000</td>\n",
       "    </tr>\n",
       "    <tr>\n",
       "      <th>mean</th>\n",
       "      <td>1.456603e+06</td>\n",
       "      <td>3399.298190</td>\n",
       "      <td>4.138522</td>\n",
       "      <td>4.124756</td>\n",
       "      <td>4.124756</td>\n",
       "      <td>299.054515</td>\n",
       "      <td>34.400868</td>\n",
       "      <td>0.101831</td>\n",
       "      <td>488.984111</td>\n",
       "      <td>4828.758336</td>\n",
       "    </tr>\n",
       "    <tr>\n",
       "      <th>std</th>\n",
       "      <td>8.956601e+05</td>\n",
       "      <td>10451.534122</td>\n",
       "      <td>0.453581</td>\n",
       "      <td>0.478410</td>\n",
       "      <td>0.478410</td>\n",
       "      <td>1826.867472</td>\n",
       "      <td>46.061088</td>\n",
       "      <td>0.580037</td>\n",
       "      <td>247.833161</td>\n",
       "      <td>3108.307674</td>\n",
       "    </tr>\n",
       "    <tr>\n",
       "      <th>min</th>\n",
       "      <td>2.762000e+03</td>\n",
       "      <td>3.000000</td>\n",
       "      <td>1.000000</td>\n",
       "      <td>1.000000</td>\n",
       "      <td>1.000000</td>\n",
       "      <td>3.000000</td>\n",
       "      <td>0.000000</td>\n",
       "      <td>0.000000</td>\n",
       "      <td>455.000000</td>\n",
       "      <td>1280.000000</td>\n",
       "    </tr>\n",
       "    <tr>\n",
       "      <th>25%</th>\n",
       "      <td>6.730310e+05</td>\n",
       "      <td>141.000000</td>\n",
       "      <td>3.900000</td>\n",
       "      <td>3.879410</td>\n",
       "      <td>3.879410</td>\n",
       "      <td>12.000000</td>\n",
       "      <td>13.000000</td>\n",
       "      <td>0.000000</td>\n",
       "      <td>455.000000</td>\n",
       "      <td>1600.000000</td>\n",
       "    </tr>\n",
       "    <tr>\n",
       "      <th>50%</th>\n",
       "      <td>1.381806e+06</td>\n",
       "      <td>916.000000</td>\n",
       "      <td>4.200000</td>\n",
       "      <td>4.206080</td>\n",
       "      <td>4.206080</td>\n",
       "      <td>33.000000</td>\n",
       "      <td>23.000000</td>\n",
       "      <td>0.000000</td>\n",
       "      <td>455.000000</td>\n",
       "      <td>3840.000000</td>\n",
       "    </tr>\n",
       "    <tr>\n",
       "      <th>75%</th>\n",
       "      <td>2.154793e+06</td>\n",
       "      <td>2889.500000</td>\n",
       "      <td>4.450000</td>\n",
       "      <td>4.447495</td>\n",
       "      <td>4.447495</td>\n",
       "      <td>110.000000</td>\n",
       "      <td>39.000000</td>\n",
       "      <td>0.000000</td>\n",
       "      <td>455.000000</td>\n",
       "      <td>8640.000000</td>\n",
       "    </tr>\n",
       "    <tr>\n",
       "      <th>max</th>\n",
       "      <td>3.469452e+06</td>\n",
       "      <td>374836.000000</td>\n",
       "      <td>5.000000</td>\n",
       "      <td>5.000000</td>\n",
       "      <td>5.000000</td>\n",
       "      <td>78006.000000</td>\n",
       "      <td>699.000000</td>\n",
       "      <td>6.000000</td>\n",
       "      <td>3200.000000</td>\n",
       "      <td>12800.000000</td>\n",
       "    </tr>\n",
       "  </tbody>\n",
       "</table>\n",
       "</div>"
      ],
      "text/plain": [
       "                 id  num_subscribers   avg_rating  avg_rating_recent  \\\n",
       "count  9.447000e+03      9447.000000  9447.000000        9447.000000   \n",
       "mean   1.456603e+06      3399.298190     4.138522           4.124756   \n",
       "std    8.956601e+05     10451.534122     0.453581           0.478410   \n",
       "min    2.762000e+03         3.000000     1.000000           1.000000   \n",
       "25%    6.730310e+05       141.000000     3.900000           3.879410   \n",
       "50%    1.381806e+06       916.000000     4.200000           4.206080   \n",
       "75%    2.154793e+06      2889.500000     4.450000           4.447495   \n",
       "max    3.469452e+06    374836.000000     5.000000           5.000000   \n",
       "\n",
       "            rating   num_reviews  num_published_lectures  \\\n",
       "count  9447.000000   9447.000000             9447.000000   \n",
       "mean      4.124756    299.054515               34.400868   \n",
       "std       0.478410   1826.867472               46.061088   \n",
       "min       1.000000      3.000000                0.000000   \n",
       "25%       3.879410     12.000000               13.000000   \n",
       "50%       4.206080     33.000000               23.000000   \n",
       "75%       4.447495    110.000000               39.000000   \n",
       "max       5.000000  78006.000000              699.000000   \n",
       "\n",
       "       num_published_practice_tests  discount_price__amount  \\\n",
       "count                   9447.000000             8937.000000   \n",
       "mean                       0.101831              488.984111   \n",
       "std                        0.580037              247.833161   \n",
       "min                        0.000000              455.000000   \n",
       "25%                        0.000000              455.000000   \n",
       "50%                        0.000000              455.000000   \n",
       "75%                        0.000000              455.000000   \n",
       "max                        6.000000             3200.000000   \n",
       "\n",
       "       price_detail__amount  \n",
       "count           9447.000000  \n",
       "mean            4828.758336  \n",
       "std             3108.307674  \n",
       "min             1280.000000  \n",
       "25%             1600.000000  \n",
       "50%             3840.000000  \n",
       "75%             8640.000000  \n",
       "max            12800.000000  "
      ]
     },
     "execution_count": 3,
     "metadata": {},
     "output_type": "execute_result"
    }
   ],
   "source": [
    "data.describe()"
   ]
  },
  {
   "cell_type": "code",
   "execution_count": 4,
   "id": "ac3a41e7",
   "metadata": {
    "execution": {
     "iopub.execute_input": "2022-06-01T02:01:51.147135Z",
     "iopub.status.busy": "2022-06-01T02:01:51.146542Z",
     "iopub.status.idle": "2022-06-01T02:01:51.173819Z",
     "shell.execute_reply": "2022-06-01T02:01:51.171937Z"
    },
    "papermill": {
     "duration": 0.048276,
     "end_time": "2022-06-01T02:01:51.176741",
     "exception": false,
     "start_time": "2022-06-01T02:01:51.128465",
     "status": "completed"
    },
    "tags": []
   },
   "outputs": [
    {
     "name": "stdout",
     "output_type": "stream",
     "text": [
      "<class 'pandas.core.frame.DataFrame'>\n",
      "RangeIndex: 9447 entries, 0 to 9446\n",
      "Data columns (total 20 columns):\n",
      " #   Column                        Non-Null Count  Dtype  \n",
      "---  ------                        --------------  -----  \n",
      " 0   id                            9447 non-null   int64  \n",
      " 1   title                         9447 non-null   object \n",
      " 2   url                           9447 non-null   object \n",
      " 3   is_paid                       9447 non-null   bool   \n",
      " 4   num_subscribers               9447 non-null   int64  \n",
      " 5   avg_rating                    9447 non-null   float64\n",
      " 6   avg_rating_recent             9447 non-null   float64\n",
      " 7   rating                        9447 non-null   float64\n",
      " 8   num_reviews                   9447 non-null   int64  \n",
      " 9   is_wishlisted                 9447 non-null   bool   \n",
      " 10  num_published_lectures        9447 non-null   int64  \n",
      " 11  num_published_practice_tests  9447 non-null   int64  \n",
      " 12  created                       9447 non-null   object \n",
      " 13  published_time                9447 non-null   object \n",
      " 14  discount_price__amount        8937 non-null   float64\n",
      " 15  discount_price__currency      8937 non-null   object \n",
      " 16  discount_price__price_string  8937 non-null   object \n",
      " 17  price_detail__amount          9447 non-null   float64\n",
      " 18  price_detail__currency        9447 non-null   object \n",
      " 19  price_detail__price_string    9447 non-null   object \n",
      "dtypes: bool(2), float64(5), int64(5), object(8)\n",
      "memory usage: 1.3+ MB\n"
     ]
    }
   ],
   "source": [
    "data.info()"
   ]
  },
  {
   "cell_type": "code",
   "execution_count": 5,
   "id": "e991bf83",
   "metadata": {
    "execution": {
     "iopub.execute_input": "2022-06-01T02:01:51.210348Z",
     "iopub.status.busy": "2022-06-01T02:01:51.209474Z",
     "iopub.status.idle": "2022-06-01T02:01:51.254913Z",
     "shell.execute_reply": "2022-06-01T02:01:51.253851Z"
    },
    "papermill": {
     "duration": 0.065099,
     "end_time": "2022-06-01T02:01:51.257777",
     "exception": false,
     "start_time": "2022-06-01T02:01:51.192678",
     "status": "completed"
    },
    "tags": []
   },
   "outputs": [
    {
     "data": {
      "text/html": [
       "<div>\n",
       "<style scoped>\n",
       "    .dataframe tbody tr th:only-of-type {\n",
       "        vertical-align: middle;\n",
       "    }\n",
       "\n",
       "    .dataframe tbody tr th {\n",
       "        vertical-align: top;\n",
       "    }\n",
       "\n",
       "    .dataframe thead th {\n",
       "        text-align: right;\n",
       "    }\n",
       "</style>\n",
       "<table border=\"1\" class=\"dataframe\">\n",
       "  <thead>\n",
       "    <tr style=\"text-align: right;\">\n",
       "      <th></th>\n",
       "      <th>id</th>\n",
       "      <th>title</th>\n",
       "      <th>url</th>\n",
       "      <th>is_paid</th>\n",
       "      <th>num_subscribers</th>\n",
       "      <th>avg_rating</th>\n",
       "      <th>avg_rating_recent</th>\n",
       "      <th>rating</th>\n",
       "      <th>num_reviews</th>\n",
       "      <th>is_wishlisted</th>\n",
       "      <th>num_published_lectures</th>\n",
       "      <th>num_published_practice_tests</th>\n",
       "      <th>created</th>\n",
       "      <th>published_time</th>\n",
       "      <th>discount_price__amount</th>\n",
       "      <th>discount_price__currency</th>\n",
       "      <th>discount_price__price_string</th>\n",
       "      <th>price_detail__amount</th>\n",
       "      <th>price_detail__currency</th>\n",
       "      <th>price_detail__price_string</th>\n",
       "    </tr>\n",
       "  </thead>\n",
       "  <tbody>\n",
       "    <tr>\n",
       "      <th>609</th>\n",
       "      <td>1766420</td>\n",
       "      <td>PMP PMBOK 6 Practice Exams: Set One for PMP Ca...</td>\n",
       "      <td>/course/pmp_practice_exams_1/</td>\n",
       "      <td>True</td>\n",
       "      <td>6208</td>\n",
       "      <td>4.33465</td>\n",
       "      <td>4.28676</td>\n",
       "      <td>4.28676</td>\n",
       "      <td>782</td>\n",
       "      <td>False</td>\n",
       "      <td>0</td>\n",
       "      <td>5</td>\n",
       "      <td>2018-06-25T15:14:26Z</td>\n",
       "      <td>2018-07-16T18:33:14Z</td>\n",
       "      <td>488.0</td>\n",
       "      <td>INR</td>\n",
       "      <td>₹488</td>\n",
       "      <td>6400.0</td>\n",
       "      <td>INR</td>\n",
       "      <td>₹6,400</td>\n",
       "    </tr>\n",
       "    <tr>\n",
       "      <th>681</th>\n",
       "      <td>1591290</td>\n",
       "      <td>Agile Project Management Bootcamp: Agile Proje...</td>\n",
       "      <td>/course/agile-project-management-course/</td>\n",
       "      <td>True</td>\n",
       "      <td>5260</td>\n",
       "      <td>4.24667</td>\n",
       "      <td>4.20066</td>\n",
       "      <td>4.20066</td>\n",
       "      <td>682</td>\n",
       "      <td>False</td>\n",
       "      <td>0</td>\n",
       "      <td>2</td>\n",
       "      <td>2018-03-11T13:11:54Z</td>\n",
       "      <td>2018-03-12T06:52:39Z</td>\n",
       "      <td>455.0</td>\n",
       "      <td>INR</td>\n",
       "      <td>₹455</td>\n",
       "      <td>3200.0</td>\n",
       "      <td>INR</td>\n",
       "      <td>₹3,200</td>\n",
       "    </tr>\n",
       "    <tr>\n",
       "      <th>709</th>\n",
       "      <td>1621470</td>\n",
       "      <td>PMP Certification Exam Prep PMBOK 6th Edition,...</td>\n",
       "      <td>/course/pmp-practice-exams-pmbok-guide-6th-edi...</td>\n",
       "      <td>True</td>\n",
       "      <td>4224</td>\n",
       "      <td>4.28804</td>\n",
       "      <td>4.30258</td>\n",
       "      <td>4.30258</td>\n",
       "      <td>650</td>\n",
       "      <td>False</td>\n",
       "      <td>0</td>\n",
       "      <td>3</td>\n",
       "      <td>2018-03-29T12:05:18Z</td>\n",
       "      <td>2018-04-26T06:28:34Z</td>\n",
       "      <td>455.0</td>\n",
       "      <td>INR</td>\n",
       "      <td>₹455</td>\n",
       "      <td>1280.0</td>\n",
       "      <td>INR</td>\n",
       "      <td>₹1,280</td>\n",
       "    </tr>\n",
       "    <tr>\n",
       "      <th>716</th>\n",
       "      <td>1491820</td>\n",
       "      <td>PRINCE2 Foundation Practice Certification Exam...</td>\n",
       "      <td>/course/prince2-foundation-practice-certificat...</td>\n",
       "      <td>True</td>\n",
       "      <td>6450</td>\n",
       "      <td>4.45181</td>\n",
       "      <td>4.38882</td>\n",
       "      <td>4.38882</td>\n",
       "      <td>640</td>\n",
       "      <td>False</td>\n",
       "      <td>0</td>\n",
       "      <td>6</td>\n",
       "      <td>2018-01-03T02:06:24Z</td>\n",
       "      <td>2018-03-10T20:27:03Z</td>\n",
       "      <td>462.0</td>\n",
       "      <td>INR</td>\n",
       "      <td>₹462</td>\n",
       "      <td>6400.0</td>\n",
       "      <td>INR</td>\n",
       "      <td>₹6,400</td>\n",
       "    </tr>\n",
       "    <tr>\n",
       "      <th>839</th>\n",
       "      <td>1636714</td>\n",
       "      <td>PMI-ACP Practice Exams - PMBOK 6</td>\n",
       "      <td>/course/pmi-acp-practice-exams-pmbok-6/</td>\n",
       "      <td>True</td>\n",
       "      <td>5731</td>\n",
       "      <td>4.18000</td>\n",
       "      <td>4.17322</td>\n",
       "      <td>4.17322</td>\n",
       "      <td>528</td>\n",
       "      <td>False</td>\n",
       "      <td>0</td>\n",
       "      <td>2</td>\n",
       "      <td>2018-04-08T15:50:04Z</td>\n",
       "      <td>2018-04-08T16:30:01Z</td>\n",
       "      <td>455.0</td>\n",
       "      <td>INR</td>\n",
       "      <td>₹455</td>\n",
       "      <td>3200.0</td>\n",
       "      <td>INR</td>\n",
       "      <td>₹3,200</td>\n",
       "    </tr>\n",
       "    <tr>\n",
       "      <th>...</th>\n",
       "      <td>...</td>\n",
       "      <td>...</td>\n",
       "      <td>...</td>\n",
       "      <td>...</td>\n",
       "      <td>...</td>\n",
       "      <td>...</td>\n",
       "      <td>...</td>\n",
       "      <td>...</td>\n",
       "      <td>...</td>\n",
       "      <td>...</td>\n",
       "      <td>...</td>\n",
       "      <td>...</td>\n",
       "      <td>...</td>\n",
       "      <td>...</td>\n",
       "      <td>...</td>\n",
       "      <td>...</td>\n",
       "      <td>...</td>\n",
       "      <td>...</td>\n",
       "      <td>...</td>\n",
       "      <td>...</td>\n",
       "    </tr>\n",
       "    <tr>\n",
       "      <th>9318</th>\n",
       "      <td>2175872</td>\n",
       "      <td>PMP -   Project Management Professional  pract...</td>\n",
       "      <td>/course/pmp-project-management-professional-pr...</td>\n",
       "      <td>True</td>\n",
       "      <td>30</td>\n",
       "      <td>4.00000</td>\n",
       "      <td>3.66165</td>\n",
       "      <td>3.66165</td>\n",
       "      <td>3</td>\n",
       "      <td>False</td>\n",
       "      <td>0</td>\n",
       "      <td>4</td>\n",
       "      <td>2019-01-25T14:52:25Z</td>\n",
       "      <td>2019-01-30T17:49:59Z</td>\n",
       "      <td>455.0</td>\n",
       "      <td>INR</td>\n",
       "      <td>₹455</td>\n",
       "      <td>2880.0</td>\n",
       "      <td>INR</td>\n",
       "      <td>₹2,880</td>\n",
       "    </tr>\n",
       "    <tr>\n",
       "      <th>9328</th>\n",
       "      <td>2842422</td>\n",
       "      <td>CIPS Advanced Diploma: Managing Contractual Ri...</td>\n",
       "      <td>/course/cips-l5m3-managing-contractual-risk/</td>\n",
       "      <td>True</td>\n",
       "      <td>15</td>\n",
       "      <td>3.66667</td>\n",
       "      <td>3.72142</td>\n",
       "      <td>3.72142</td>\n",
       "      <td>3</td>\n",
       "      <td>False</td>\n",
       "      <td>0</td>\n",
       "      <td>2</td>\n",
       "      <td>2020-02-29T00:56:29Z</td>\n",
       "      <td>2020-02-29T13:23:47Z</td>\n",
       "      <td>455.0</td>\n",
       "      <td>INR</td>\n",
       "      <td>₹455</td>\n",
       "      <td>1600.0</td>\n",
       "      <td>INR</td>\n",
       "      <td>₹1,600</td>\n",
       "    </tr>\n",
       "    <tr>\n",
       "      <th>9379</th>\n",
       "      <td>2781478</td>\n",
       "      <td>SCOPE AND INFLUENCE OF PROCUREMENT AND SUPPLY-...</td>\n",
       "      <td>/course/scope-and-influence-of-procurement-and...</td>\n",
       "      <td>True</td>\n",
       "      <td>30</td>\n",
       "      <td>3.66667</td>\n",
       "      <td>3.66316</td>\n",
       "      <td>3.66316</td>\n",
       "      <td>3</td>\n",
       "      <td>False</td>\n",
       "      <td>0</td>\n",
       "      <td>4</td>\n",
       "      <td>2020-01-27T10:22:10Z</td>\n",
       "      <td>2020-01-30T12:56:33Z</td>\n",
       "      <td>455.0</td>\n",
       "      <td>INR</td>\n",
       "      <td>₹455</td>\n",
       "      <td>1280.0</td>\n",
       "      <td>INR</td>\n",
       "      <td>₹1,280</td>\n",
       "    </tr>\n",
       "    <tr>\n",
       "      <th>9401</th>\n",
       "      <td>2427030</td>\n",
       "      <td>Change Management Foundation based on ECMHBook</td>\n",
       "      <td>/course/change-management-foundation-based-on-...</td>\n",
       "      <td>True</td>\n",
       "      <td>96</td>\n",
       "      <td>3.33333</td>\n",
       "      <td>2.87283</td>\n",
       "      <td>2.87283</td>\n",
       "      <td>3</td>\n",
       "      <td>False</td>\n",
       "      <td>0</td>\n",
       "      <td>2</td>\n",
       "      <td>2019-06-24T04:35:06Z</td>\n",
       "      <td>2019-12-13T20:35:01Z</td>\n",
       "      <td>455.0</td>\n",
       "      <td>INR</td>\n",
       "      <td>₹455</td>\n",
       "      <td>2560.0</td>\n",
       "      <td>INR</td>\n",
       "      <td>₹2,560</td>\n",
       "    </tr>\n",
       "    <tr>\n",
       "      <th>9433</th>\n",
       "      <td>1887668</td>\n",
       "      <td>PMP® Exam Prep -FULL Training. 1100 Questions....</td>\n",
       "      <td>/course/pmp-exam-prep-full-training-1100-quest...</td>\n",
       "      <td>True</td>\n",
       "      <td>15</td>\n",
       "      <td>3.16667</td>\n",
       "      <td>3.67300</td>\n",
       "      <td>3.67300</td>\n",
       "      <td>3</td>\n",
       "      <td>False</td>\n",
       "      <td>0</td>\n",
       "      <td>5</td>\n",
       "      <td>2018-08-31T13:09:18Z</td>\n",
       "      <td>2018-11-09T19:06:04Z</td>\n",
       "      <td>455.0</td>\n",
       "      <td>INR</td>\n",
       "      <td>₹455</td>\n",
       "      <td>3200.0</td>\n",
       "      <td>INR</td>\n",
       "      <td>₹3,200</td>\n",
       "    </tr>\n",
       "  </tbody>\n",
       "</table>\n",
       "<p>184 rows × 20 columns</p>\n",
       "</div>"
      ],
      "text/plain": [
       "           id                                              title  \\\n",
       "609   1766420  PMP PMBOK 6 Practice Exams: Set One for PMP Ca...   \n",
       "681   1591290  Agile Project Management Bootcamp: Agile Proje...   \n",
       "709   1621470  PMP Certification Exam Prep PMBOK 6th Edition,...   \n",
       "716   1491820  PRINCE2 Foundation Practice Certification Exam...   \n",
       "839   1636714                   PMI-ACP Practice Exams - PMBOK 6   \n",
       "...       ...                                                ...   \n",
       "9318  2175872  PMP -   Project Management Professional  pract...   \n",
       "9328  2842422  CIPS Advanced Diploma: Managing Contractual Ri...   \n",
       "9379  2781478  SCOPE AND INFLUENCE OF PROCUREMENT AND SUPPLY-...   \n",
       "9401  2427030     Change Management Foundation based on ECMHBook   \n",
       "9433  1887668  PMP® Exam Prep -FULL Training. 1100 Questions....   \n",
       "\n",
       "                                                    url  is_paid  \\\n",
       "609                       /course/pmp_practice_exams_1/     True   \n",
       "681            /course/agile-project-management-course/     True   \n",
       "709   /course/pmp-practice-exams-pmbok-guide-6th-edi...     True   \n",
       "716   /course/prince2-foundation-practice-certificat...     True   \n",
       "839             /course/pmi-acp-practice-exams-pmbok-6/     True   \n",
       "...                                                 ...      ...   \n",
       "9318  /course/pmp-project-management-professional-pr...     True   \n",
       "9328       /course/cips-l5m3-managing-contractual-risk/     True   \n",
       "9379  /course/scope-and-influence-of-procurement-and...     True   \n",
       "9401  /course/change-management-foundation-based-on-...     True   \n",
       "9433  /course/pmp-exam-prep-full-training-1100-quest...     True   \n",
       "\n",
       "      num_subscribers  avg_rating  avg_rating_recent   rating  num_reviews  \\\n",
       "609              6208     4.33465            4.28676  4.28676          782   \n",
       "681              5260     4.24667            4.20066  4.20066          682   \n",
       "709              4224     4.28804            4.30258  4.30258          650   \n",
       "716              6450     4.45181            4.38882  4.38882          640   \n",
       "839              5731     4.18000            4.17322  4.17322          528   \n",
       "...               ...         ...                ...      ...          ...   \n",
       "9318               30     4.00000            3.66165  3.66165            3   \n",
       "9328               15     3.66667            3.72142  3.72142            3   \n",
       "9379               30     3.66667            3.66316  3.66316            3   \n",
       "9401               96     3.33333            2.87283  2.87283            3   \n",
       "9433               15     3.16667            3.67300  3.67300            3   \n",
       "\n",
       "      is_wishlisted  num_published_lectures  num_published_practice_tests  \\\n",
       "609           False                       0                             5   \n",
       "681           False                       0                             2   \n",
       "709           False                       0                             3   \n",
       "716           False                       0                             6   \n",
       "839           False                       0                             2   \n",
       "...             ...                     ...                           ...   \n",
       "9318          False                       0                             4   \n",
       "9328          False                       0                             2   \n",
       "9379          False                       0                             4   \n",
       "9401          False                       0                             2   \n",
       "9433          False                       0                             5   \n",
       "\n",
       "                   created        published_time  discount_price__amount  \\\n",
       "609   2018-06-25T15:14:26Z  2018-07-16T18:33:14Z                   488.0   \n",
       "681   2018-03-11T13:11:54Z  2018-03-12T06:52:39Z                   455.0   \n",
       "709   2018-03-29T12:05:18Z  2018-04-26T06:28:34Z                   455.0   \n",
       "716   2018-01-03T02:06:24Z  2018-03-10T20:27:03Z                   462.0   \n",
       "839   2018-04-08T15:50:04Z  2018-04-08T16:30:01Z                   455.0   \n",
       "...                    ...                   ...                     ...   \n",
       "9318  2019-01-25T14:52:25Z  2019-01-30T17:49:59Z                   455.0   \n",
       "9328  2020-02-29T00:56:29Z  2020-02-29T13:23:47Z                   455.0   \n",
       "9379  2020-01-27T10:22:10Z  2020-01-30T12:56:33Z                   455.0   \n",
       "9401  2019-06-24T04:35:06Z  2019-12-13T20:35:01Z                   455.0   \n",
       "9433  2018-08-31T13:09:18Z  2018-11-09T19:06:04Z                   455.0   \n",
       "\n",
       "     discount_price__currency discount_price__price_string  \\\n",
       "609                       INR                         ₹488   \n",
       "681                       INR                         ₹455   \n",
       "709                       INR                         ₹455   \n",
       "716                       INR                         ₹462   \n",
       "839                       INR                         ₹455   \n",
       "...                       ...                          ...   \n",
       "9318                      INR                         ₹455   \n",
       "9328                      INR                         ₹455   \n",
       "9379                      INR                         ₹455   \n",
       "9401                      INR                         ₹455   \n",
       "9433                      INR                         ₹455   \n",
       "\n",
       "      price_detail__amount price_detail__currency price_detail__price_string  \n",
       "609                 6400.0                    INR                     ₹6,400  \n",
       "681                 3200.0                    INR                     ₹3,200  \n",
       "709                 1280.0                    INR                     ₹1,280  \n",
       "716                 6400.0                    INR                     ₹6,400  \n",
       "839                 3200.0                    INR                     ₹3,200  \n",
       "...                    ...                    ...                        ...  \n",
       "9318                2880.0                    INR                     ₹2,880  \n",
       "9328                1600.0                    INR                     ₹1,600  \n",
       "9379                1280.0                    INR                     ₹1,280  \n",
       "9401                2560.0                    INR                     ₹2,560  \n",
       "9433                3200.0                    INR                     ₹3,200  \n",
       "\n",
       "[184 rows x 20 columns]"
      ]
     },
     "execution_count": 5,
     "metadata": {},
     "output_type": "execute_result"
    }
   ],
   "source": [
    "data.query('num_published_lectures == 0')"
   ]
  },
  {
   "cell_type": "markdown",
   "id": "54cebc19",
   "metadata": {
    "papermill": {
     "duration": 0.015741,
     "end_time": "2022-06-01T02:01:51.291481",
     "exception": false,
     "start_time": "2022-06-01T02:01:51.275740",
     "status": "completed"
    },
    "tags": []
   },
   "source": [
    "#### É possível perceber que existem cursos sem aulas publicadas, esses não são cursos, mas exames práticos que itilizam testes publicados, como essa análise é de cursos, somente serão considerados cursos com aulas publicadas."
   ]
  },
  {
   "cell_type": "code",
   "execution_count": 6,
   "id": "ace65f5d",
   "metadata": {
    "execution": {
     "iopub.execute_input": "2022-06-01T02:01:51.327152Z",
     "iopub.status.busy": "2022-06-01T02:01:51.326718Z",
     "iopub.status.idle": "2022-06-01T02:01:51.380802Z",
     "shell.execute_reply": "2022-06-01T02:01:51.379636Z"
    },
    "papermill": {
     "duration": 0.074696,
     "end_time": "2022-06-01T02:01:51.383492",
     "exception": false,
     "start_time": "2022-06-01T02:01:51.308796",
     "status": "completed"
    },
    "tags": []
   },
   "outputs": [
    {
     "data": {
      "text/html": [
       "<div>\n",
       "<style scoped>\n",
       "    .dataframe tbody tr th:only-of-type {\n",
       "        vertical-align: middle;\n",
       "    }\n",
       "\n",
       "    .dataframe tbody tr th {\n",
       "        vertical-align: top;\n",
       "    }\n",
       "\n",
       "    .dataframe thead th {\n",
       "        text-align: right;\n",
       "    }\n",
       "</style>\n",
       "<table border=\"1\" class=\"dataframe\">\n",
       "  <thead>\n",
       "    <tr style=\"text-align: right;\">\n",
       "      <th></th>\n",
       "      <th>id</th>\n",
       "      <th>num_subscribers</th>\n",
       "      <th>avg_rating</th>\n",
       "      <th>avg_rating_recent</th>\n",
       "      <th>rating</th>\n",
       "      <th>num_reviews</th>\n",
       "      <th>num_published_lectures</th>\n",
       "      <th>num_published_practice_tests</th>\n",
       "      <th>discount_price__amount</th>\n",
       "      <th>price_detail__amount</th>\n",
       "    </tr>\n",
       "  </thead>\n",
       "  <tbody>\n",
       "    <tr>\n",
       "      <th>count</th>\n",
       "      <td>9.263000e+03</td>\n",
       "      <td>9263.000000</td>\n",
       "      <td>9263.000000</td>\n",
       "      <td>9263.000000</td>\n",
       "      <td>9263.000000</td>\n",
       "      <td>9263.000000</td>\n",
       "      <td>9263.000000</td>\n",
       "      <td>9263.000000</td>\n",
       "      <td>8757.000000</td>\n",
       "      <td>9263.000000</td>\n",
       "    </tr>\n",
       "    <tr>\n",
       "      <th>mean</th>\n",
       "      <td>1.440125e+06</td>\n",
       "      <td>3447.991040</td>\n",
       "      <td>4.143260</td>\n",
       "      <td>4.130015</td>\n",
       "      <td>4.130015</td>\n",
       "      <td>303.977221</td>\n",
       "      <td>35.084206</td>\n",
       "      <td>0.031955</td>\n",
       "      <td>487.275437</td>\n",
       "      <td>4868.850264</td>\n",
       "    </tr>\n",
       "    <tr>\n",
       "      <th>std</th>\n",
       "      <td>8.939289e+05</td>\n",
       "      <td>10544.441345</td>\n",
       "      <td>0.451043</td>\n",
       "      <td>0.474871</td>\n",
       "      <td>0.474871</td>\n",
       "      <td>1844.509839</td>\n",
       "      <td>46.257922</td>\n",
       "      <td>0.215603</td>\n",
       "      <td>240.558922</td>\n",
       "      <td>3111.880545</td>\n",
       "    </tr>\n",
       "    <tr>\n",
       "      <th>min</th>\n",
       "      <td>2.762000e+03</td>\n",
       "      <td>3.000000</td>\n",
       "      <td>1.000000</td>\n",
       "      <td>1.000000</td>\n",
       "      <td>1.000000</td>\n",
       "      <td>3.000000</td>\n",
       "      <td>1.000000</td>\n",
       "      <td>0.000000</td>\n",
       "      <td>455.000000</td>\n",
       "      <td>1280.000000</td>\n",
       "    </tr>\n",
       "    <tr>\n",
       "      <th>25%</th>\n",
       "      <td>6.611100e+05</td>\n",
       "      <td>150.000000</td>\n",
       "      <td>3.900000</td>\n",
       "      <td>3.882860</td>\n",
       "      <td>3.882860</td>\n",
       "      <td>12.000000</td>\n",
       "      <td>14.000000</td>\n",
       "      <td>0.000000</td>\n",
       "      <td>455.000000</td>\n",
       "      <td>1600.000000</td>\n",
       "    </tr>\n",
       "    <tr>\n",
       "      <th>50%</th>\n",
       "      <td>1.354030e+06</td>\n",
       "      <td>952.000000</td>\n",
       "      <td>4.208330</td>\n",
       "      <td>4.210420</td>\n",
       "      <td>4.210420</td>\n",
       "      <td>33.000000</td>\n",
       "      <td>23.000000</td>\n",
       "      <td>0.000000</td>\n",
       "      <td>455.000000</td>\n",
       "      <td>4160.000000</td>\n",
       "    </tr>\n",
       "    <tr>\n",
       "      <th>75%</th>\n",
       "      <td>2.121547e+06</td>\n",
       "      <td>2931.000000</td>\n",
       "      <td>4.450000</td>\n",
       "      <td>4.450945</td>\n",
       "      <td>4.450945</td>\n",
       "      <td>112.000000</td>\n",
       "      <td>39.000000</td>\n",
       "      <td>0.000000</td>\n",
       "      <td>455.000000</td>\n",
       "      <td>8640.000000</td>\n",
       "    </tr>\n",
       "    <tr>\n",
       "      <th>max</th>\n",
       "      <td>3.469452e+06</td>\n",
       "      <td>374836.000000</td>\n",
       "      <td>5.000000</td>\n",
       "      <td>5.000000</td>\n",
       "      <td>5.000000</td>\n",
       "      <td>78006.000000</td>\n",
       "      <td>699.000000</td>\n",
       "      <td>2.000000</td>\n",
       "      <td>3200.000000</td>\n",
       "      <td>12800.000000</td>\n",
       "    </tr>\n",
       "  </tbody>\n",
       "</table>\n",
       "</div>"
      ],
      "text/plain": [
       "                 id  num_subscribers   avg_rating  avg_rating_recent  \\\n",
       "count  9.263000e+03      9263.000000  9263.000000        9263.000000   \n",
       "mean   1.440125e+06      3447.991040     4.143260           4.130015   \n",
       "std    8.939289e+05     10544.441345     0.451043           0.474871   \n",
       "min    2.762000e+03         3.000000     1.000000           1.000000   \n",
       "25%    6.611100e+05       150.000000     3.900000           3.882860   \n",
       "50%    1.354030e+06       952.000000     4.208330           4.210420   \n",
       "75%    2.121547e+06      2931.000000     4.450000           4.450945   \n",
       "max    3.469452e+06    374836.000000     5.000000           5.000000   \n",
       "\n",
       "            rating   num_reviews  num_published_lectures  \\\n",
       "count  9263.000000   9263.000000             9263.000000   \n",
       "mean      4.130015    303.977221               35.084206   \n",
       "std       0.474871   1844.509839               46.257922   \n",
       "min       1.000000      3.000000                1.000000   \n",
       "25%       3.882860     12.000000               14.000000   \n",
       "50%       4.210420     33.000000               23.000000   \n",
       "75%       4.450945    112.000000               39.000000   \n",
       "max       5.000000  78006.000000              699.000000   \n",
       "\n",
       "       num_published_practice_tests  discount_price__amount  \\\n",
       "count                   9263.000000             8757.000000   \n",
       "mean                       0.031955              487.275437   \n",
       "std                        0.215603              240.558922   \n",
       "min                        0.000000              455.000000   \n",
       "25%                        0.000000              455.000000   \n",
       "50%                        0.000000              455.000000   \n",
       "75%                        0.000000              455.000000   \n",
       "max                        2.000000             3200.000000   \n",
       "\n",
       "       price_detail__amount  \n",
       "count           9263.000000  \n",
       "mean            4868.850264  \n",
       "std             3111.880545  \n",
       "min             1280.000000  \n",
       "25%             1600.000000  \n",
       "50%             4160.000000  \n",
       "75%             8640.000000  \n",
       "max            12800.000000  "
      ]
     },
     "execution_count": 6,
     "metadata": {},
     "output_type": "execute_result"
    }
   ],
   "source": [
    "data = data.query('num_published_lectures > 0')\n",
    "data.describe()"
   ]
  },
  {
   "cell_type": "markdown",
   "id": "ebbfebf3",
   "metadata": {
    "papermill": {
     "duration": 0.017565,
     "end_time": "2022-06-01T02:01:51.418330",
     "exception": false,
     "start_time": "2022-06-01T02:01:51.400765",
     "status": "completed"
    },
    "tags": []
   },
   "source": [
    "#### O máximo de número de aulas publicadas é bem destoante dos quartis, pode se tratar de um outlier ou de uma distribuição com uma calda muito grande. Vamos verificar"
   ]
  },
  {
   "cell_type": "code",
   "execution_count": 7,
   "id": "954b071f",
   "metadata": {
    "execution": {
     "iopub.execute_input": "2022-06-01T02:01:51.453892Z",
     "iopub.status.busy": "2022-06-01T02:01:51.453457Z",
     "iopub.status.idle": "2022-06-01T02:01:51.462505Z",
     "shell.execute_reply": "2022-06-01T02:01:51.461618Z"
    },
    "papermill": {
     "duration": 0.029838,
     "end_time": "2022-06-01T02:01:51.465052",
     "exception": false,
     "start_time": "2022-06-01T02:01:51.435214",
     "status": "completed"
    },
    "tags": []
   },
   "outputs": [],
   "source": [
    "#Dando alguns ajuses te cor e estilo ao seaborn.\n",
    "sns.set_palette('PRGn')\n",
    "sns.set_style('ticks')"
   ]
  },
  {
   "cell_type": "code",
   "execution_count": 8,
   "id": "c4007341",
   "metadata": {
    "execution": {
     "iopub.execute_input": "2022-06-01T02:01:51.500108Z",
     "iopub.status.busy": "2022-06-01T02:01:51.499204Z",
     "iopub.status.idle": "2022-06-01T02:01:51.506620Z",
     "shell.execute_reply": "2022-06-01T02:01:51.505688Z"
    },
    "papermill": {
     "duration": 0.026788,
     "end_time": "2022-06-01T02:01:51.508617",
     "exception": false,
     "start_time": "2022-06-01T02:01:51.481829",
     "status": "completed"
    },
    "tags": []
   },
   "outputs": [
    {
     "data": {
      "text/plain": [
       "0"
      ]
     },
     "execution_count": 8,
     "metadata": {},
     "output_type": "execute_result"
    }
   ],
   "source": [
    "data['num_published_lectures'].isna().sum()"
   ]
  },
  {
   "cell_type": "code",
   "execution_count": 9,
   "id": "7400e02f",
   "metadata": {
    "execution": {
     "iopub.execute_input": "2022-06-01T02:01:51.545463Z",
     "iopub.status.busy": "2022-06-01T02:01:51.544844Z",
     "iopub.status.idle": "2022-06-01T02:01:51.552082Z",
     "shell.execute_reply": "2022-06-01T02:01:51.551059Z"
    },
    "papermill": {
     "duration": 0.027871,
     "end_time": "2022-06-01T02:01:51.554512",
     "exception": false,
     "start_time": "2022-06-01T02:01:51.526641",
     "status": "completed"
    },
    "tags": []
   },
   "outputs": [
    {
     "data": {
      "text/plain": [
       "0"
      ]
     },
     "execution_count": 9,
     "metadata": {},
     "output_type": "execute_result"
    }
   ],
   "source": [
    "np.isinf(data['num_published_lectures']).sum()"
   ]
  },
  {
   "cell_type": "code",
   "execution_count": 10,
   "id": "c22febab",
   "metadata": {
    "execution": {
     "iopub.execute_input": "2022-06-01T02:01:51.592508Z",
     "iopub.status.busy": "2022-06-01T02:01:51.591902Z",
     "iopub.status.idle": "2022-06-01T02:01:51.935550Z",
     "shell.execute_reply": "2022-06-01T02:01:51.934567Z"
    },
    "papermill": {
     "duration": 0.365425,
     "end_time": "2022-06-01T02:01:51.938183",
     "exception": false,
     "start_time": "2022-06-01T02:01:51.572758",
     "status": "completed"
    },
    "tags": []
   },
   "outputs": [
    {
     "name": "stderr",
     "output_type": "stream",
     "text": [
      "/opt/conda/lib/python3.7/site-packages/seaborn/distributions.py:2619: FutureWarning: `distplot` is a deprecated function and will be removed in a future version. Please adapt your code to use either `displot` (a figure-level function with similar flexibility) or `histplot` (an axes-level function for histograms).\n",
      "  warnings.warn(msg, FutureWarning)\n"
     ]
    },
    {
     "data": {
      "text/plain": [
       "<AxesSubplot:title={'center':'Distribuição de aulas publicadas'}, xlabel='Aulas publicadas', ylabel='Frequencia'>"
      ]
     },
     "execution_count": 10,
     "metadata": {},
     "output_type": "execute_result"
    },
    {
     "data": {
      "image/png": "[encoded data removed]",
      "text/plain": [
       "<Figure size 432x288 with 1 Axes>"
      ]
     },
     "metadata": {},
     "output_type": "display_data"
    }
   ],
   "source": [
    "ax = sns.distplot(data['num_published_lectures'], kde=False, norm_hist=False)\n",
    "ax.set_title('Distribuição de aulas publicadas')\n",
    "ax.set(xlabel='Aulas publicadas', ylabel='Frequencia')\n",
    "ax"
   ]
  },
  {
   "cell_type": "code",
   "execution_count": 11,
   "id": "ee7e4dc7",
   "metadata": {
    "execution": {
     "iopub.execute_input": "2022-06-01T02:01:51.975103Z",
     "iopub.status.busy": "2022-06-01T02:01:51.974506Z",
     "iopub.status.idle": "2022-06-01T02:01:52.151342Z",
     "shell.execute_reply": "2022-06-01T02:01:52.150153Z"
    },
    "papermill": {
     "duration": 0.1986,
     "end_time": "2022-06-01T02:01:52.153932",
     "exception": false,
     "start_time": "2022-06-01T02:01:51.955332",
     "status": "completed"
    },
    "tags": []
   },
   "outputs": [
    {
     "name": "stderr",
     "output_type": "stream",
     "text": [
      "/opt/conda/lib/python3.7/site-packages/seaborn/_decorators.py:43: FutureWarning: Pass the following variable as a keyword arg: x. From version 0.12, the only valid positional argument will be `data`, and passing other arguments without an explicit keyword will result in an error or misinterpretation.\n",
      "  FutureWarning\n"
     ]
    },
    {
     "data": {
      "text/plain": [
       "<AxesSubplot:title={'center':'Aulas publicadas'}, xlabel='num_published_lectures'>"
      ]
     },
     "execution_count": 11,
     "metadata": {},
     "output_type": "execute_result"
    },
    {
     "data": {
      "image/png": "[encoded data removed]",
      "text/plain": [
       "<Figure size 432x288 with 1 Axes>"
      ]
     },
     "metadata": {},
     "output_type": "display_data"
    }
   ],
   "source": [
    "ax = sns.boxplot(data['num_published_lectures'])\n",
    "ax.set_title('Aulas publicadas')\n",
    "ax"
   ]
  },
  {
   "cell_type": "code",
   "execution_count": 12,
   "id": "03d3d2f6",
   "metadata": {
    "execution": {
     "iopub.execute_input": "2022-06-01T02:01:52.193236Z",
     "iopub.status.busy": "2022-06-01T02:01:52.191976Z",
     "iopub.status.idle": "2022-06-01T02:01:52.231843Z",
     "shell.execute_reply": "2022-06-01T02:01:52.230848Z"
    },
    "papermill": {
     "duration": 0.062645,
     "end_time": "2022-06-01T02:01:52.234969",
     "exception": false,
     "start_time": "2022-06-01T02:01:52.172324",
     "status": "completed"
    },
    "tags": []
   },
   "outputs": [
    {
     "data": {
      "text/html": [
       "<div>\n",
       "<style scoped>\n",
       "    .dataframe tbody tr th:only-of-type {\n",
       "        vertical-align: middle;\n",
       "    }\n",
       "\n",
       "    .dataframe tbody tr th {\n",
       "        vertical-align: top;\n",
       "    }\n",
       "\n",
       "    .dataframe thead th {\n",
       "        text-align: right;\n",
       "    }\n",
       "</style>\n",
       "<table border=\"1\" class=\"dataframe\">\n",
       "  <thead>\n",
       "    <tr style=\"text-align: right;\">\n",
       "      <th></th>\n",
       "      <th>id</th>\n",
       "      <th>title</th>\n",
       "      <th>url</th>\n",
       "      <th>is_paid</th>\n",
       "      <th>num_subscribers</th>\n",
       "      <th>avg_rating</th>\n",
       "      <th>avg_rating_recent</th>\n",
       "      <th>rating</th>\n",
       "      <th>num_reviews</th>\n",
       "      <th>is_wishlisted</th>\n",
       "      <th>num_published_lectures</th>\n",
       "      <th>num_published_practice_tests</th>\n",
       "      <th>created</th>\n",
       "      <th>published_time</th>\n",
       "      <th>discount_price__amount</th>\n",
       "      <th>discount_price__currency</th>\n",
       "      <th>discount_price__price_string</th>\n",
       "      <th>price_detail__amount</th>\n",
       "      <th>price_detail__currency</th>\n",
       "      <th>price_detail__price_string</th>\n",
       "    </tr>\n",
       "  </thead>\n",
       "  <tbody>\n",
       "    <tr>\n",
       "      <th>42</th>\n",
       "      <td>1802404</td>\n",
       "      <td>The Complete Communication Skills Master Class...</td>\n",
       "      <td>/course/the-complete-communication-skills-mast...</td>\n",
       "      <td>True</td>\n",
       "      <td>62384</td>\n",
       "      <td>4.35213</td>\n",
       "      <td>4.33177</td>\n",
       "      <td>4.33177</td>\n",
       "      <td>9196</td>\n",
       "      <td>False</td>\n",
       "      <td>600</td>\n",
       "      <td>0</td>\n",
       "      <td>2018-07-16T19:50:59Z</td>\n",
       "      <td>2018-07-21T15:50:46Z</td>\n",
       "      <td>546.0</td>\n",
       "      <td>INR</td>\n",
       "      <td>₹546</td>\n",
       "      <td>10240.0</td>\n",
       "      <td>INR</td>\n",
       "      <td>₹10,240</td>\n",
       "    </tr>\n",
       "    <tr>\n",
       "      <th>67</th>\n",
       "      <td>1659676</td>\n",
       "      <td>The Complete Digital Marketing Guide - 18 Cour...</td>\n",
       "      <td>/course/digital-marketing-guide/</td>\n",
       "      <td>True</td>\n",
       "      <td>25820</td>\n",
       "      <td>4.50586</td>\n",
       "      <td>4.46247</td>\n",
       "      <td>4.46247</td>\n",
       "      <td>5763</td>\n",
       "      <td>False</td>\n",
       "      <td>637</td>\n",
       "      <td>0</td>\n",
       "      <td>2018-04-23T17:07:41Z</td>\n",
       "      <td>2018-05-04T19:32:32Z</td>\n",
       "      <td>455.0</td>\n",
       "      <td>INR</td>\n",
       "      <td>₹455</td>\n",
       "      <td>8640.0</td>\n",
       "      <td>INR</td>\n",
       "      <td>₹8,640</td>\n",
       "    </tr>\n",
       "    <tr>\n",
       "      <th>204</th>\n",
       "      <td>1854668</td>\n",
       "      <td>The Complete Storytelling Course for Speaking ...</td>\n",
       "      <td>/course/the-complete-storytelling-course-for-s...</td>\n",
       "      <td>True</td>\n",
       "      <td>26148</td>\n",
       "      <td>4.37712</td>\n",
       "      <td>4.32759</td>\n",
       "      <td>4.32759</td>\n",
       "      <td>2340</td>\n",
       "      <td>False</td>\n",
       "      <td>600</td>\n",
       "      <td>0</td>\n",
       "      <td>2018-08-13T20:46:53Z</td>\n",
       "      <td>2018-08-16T18:34:39Z</td>\n",
       "      <td>488.0</td>\n",
       "      <td>INR</td>\n",
       "      <td>₹488</td>\n",
       "      <td>9280.0</td>\n",
       "      <td>INR</td>\n",
       "      <td>₹9,280</td>\n",
       "    </tr>\n",
       "    <tr>\n",
       "      <th>256</th>\n",
       "      <td>1551970</td>\n",
       "      <td>Communication Skills for Beginners</td>\n",
       "      <td>/course/communication-skills-for-beginners-d/</td>\n",
       "      <td>True</td>\n",
       "      <td>48057</td>\n",
       "      <td>4.36978</td>\n",
       "      <td>4.31345</td>\n",
       "      <td>4.31345</td>\n",
       "      <td>1988</td>\n",
       "      <td>False</td>\n",
       "      <td>601</td>\n",
       "      <td>0</td>\n",
       "      <td>2018-02-12T22:39:27Z</td>\n",
       "      <td>2018-02-15T11:12:49Z</td>\n",
       "      <td>514.0</td>\n",
       "      <td>INR</td>\n",
       "      <td>₹514</td>\n",
       "      <td>9600.0</td>\n",
       "      <td>INR</td>\n",
       "      <td>₹9,600</td>\n",
       "    </tr>\n",
       "    <tr>\n",
       "      <th>409</th>\n",
       "      <td>375594</td>\n",
       "      <td>Financial Management A Complete Study for CA/C...</td>\n",
       "      <td>/course/financial-management-a-complete-study/</td>\n",
       "      <td>True</td>\n",
       "      <td>10673</td>\n",
       "      <td>4.34375</td>\n",
       "      <td>4.33252</td>\n",
       "      <td>4.33252</td>\n",
       "      <td>1185</td>\n",
       "      <td>False</td>\n",
       "      <td>561</td>\n",
       "      <td>0</td>\n",
       "      <td>2014-12-22T13:49:03Z</td>\n",
       "      <td>2014-12-22T16:57:30Z</td>\n",
       "      <td>481.0</td>\n",
       "      <td>INR</td>\n",
       "      <td>₹481</td>\n",
       "      <td>8960.0</td>\n",
       "      <td>INR</td>\n",
       "      <td>₹8,960</td>\n",
       "    </tr>\n",
       "    <tr>\n",
       "      <th>424</th>\n",
       "      <td>1495884</td>\n",
       "      <td>Six Sigma Green Belt Masterclass (includes a G...</td>\n",
       "      <td>/course/six-sigma-green-belt-training-certific...</td>\n",
       "      <td>True</td>\n",
       "      <td>5921</td>\n",
       "      <td>4.60831</td>\n",
       "      <td>4.61972</td>\n",
       "      <td>4.61972</td>\n",
       "      <td>1144</td>\n",
       "      <td>False</td>\n",
       "      <td>505</td>\n",
       "      <td>0</td>\n",
       "      <td>2018-01-05T13:19:52Z</td>\n",
       "      <td>2018-08-20T15:32:40Z</td>\n",
       "      <td>455.0</td>\n",
       "      <td>INR</td>\n",
       "      <td>₹455</td>\n",
       "      <td>8640.0</td>\n",
       "      <td>INR</td>\n",
       "      <td>₹8,640</td>\n",
       "    </tr>\n",
       "    <tr>\n",
       "      <th>490</th>\n",
       "      <td>1574798</td>\n",
       "      <td>Accounting–Financial Accounting Total-Beginner...</td>\n",
       "      <td>/course/financial-accounting-accounting-cycle/</td>\n",
       "      <td>True</td>\n",
       "      <td>61905</td>\n",
       "      <td>4.39799</td>\n",
       "      <td>4.43079</td>\n",
       "      <td>4.43079</td>\n",
       "      <td>962</td>\n",
       "      <td>False</td>\n",
       "      <td>699</td>\n",
       "      <td>0</td>\n",
       "      <td>2018-02-28T18:05:48Z</td>\n",
       "      <td>2018-03-05T19:35:01Z</td>\n",
       "      <td>455.0</td>\n",
       "      <td>INR</td>\n",
       "      <td>₹455</td>\n",
       "      <td>8640.0</td>\n",
       "      <td>INR</td>\n",
       "      <td>₹8,640</td>\n",
       "    </tr>\n",
       "    <tr>\n",
       "      <th>499</th>\n",
       "      <td>543242</td>\n",
       "      <td>Learn to Trade The News</td>\n",
       "      <td>/course/learn-to-trade-the-news/</td>\n",
       "      <td>True</td>\n",
       "      <td>5080</td>\n",
       "      <td>4.50000</td>\n",
       "      <td>4.52016</td>\n",
       "      <td>4.52016</td>\n",
       "      <td>935</td>\n",
       "      <td>False</td>\n",
       "      <td>560</td>\n",
       "      <td>0</td>\n",
       "      <td>2015-07-02T15:41:31Z</td>\n",
       "      <td>2015-07-16T22:03:29Z</td>\n",
       "      <td>NaN</td>\n",
       "      <td>NaN</td>\n",
       "      <td>NaN</td>\n",
       "      <td>12800.0</td>\n",
       "      <td>INR</td>\n",
       "      <td>₹12,800</td>\n",
       "    </tr>\n",
       "    <tr>\n",
       "      <th>539</th>\n",
       "      <td>1412662</td>\n",
       "      <td>QuickBooks Pro Desktop 2020, 2019, &amp; 2018 Star...</td>\n",
       "      <td>/course/quickbooks-pro-2018-start-to-finish/</td>\n",
       "      <td>True</td>\n",
       "      <td>23483</td>\n",
       "      <td>4.27041</td>\n",
       "      <td>4.18543</td>\n",
       "      <td>4.18543</td>\n",
       "      <td>863</td>\n",
       "      <td>False</td>\n",
       "      <td>668</td>\n",
       "      <td>0</td>\n",
       "      <td>2017-10-28T16:46:07Z</td>\n",
       "      <td>2017-11-11T23:41:38Z</td>\n",
       "      <td>455.0</td>\n",
       "      <td>INR</td>\n",
       "      <td>₹455</td>\n",
       "      <td>8640.0</td>\n",
       "      <td>INR</td>\n",
       "      <td>₹8,640</td>\n",
       "    </tr>\n",
       "    <tr>\n",
       "      <th>545</th>\n",
       "      <td>1564762</td>\n",
       "      <td>Winning Communication Skills for Telephone, Co...</td>\n",
       "      <td>/course/telephone-conference-calls-workplace-c...</td>\n",
       "      <td>True</td>\n",
       "      <td>39262</td>\n",
       "      <td>4.41667</td>\n",
       "      <td>4.45210</td>\n",
       "      <td>4.45210</td>\n",
       "      <td>857</td>\n",
       "      <td>False</td>\n",
       "      <td>601</td>\n",
       "      <td>0</td>\n",
       "      <td>2018-02-21T16:14:29Z</td>\n",
       "      <td>2018-02-22T01:54:10Z</td>\n",
       "      <td>514.0</td>\n",
       "      <td>INR</td>\n",
       "      <td>₹514</td>\n",
       "      <td>9600.0</td>\n",
       "      <td>INR</td>\n",
       "      <td>₹9,600</td>\n",
       "    </tr>\n",
       "    <tr>\n",
       "      <th>670</th>\n",
       "      <td>363348</td>\n",
       "      <td>Workplace Communication: Effectively Deliver C...</td>\n",
       "      <td>/course/how-to-deliver-criticism-in-the-workpl...</td>\n",
       "      <td>True</td>\n",
       "      <td>19413</td>\n",
       "      <td>4.28070</td>\n",
       "      <td>4.15555</td>\n",
       "      <td>4.15555</td>\n",
       "      <td>706</td>\n",
       "      <td>False</td>\n",
       "      <td>600</td>\n",
       "      <td>0</td>\n",
       "      <td>2014-12-04T20:53:05Z</td>\n",
       "      <td>2014-12-11T18:33:32Z</td>\n",
       "      <td>455.0</td>\n",
       "      <td>INR</td>\n",
       "      <td>₹455</td>\n",
       "      <td>8640.0</td>\n",
       "      <td>INR</td>\n",
       "      <td>₹8,640</td>\n",
       "    </tr>\n",
       "    <tr>\n",
       "      <th>785</th>\n",
       "      <td>1630738</td>\n",
       "      <td>Complete Media Training Master Class - Confide...</td>\n",
       "      <td>/course/complete-media-training-master-class-c...</td>\n",
       "      <td>True</td>\n",
       "      <td>32551</td>\n",
       "      <td>4.51887</td>\n",
       "      <td>4.49889</td>\n",
       "      <td>4.49889</td>\n",
       "      <td>569</td>\n",
       "      <td>False</td>\n",
       "      <td>600</td>\n",
       "      <td>0</td>\n",
       "      <td>2018-04-04T12:49:51Z</td>\n",
       "      <td>2018-04-05T17:34:17Z</td>\n",
       "      <td>455.0</td>\n",
       "      <td>INR</td>\n",
       "      <td>₹455</td>\n",
       "      <td>8640.0</td>\n",
       "      <td>INR</td>\n",
       "      <td>₹8,640</td>\n",
       "    </tr>\n",
       "    <tr>\n",
       "      <th>1027</th>\n",
       "      <td>1978354</td>\n",
       "      <td>Hands-on HADOOP Masterclass - Tame the Big Data!</td>\n",
       "      <td>/course/hands-on-hadoop-masterclass-tame-the-b...</td>\n",
       "      <td>True</td>\n",
       "      <td>20836</td>\n",
       "      <td>3.35000</td>\n",
       "      <td>3.15472</td>\n",
       "      <td>3.15472</td>\n",
       "      <td>401</td>\n",
       "      <td>False</td>\n",
       "      <td>525</td>\n",
       "      <td>0</td>\n",
       "      <td>2018-10-20T13:02:25Z</td>\n",
       "      <td>2018-10-23T19:46:21Z</td>\n",
       "      <td>455.0</td>\n",
       "      <td>INR</td>\n",
       "      <td>₹455</td>\n",
       "      <td>8640.0</td>\n",
       "      <td>INR</td>\n",
       "      <td>₹8,640</td>\n",
       "    </tr>\n",
       "    <tr>\n",
       "      <th>1169</th>\n",
       "      <td>362458</td>\n",
       "      <td>Facilitation: You Can Be a Facilitator</td>\n",
       "      <td>/course/how-to-be-a-facilatator/</td>\n",
       "      <td>True</td>\n",
       "      <td>2528</td>\n",
       "      <td>4.30488</td>\n",
       "      <td>4.14351</td>\n",
       "      <td>4.14351</td>\n",
       "      <td>341</td>\n",
       "      <td>False</td>\n",
       "      <td>548</td>\n",
       "      <td>0</td>\n",
       "      <td>2014-12-03T18:31:57Z</td>\n",
       "      <td>2014-12-10T21:11:23Z</td>\n",
       "      <td>455.0</td>\n",
       "      <td>INR</td>\n",
       "      <td>₹455</td>\n",
       "      <td>8640.0</td>\n",
       "      <td>INR</td>\n",
       "      <td>₹8,640</td>\n",
       "    </tr>\n",
       "    <tr>\n",
       "      <th>1352</th>\n",
       "      <td>2890902</td>\n",
       "      <td>Project Management Professional Certification ...</td>\n",
       "      <td>/course/project-management-professional-certif...</td>\n",
       "      <td>True</td>\n",
       "      <td>9745</td>\n",
       "      <td>4.17611</td>\n",
       "      <td>4.05294</td>\n",
       "      <td>4.05294</td>\n",
       "      <td>269</td>\n",
       "      <td>False</td>\n",
       "      <td>556</td>\n",
       "      <td>0</td>\n",
       "      <td>2020-03-20T17:28:32Z</td>\n",
       "      <td>2020-06-11T21:20:50Z</td>\n",
       "      <td>455.0</td>\n",
       "      <td>INR</td>\n",
       "      <td>₹455</td>\n",
       "      <td>8640.0</td>\n",
       "      <td>INR</td>\n",
       "      <td>₹8,640</td>\n",
       "    </tr>\n",
       "    <tr>\n",
       "      <th>1564</th>\n",
       "      <td>2940556</td>\n",
       "      <td>The Complete Sales Skills Master Class - Sales...</td>\n",
       "      <td>/course/the-complete-sales-skills-master-class...</td>\n",
       "      <td>True</td>\n",
       "      <td>27104</td>\n",
       "      <td>4.27717</td>\n",
       "      <td>4.25389</td>\n",
       "      <td>4.25389</td>\n",
       "      <td>216</td>\n",
       "      <td>False</td>\n",
       "      <td>576</td>\n",
       "      <td>0</td>\n",
       "      <td>2020-03-31T19:10:56Z</td>\n",
       "      <td>2020-04-25T19:03:47Z</td>\n",
       "      <td>455.0</td>\n",
       "      <td>INR</td>\n",
       "      <td>₹455</td>\n",
       "      <td>8640.0</td>\n",
       "      <td>INR</td>\n",
       "      <td>₹8,640</td>\n",
       "    </tr>\n",
       "    <tr>\n",
       "      <th>1844</th>\n",
       "      <td>866584</td>\n",
       "      <td>Advanced Accounting A Complete Study for CA/CM...</td>\n",
       "      <td>/course/branch-accounts-a-complete-analysis/</td>\n",
       "      <td>True</td>\n",
       "      <td>3481</td>\n",
       "      <td>4.25000</td>\n",
       "      <td>4.07289</td>\n",
       "      <td>4.07289</td>\n",
       "      <td>165</td>\n",
       "      <td>False</td>\n",
       "      <td>531</td>\n",
       "      <td>0</td>\n",
       "      <td>2016-06-02T07:15:08Z</td>\n",
       "      <td>2016-06-03T17:42:27Z</td>\n",
       "      <td>455.0</td>\n",
       "      <td>INR</td>\n",
       "      <td>₹455</td>\n",
       "      <td>8640.0</td>\n",
       "      <td>INR</td>\n",
       "      <td>₹8,640</td>\n",
       "    </tr>\n",
       "    <tr>\n",
       "      <th>2568</th>\n",
       "      <td>1524914</td>\n",
       "      <td>QuickBooks Online 2020 Vs. QuickBooks Desktop ...</td>\n",
       "      <td>/course/quickbooks-online-vs-quickbooks-desktop/</td>\n",
       "      <td>True</td>\n",
       "      <td>1792</td>\n",
       "      <td>4.45455</td>\n",
       "      <td>4.38503</td>\n",
       "      <td>4.38503</td>\n",
       "      <td>96</td>\n",
       "      <td>False</td>\n",
       "      <td>551</td>\n",
       "      <td>0</td>\n",
       "      <td>2018-01-24T19:49:23Z</td>\n",
       "      <td>2018-02-03T07:57:08Z</td>\n",
       "      <td>462.0</td>\n",
       "      <td>INR</td>\n",
       "      <td>₹462</td>\n",
       "      <td>8640.0</td>\n",
       "      <td>INR</td>\n",
       "      <td>₹8,640</td>\n",
       "    </tr>\n",
       "    <tr>\n",
       "      <th>4094</th>\n",
       "      <td>471440</td>\n",
       "      <td>Accounting and Finance for Bankers - A Compreh...</td>\n",
       "      <td>/course/crash-course-on-financial-management/</td>\n",
       "      <td>True</td>\n",
       "      <td>3319</td>\n",
       "      <td>4.55000</td>\n",
       "      <td>4.45452</td>\n",
       "      <td>4.45452</td>\n",
       "      <td>43</td>\n",
       "      <td>False</td>\n",
       "      <td>513</td>\n",
       "      <td>0</td>\n",
       "      <td>2015-04-09T02:02:58Z</td>\n",
       "      <td>2015-04-10T19:24:28Z</td>\n",
       "      <td>455.0</td>\n",
       "      <td>INR</td>\n",
       "      <td>₹455</td>\n",
       "      <td>8640.0</td>\n",
       "      <td>INR</td>\n",
       "      <td>₹8,640</td>\n",
       "    </tr>\n",
       "  </tbody>\n",
       "</table>\n",
       "</div>"
      ],
      "text/plain": [
       "           id                                              title  \\\n",
       "42    1802404  The Complete Communication Skills Master Class...   \n",
       "67    1659676  The Complete Digital Marketing Guide - 18 Cour...   \n",
       "204   1854668  The Complete Storytelling Course for Speaking ...   \n",
       "256   1551970                 Communication Skills for Beginners   \n",
       "409    375594  Financial Management A Complete Study for CA/C...   \n",
       "424   1495884  Six Sigma Green Belt Masterclass (includes a G...   \n",
       "490   1574798  Accounting–Financial Accounting Total-Beginner...   \n",
       "499    543242                            Learn to Trade The News   \n",
       "539   1412662  QuickBooks Pro Desktop 2020, 2019, & 2018 Star...   \n",
       "545   1564762  Winning Communication Skills for Telephone, Co...   \n",
       "670    363348  Workplace Communication: Effectively Deliver C...   \n",
       "785   1630738  Complete Media Training Master Class - Confide...   \n",
       "1027  1978354   Hands-on HADOOP Masterclass - Tame the Big Data!   \n",
       "1169   362458             Facilitation: You Can Be a Facilitator   \n",
       "1352  2890902  Project Management Professional Certification ...   \n",
       "1564  2940556  The Complete Sales Skills Master Class - Sales...   \n",
       "1844   866584  Advanced Accounting A Complete Study for CA/CM...   \n",
       "2568  1524914  QuickBooks Online 2020 Vs. QuickBooks Desktop ...   \n",
       "4094   471440  Accounting and Finance for Bankers - A Compreh...   \n",
       "\n",
       "                                                    url  is_paid  \\\n",
       "42    /course/the-complete-communication-skills-mast...     True   \n",
       "67                     /course/digital-marketing-guide/     True   \n",
       "204   /course/the-complete-storytelling-course-for-s...     True   \n",
       "256       /course/communication-skills-for-beginners-d/     True   \n",
       "409      /course/financial-management-a-complete-study/     True   \n",
       "424   /course/six-sigma-green-belt-training-certific...     True   \n",
       "490      /course/financial-accounting-accounting-cycle/     True   \n",
       "499                    /course/learn-to-trade-the-news/     True   \n",
       "539        /course/quickbooks-pro-2018-start-to-finish/     True   \n",
       "545   /course/telephone-conference-calls-workplace-c...     True   \n",
       "670   /course/how-to-deliver-criticism-in-the-workpl...     True   \n",
       "785   /course/complete-media-training-master-class-c...     True   \n",
       "1027  /course/hands-on-hadoop-masterclass-tame-the-b...     True   \n",
       "1169                   /course/how-to-be-a-facilatator/     True   \n",
       "1352  /course/project-management-professional-certif...     True   \n",
       "1564  /course/the-complete-sales-skills-master-class...     True   \n",
       "1844       /course/branch-accounts-a-complete-analysis/     True   \n",
       "2568   /course/quickbooks-online-vs-quickbooks-desktop/     True   \n",
       "4094      /course/crash-course-on-financial-management/     True   \n",
       "\n",
       "      num_subscribers  avg_rating  avg_rating_recent   rating  num_reviews  \\\n",
       "42              62384     4.35213            4.33177  4.33177         9196   \n",
       "67              25820     4.50586            4.46247  4.46247         5763   \n",
       "204             26148     4.37712            4.32759  4.32759         2340   \n",
       "256             48057     4.36978            4.31345  4.31345         1988   \n",
       "409             10673     4.34375            4.33252  4.33252         1185   \n",
       "424              5921     4.60831            4.61972  4.61972         1144   \n",
       "490             61905     4.39799            4.43079  4.43079          962   \n",
       "499              5080     4.50000            4.52016  4.52016          935   \n",
       "539             23483     4.27041            4.18543  4.18543          863   \n",
       "545             39262     4.41667            4.45210  4.45210          857   \n",
       "670             19413     4.28070            4.15555  4.15555          706   \n",
       "785             32551     4.51887            4.49889  4.49889          569   \n",
       "1027            20836     3.35000            3.15472  3.15472          401   \n",
       "1169             2528     4.30488            4.14351  4.14351          341   \n",
       "1352             9745     4.17611            4.05294  4.05294          269   \n",
       "1564            27104     4.27717            4.25389  4.25389          216   \n",
       "1844             3481     4.25000            4.07289  4.07289          165   \n",
       "2568             1792     4.45455            4.38503  4.38503           96   \n",
       "4094             3319     4.55000            4.45452  4.45452           43   \n",
       "\n",
       "      is_wishlisted  num_published_lectures  num_published_practice_tests  \\\n",
       "42            False                     600                             0   \n",
       "67            False                     637                             0   \n",
       "204           False                     600                             0   \n",
       "256           False                     601                             0   \n",
       "409           False                     561                             0   \n",
       "424           False                     505                             0   \n",
       "490           False                     699                             0   \n",
       "499           False                     560                             0   \n",
       "539           False                     668                             0   \n",
       "545           False                     601                             0   \n",
       "670           False                     600                             0   \n",
       "785           False                     600                             0   \n",
       "1027          False                     525                             0   \n",
       "1169          False                     548                             0   \n",
       "1352          False                     556                             0   \n",
       "1564          False                     576                             0   \n",
       "1844          False                     531                             0   \n",
       "2568          False                     551                             0   \n",
       "4094          False                     513                             0   \n",
       "\n",
       "                   created        published_time  discount_price__amount  \\\n",
       "42    2018-07-16T19:50:59Z  2018-07-21T15:50:46Z                   546.0   \n",
       "67    2018-04-23T17:07:41Z  2018-05-04T19:32:32Z                   455.0   \n",
       "204   2018-08-13T20:46:53Z  2018-08-16T18:34:39Z                   488.0   \n",
       "256   2018-02-12T22:39:27Z  2018-02-15T11:12:49Z                   514.0   \n",
       "409   2014-12-22T13:49:03Z  2014-12-22T16:57:30Z                   481.0   \n",
       "424   2018-01-05T13:19:52Z  2018-08-20T15:32:40Z                   455.0   \n",
       "490   2018-02-28T18:05:48Z  2018-03-05T19:35:01Z                   455.0   \n",
       "499   2015-07-02T15:41:31Z  2015-07-16T22:03:29Z                     NaN   \n",
       "539   2017-10-28T16:46:07Z  2017-11-11T23:41:38Z                   455.0   \n",
       "545   2018-02-21T16:14:29Z  2018-02-22T01:54:10Z                   514.0   \n",
       "670   2014-12-04T20:53:05Z  2014-12-11T18:33:32Z                   455.0   \n",
       "785   2018-04-04T12:49:51Z  2018-04-05T17:34:17Z                   455.0   \n",
       "1027  2018-10-20T13:02:25Z  2018-10-23T19:46:21Z                   455.0   \n",
       "1169  2014-12-03T18:31:57Z  2014-12-10T21:11:23Z                   455.0   \n",
       "1352  2020-03-20T17:28:32Z  2020-06-11T21:20:50Z                   455.0   \n",
       "1564  2020-03-31T19:10:56Z  2020-04-25T19:03:47Z                   455.0   \n",
       "1844  2016-06-02T07:15:08Z  2016-06-03T17:42:27Z                   455.0   \n",
       "2568  2018-01-24T19:49:23Z  2018-02-03T07:57:08Z                   462.0   \n",
       "4094  2015-04-09T02:02:58Z  2015-04-10T19:24:28Z                   455.0   \n",
       "\n",
       "     discount_price__currency discount_price__price_string  \\\n",
       "42                        INR                         ₹546   \n",
       "67                        INR                         ₹455   \n",
       "204                       INR                         ₹488   \n",
       "256                       INR                         ₹514   \n",
       "409                       INR                         ₹481   \n",
       "424                       INR                         ₹455   \n",
       "490                       INR                         ₹455   \n",
       "499                       NaN                          NaN   \n",
       "539                       INR                         ₹455   \n",
       "545                       INR                         ₹514   \n",
       "670                       INR                         ₹455   \n",
       "785                       INR                         ₹455   \n",
       "1027                      INR                         ₹455   \n",
       "1169                      INR                         ₹455   \n",
       "1352                      INR                         ₹455   \n",
       "1564                      INR                         ₹455   \n",
       "1844                      INR                         ₹455   \n",
       "2568                      INR                         ₹462   \n",
       "4094                      INR                         ₹455   \n",
       "\n",
       "      price_detail__amount price_detail__currency price_detail__price_string  \n",
       "42                 10240.0                    INR                    ₹10,240  \n",
       "67                  8640.0                    INR                     ₹8,640  \n",
       "204                 9280.0                    INR                     ₹9,280  \n",
       "256                 9600.0                    INR                     ₹9,600  \n",
       "409                 8960.0                    INR                     ₹8,960  \n",
       "424                 8640.0                    INR                     ₹8,640  \n",
       "490                 8640.0                    INR                     ₹8,640  \n",
       "499                12800.0                    INR                    ₹12,800  \n",
       "539                 8640.0                    INR                     ₹8,640  \n",
       "545                 9600.0                    INR                     ₹9,600  \n",
       "670                 8640.0                    INR                     ₹8,640  \n",
       "785                 8640.0                    INR                     ₹8,640  \n",
       "1027                8640.0                    INR                     ₹8,640  \n",
       "1169                8640.0                    INR                     ₹8,640  \n",
       "1352                8640.0                    INR                     ₹8,640  \n",
       "1564                8640.0                    INR                     ₹8,640  \n",
       "1844                8640.0                    INR                     ₹8,640  \n",
       "2568                8640.0                    INR                     ₹8,640  \n",
       "4094                8640.0                    INR                     ₹8,640  "
      ]
     },
     "execution_count": 12,
     "metadata": {},
     "output_type": "execute_result"
    }
   ],
   "source": [
    "data.query('num_published_lectures > 500')"
   ]
  },
  {
   "cell_type": "markdown",
   "id": "378572c4",
   "metadata": {
    "papermill": {
     "duration": 0.018658,
     "end_time": "2022-06-01T02:01:52.272169",
     "exception": false,
     "start_time": "2022-06-01T02:01:52.253511",
     "status": "completed"
    },
    "tags": []
   },
   "source": [
    "#### Os cursos muito longos são agregados de uma série de cursos de uma mesma área. Representam opções válidas dentro do escopo de vendas do Udemy.Os outros dados não parecem ruins, os dados de testes práticos são praticamente nulos, mas isso também é aceitável. \n",
    "\n",
    "#### Agora, vamos explorar o número de inscritos, que é a variável dependente, para saber a qualidade dos dados."
   ]
  },
  {
   "cell_type": "code",
   "execution_count": 13,
   "id": "d5482778",
   "metadata": {
    "execution": {
     "iopub.execute_input": "2022-06-01T02:01:52.311912Z",
     "iopub.status.busy": "2022-06-01T02:01:52.310919Z",
     "iopub.status.idle": "2022-06-01T02:01:52.316647Z",
     "shell.execute_reply": "2022-06-01T02:01:52.315991Z"
    },
    "papermill": {
     "duration": 0.027551,
     "end_time": "2022-06-01T02:01:52.318744",
     "exception": false,
     "start_time": "2022-06-01T02:01:52.291193",
     "status": "completed"
    },
    "tags": []
   },
   "outputs": [],
   "source": [
    "#Dando alguns ajuses te cor e estilo ao seaborn.\n",
    "sns.set_palette('PRGn')\n",
    "sns.set_style('ticks')"
   ]
  },
  {
   "cell_type": "code",
   "execution_count": 14,
   "id": "f00c9f82",
   "metadata": {
    "execution": {
     "iopub.execute_input": "2022-06-01T02:01:52.357625Z",
     "iopub.status.busy": "2022-06-01T02:01:52.356997Z",
     "iopub.status.idle": "2022-06-01T02:01:52.364728Z",
     "shell.execute_reply": "2022-06-01T02:01:52.363547Z"
    },
    "papermill": {
     "duration": 0.030048,
     "end_time": "2022-06-01T02:01:52.366998",
     "exception": false,
     "start_time": "2022-06-01T02:01:52.336950",
     "status": "completed"
    },
    "tags": []
   },
   "outputs": [
    {
     "data": {
      "text/plain": [
       "0"
      ]
     },
     "execution_count": 14,
     "metadata": {},
     "output_type": "execute_result"
    }
   ],
   "source": [
    "data['num_subscribers'].isna().sum()"
   ]
  },
  {
   "cell_type": "code",
   "execution_count": 15,
   "id": "57d9440f",
   "metadata": {
    "execution": {
     "iopub.execute_input": "2022-06-01T02:01:52.406573Z",
     "iopub.status.busy": "2022-06-01T02:01:52.406166Z",
     "iopub.status.idle": "2022-06-01T02:01:52.412449Z",
     "shell.execute_reply": "2022-06-01T02:01:52.411649Z"
    },
    "papermill": {
     "duration": 0.028234,
     "end_time": "2022-06-01T02:01:52.414455",
     "exception": false,
     "start_time": "2022-06-01T02:01:52.386221",
     "status": "completed"
    },
    "tags": []
   },
   "outputs": [
    {
     "data": {
      "text/plain": [
       "0"
      ]
     },
     "execution_count": 15,
     "metadata": {},
     "output_type": "execute_result"
    }
   ],
   "source": [
    "np.isinf(data['num_subscribers']).sum()"
   ]
  },
  {
   "cell_type": "code",
   "execution_count": 16,
   "id": "356b4585",
   "metadata": {
    "execution": {
     "iopub.execute_input": "2022-06-01T02:01:52.454702Z",
     "iopub.status.busy": "2022-06-01T02:01:52.453875Z",
     "iopub.status.idle": "2022-06-01T02:01:52.755590Z",
     "shell.execute_reply": "2022-06-01T02:01:52.754466Z"
    },
    "papermill": {
     "duration": 0.324098,
     "end_time": "2022-06-01T02:01:52.757937",
     "exception": false,
     "start_time": "2022-06-01T02:01:52.433839",
     "status": "completed"
    },
    "tags": []
   },
   "outputs": [
    {
     "name": "stderr",
     "output_type": "stream",
     "text": [
      "/opt/conda/lib/python3.7/site-packages/seaborn/distributions.py:2619: FutureWarning: `distplot` is a deprecated function and will be removed in a future version. Please adapt your code to use either `displot` (a figure-level function with similar flexibility) or `histplot` (an axes-level function for histograms).\n",
      "  warnings.warn(msg, FutureWarning)\n"
     ]
    },
    {
     "data": {
      "text/plain": [
       "<AxesSubplot:title={'center':'Distribuição de inscritos'}, xlabel='Inscritos', ylabel='Frequencia'>"
      ]
     },
     "execution_count": 16,
     "metadata": {},
     "output_type": "execute_result"
    },
    {
     "data": {
      "image/png": "[encoded data removed]",
      "text/plain": [
       "<Figure size 432x288 with 1 Axes>"
      ]
     },
     "metadata": {},
     "output_type": "display_data"
    }
   ],
   "source": [
    "ax = sns.distplot(data['num_subscribers'], kde=False, norm_hist=False)\n",
    "ax.set_title('Distribuição de inscritos')\n",
    "ax.set(xlabel='Inscritos', ylabel='Frequencia')\n",
    "ax"
   ]
  },
  {
   "cell_type": "code",
   "execution_count": 17,
   "id": "bd961e41",
   "metadata": {
    "execution": {
     "iopub.execute_input": "2022-06-01T02:01:52.798850Z",
     "iopub.status.busy": "2022-06-01T02:01:52.798256Z",
     "iopub.status.idle": "2022-06-01T02:01:53.209084Z",
     "shell.execute_reply": "2022-06-01T02:01:53.207824Z"
    },
    "papermill": {
     "duration": 0.434205,
     "end_time": "2022-06-01T02:01:53.211464",
     "exception": false,
     "start_time": "2022-06-01T02:01:52.777259",
     "status": "completed"
    },
    "tags": []
   },
   "outputs": [
    {
     "data": {
      "text/plain": [
       "<AxesSubplot:title={'center':'Distribuição de inscritos'}, xlabel='Inscritos', ylabel='Frequencia'>"
      ]
     },
     "execution_count": 17,
     "metadata": {},
     "output_type": "execute_result"
    },
    {
     "data": {
      "image/png": "[encoded data removed]",
      "text/plain": [
       "<Figure size 432x288 with 1 Axes>"
      ]
     },
     "metadata": {},
     "output_type": "display_data"
    }
   ],
   "source": [
    "#Para confirmar que existe uma distribuição quase toda em valores muito baixos, \n",
    "#estou colocando de forma cumulativa, utilizando códigos do matplotlib. \n",
    "ax = sns.distplot(data['num_subscribers'], hist_kws={'cumulative':True}, kde_kws={'cumulative':True})\n",
    "ax.set_title('Distribuição de inscritos')\n",
    "ax.set(xlabel='Inscritos', ylabel='Frequencia')\n",
    "ax"
   ]
  },
  {
   "cell_type": "code",
   "execution_count": 18,
   "id": "01e8e4c7",
   "metadata": {
    "execution": {
     "iopub.execute_input": "2022-06-01T02:01:53.253179Z",
     "iopub.status.busy": "2022-06-01T02:01:53.252707Z",
     "iopub.status.idle": "2022-06-01T02:01:53.432529Z",
     "shell.execute_reply": "2022-06-01T02:01:53.431769Z"
    },
    "papermill": {
     "duration": 0.203218,
     "end_time": "2022-06-01T02:01:53.434643",
     "exception": false,
     "start_time": "2022-06-01T02:01:53.231425",
     "status": "completed"
    },
    "tags": []
   },
   "outputs": [
    {
     "name": "stderr",
     "output_type": "stream",
     "text": [
      "/opt/conda/lib/python3.7/site-packages/seaborn/_decorators.py:43: FutureWarning: Pass the following variable as a keyword arg: x. From version 0.12, the only valid positional argument will be `data`, and passing other arguments without an explicit keyword will result in an error or misinterpretation.\n",
      "  FutureWarning\n"
     ]
    },
    {
     "data": {
      "text/plain": [
       "<AxesSubplot:title={'center':'Inscritos'}, xlabel='num_subscribers'>"
      ]
     },
     "execution_count": 18,
     "metadata": {},
     "output_type": "execute_result"
    },
    {
     "data": {
      "image/png": "[encoded data removed]",
      "text/plain": [
       "<Figure size 432x288 with 1 Axes>"
      ]
     },
     "metadata": {},
     "output_type": "display_data"
    }
   ],
   "source": [
    "ax = sns.boxplot(data['num_subscribers'])\n",
    "ax.set_title('Inscritos')\n",
    "ax"
   ]
  },
  {
   "cell_type": "markdown",
   "id": "a9b87861",
   "metadata": {
    "papermill": {
     "duration": 0.021143,
     "end_time": "2022-06-01T02:01:53.477392",
     "exception": false,
     "start_time": "2022-06-01T02:01:53.456249",
     "status": "completed"
    },
    "tags": []
   },
   "source": [
    "#### Avaliando o número de inscritos, fica evidente que existe um descompasso nos cursos. Alguns com quantidades imensas de inscritos e outros com quantidades significativamente menores. Há dois cursos de ação possíveis. Por um lado, pode-se assumir que há um grupo de cursos incrivelmente mais bem sucedidos, cujos resultados deve ser, de fato, analisado. Por outro lado, é possível tentar dividir os cursos em categorias que façam sentido em análises separadas, considerando que alguns cursos serão mais segmentados por natureza. \n",
    "\n",
    "#### Para esse estudo, como o propósito não é analisar quão bem sucedido certo curso é em certo segmento, escolheu-se trabalhar com os cursos de forma não segmentada. Buscando compreender quais categorias levam mais alunos e inscrições para o Udemy como um todo. "
   ]
  },
  {
   "cell_type": "markdown",
   "id": "63c85094",
   "metadata": {
    "papermill": {
     "duration": 0.019982,
     "end_time": "2022-06-01T02:01:53.517973",
     "exception": false,
     "start_time": "2022-06-01T02:01:53.497991",
     "status": "completed"
    },
    "tags": []
   },
   "source": [
    "#### Segue-se, portanto, com a visualização de outras variáveis relevantes na amostra."
   ]
  },
  {
   "cell_type": "code",
   "execution_count": 19,
   "id": "6c366f9f",
   "metadata": {
    "execution": {
     "iopub.execute_input": "2022-06-01T02:01:53.561910Z",
     "iopub.status.busy": "2022-06-01T02:01:53.560922Z",
     "iopub.status.idle": "2022-06-01T02:01:53.569012Z",
     "shell.execute_reply": "2022-06-01T02:01:53.568326Z"
    },
    "papermill": {
     "duration": 0.032182,
     "end_time": "2022-06-01T02:01:53.570999",
     "exception": false,
     "start_time": "2022-06-01T02:01:53.538817",
     "status": "completed"
    },
    "tags": []
   },
   "outputs": [
    {
     "data": {
      "text/plain": [
       "0"
      ]
     },
     "execution_count": 19,
     "metadata": {},
     "output_type": "execute_result"
    }
   ],
   "source": [
    "data['avg_rating'].isna().sum()"
   ]
  },
  {
   "cell_type": "code",
   "execution_count": 20,
   "id": "da5e169a",
   "metadata": {
    "execution": {
     "iopub.execute_input": "2022-06-01T02:01:53.615520Z",
     "iopub.status.busy": "2022-06-01T02:01:53.614315Z",
     "iopub.status.idle": "2022-06-01T02:01:53.621864Z",
     "shell.execute_reply": "2022-06-01T02:01:53.621168Z"
    },
    "papermill": {
     "duration": 0.031987,
     "end_time": "2022-06-01T02:01:53.623982",
     "exception": false,
     "start_time": "2022-06-01T02:01:53.591995",
     "status": "completed"
    },
    "tags": []
   },
   "outputs": [
    {
     "data": {
      "text/plain": [
       "0"
      ]
     },
     "execution_count": 20,
     "metadata": {},
     "output_type": "execute_result"
    }
   ],
   "source": [
    "np.isinf(data['avg_rating']).sum()"
   ]
  },
  {
   "cell_type": "code",
   "execution_count": 21,
   "id": "92311d1c",
   "metadata": {
    "execution": {
     "iopub.execute_input": "2022-06-01T02:01:53.668262Z",
     "iopub.status.busy": "2022-06-01T02:01:53.667538Z",
     "iopub.status.idle": "2022-06-01T02:01:53.962066Z",
     "shell.execute_reply": "2022-06-01T02:01:53.961011Z"
    },
    "papermill": {
     "duration": 0.319259,
     "end_time": "2022-06-01T02:01:53.964499",
     "exception": false,
     "start_time": "2022-06-01T02:01:53.645240",
     "status": "completed"
    },
    "tags": []
   },
   "outputs": [
    {
     "name": "stderr",
     "output_type": "stream",
     "text": [
      "/opt/conda/lib/python3.7/site-packages/seaborn/distributions.py:2619: FutureWarning: `distplot` is a deprecated function and will be removed in a future version. Please adapt your code to use either `displot` (a figure-level function with similar flexibility) or `histplot` (an axes-level function for histograms).\n",
      "  warnings.warn(msg, FutureWarning)\n"
     ]
    },
    {
     "data": {
      "text/plain": [
       "<AxesSubplot:title={'center':'Frequencia da nota média'}, xlabel='Nota média', ylabel='Frequencia'>"
      ]
     },
     "execution_count": 21,
     "metadata": {},
     "output_type": "execute_result"
    },
    {
     "data": {
      "image/png": "[encoded data removed]",
      "text/plain": [
       "<Figure size 432x288 with 1 Axes>"
      ]
     },
     "metadata": {},
     "output_type": "display_data"
    }
   ],
   "source": [
    "ax = sns.distplot(data['avg_rating'], kde=False, norm_hist=False)\n",
    "ax.set_title('Frequencia da nota média')\n",
    "ax.set(xlabel='Nota média', ylabel='Frequencia')\n",
    "ax"
   ]
  },
  {
   "cell_type": "code",
   "execution_count": 22,
   "id": "d9bb681e",
   "metadata": {
    "execution": {
     "iopub.execute_input": "2022-06-01T02:01:54.010232Z",
     "iopub.status.busy": "2022-06-01T02:01:54.009227Z",
     "iopub.status.idle": "2022-06-01T02:01:54.189678Z",
     "shell.execute_reply": "2022-06-01T02:01:54.188597Z"
    },
    "papermill": {
     "duration": 0.206888,
     "end_time": "2022-06-01T02:01:54.192550",
     "exception": false,
     "start_time": "2022-06-01T02:01:53.985662",
     "status": "completed"
    },
    "tags": []
   },
   "outputs": [
    {
     "name": "stderr",
     "output_type": "stream",
     "text": [
      "/opt/conda/lib/python3.7/site-packages/seaborn/_decorators.py:43: FutureWarning: Pass the following variable as a keyword arg: x. From version 0.12, the only valid positional argument will be `data`, and passing other arguments without an explicit keyword will result in an error or misinterpretation.\n",
      "  FutureWarning\n"
     ]
    },
    {
     "data": {
      "text/plain": [
       "<AxesSubplot:title={'center':'Nota Média'}, xlabel='avg_rating'>"
      ]
     },
     "execution_count": 22,
     "metadata": {},
     "output_type": "execute_result"
    },
    {
     "data": {
      "image/png": "[encoded data removed]",
      "text/plain": [
       "<Figure size 432x288 with 1 Axes>"
      ]
     },
     "metadata": {},
     "output_type": "display_data"
    }
   ],
   "source": [
    "ax = sns.boxplot(data['avg_rating'])\n",
    "ax.set_title('Nota Média')\n",
    "ax"
   ]
  },
  {
   "cell_type": "markdown",
   "id": "b9b62d22",
   "metadata": {
    "papermill": {
     "duration": 0.021593,
     "end_time": "2022-06-01T02:01:54.237633",
     "exception": false,
     "start_time": "2022-06-01T02:01:54.216040",
     "status": "completed"
    },
    "tags": []
   },
   "source": [
    "#### A nota média tem uma distribuição que tende para a direita, como é esperado do comportamento de avaliação de serviços, em que as pessoas tendem a dar notas mais altas. Há uma nota que parece ser 1 que merece ser investigada."
   ]
  },
  {
   "cell_type": "code",
   "execution_count": 23,
   "id": "da836f22",
   "metadata": {
    "execution": {
     "iopub.execute_input": "2022-06-01T02:01:54.284401Z",
     "iopub.status.busy": "2022-06-01T02:01:54.283375Z",
     "iopub.status.idle": "2022-06-01T02:01:54.306840Z",
     "shell.execute_reply": "2022-06-01T02:01:54.306150Z"
    },
    "papermill": {
     "duration": 0.049914,
     "end_time": "2022-06-01T02:01:54.309361",
     "exception": false,
     "start_time": "2022-06-01T02:01:54.259447",
     "status": "completed"
    },
    "tags": []
   },
   "outputs": [
    {
     "data": {
      "text/html": [
       "<div>\n",
       "<style scoped>\n",
       "    .dataframe tbody tr th:only-of-type {\n",
       "        vertical-align: middle;\n",
       "    }\n",
       "\n",
       "    .dataframe tbody tr th {\n",
       "        vertical-align: top;\n",
       "    }\n",
       "\n",
       "    .dataframe thead th {\n",
       "        text-align: right;\n",
       "    }\n",
       "</style>\n",
       "<table border=\"1\" class=\"dataframe\">\n",
       "  <thead>\n",
       "    <tr style=\"text-align: right;\">\n",
       "      <th></th>\n",
       "      <th>id</th>\n",
       "      <th>title</th>\n",
       "      <th>url</th>\n",
       "      <th>is_paid</th>\n",
       "      <th>num_subscribers</th>\n",
       "      <th>avg_rating</th>\n",
       "      <th>avg_rating_recent</th>\n",
       "      <th>rating</th>\n",
       "      <th>num_reviews</th>\n",
       "      <th>is_wishlisted</th>\n",
       "      <th>num_published_lectures</th>\n",
       "      <th>num_published_practice_tests</th>\n",
       "      <th>created</th>\n",
       "      <th>published_time</th>\n",
       "      <th>discount_price__amount</th>\n",
       "      <th>discount_price__currency</th>\n",
       "      <th>discount_price__price_string</th>\n",
       "      <th>price_detail__amount</th>\n",
       "      <th>price_detail__currency</th>\n",
       "      <th>price_detail__price_string</th>\n",
       "    </tr>\n",
       "  </thead>\n",
       "  <tbody>\n",
       "    <tr>\n",
       "      <th>9374</th>\n",
       "      <td>2188386</td>\n",
       "      <td>Excel based Solar Plant Financial Modelling Co...</td>\n",
       "      <td>/course/online-solar-financial-modelling-course/</td>\n",
       "      <td>True</td>\n",
       "      <td>11</td>\n",
       "      <td>1.0</td>\n",
       "      <td>1.0</td>\n",
       "      <td>1.0</td>\n",
       "      <td>3</td>\n",
       "      <td>False</td>\n",
       "      <td>20</td>\n",
       "      <td>0</td>\n",
       "      <td>2019-01-31T09:32:14Z</td>\n",
       "      <td>2019-05-02T02:12:22Z</td>\n",
       "      <td>1200.0</td>\n",
       "      <td>INR</td>\n",
       "      <td>₹1,200</td>\n",
       "      <td>4800.0</td>\n",
       "      <td>INR</td>\n",
       "      <td>₹4,800</td>\n",
       "    </tr>\n",
       "  </tbody>\n",
       "</table>\n",
       "</div>"
      ],
      "text/plain": [
       "           id                                              title  \\\n",
       "9374  2188386  Excel based Solar Plant Financial Modelling Co...   \n",
       "\n",
       "                                                   url  is_paid  \\\n",
       "9374  /course/online-solar-financial-modelling-course/     True   \n",
       "\n",
       "      num_subscribers  avg_rating  avg_rating_recent  rating  num_reviews  \\\n",
       "9374               11         1.0                1.0     1.0            3   \n",
       "\n",
       "      is_wishlisted  num_published_lectures  num_published_practice_tests  \\\n",
       "9374          False                      20                             0   \n",
       "\n",
       "                   created        published_time  discount_price__amount  \\\n",
       "9374  2019-01-31T09:32:14Z  2019-05-02T02:12:22Z                  1200.0   \n",
       "\n",
       "     discount_price__currency discount_price__price_string  \\\n",
       "9374                      INR                       ₹1,200   \n",
       "\n",
       "      price_detail__amount price_detail__currency price_detail__price_string  \n",
       "9374                4800.0                    INR                     ₹4,800  "
      ]
     },
     "execution_count": 23,
     "metadata": {},
     "output_type": "execute_result"
    }
   ],
   "source": [
    "data.query('avg_rating == 1')"
   ]
  },
  {
   "cell_type": "markdown",
   "id": "8f8a7a60",
   "metadata": {
    "papermill": {
     "duration": 0.022926,
     "end_time": "2022-06-01T02:01:54.354881",
     "exception": false,
     "start_time": "2022-06-01T02:01:54.331955",
     "status": "completed"
    },
    "tags": []
   },
   "source": [
    "#### O curso teve poucos inscritos, poucos avaliadores e uma nota baixa, o que é aceitável com somente 3 avaliadores. \n",
    "\n",
    "#### Como tratado anteriormente, cursos com poucos inscritos parecem fazer parte de cursos muito segmentados, sendo esse um extremo. Não parece ser o caso de um dado mal inscrito, mas de um curso péssimamente avaliado e com poucos alunos. Para a análise, é válido seguir com ele, pois ele representa um caso de falha que deve ser avaliado."
   ]
  },
  {
   "cell_type": "markdown",
   "id": "ae8e164f",
   "metadata": {
    "papermill": {
     "duration": 0.021417,
     "end_time": "2022-06-01T02:01:54.398773",
     "exception": false,
     "start_time": "2022-06-01T02:01:54.377356",
     "status": "completed"
    },
    "tags": []
   },
   "source": [
    "#### retirando valores com na, pois eles não poderão ser avaliados."
   ]
  },
  {
   "cell_type": "code",
   "execution_count": 24,
   "id": "b353d05c",
   "metadata": {
    "execution": {
     "iopub.execute_input": "2022-06-01T02:01:54.444317Z",
     "iopub.status.busy": "2022-06-01T02:01:54.443835Z",
     "iopub.status.idle": "2022-06-01T02:01:54.451803Z",
     "shell.execute_reply": "2022-06-01T02:01:54.451089Z"
    },
    "papermill": {
     "duration": 0.033043,
     "end_time": "2022-06-01T02:01:54.453776",
     "exception": false,
     "start_time": "2022-06-01T02:01:54.420733",
     "status": "completed"
    },
    "tags": []
   },
   "outputs": [
    {
     "data": {
      "text/plain": [
       "506"
      ]
     },
     "execution_count": 24,
     "metadata": {},
     "output_type": "execute_result"
    }
   ],
   "source": [
    "data['discount_price__amount'].isna().sum()"
   ]
  },
  {
   "cell_type": "code",
   "execution_count": 25,
   "id": "8cecc4f5",
   "metadata": {
    "execution": {
     "iopub.execute_input": "2022-06-01T02:01:54.499929Z",
     "iopub.status.busy": "2022-06-01T02:01:54.498976Z",
     "iopub.status.idle": "2022-06-01T02:01:54.505736Z",
     "shell.execute_reply": "2022-06-01T02:01:54.505035Z"
    },
    "papermill": {
     "duration": 0.031816,
     "end_time": "2022-06-01T02:01:54.507738",
     "exception": false,
     "start_time": "2022-06-01T02:01:54.475922",
     "status": "completed"
    },
    "tags": []
   },
   "outputs": [
    {
     "data": {
      "text/plain": [
       "0"
      ]
     },
     "execution_count": 25,
     "metadata": {},
     "output_type": "execute_result"
    }
   ],
   "source": [
    "np.isinf(data['discount_price__amount']).sum()"
   ]
  },
  {
   "cell_type": "markdown",
   "id": "a65d0bf7",
   "metadata": {
    "execution": {
     "iopub.execute_input": "2022-05-31T20:11:51.867937Z",
     "iopub.status.busy": "2022-05-31T20:11:51.867492Z",
     "iopub.status.idle": "2022-05-31T20:11:51.889418Z",
     "shell.execute_reply": "2022-05-31T20:11:51.888451Z",
     "shell.execute_reply.started": "2022-05-31T20:11:51.867902Z"
    },
    "papermill": {
     "duration": 0.021548,
     "end_time": "2022-06-01T02:01:54.551183",
     "exception": false,
     "start_time": "2022-06-01T02:01:54.529635",
     "status": "completed"
    },
    "tags": []
   },
   "source": [
    "#### O mínimo do desconto não é zero, portanto os NA são, certamente, a ausência de desconto.\n",
    "#### Dessa forma, é válido transoformar o NA em 0 para seguir o estudo. "
   ]
  },
  {
   "cell_type": "code",
   "execution_count": 26,
   "id": "54dd9736",
   "metadata": {
    "execution": {
     "iopub.execute_input": "2022-06-01T02:01:54.597129Z",
     "iopub.status.busy": "2022-06-01T02:01:54.596493Z",
     "iopub.status.idle": "2022-06-01T02:01:54.604517Z",
     "shell.execute_reply": "2022-06-01T02:01:54.603376Z"
    },
    "papermill": {
     "duration": 0.033715,
     "end_time": "2022-06-01T02:01:54.606763",
     "exception": false,
     "start_time": "2022-06-01T02:01:54.573048",
     "status": "completed"
    },
    "tags": []
   },
   "outputs": [
    {
     "data": {
      "text/plain": [
       "0"
      ]
     },
     "execution_count": 26,
     "metadata": {},
     "output_type": "execute_result"
    }
   ],
   "source": [
    "data['discount_price__amount'] = data['discount_price__amount'].fillna(0)\n",
    "data['discount_price__amount'].isna().sum()"
   ]
  },
  {
   "cell_type": "code",
   "execution_count": 27,
   "id": "0a7a8fbc",
   "metadata": {
    "execution": {
     "iopub.execute_input": "2022-06-01T02:01:54.653252Z",
     "iopub.status.busy": "2022-06-01T02:01:54.652779Z",
     "iopub.status.idle": "2022-06-01T02:01:54.901165Z",
     "shell.execute_reply": "2022-06-01T02:01:54.900266Z"
    },
    "papermill": {
     "duration": 0.274305,
     "end_time": "2022-06-01T02:01:54.903302",
     "exception": false,
     "start_time": "2022-06-01T02:01:54.628997",
     "status": "completed"
    },
    "tags": []
   },
   "outputs": [
    {
     "name": "stderr",
     "output_type": "stream",
     "text": [
      "/opt/conda/lib/python3.7/site-packages/seaborn/distributions.py:2619: FutureWarning: `distplot` is a deprecated function and will be removed in a future version. Please adapt your code to use either `displot` (a figure-level function with similar flexibility) or `histplot` (an axes-level function for histograms).\n",
      "  warnings.warn(msg, FutureWarning)\n"
     ]
    },
    {
     "data": {
      "text/plain": [
       "<AxesSubplot:title={'center':'Frequencia de desconto do curso'}, xlabel='Desconto', ylabel='Frequencia'>"
      ]
     },
     "execution_count": 27,
     "metadata": {},
     "output_type": "execute_result"
    },
    {
     "data": {
      "image/png": "[encoded data removed]",
      "text/plain": [
       "<Figure size 432x288 with 1 Axes>"
      ]
     },
     "metadata": {},
     "output_type": "display_data"
    }
   ],
   "source": [
    "ax = sns.distplot(data['discount_price__amount'], kde=False, norm_hist=False)\n",
    "ax.set_title('Frequencia de desconto do curso')\n",
    "ax.set(xlabel='Desconto', ylabel='Frequencia')\n",
    "ax"
   ]
  },
  {
   "cell_type": "code",
   "execution_count": 28,
   "id": "1139f50e",
   "metadata": {
    "execution": {
     "iopub.execute_input": "2022-06-01T02:01:54.950944Z",
     "iopub.status.busy": "2022-06-01T02:01:54.949818Z",
     "iopub.status.idle": "2022-06-01T02:01:55.077838Z",
     "shell.execute_reply": "2022-06-01T02:01:55.076569Z"
    },
    "papermill": {
     "duration": 0.155202,
     "end_time": "2022-06-01T02:01:55.081268",
     "exception": false,
     "start_time": "2022-06-01T02:01:54.926066",
     "status": "completed"
    },
    "tags": []
   },
   "outputs": [
    {
     "name": "stderr",
     "output_type": "stream",
     "text": [
      "/opt/conda/lib/python3.7/site-packages/seaborn/_decorators.py:43: FutureWarning: Pass the following variable as a keyword arg: x. From version 0.12, the only valid positional argument will be `data`, and passing other arguments without an explicit keyword will result in an error or misinterpretation.\n",
      "  FutureWarning\n"
     ]
    },
    {
     "data": {
      "text/plain": [
       "<AxesSubplot:title={'center':'Nota Média'}, xlabel='discount_price__amount'>"
      ]
     },
     "execution_count": 28,
     "metadata": {},
     "output_type": "execute_result"
    },
    {
     "data": {
      "image/png": "[encoded data removed]",
      "text/plain": [
       "<Figure size 432x288 with 1 Axes>"
      ]
     },
     "metadata": {},
     "output_type": "display_data"
    }
   ],
   "source": [
    "ax = sns.boxplot(data['discount_price__amount'])\n",
    "ax.set_title('Nota Média')\n",
    "ax"
   ]
  },
  {
   "cell_type": "code",
   "execution_count": 29,
   "id": "a52d5576",
   "metadata": {
    "execution": {
     "iopub.execute_input": "2022-06-01T02:01:55.146937Z",
     "iopub.status.busy": "2022-06-01T02:01:55.146279Z",
     "iopub.status.idle": "2022-06-01T02:01:55.153344Z",
     "shell.execute_reply": "2022-06-01T02:01:55.152493Z"
    },
    "papermill": {
     "duration": 0.036112,
     "end_time": "2022-06-01T02:01:55.155413",
     "exception": false,
     "start_time": "2022-06-01T02:01:55.119301",
     "status": "completed"
    },
    "tags": []
   },
   "outputs": [
    {
     "data": {
      "text/plain": [
       "0"
      ]
     },
     "execution_count": 29,
     "metadata": {},
     "output_type": "execute_result"
    }
   ],
   "source": [
    "data['price_detail__amount'].isna().sum()"
   ]
  },
  {
   "cell_type": "code",
   "execution_count": 30,
   "id": "d1df10f7",
   "metadata": {
    "execution": {
     "iopub.execute_input": "2022-06-01T02:01:55.204920Z",
     "iopub.status.busy": "2022-06-01T02:01:55.204208Z",
     "iopub.status.idle": "2022-06-01T02:01:55.210944Z",
     "shell.execute_reply": "2022-06-01T02:01:55.210181Z"
    },
    "papermill": {
     "duration": 0.033592,
     "end_time": "2022-06-01T02:01:55.213165",
     "exception": false,
     "start_time": "2022-06-01T02:01:55.179573",
     "status": "completed"
    },
    "tags": []
   },
   "outputs": [
    {
     "data": {
      "text/plain": [
       "0"
      ]
     },
     "execution_count": 30,
     "metadata": {},
     "output_type": "execute_result"
    }
   ],
   "source": [
    "np.isinf(data['price_detail__amount']).sum()"
   ]
  },
  {
   "cell_type": "code",
   "execution_count": 31,
   "id": "5a6545e7",
   "metadata": {
    "execution": {
     "iopub.execute_input": "2022-06-01T02:01:55.263340Z",
     "iopub.status.busy": "2022-06-01T02:01:55.262378Z",
     "iopub.status.idle": "2022-06-01T02:01:55.490347Z",
     "shell.execute_reply": "2022-06-01T02:01:55.489331Z"
    },
    "papermill": {
     "duration": 0.255921,
     "end_time": "2022-06-01T02:01:55.492884",
     "exception": false,
     "start_time": "2022-06-01T02:01:55.236963",
     "status": "completed"
    },
    "tags": []
   },
   "outputs": [
    {
     "name": "stderr",
     "output_type": "stream",
     "text": [
      "/opt/conda/lib/python3.7/site-packages/seaborn/distributions.py:2619: FutureWarning: `distplot` is a deprecated function and will be removed in a future version. Please adapt your code to use either `displot` (a figure-level function with similar flexibility) or `histplot` (an axes-level function for histograms).\n",
      "  warnings.warn(msg, FutureWarning)\n"
     ]
    },
    {
     "data": {
      "text/plain": [
       "<AxesSubplot:title={'center':'Frequencia do custo do curso'}, xlabel='Custo', ylabel='Frequencia'>"
      ]
     },
     "execution_count": 31,
     "metadata": {},
     "output_type": "execute_result"
    },
    {
     "data": {
      "image/png": "[encoded data removed]",
      "text/plain": [
       "<Figure size 432x288 with 1 Axes>"
      ]
     },
     "metadata": {},
     "output_type": "display_data"
    }
   ],
   "source": [
    "ax = sns.distplot(data['price_detail__amount'], kde=False, norm_hist=False)\n",
    "ax.set_title('Frequencia do custo do curso')\n",
    "ax.set(xlabel='Custo', ylabel='Frequencia')\n",
    "ax"
   ]
  },
  {
   "cell_type": "code",
   "execution_count": 32,
   "id": "9605dfdc",
   "metadata": {
    "execution": {
     "iopub.execute_input": "2022-06-01T02:01:55.542868Z",
     "iopub.status.busy": "2022-06-01T02:01:55.542120Z",
     "iopub.status.idle": "2022-06-01T02:01:55.664630Z",
     "shell.execute_reply": "2022-06-01T02:01:55.663368Z"
    },
    "papermill": {
     "duration": 0.150075,
     "end_time": "2022-06-01T02:01:55.666997",
     "exception": false,
     "start_time": "2022-06-01T02:01:55.516922",
     "status": "completed"
    },
    "tags": []
   },
   "outputs": [
    {
     "name": "stderr",
     "output_type": "stream",
     "text": [
      "/opt/conda/lib/python3.7/site-packages/seaborn/_decorators.py:43: FutureWarning: Pass the following variable as a keyword arg: x. From version 0.12, the only valid positional argument will be `data`, and passing other arguments without an explicit keyword will result in an error or misinterpretation.\n",
      "  FutureWarning\n"
     ]
    },
    {
     "data": {
      "text/plain": [
       "<AxesSubplot:title={'center':'Custo'}, xlabel='price_detail__amount'>"
      ]
     },
     "execution_count": 32,
     "metadata": {},
     "output_type": "execute_result"
    },
    {
     "data": {
      "image/png": "[encoded data removed]",
      "text/plain": [
       "<Figure size 432x288 with 1 Axes>"
      ]
     },
     "metadata": {},
     "output_type": "display_data"
    }
   ],
   "source": [
    "ax = sns.boxplot(data['price_detail__amount'])\n",
    "ax.set_title('Custo')\n",
    "ax"
   ]
  },
  {
   "cell_type": "code",
   "execution_count": 33,
   "id": "c8609337",
   "metadata": {
    "execution": {
     "iopub.execute_input": "2022-06-01T02:01:55.720093Z",
     "iopub.status.busy": "2022-06-01T02:01:55.719318Z",
     "iopub.status.idle": "2022-06-01T02:01:55.728157Z",
     "shell.execute_reply": "2022-06-01T02:01:55.727292Z"
    },
    "papermill": {
     "duration": 0.03817,
     "end_time": "2022-06-01T02:01:55.730454",
     "exception": false,
     "start_time": "2022-06-01T02:01:55.692284",
     "status": "completed"
    },
    "tags": []
   },
   "outputs": [
    {
     "data": {
      "text/plain": [
       "0"
      ]
     },
     "execution_count": 33,
     "metadata": {},
     "output_type": "execute_result"
    }
   ],
   "source": [
    "data['num_reviews'].isna().sum()"
   ]
  },
  {
   "cell_type": "code",
   "execution_count": 34,
   "id": "289f39a6",
   "metadata": {
    "execution": {
     "iopub.execute_input": "2022-06-01T02:01:55.785315Z",
     "iopub.status.busy": "2022-06-01T02:01:55.784865Z",
     "iopub.status.idle": "2022-06-01T02:01:55.791073Z",
     "shell.execute_reply": "2022-06-01T02:01:55.790395Z"
    },
    "papermill": {
     "duration": 0.035941,
     "end_time": "2022-06-01T02:01:55.793082",
     "exception": false,
     "start_time": "2022-06-01T02:01:55.757141",
     "status": "completed"
    },
    "tags": []
   },
   "outputs": [
    {
     "data": {
      "text/plain": [
       "0"
      ]
     },
     "execution_count": 34,
     "metadata": {},
     "output_type": "execute_result"
    }
   ],
   "source": [
    "np.isinf(data['num_reviews']).sum()"
   ]
  },
  {
   "cell_type": "code",
   "execution_count": 35,
   "id": "ded61452",
   "metadata": {
    "execution": {
     "iopub.execute_input": "2022-06-01T02:01:55.846322Z",
     "iopub.status.busy": "2022-06-01T02:01:55.845622Z",
     "iopub.status.idle": "2022-06-01T02:01:56.087241Z",
     "shell.execute_reply": "2022-06-01T02:01:56.086110Z"
    },
    "papermill": {
     "duration": 0.270565,
     "end_time": "2022-06-01T02:01:56.089740",
     "exception": false,
     "start_time": "2022-06-01T02:01:55.819175",
     "status": "completed"
    },
    "tags": []
   },
   "outputs": [
    {
     "name": "stderr",
     "output_type": "stream",
     "text": [
      "/opt/conda/lib/python3.7/site-packages/seaborn/distributions.py:2619: FutureWarning: `distplot` is a deprecated function and will be removed in a future version. Please adapt your code to use either `displot` (a figure-level function with similar flexibility) or `histplot` (an axes-level function for histograms).\n",
      "  warnings.warn(msg, FutureWarning)\n"
     ]
    },
    {
     "data": {
      "text/plain": [
       "<AxesSubplot:title={'center':'Frequencia de avaliações do curso'}, xlabel='Avaliações', ylabel='Frequencia'>"
      ]
     },
     "execution_count": 35,
     "metadata": {},
     "output_type": "execute_result"
    },
    {
     "data": {
      "image/png": "[encoded data removed]",
      "text/plain": [
       "<Figure size 432x288 with 1 Axes>"
      ]
     },
     "metadata": {},
     "output_type": "display_data"
    }
   ],
   "source": [
    "ax = sns.distplot(data['num_reviews'], kde=False, norm_hist=False)\n",
    "ax.set_title('Frequencia de avaliações do curso')\n",
    "ax.set(xlabel='Avaliações', ylabel='Frequencia')\n",
    "ax"
   ]
  },
  {
   "cell_type": "code",
   "execution_count": 36,
   "id": "fe158c5c",
   "metadata": {
    "execution": {
     "iopub.execute_input": "2022-06-01T02:01:56.142630Z",
     "iopub.status.busy": "2022-06-01T02:01:56.142224Z",
     "iopub.status.idle": "2022-06-01T02:01:56.419003Z",
     "shell.execute_reply": "2022-06-01T02:01:56.417994Z"
    },
    "papermill": {
     "duration": 0.305791,
     "end_time": "2022-06-01T02:01:56.421556",
     "exception": false,
     "start_time": "2022-06-01T02:01:56.115765",
     "status": "completed"
    },
    "tags": []
   },
   "outputs": [
    {
     "name": "stderr",
     "output_type": "stream",
     "text": [
      "/opt/conda/lib/python3.7/site-packages/seaborn/_decorators.py:43: FutureWarning: Pass the following variable as a keyword arg: x. From version 0.12, the only valid positional argument will be `data`, and passing other arguments without an explicit keyword will result in an error or misinterpretation.\n",
      "  FutureWarning\n"
     ]
    },
    {
     "data": {
      "text/plain": [
       "<AxesSubplot:title={'center':'Número de avaliações'}, xlabel='num_reviews'>"
      ]
     },
     "execution_count": 36,
     "metadata": {},
     "output_type": "execute_result"
    },
    {
     "data": {
      "image/png": "[encoded data removed]",
      "text/plain": [
       "<Figure size 432x288 with 1 Axes>"
      ]
     },
     "metadata": {},
     "output_type": "display_data"
    }
   ],
   "source": [
    "ax = sns.boxplot(data['num_reviews'])\n",
    "ax.set_title('Número de avaliações')\n",
    "ax"
   ]
  },
  {
   "cell_type": "markdown",
   "id": "d50761af",
   "metadata": {
    "papermill": {
     "duration": 0.025554,
     "end_time": "2022-06-01T02:01:56.473837",
     "exception": false,
     "start_time": "2022-06-01T02:01:56.448283",
     "status": "completed"
    },
    "tags": []
   },
   "source": [
    "#### A transgformação logarítmica será necessária para normalizar a distribuição das amostras."
   ]
  },
  {
   "cell_type": "code",
   "execution_count": 37,
   "id": "b2cd0d89",
   "metadata": {
    "execution": {
     "iopub.execute_input": "2022-06-01T02:01:56.529289Z",
     "iopub.status.busy": "2022-06-01T02:01:56.528670Z",
     "iopub.status.idle": "2022-06-01T02:01:56.540718Z",
     "shell.execute_reply": "2022-06-01T02:01:56.539902Z"
    },
    "papermill": {
     "duration": 0.043288,
     "end_time": "2022-06-01T02:01:56.543198",
     "exception": false,
     "start_time": "2022-06-01T02:01:56.499910",
     "status": "completed"
    },
    "tags": []
   },
   "outputs": [],
   "source": [
    "data['log_inscritos'] = np.log(data['num_subscribers'])\n",
    "data['log_avaliacao_media'] = np.log(data['avg_rating'])\n",
    "data['log_desconto'] = np.log(data['discount_price__amount']+1)\n",
    "data['log_valor'] = np.log(data['price_detail__amount'])\n",
    "data['log_aulas_publicadas'] = np.log(data['num_published_lectures'])\n",
    "data['log_n_avaliacoes'] = np.log(data['num_reviews'])\n"
   ]
  },
  {
   "cell_type": "code",
   "execution_count": 38,
   "id": "5037fcda",
   "metadata": {
    "execution": {
     "iopub.execute_input": "2022-06-01T02:01:56.597048Z",
     "iopub.status.busy": "2022-06-01T02:01:56.596445Z",
     "iopub.status.idle": "2022-06-01T02:02:00.765894Z",
     "shell.execute_reply": "2022-06-01T02:02:00.764864Z"
    },
    "papermill": {
     "duration": 4.200812,
     "end_time": "2022-06-01T02:02:00.769963",
     "exception": false,
     "start_time": "2022-06-01T02:01:56.569151",
     "status": "completed"
    },
    "tags": []
   },
   "outputs": [
    {
     "data": {
      "text/plain": [
       "<seaborn.axisgrid.PairGrid at 0x7f4fe195b410>"
      ]
     },
     "execution_count": 38,
     "metadata": {},
     "output_type": "execute_result"
    },
    {
     "data": {
      "image/png": "[encoded data removed]",
      "text/plain": [
       "<Figure size 1800x360 with 5 Axes>"
      ]
     },
     "metadata": {},
     "output_type": "display_data"
    }
   ],
   "source": [
    "ax = sns.pairplot(data, y_vars='log_inscritos', x_vars=['log_avaliacao_media','log_desconto','log_valor',\n",
    "                                              'log_aulas_publicadas','log_n_avaliacoes'], height=5, kind='reg')\n",
    "ax.fig.suptitle('Dispersão entre as Variáveis Transformadas', fontsize=20, y=1.05)\n",
    "ax"
   ]
  },
  {
   "cell_type": "markdown",
   "id": "2466ec41",
   "metadata": {
    "papermill": {
     "duration": 0.030878,
     "end_time": "2022-06-01T02:02:00.830954",
     "exception": false,
     "start_time": "2022-06-01T02:02:00.800076",
     "status": "completed"
    },
    "tags": []
   },
   "source": [
    "#### Avaliação média segue com muito peso em um dos lados e não apresenta boa distribuição.\n",
    "#### Número de avaliações parece ser a variável mais eficiente. "
   ]
  },
  {
   "cell_type": "code",
   "execution_count": 39,
   "id": "fe0778f2",
   "metadata": {
    "execution": {
     "iopub.execute_input": "2022-06-01T02:02:00.895371Z",
     "iopub.status.busy": "2022-06-01T02:02:00.894152Z",
     "iopub.status.idle": "2022-06-01T02:02:01.131471Z",
     "shell.execute_reply": "2022-06-01T02:02:01.130436Z"
    },
    "papermill": {
     "duration": 0.271944,
     "end_time": "2022-06-01T02:02:01.134394",
     "exception": false,
     "start_time": "2022-06-01T02:02:00.862450",
     "status": "completed"
    },
    "tags": []
   },
   "outputs": [],
   "source": [
    "from sklearn.model_selection import train_test_split"
   ]
  },
  {
   "cell_type": "code",
   "execution_count": 40,
   "id": "55ec72ac",
   "metadata": {
    "execution": {
     "iopub.execute_input": "2022-06-01T02:02:01.195540Z",
     "iopub.status.busy": "2022-06-01T02:02:01.195084Z",
     "iopub.status.idle": "2022-06-01T02:02:01.201401Z",
     "shell.execute_reply": "2022-06-01T02:02:01.200554Z"
    },
    "papermill": {
     "duration": 0.039144,
     "end_time": "2022-06-01T02:02:01.203525",
     "exception": false,
     "start_time": "2022-06-01T02:02:01.164381",
     "status": "completed"
    },
    "tags": []
   },
   "outputs": [],
   "source": [
    "y = data['log_inscritos']\n",
    "X = data[['log_avaliacao_media','log_desconto','log_valor',\n",
    "                                              'log_aulas_publicadas','log_n_avaliacoes']]"
   ]
  },
  {
   "cell_type": "code",
   "execution_count": 41,
   "id": "c13f2d53",
   "metadata": {
    "execution": {
     "iopub.execute_input": "2022-06-01T02:02:01.266176Z",
     "iopub.status.busy": "2022-06-01T02:02:01.265457Z",
     "iopub.status.idle": "2022-06-01T02:02:01.271964Z",
     "shell.execute_reply": "2022-06-01T02:02:01.271185Z"
    },
    "papermill": {
     "duration": 0.040391,
     "end_time": "2022-06-01T02:02:01.274302",
     "exception": false,
     "start_time": "2022-06-01T02:02:01.233911",
     "status": "completed"
    },
    "tags": []
   },
   "outputs": [],
   "source": [
    "X_train, X_test, y_train, y_test = train_test_split(X, y, test_size = 0.2)"
   ]
  },
  {
   "cell_type": "code",
   "execution_count": 42,
   "id": "6f40cfd2",
   "metadata": {
    "execution": {
     "iopub.execute_input": "2022-06-01T02:02:01.336413Z",
     "iopub.status.busy": "2022-06-01T02:02:01.335769Z",
     "iopub.status.idle": "2022-06-01T02:02:02.147747Z",
     "shell.execute_reply": "2022-06-01T02:02:02.146514Z"
    },
    "papermill": {
     "duration": 0.846687,
     "end_time": "2022-06-01T02:02:02.150521",
     "exception": false,
     "start_time": "2022-06-01T02:02:01.303834",
     "status": "completed"
    },
    "tags": []
   },
   "outputs": [],
   "source": [
    "#A constante vai ser adicionada para aplicar OLS\n",
    "import statsmodels.api as sm\n",
    "X_train_com_constante = sm.add_constant(X_train)"
   ]
  },
  {
   "cell_type": "code",
   "execution_count": 43,
   "id": "17eec6cb",
   "metadata": {
    "execution": {
     "iopub.execute_input": "2022-06-01T02:02:02.213073Z",
     "iopub.status.busy": "2022-06-01T02:02:02.212357Z",
     "iopub.status.idle": "2022-06-01T02:02:02.233706Z",
     "shell.execute_reply": "2022-06-01T02:02:02.228780Z"
    },
    "papermill": {
     "duration": 0.057767,
     "end_time": "2022-06-01T02:02:02.237539",
     "exception": false,
     "start_time": "2022-06-01T02:02:02.179772",
     "status": "completed"
    },
    "tags": []
   },
   "outputs": [],
   "source": [
    "modelo_stats_models = sm.OLS(y_train, X_train_com_constante, hasconst = True).fit()"
   ]
  },
  {
   "cell_type": "code",
   "execution_count": 44,
   "id": "54d82e85",
   "metadata": {
    "execution": {
     "iopub.execute_input": "2022-06-01T02:02:02.346238Z",
     "iopub.status.busy": "2022-06-01T02:02:02.345704Z",
     "iopub.status.idle": "2022-06-01T02:02:02.367849Z",
     "shell.execute_reply": "2022-06-01T02:02:02.365453Z"
    },
    "papermill": {
     "duration": 0.084857,
     "end_time": "2022-06-01T02:02:02.373387",
     "exception": false,
     "start_time": "2022-06-01T02:02:02.288530",
     "status": "completed"
    },
    "tags": []
   },
   "outputs": [
    {
     "name": "stdout",
     "output_type": "stream",
     "text": [
      "                            OLS Regression Results                            \n",
      "==============================================================================\n",
      "Dep. Variable:          log_inscritos   R-squared:                       0.503\n",
      "Model:                            OLS   Adj. R-squared:                  0.503\n",
      "Method:                 Least Squares   F-statistic:                     1501.\n",
      "Date:                Wed, 01 Jun 2022   Prob (F-statistic):               0.00\n",
      "Time:                        02:02:02   Log-Likelihood:                -13079.\n",
      "No. Observations:                7410   AIC:                         2.617e+04\n",
      "Df Residuals:                    7404   BIC:                         2.621e+04\n",
      "Df Model:                           5                                         \n",
      "Covariance Type:            nonrobust                                         \n",
      "========================================================================================\n",
      "                           coef    std err          t      P>|t|      [0.025      0.975]\n",
      "----------------------------------------------------------------------------------------\n",
      "const                    4.8438      0.263     18.383      0.000       4.327       5.360\n",
      "log_avaliacao_media     -1.8498      0.140    -13.207      0.000      -2.124      -1.575\n",
      "log_desconto             0.0945      0.011      8.242      0.000       0.072       0.117\n",
      "log_valor                0.0264      0.023      1.158      0.247      -0.018       0.071\n",
      "log_aulas_publicadas     0.1547      0.023      6.783      0.000       0.110       0.199\n",
      "log_n_avaliacoes         0.8129      0.010     78.083      0.000       0.792       0.833\n",
      "==============================================================================\n",
      "Omnibus:                      785.408   Durbin-Watson:                   2.021\n",
      "Prob(Omnibus):                  0.000   Jarque-Bera (JB):              362.351\n",
      "Skew:                           0.364   Prob(JB):                     2.07e-79\n",
      "Kurtosis:                       2.198   Cond. No.                         197.\n",
      "==============================================================================\n",
      "\n",
      "Notes:\n",
      "[1] Standard Errors assume that the covariance matrix of the errors is correctly specified.\n"
     ]
    }
   ],
   "source": [
    "print(modelo_stats_models.summary())"
   ]
  },
  {
   "cell_type": "markdown",
   "id": "ef184232",
   "metadata": {
    "papermill": {
     "duration": 0.050552,
     "end_time": "2022-06-01T02:02:02.478918",
     "exception": false,
     "start_time": "2022-06-01T02:02:02.428366",
     "status": "completed"
    },
    "tags": []
   },
   "source": [
    "#### O modelo saiu com uma probabilidade F abaixo de 0.00, o que indica significância, o Rquadrado de 0.5 é aceitável, porém baixo. Pela análise t, o valor não parece exibir efeito significativo, mas a média de avaliações, valor, aulas publicadas e número de avialiações sim. Sendo uma correlação negativa com avaliação média e positiva com os outros. O maior efeito foi em número de avaliações.\n",
    "\n",
    "#### O modelo revela que um maior número de avaliações está fortemente correlacionado com o número de inscritos em um curso, o que é evidente emente imaginável desde o início. Entretanto, como resultados interessantes são:\n",
    "#### Cursos com mais aulas potencialmente atraem mais alunos.\n",
    "#### Descontos maiores têm efeitos mais importantes que o valor do curso.\n",
    "#### A correlação positiva do valor do curso e número de inscritos indica que cursos mais caros são mais procurados, entretanto isso pode simplesmente indicar que houve uma avaliação prévia do Udemy e cursos mais procurados são mais caros. "
   ]
  }
 ],
 "metadata": {
  "kernelspec": {
   "display_name": "Python 3",
   "language": "python",
   "name": "python3"
  },
  "language_info": {
   "codemirror_mode": {
    "name": "ipython",
    "version": 3
   },
   "file_extension": ".py",
   "mimetype": "text/x-python",
   "name": "python",
   "nbconvert_exporter": "python",
   "pygments_lexer": "ipython3",
   "version": "3.7.12"
  },
  "papermill": {
   "default_parameters": {},
   "duration": 24.664207,
   "end_time": "2022-06-01T02:02:03.533592",
   "environment_variables": {},
   "exception": null,
   "input_path": "__notebook__.ipynb",
   "output_path": "__notebook__.ipynb",
   "parameters": {},
   "start_time": "2022-06-01T02:01:38.869385",
   "version": "2.3.4"
  }
 },
 "nbformat": 4,
 "nbformat_minor": 5
}

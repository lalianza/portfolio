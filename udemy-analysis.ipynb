{
 "cells": [
  {
   "cell_type": "markdown",
   "id": "51e88428",
   "metadata": {
    "papermill": {
     "duration": 0.016772,
     "end_time": "2022-06-01T15:29:13.108101",
     "exception": false,
     "start_time": "2022-06-01T15:29:13.091329",
     "status": "completed"
    },
    "tags": []
   },
   "source": [
    "# Análise de dados dos cursos do UDEMY por número de inscritos\n",
    "#### Esta análise usa dados de cursos do Udemy coletados no Kaggle. O foco é realizar uma análise da correlação de uma série de variáveis e inscritos nos cursos."
   ]
  },
  {
   "cell_type": "code",
   "execution_count": 1,
   "id": "2a0e736b",
   "metadata": {
    "execution": {
     "iopub.execute_input": "2022-06-01T15:29:13.141846Z",
     "iopub.status.busy": "2022-06-01T15:29:13.141112Z",
     "iopub.status.idle": "2022-06-01T15:29:14.285226Z",
     "shell.execute_reply": "2022-06-01T15:29:14.284580Z"
    },
    "papermill": {
     "duration": 1.163524,
     "end_time": "2022-06-01T15:29:14.287555",
     "exception": false,
     "start_time": "2022-06-01T15:29:13.124031",
     "status": "completed"
    },
    "tags": []
   },
   "outputs": [],
   "source": [
    "#Importando bibliotecas usadas inicialmente\n",
    "import pandas as pd\n",
    "import numpy as np\n",
    "import seaborn as sns\n",
    "import matplotlib as mpl\n",
    "import matplotlib.pyplot as plt"
   ]
  },
  {
   "cell_type": "code",
   "execution_count": 2,
   "id": "ae39e88f",
   "metadata": {
    "execution": {
     "iopub.execute_input": "2022-06-01T15:29:14.320694Z",
     "iopub.status.busy": "2022-06-01T15:29:14.320154Z",
     "iopub.status.idle": "2022-06-01T15:29:14.454403Z",
     "shell.execute_reply": "2022-06-01T15:29:14.453570Z"
    },
    "papermill": {
     "duration": 0.153475,
     "end_time": "2022-06-01T15:29:14.456757",
     "exception": false,
     "start_time": "2022-06-01T15:29:14.303282",
     "status": "completed"
    },
    "tags": []
   },
   "outputs": [
    {
     "data": {
      "text/html": [
       "<div>\n",
       "<style scoped>\n",
       "    .dataframe tbody tr th:only-of-type {\n",
       "        vertical-align: middle;\n",
       "    }\n",
       "\n",
       "    .dataframe tbody tr th {\n",
       "        vertical-align: top;\n",
       "    }\n",
       "\n",
       "    .dataframe thead th {\n",
       "        text-align: right;\n",
       "    }\n",
       "</style>\n",
       "<table border=\"1\" class=\"dataframe\">\n",
       "  <thead>\n",
       "    <tr style=\"text-align: right;\">\n",
       "      <th></th>\n",
       "      <th>id</th>\n",
       "      <th>title</th>\n",
       "      <th>url</th>\n",
       "      <th>is_paid</th>\n",
       "      <th>num_subscribers</th>\n",
       "      <th>avg_rating</th>\n",
       "      <th>avg_rating_recent</th>\n",
       "      <th>rating</th>\n",
       "      <th>num_reviews</th>\n",
       "      <th>is_wishlisted</th>\n",
       "      <th>num_published_lectures</th>\n",
       "      <th>num_published_practice_tests</th>\n",
       "      <th>created</th>\n",
       "      <th>published_time</th>\n",
       "      <th>discount_price__amount</th>\n",
       "      <th>discount_price__currency</th>\n",
       "      <th>discount_price__price_string</th>\n",
       "      <th>price_detail__amount</th>\n",
       "      <th>price_detail__currency</th>\n",
       "      <th>price_detail__price_string</th>\n",
       "    </tr>\n",
       "  </thead>\n",
       "  <tbody>\n",
       "    <tr>\n",
       "      <th>0</th>\n",
       "      <td>762616</td>\n",
       "      <td>The Complete SQL Bootcamp 2020: Go from Zero t...</td>\n",
       "      <td>/course/the-complete-sql-bootcamp/</td>\n",
       "      <td>True</td>\n",
       "      <td>295509</td>\n",
       "      <td>4.66019</td>\n",
       "      <td>4.67874</td>\n",
       "      <td>4.67874</td>\n",
       "      <td>78006</td>\n",
       "      <td>False</td>\n",
       "      <td>84</td>\n",
       "      <td>0</td>\n",
       "      <td>2016-02-14T22:57:48Z</td>\n",
       "      <td>2016-04-06T05:16:11Z</td>\n",
       "      <td>455.0</td>\n",
       "      <td>INR</td>\n",
       "      <td>₹455</td>\n",
       "      <td>8640.0</td>\n",
       "      <td>INR</td>\n",
       "      <td>₹8,640</td>\n",
       "    </tr>\n",
       "    <tr>\n",
       "      <th>1</th>\n",
       "      <td>937678</td>\n",
       "      <td>Tableau 2020 A-Z: Hands-On Tableau Training fo...</td>\n",
       "      <td>/course/tableau10/</td>\n",
       "      <td>True</td>\n",
       "      <td>209070</td>\n",
       "      <td>4.58956</td>\n",
       "      <td>4.60015</td>\n",
       "      <td>4.60015</td>\n",
       "      <td>54581</td>\n",
       "      <td>False</td>\n",
       "      <td>78</td>\n",
       "      <td>0</td>\n",
       "      <td>2016-08-22T12:10:18Z</td>\n",
       "      <td>2016-08-23T16:59:49Z</td>\n",
       "      <td>455.0</td>\n",
       "      <td>INR</td>\n",
       "      <td>₹455</td>\n",
       "      <td>8640.0</td>\n",
       "      <td>INR</td>\n",
       "      <td>₹8,640</td>\n",
       "    </tr>\n",
       "    <tr>\n",
       "      <th>2</th>\n",
       "      <td>1361790</td>\n",
       "      <td>PMP Exam Prep Seminar -  PMBOK Guide 6</td>\n",
       "      <td>/course/pmp-pmbok6-35-pdus/</td>\n",
       "      <td>True</td>\n",
       "      <td>155282</td>\n",
       "      <td>4.59491</td>\n",
       "      <td>4.59326</td>\n",
       "      <td>4.59326</td>\n",
       "      <td>52653</td>\n",
       "      <td>False</td>\n",
       "      <td>292</td>\n",
       "      <td>2</td>\n",
       "      <td>2017-09-26T16:32:48Z</td>\n",
       "      <td>2017-11-14T23:58:14Z</td>\n",
       "      <td>455.0</td>\n",
       "      <td>INR</td>\n",
       "      <td>₹455</td>\n",
       "      <td>8640.0</td>\n",
       "      <td>INR</td>\n",
       "      <td>₹8,640</td>\n",
       "    </tr>\n",
       "    <tr>\n",
       "      <th>3</th>\n",
       "      <td>648826</td>\n",
       "      <td>The Complete Financial Analyst Course 2020</td>\n",
       "      <td>/course/the-complete-financial-analyst-course/</td>\n",
       "      <td>True</td>\n",
       "      <td>245860</td>\n",
       "      <td>4.54407</td>\n",
       "      <td>4.53772</td>\n",
       "      <td>4.53772</td>\n",
       "      <td>46447</td>\n",
       "      <td>False</td>\n",
       "      <td>338</td>\n",
       "      <td>0</td>\n",
       "      <td>2015-10-23T13:34:35Z</td>\n",
       "      <td>2016-01-21T01:38:48Z</td>\n",
       "      <td>455.0</td>\n",
       "      <td>INR</td>\n",
       "      <td>₹455</td>\n",
       "      <td>8640.0</td>\n",
       "      <td>INR</td>\n",
       "      <td>₹8,640</td>\n",
       "    </tr>\n",
       "    <tr>\n",
       "      <th>4</th>\n",
       "      <td>637930</td>\n",
       "      <td>An Entire MBA in 1 Course:Award Winning Busine...</td>\n",
       "      <td>/course/an-entire-mba-in-1-courseaward-winning...</td>\n",
       "      <td>True</td>\n",
       "      <td>374836</td>\n",
       "      <td>4.47080</td>\n",
       "      <td>4.47173</td>\n",
       "      <td>4.47173</td>\n",
       "      <td>41630</td>\n",
       "      <td>False</td>\n",
       "      <td>83</td>\n",
       "      <td>0</td>\n",
       "      <td>2015-10-12T06:39:46Z</td>\n",
       "      <td>2016-01-11T21:39:33Z</td>\n",
       "      <td>455.0</td>\n",
       "      <td>INR</td>\n",
       "      <td>₹455</td>\n",
       "      <td>8640.0</td>\n",
       "      <td>INR</td>\n",
       "      <td>₹8,640</td>\n",
       "    </tr>\n",
       "  </tbody>\n",
       "</table>\n",
       "</div>"
      ],
      "text/plain": [
       "        id                                              title  \\\n",
       "0   762616  The Complete SQL Bootcamp 2020: Go from Zero t...   \n",
       "1   937678  Tableau 2020 A-Z: Hands-On Tableau Training fo...   \n",
       "2  1361790             PMP Exam Prep Seminar -  PMBOK Guide 6   \n",
       "3   648826         The Complete Financial Analyst Course 2020   \n",
       "4   637930  An Entire MBA in 1 Course:Award Winning Busine...   \n",
       "\n",
       "                                                 url  is_paid  \\\n",
       "0                 /course/the-complete-sql-bootcamp/     True   \n",
       "1                                 /course/tableau10/     True   \n",
       "2                        /course/pmp-pmbok6-35-pdus/     True   \n",
       "3     /course/the-complete-financial-analyst-course/     True   \n",
       "4  /course/an-entire-mba-in-1-courseaward-winning...     True   \n",
       "\n",
       "   num_subscribers  avg_rating  avg_rating_recent   rating  num_reviews  \\\n",
       "0           295509     4.66019            4.67874  4.67874        78006   \n",
       "1           209070     4.58956            4.60015  4.60015        54581   \n",
       "2           155282     4.59491            4.59326  4.59326        52653   \n",
       "3           245860     4.54407            4.53772  4.53772        46447   \n",
       "4           374836     4.47080            4.47173  4.47173        41630   \n",
       "\n",
       "   is_wishlisted  num_published_lectures  num_published_practice_tests  \\\n",
       "0          False                      84                             0   \n",
       "1          False                      78                             0   \n",
       "2          False                     292                             2   \n",
       "3          False                     338                             0   \n",
       "4          False                      83                             0   \n",
       "\n",
       "                created        published_time  discount_price__amount  \\\n",
       "0  2016-02-14T22:57:48Z  2016-04-06T05:16:11Z                   455.0   \n",
       "1  2016-08-22T12:10:18Z  2016-08-23T16:59:49Z                   455.0   \n",
       "2  2017-09-26T16:32:48Z  2017-11-14T23:58:14Z                   455.0   \n",
       "3  2015-10-23T13:34:35Z  2016-01-21T01:38:48Z                   455.0   \n",
       "4  2015-10-12T06:39:46Z  2016-01-11T21:39:33Z                   455.0   \n",
       "\n",
       "  discount_price__currency discount_price__price_string  price_detail__amount  \\\n",
       "0                      INR                         ₹455                8640.0   \n",
       "1                      INR                         ₹455                8640.0   \n",
       "2                      INR                         ₹455                8640.0   \n",
       "3                      INR                         ₹455                8640.0   \n",
       "4                      INR                         ₹455                8640.0   \n",
       "\n",
       "  price_detail__currency price_detail__price_string  \n",
       "0                    INR                     ₹8,640  \n",
       "1                    INR                     ₹8,640  \n",
       "2                    INR                     ₹8,640  \n",
       "3                    INR                     ₹8,640  \n",
       "4                    INR                     ₹8,640  "
      ]
     },
     "execution_count": 2,
     "metadata": {},
     "output_type": "execute_result"
    }
   ],
   "source": [
    "#importando base de dados e visualizando \n",
    "data = pd.read_csv('../input/business-courses-udemy-10k-courses/udemy_output_All_Business_p1_p626.csv')\n",
    "data.head(5)"
   ]
  },
  {
   "cell_type": "code",
   "execution_count": 3,
   "id": "44ec995b",
   "metadata": {
    "execution": {
     "iopub.execute_input": "2022-06-01T15:29:14.491292Z",
     "iopub.status.busy": "2022-06-01T15:29:14.490926Z",
     "iopub.status.idle": "2022-06-01T15:29:14.540444Z",
     "shell.execute_reply": "2022-06-01T15:29:14.539536Z"
    },
    "papermill": {
     "duration": 0.06937,
     "end_time": "2022-06-01T15:29:14.542245",
     "exception": false,
     "start_time": "2022-06-01T15:29:14.472875",
     "status": "completed"
    },
    "tags": []
   },
   "outputs": [
    {
     "data": {
      "text/html": [
       "<div>\n",
       "<style scoped>\n",
       "    .dataframe tbody tr th:only-of-type {\n",
       "        vertical-align: middle;\n",
       "    }\n",
       "\n",
       "    .dataframe tbody tr th {\n",
       "        vertical-align: top;\n",
       "    }\n",
       "\n",
       "    .dataframe thead th {\n",
       "        text-align: right;\n",
       "    }\n",
       "</style>\n",
       "<table border=\"1\" class=\"dataframe\">\n",
       "  <thead>\n",
       "    <tr style=\"text-align: right;\">\n",
       "      <th></th>\n",
       "      <th>id</th>\n",
       "      <th>num_subscribers</th>\n",
       "      <th>avg_rating</th>\n",
       "      <th>avg_rating_recent</th>\n",
       "      <th>rating</th>\n",
       "      <th>num_reviews</th>\n",
       "      <th>num_published_lectures</th>\n",
       "      <th>num_published_practice_tests</th>\n",
       "      <th>discount_price__amount</th>\n",
       "      <th>price_detail__amount</th>\n",
       "    </tr>\n",
       "  </thead>\n",
       "  <tbody>\n",
       "    <tr>\n",
       "      <th>count</th>\n",
       "      <td>9.447000e+03</td>\n",
       "      <td>9447.000000</td>\n",
       "      <td>9447.000000</td>\n",
       "      <td>9447.000000</td>\n",
       "      <td>9447.000000</td>\n",
       "      <td>9447.000000</td>\n",
       "      <td>9447.000000</td>\n",
       "      <td>9447.000000</td>\n",
       "      <td>8937.000000</td>\n",
       "      <td>9447.000000</td>\n",
       "    </tr>\n",
       "    <tr>\n",
       "      <th>mean</th>\n",
       "      <td>1.456603e+06</td>\n",
       "      <td>3399.298190</td>\n",
       "      <td>4.138522</td>\n",
       "      <td>4.124756</td>\n",
       "      <td>4.124756</td>\n",
       "      <td>299.054515</td>\n",
       "      <td>34.400868</td>\n",
       "      <td>0.101831</td>\n",
       "      <td>488.984111</td>\n",
       "      <td>4828.758336</td>\n",
       "    </tr>\n",
       "    <tr>\n",
       "      <th>std</th>\n",
       "      <td>8.956601e+05</td>\n",
       "      <td>10451.534122</td>\n",
       "      <td>0.453581</td>\n",
       "      <td>0.478410</td>\n",
       "      <td>0.478410</td>\n",
       "      <td>1826.867472</td>\n",
       "      <td>46.061088</td>\n",
       "      <td>0.580037</td>\n",
       "      <td>247.833161</td>\n",
       "      <td>3108.307674</td>\n",
       "    </tr>\n",
       "    <tr>\n",
       "      <th>min</th>\n",
       "      <td>2.762000e+03</td>\n",
       "      <td>3.000000</td>\n",
       "      <td>1.000000</td>\n",
       "      <td>1.000000</td>\n",
       "      <td>1.000000</td>\n",
       "      <td>3.000000</td>\n",
       "      <td>0.000000</td>\n",
       "      <td>0.000000</td>\n",
       "      <td>455.000000</td>\n",
       "      <td>1280.000000</td>\n",
       "    </tr>\n",
       "    <tr>\n",
       "      <th>25%</th>\n",
       "      <td>6.730310e+05</td>\n",
       "      <td>141.000000</td>\n",
       "      <td>3.900000</td>\n",
       "      <td>3.879410</td>\n",
       "      <td>3.879410</td>\n",
       "      <td>12.000000</td>\n",
       "      <td>13.000000</td>\n",
       "      <td>0.000000</td>\n",
       "      <td>455.000000</td>\n",
       "      <td>1600.000000</td>\n",
       "    </tr>\n",
       "    <tr>\n",
       "      <th>50%</th>\n",
       "      <td>1.381806e+06</td>\n",
       "      <td>916.000000</td>\n",
       "      <td>4.200000</td>\n",
       "      <td>4.206080</td>\n",
       "      <td>4.206080</td>\n",
       "      <td>33.000000</td>\n",
       "      <td>23.000000</td>\n",
       "      <td>0.000000</td>\n",
       "      <td>455.000000</td>\n",
       "      <td>3840.000000</td>\n",
       "    </tr>\n",
       "    <tr>\n",
       "      <th>75%</th>\n",
       "      <td>2.154793e+06</td>\n",
       "      <td>2889.500000</td>\n",
       "      <td>4.450000</td>\n",
       "      <td>4.447495</td>\n",
       "      <td>4.447495</td>\n",
       "      <td>110.000000</td>\n",
       "      <td>39.000000</td>\n",
       "      <td>0.000000</td>\n",
       "      <td>455.000000</td>\n",
       "      <td>8640.000000</td>\n",
       "    </tr>\n",
       "    <tr>\n",
       "      <th>max</th>\n",
       "      <td>3.469452e+06</td>\n",
       "      <td>374836.000000</td>\n",
       "      <td>5.000000</td>\n",
       "      <td>5.000000</td>\n",
       "      <td>5.000000</td>\n",
       "      <td>78006.000000</td>\n",
       "      <td>699.000000</td>\n",
       "      <td>6.000000</td>\n",
       "      <td>3200.000000</td>\n",
       "      <td>12800.000000</td>\n",
       "    </tr>\n",
       "  </tbody>\n",
       "</table>\n",
       "</div>"
      ],
      "text/plain": [
       "                 id  num_subscribers   avg_rating  avg_rating_recent  \\\n",
       "count  9.447000e+03      9447.000000  9447.000000        9447.000000   \n",
       "mean   1.456603e+06      3399.298190     4.138522           4.124756   \n",
       "std    8.956601e+05     10451.534122     0.453581           0.478410   \n",
       "min    2.762000e+03         3.000000     1.000000           1.000000   \n",
       "25%    6.730310e+05       141.000000     3.900000           3.879410   \n",
       "50%    1.381806e+06       916.000000     4.200000           4.206080   \n",
       "75%    2.154793e+06      2889.500000     4.450000           4.447495   \n",
       "max    3.469452e+06    374836.000000     5.000000           5.000000   \n",
       "\n",
       "            rating   num_reviews  num_published_lectures  \\\n",
       "count  9447.000000   9447.000000             9447.000000   \n",
       "mean      4.124756    299.054515               34.400868   \n",
       "std       0.478410   1826.867472               46.061088   \n",
       "min       1.000000      3.000000                0.000000   \n",
       "25%       3.879410     12.000000               13.000000   \n",
       "50%       4.206080     33.000000               23.000000   \n",
       "75%       4.447495    110.000000               39.000000   \n",
       "max       5.000000  78006.000000              699.000000   \n",
       "\n",
       "       num_published_practice_tests  discount_price__amount  \\\n",
       "count                   9447.000000             8937.000000   \n",
       "mean                       0.101831              488.984111   \n",
       "std                        0.580037              247.833161   \n",
       "min                        0.000000              455.000000   \n",
       "25%                        0.000000              455.000000   \n",
       "50%                        0.000000              455.000000   \n",
       "75%                        0.000000              455.000000   \n",
       "max                        6.000000             3200.000000   \n",
       "\n",
       "       price_detail__amount  \n",
       "count           9447.000000  \n",
       "mean            4828.758336  \n",
       "std             3108.307674  \n",
       "min             1280.000000  \n",
       "25%             1600.000000  \n",
       "50%             3840.000000  \n",
       "75%             8640.000000  \n",
       "max            12800.000000  "
      ]
     },
     "execution_count": 3,
     "metadata": {},
     "output_type": "execute_result"
    }
   ],
   "source": [
    "data.describe()"
   ]
  },
  {
   "cell_type": "code",
   "execution_count": 4,
   "id": "0aa38411",
   "metadata": {
    "execution": {
     "iopub.execute_input": "2022-06-01T15:29:14.576575Z",
     "iopub.status.busy": "2022-06-01T15:29:14.576205Z",
     "iopub.status.idle": "2022-06-01T15:29:14.599077Z",
     "shell.execute_reply": "2022-06-01T15:29:14.598303Z"
    },
    "papermill": {
     "duration": 0.042291,
     "end_time": "2022-06-01T15:29:14.601035",
     "exception": false,
     "start_time": "2022-06-01T15:29:14.558744",
     "status": "completed"
    },
    "tags": []
   },
   "outputs": [
    {
     "name": "stdout",
     "output_type": "stream",
     "text": [
      "<class 'pandas.core.frame.DataFrame'>\n",
      "RangeIndex: 9447 entries, 0 to 9446\n",
      "Data columns (total 20 columns):\n",
      " #   Column                        Non-Null Count  Dtype  \n",
      "---  ------                        --------------  -----  \n",
      " 0   id                            9447 non-null   int64  \n",
      " 1   title                         9447 non-null   object \n",
      " 2   url                           9447 non-null   object \n",
      " 3   is_paid                       9447 non-null   bool   \n",
      " 4   num_subscribers               9447 non-null   int64  \n",
      " 5   avg_rating                    9447 non-null   float64\n",
      " 6   avg_rating_recent             9447 non-null   float64\n",
      " 7   rating                        9447 non-null   float64\n",
      " 8   num_reviews                   9447 non-null   int64  \n",
      " 9   is_wishlisted                 9447 non-null   bool   \n",
      " 10  num_published_lectures        9447 non-null   int64  \n",
      " 11  num_published_practice_tests  9447 non-null   int64  \n",
      " 12  created                       9447 non-null   object \n",
      " 13  published_time                9447 non-null   object \n",
      " 14  discount_price__amount        8937 non-null   float64\n",
      " 15  discount_price__currency      8937 non-null   object \n",
      " 16  discount_price__price_string  8937 non-null   object \n",
      " 17  price_detail__amount          9447 non-null   float64\n",
      " 18  price_detail__currency        9447 non-null   object \n",
      " 19  price_detail__price_string    9447 non-null   object \n",
      "dtypes: bool(2), float64(5), int64(5), object(8)\n",
      "memory usage: 1.3+ MB\n"
     ]
    }
   ],
   "source": [
    "data.info()"
   ]
  },
  {
   "cell_type": "code",
   "execution_count": 5,
   "id": "d0c41864",
   "metadata": {
    "execution": {
     "iopub.execute_input": "2022-06-01T15:29:14.636622Z",
     "iopub.status.busy": "2022-06-01T15:29:14.635956Z",
     "iopub.status.idle": "2022-06-01T15:29:14.678218Z",
     "shell.execute_reply": "2022-06-01T15:29:14.677423Z"
    },
    "papermill": {
     "duration": 0.062426,
     "end_time": "2022-06-01T15:29:14.680662",
     "exception": false,
     "start_time": "2022-06-01T15:29:14.618236",
     "status": "completed"
    },
    "tags": []
   },
   "outputs": [
    {
     "data": {
      "text/html": [
       "<div>\n",
       "<style scoped>\n",
       "    .dataframe tbody tr th:only-of-type {\n",
       "        vertical-align: middle;\n",
       "    }\n",
       "\n",
       "    .dataframe tbody tr th {\n",
       "        vertical-align: top;\n",
       "    }\n",
       "\n",
       "    .dataframe thead th {\n",
       "        text-align: right;\n",
       "    }\n",
       "</style>\n",
       "<table border=\"1\" class=\"dataframe\">\n",
       "  <thead>\n",
       "    <tr style=\"text-align: right;\">\n",
       "      <th></th>\n",
       "      <th>id</th>\n",
       "      <th>title</th>\n",
       "      <th>url</th>\n",
       "      <th>is_paid</th>\n",
       "      <th>num_subscribers</th>\n",
       "      <th>avg_rating</th>\n",
       "      <th>avg_rating_recent</th>\n",
       "      <th>rating</th>\n",
       "      <th>num_reviews</th>\n",
       "      <th>is_wishlisted</th>\n",
       "      <th>num_published_lectures</th>\n",
       "      <th>num_published_practice_tests</th>\n",
       "      <th>created</th>\n",
       "      <th>published_time</th>\n",
       "      <th>discount_price__amount</th>\n",
       "      <th>discount_price__currency</th>\n",
       "      <th>discount_price__price_string</th>\n",
       "      <th>price_detail__amount</th>\n",
       "      <th>price_detail__currency</th>\n",
       "      <th>price_detail__price_string</th>\n",
       "    </tr>\n",
       "  </thead>\n",
       "  <tbody>\n",
       "    <tr>\n",
       "      <th>609</th>\n",
       "      <td>1766420</td>\n",
       "      <td>PMP PMBOK 6 Practice Exams: Set One for PMP Ca...</td>\n",
       "      <td>/course/pmp_practice_exams_1/</td>\n",
       "      <td>True</td>\n",
       "      <td>6208</td>\n",
       "      <td>4.33465</td>\n",
       "      <td>4.28676</td>\n",
       "      <td>4.28676</td>\n",
       "      <td>782</td>\n",
       "      <td>False</td>\n",
       "      <td>0</td>\n",
       "      <td>5</td>\n",
       "      <td>2018-06-25T15:14:26Z</td>\n",
       "      <td>2018-07-16T18:33:14Z</td>\n",
       "      <td>488.0</td>\n",
       "      <td>INR</td>\n",
       "      <td>₹488</td>\n",
       "      <td>6400.0</td>\n",
       "      <td>INR</td>\n",
       "      <td>₹6,400</td>\n",
       "    </tr>\n",
       "    <tr>\n",
       "      <th>681</th>\n",
       "      <td>1591290</td>\n",
       "      <td>Agile Project Management Bootcamp: Agile Proje...</td>\n",
       "      <td>/course/agile-project-management-course/</td>\n",
       "      <td>True</td>\n",
       "      <td>5260</td>\n",
       "      <td>4.24667</td>\n",
       "      <td>4.20066</td>\n",
       "      <td>4.20066</td>\n",
       "      <td>682</td>\n",
       "      <td>False</td>\n",
       "      <td>0</td>\n",
       "      <td>2</td>\n",
       "      <td>2018-03-11T13:11:54Z</td>\n",
       "      <td>2018-03-12T06:52:39Z</td>\n",
       "      <td>455.0</td>\n",
       "      <td>INR</td>\n",
       "      <td>₹455</td>\n",
       "      <td>3200.0</td>\n",
       "      <td>INR</td>\n",
       "      <td>₹3,200</td>\n",
       "    </tr>\n",
       "    <tr>\n",
       "      <th>709</th>\n",
       "      <td>1621470</td>\n",
       "      <td>PMP Certification Exam Prep PMBOK 6th Edition,...</td>\n",
       "      <td>/course/pmp-practice-exams-pmbok-guide-6th-edi...</td>\n",
       "      <td>True</td>\n",
       "      <td>4224</td>\n",
       "      <td>4.28804</td>\n",
       "      <td>4.30258</td>\n",
       "      <td>4.30258</td>\n",
       "      <td>650</td>\n",
       "      <td>False</td>\n",
       "      <td>0</td>\n",
       "      <td>3</td>\n",
       "      <td>2018-03-29T12:05:18Z</td>\n",
       "      <td>2018-04-26T06:28:34Z</td>\n",
       "      <td>455.0</td>\n",
       "      <td>INR</td>\n",
       "      <td>₹455</td>\n",
       "      <td>1280.0</td>\n",
       "      <td>INR</td>\n",
       "      <td>₹1,280</td>\n",
       "    </tr>\n",
       "    <tr>\n",
       "      <th>716</th>\n",
       "      <td>1491820</td>\n",
       "      <td>PRINCE2 Foundation Practice Certification Exam...</td>\n",
       "      <td>/course/prince2-foundation-practice-certificat...</td>\n",
       "      <td>True</td>\n",
       "      <td>6450</td>\n",
       "      <td>4.45181</td>\n",
       "      <td>4.38882</td>\n",
       "      <td>4.38882</td>\n",
       "      <td>640</td>\n",
       "      <td>False</td>\n",
       "      <td>0</td>\n",
       "      <td>6</td>\n",
       "      <td>2018-01-03T02:06:24Z</td>\n",
       "      <td>2018-03-10T20:27:03Z</td>\n",
       "      <td>462.0</td>\n",
       "      <td>INR</td>\n",
       "      <td>₹462</td>\n",
       "      <td>6400.0</td>\n",
       "      <td>INR</td>\n",
       "      <td>₹6,400</td>\n",
       "    </tr>\n",
       "    <tr>\n",
       "      <th>839</th>\n",
       "      <td>1636714</td>\n",
       "      <td>PMI-ACP Practice Exams - PMBOK 6</td>\n",
       "      <td>/course/pmi-acp-practice-exams-pmbok-6/</td>\n",
       "      <td>True</td>\n",
       "      <td>5731</td>\n",
       "      <td>4.18000</td>\n",
       "      <td>4.17322</td>\n",
       "      <td>4.17322</td>\n",
       "      <td>528</td>\n",
       "      <td>False</td>\n",
       "      <td>0</td>\n",
       "      <td>2</td>\n",
       "      <td>2018-04-08T15:50:04Z</td>\n",
       "      <td>2018-04-08T16:30:01Z</td>\n",
       "      <td>455.0</td>\n",
       "      <td>INR</td>\n",
       "      <td>₹455</td>\n",
       "      <td>3200.0</td>\n",
       "      <td>INR</td>\n",
       "      <td>₹3,200</td>\n",
       "    </tr>\n",
       "    <tr>\n",
       "      <th>...</th>\n",
       "      <td>...</td>\n",
       "      <td>...</td>\n",
       "      <td>...</td>\n",
       "      <td>...</td>\n",
       "      <td>...</td>\n",
       "      <td>...</td>\n",
       "      <td>...</td>\n",
       "      <td>...</td>\n",
       "      <td>...</td>\n",
       "      <td>...</td>\n",
       "      <td>...</td>\n",
       "      <td>...</td>\n",
       "      <td>...</td>\n",
       "      <td>...</td>\n",
       "      <td>...</td>\n",
       "      <td>...</td>\n",
       "      <td>...</td>\n",
       "      <td>...</td>\n",
       "      <td>...</td>\n",
       "      <td>...</td>\n",
       "    </tr>\n",
       "    <tr>\n",
       "      <th>9318</th>\n",
       "      <td>2175872</td>\n",
       "      <td>PMP -   Project Management Professional  pract...</td>\n",
       "      <td>/course/pmp-project-management-professional-pr...</td>\n",
       "      <td>True</td>\n",
       "      <td>30</td>\n",
       "      <td>4.00000</td>\n",
       "      <td>3.66165</td>\n",
       "      <td>3.66165</td>\n",
       "      <td>3</td>\n",
       "      <td>False</td>\n",
       "      <td>0</td>\n",
       "      <td>4</td>\n",
       "      <td>2019-01-25T14:52:25Z</td>\n",
       "      <td>2019-01-30T17:49:59Z</td>\n",
       "      <td>455.0</td>\n",
       "      <td>INR</td>\n",
       "      <td>₹455</td>\n",
       "      <td>2880.0</td>\n",
       "      <td>INR</td>\n",
       "      <td>₹2,880</td>\n",
       "    </tr>\n",
       "    <tr>\n",
       "      <th>9328</th>\n",
       "      <td>2842422</td>\n",
       "      <td>CIPS Advanced Diploma: Managing Contractual Ri...</td>\n",
       "      <td>/course/cips-l5m3-managing-contractual-risk/</td>\n",
       "      <td>True</td>\n",
       "      <td>15</td>\n",
       "      <td>3.66667</td>\n",
       "      <td>3.72142</td>\n",
       "      <td>3.72142</td>\n",
       "      <td>3</td>\n",
       "      <td>False</td>\n",
       "      <td>0</td>\n",
       "      <td>2</td>\n",
       "      <td>2020-02-29T00:56:29Z</td>\n",
       "      <td>2020-02-29T13:23:47Z</td>\n",
       "      <td>455.0</td>\n",
       "      <td>INR</td>\n",
       "      <td>₹455</td>\n",
       "      <td>1600.0</td>\n",
       "      <td>INR</td>\n",
       "      <td>₹1,600</td>\n",
       "    </tr>\n",
       "    <tr>\n",
       "      <th>9379</th>\n",
       "      <td>2781478</td>\n",
       "      <td>SCOPE AND INFLUENCE OF PROCUREMENT AND SUPPLY-...</td>\n",
       "      <td>/course/scope-and-influence-of-procurement-and...</td>\n",
       "      <td>True</td>\n",
       "      <td>30</td>\n",
       "      <td>3.66667</td>\n",
       "      <td>3.66316</td>\n",
       "      <td>3.66316</td>\n",
       "      <td>3</td>\n",
       "      <td>False</td>\n",
       "      <td>0</td>\n",
       "      <td>4</td>\n",
       "      <td>2020-01-27T10:22:10Z</td>\n",
       "      <td>2020-01-30T12:56:33Z</td>\n",
       "      <td>455.0</td>\n",
       "      <td>INR</td>\n",
       "      <td>₹455</td>\n",
       "      <td>1280.0</td>\n",
       "      <td>INR</td>\n",
       "      <td>₹1,280</td>\n",
       "    </tr>\n",
       "    <tr>\n",
       "      <th>9401</th>\n",
       "      <td>2427030</td>\n",
       "      <td>Change Management Foundation based on ECMHBook</td>\n",
       "      <td>/course/change-management-foundation-based-on-...</td>\n",
       "      <td>True</td>\n",
       "      <td>96</td>\n",
       "      <td>3.33333</td>\n",
       "      <td>2.87283</td>\n",
       "      <td>2.87283</td>\n",
       "      <td>3</td>\n",
       "      <td>False</td>\n",
       "      <td>0</td>\n",
       "      <td>2</td>\n",
       "      <td>2019-06-24T04:35:06Z</td>\n",
       "      <td>2019-12-13T20:35:01Z</td>\n",
       "      <td>455.0</td>\n",
       "      <td>INR</td>\n",
       "      <td>₹455</td>\n",
       "      <td>2560.0</td>\n",
       "      <td>INR</td>\n",
       "      <td>₹2,560</td>\n",
       "    </tr>\n",
       "    <tr>\n",
       "      <th>9433</th>\n",
       "      <td>1887668</td>\n",
       "      <td>PMP® Exam Prep -FULL Training. 1100 Questions....</td>\n",
       "      <td>/course/pmp-exam-prep-full-training-1100-quest...</td>\n",
       "      <td>True</td>\n",
       "      <td>15</td>\n",
       "      <td>3.16667</td>\n",
       "      <td>3.67300</td>\n",
       "      <td>3.67300</td>\n",
       "      <td>3</td>\n",
       "      <td>False</td>\n",
       "      <td>0</td>\n",
       "      <td>5</td>\n",
       "      <td>2018-08-31T13:09:18Z</td>\n",
       "      <td>2018-11-09T19:06:04Z</td>\n",
       "      <td>455.0</td>\n",
       "      <td>INR</td>\n",
       "      <td>₹455</td>\n",
       "      <td>3200.0</td>\n",
       "      <td>INR</td>\n",
       "      <td>₹3,200</td>\n",
       "    </tr>\n",
       "  </tbody>\n",
       "</table>\n",
       "<p>184 rows × 20 columns</p>\n",
       "</div>"
      ],
      "text/plain": [
       "           id                                              title  \\\n",
       "609   1766420  PMP PMBOK 6 Practice Exams: Set One for PMP Ca...   \n",
       "681   1591290  Agile Project Management Bootcamp: Agile Proje...   \n",
       "709   1621470  PMP Certification Exam Prep PMBOK 6th Edition,...   \n",
       "716   1491820  PRINCE2 Foundation Practice Certification Exam...   \n",
       "839   1636714                   PMI-ACP Practice Exams - PMBOK 6   \n",
       "...       ...                                                ...   \n",
       "9318  2175872  PMP -   Project Management Professional  pract...   \n",
       "9328  2842422  CIPS Advanced Diploma: Managing Contractual Ri...   \n",
       "9379  2781478  SCOPE AND INFLUENCE OF PROCUREMENT AND SUPPLY-...   \n",
       "9401  2427030     Change Management Foundation based on ECMHBook   \n",
       "9433  1887668  PMP® Exam Prep -FULL Training. 1100 Questions....   \n",
       "\n",
       "                                                    url  is_paid  \\\n",
       "609                       /course/pmp_practice_exams_1/     True   \n",
       "681            /course/agile-project-management-course/     True   \n",
       "709   /course/pmp-practice-exams-pmbok-guide-6th-edi...     True   \n",
       "716   /course/prince2-foundation-practice-certificat...     True   \n",
       "839             /course/pmi-acp-practice-exams-pmbok-6/     True   \n",
       "...                                                 ...      ...   \n",
       "9318  /course/pmp-project-management-professional-pr...     True   \n",
       "9328       /course/cips-l5m3-managing-contractual-risk/     True   \n",
       "9379  /course/scope-and-influence-of-procurement-and...     True   \n",
       "9401  /course/change-management-foundation-based-on-...     True   \n",
       "9433  /course/pmp-exam-prep-full-training-1100-quest...     True   \n",
       "\n",
       "      num_subscribers  avg_rating  avg_rating_recent   rating  num_reviews  \\\n",
       "609              6208     4.33465            4.28676  4.28676          782   \n",
       "681              5260     4.24667            4.20066  4.20066          682   \n",
       "709              4224     4.28804            4.30258  4.30258          650   \n",
       "716              6450     4.45181            4.38882  4.38882          640   \n",
       "839              5731     4.18000            4.17322  4.17322          528   \n",
       "...               ...         ...                ...      ...          ...   \n",
       "9318               30     4.00000            3.66165  3.66165            3   \n",
       "9328               15     3.66667            3.72142  3.72142            3   \n",
       "9379               30     3.66667            3.66316  3.66316            3   \n",
       "9401               96     3.33333            2.87283  2.87283            3   \n",
       "9433               15     3.16667            3.67300  3.67300            3   \n",
       "\n",
       "      is_wishlisted  num_published_lectures  num_published_practice_tests  \\\n",
       "609           False                       0                             5   \n",
       "681           False                       0                             2   \n",
       "709           False                       0                             3   \n",
       "716           False                       0                             6   \n",
       "839           False                       0                             2   \n",
       "...             ...                     ...                           ...   \n",
       "9318          False                       0                             4   \n",
       "9328          False                       0                             2   \n",
       "9379          False                       0                             4   \n",
       "9401          False                       0                             2   \n",
       "9433          False                       0                             5   \n",
       "\n",
       "                   created        published_time  discount_price__amount  \\\n",
       "609   2018-06-25T15:14:26Z  2018-07-16T18:33:14Z                   488.0   \n",
       "681   2018-03-11T13:11:54Z  2018-03-12T06:52:39Z                   455.0   \n",
       "709   2018-03-29T12:05:18Z  2018-04-26T06:28:34Z                   455.0   \n",
       "716   2018-01-03T02:06:24Z  2018-03-10T20:27:03Z                   462.0   \n",
       "839   2018-04-08T15:50:04Z  2018-04-08T16:30:01Z                   455.0   \n",
       "...                    ...                   ...                     ...   \n",
       "9318  2019-01-25T14:52:25Z  2019-01-30T17:49:59Z                   455.0   \n",
       "9328  2020-02-29T00:56:29Z  2020-02-29T13:23:47Z                   455.0   \n",
       "9379  2020-01-27T10:22:10Z  2020-01-30T12:56:33Z                   455.0   \n",
       "9401  2019-06-24T04:35:06Z  2019-12-13T20:35:01Z                   455.0   \n",
       "9433  2018-08-31T13:09:18Z  2018-11-09T19:06:04Z                   455.0   \n",
       "\n",
       "     discount_price__currency discount_price__price_string  \\\n",
       "609                       INR                         ₹488   \n",
       "681                       INR                         ₹455   \n",
       "709                       INR                         ₹455   \n",
       "716                       INR                         ₹462   \n",
       "839                       INR                         ₹455   \n",
       "...                       ...                          ...   \n",
       "9318                      INR                         ₹455   \n",
       "9328                      INR                         ₹455   \n",
       "9379                      INR                         ₹455   \n",
       "9401                      INR                         ₹455   \n",
       "9433                      INR                         ₹455   \n",
       "\n",
       "      price_detail__amount price_detail__currency price_detail__price_string  \n",
       "609                 6400.0                    INR                     ₹6,400  \n",
       "681                 3200.0                    INR                     ₹3,200  \n",
       "709                 1280.0                    INR                     ₹1,280  \n",
       "716                 6400.0                    INR                     ₹6,400  \n",
       "839                 3200.0                    INR                     ₹3,200  \n",
       "...                    ...                    ...                        ...  \n",
       "9318                2880.0                    INR                     ₹2,880  \n",
       "9328                1600.0                    INR                     ₹1,600  \n",
       "9379                1280.0                    INR                     ₹1,280  \n",
       "9401                2560.0                    INR                     ₹2,560  \n",
       "9433                3200.0                    INR                     ₹3,200  \n",
       "\n",
       "[184 rows x 20 columns]"
      ]
     },
     "execution_count": 5,
     "metadata": {},
     "output_type": "execute_result"
    }
   ],
   "source": [
    "data.query('num_published_lectures == 0')"
   ]
  },
  {
   "cell_type": "markdown",
   "id": "d4a3c11e",
   "metadata": {
    "papermill": {
     "duration": 0.017187,
     "end_time": "2022-06-01T15:29:14.716206",
     "exception": false,
     "start_time": "2022-06-01T15:29:14.699019",
     "status": "completed"
    },
    "tags": []
   },
   "source": [
    "#### É possível perceber que existem cursos sem aulas publicadas, esses não são cursos, mas exames práticos que utilizam testes como essa análise é de cursos. Dessa forma, não vão ser considerados como cursos para esta análise e serão retirados."
   ]
  },
  {
   "cell_type": "code",
   "execution_count": 6,
   "id": "fb297998",
   "metadata": {
    "execution": {
     "iopub.execute_input": "2022-06-01T15:29:14.752083Z",
     "iopub.status.busy": "2022-06-01T15:29:14.751602Z",
     "iopub.status.idle": "2022-06-01T15:29:14.796179Z",
     "shell.execute_reply": "2022-06-01T15:29:14.795453Z"
    },
    "papermill": {
     "duration": 0.064973,
     "end_time": "2022-06-01T15:29:14.798277",
     "exception": false,
     "start_time": "2022-06-01T15:29:14.733304",
     "status": "completed"
    },
    "tags": []
   },
   "outputs": [
    {
     "data": {
      "text/html": [
       "<div>\n",
       "<style scoped>\n",
       "    .dataframe tbody tr th:only-of-type {\n",
       "        vertical-align: middle;\n",
       "    }\n",
       "\n",
       "    .dataframe tbody tr th {\n",
       "        vertical-align: top;\n",
       "    }\n",
       "\n",
       "    .dataframe thead th {\n",
       "        text-align: right;\n",
       "    }\n",
       "</style>\n",
       "<table border=\"1\" class=\"dataframe\">\n",
       "  <thead>\n",
       "    <tr style=\"text-align: right;\">\n",
       "      <th></th>\n",
       "      <th>id</th>\n",
       "      <th>num_subscribers</th>\n",
       "      <th>avg_rating</th>\n",
       "      <th>avg_rating_recent</th>\n",
       "      <th>rating</th>\n",
       "      <th>num_reviews</th>\n",
       "      <th>num_published_lectures</th>\n",
       "      <th>num_published_practice_tests</th>\n",
       "      <th>discount_price__amount</th>\n",
       "      <th>price_detail__amount</th>\n",
       "    </tr>\n",
       "  </thead>\n",
       "  <tbody>\n",
       "    <tr>\n",
       "      <th>count</th>\n",
       "      <td>9.263000e+03</td>\n",
       "      <td>9263.000000</td>\n",
       "      <td>9263.000000</td>\n",
       "      <td>9263.000000</td>\n",
       "      <td>9263.000000</td>\n",
       "      <td>9263.000000</td>\n",
       "      <td>9263.000000</td>\n",
       "      <td>9263.000000</td>\n",
       "      <td>8757.000000</td>\n",
       "      <td>9263.000000</td>\n",
       "    </tr>\n",
       "    <tr>\n",
       "      <th>mean</th>\n",
       "      <td>1.440125e+06</td>\n",
       "      <td>3447.991040</td>\n",
       "      <td>4.143260</td>\n",
       "      <td>4.130015</td>\n",
       "      <td>4.130015</td>\n",
       "      <td>303.977221</td>\n",
       "      <td>35.084206</td>\n",
       "      <td>0.031955</td>\n",
       "      <td>487.275437</td>\n",
       "      <td>4868.850264</td>\n",
       "    </tr>\n",
       "    <tr>\n",
       "      <th>std</th>\n",
       "      <td>8.939289e+05</td>\n",
       "      <td>10544.441345</td>\n",
       "      <td>0.451043</td>\n",
       "      <td>0.474871</td>\n",
       "      <td>0.474871</td>\n",
       "      <td>1844.509839</td>\n",
       "      <td>46.257922</td>\n",
       "      <td>0.215603</td>\n",
       "      <td>240.558922</td>\n",
       "      <td>3111.880545</td>\n",
       "    </tr>\n",
       "    <tr>\n",
       "      <th>min</th>\n",
       "      <td>2.762000e+03</td>\n",
       "      <td>3.000000</td>\n",
       "      <td>1.000000</td>\n",
       "      <td>1.000000</td>\n",
       "      <td>1.000000</td>\n",
       "      <td>3.000000</td>\n",
       "      <td>1.000000</td>\n",
       "      <td>0.000000</td>\n",
       "      <td>455.000000</td>\n",
       "      <td>1280.000000</td>\n",
       "    </tr>\n",
       "    <tr>\n",
       "      <th>25%</th>\n",
       "      <td>6.611100e+05</td>\n",
       "      <td>150.000000</td>\n",
       "      <td>3.900000</td>\n",
       "      <td>3.882860</td>\n",
       "      <td>3.882860</td>\n",
       "      <td>12.000000</td>\n",
       "      <td>14.000000</td>\n",
       "      <td>0.000000</td>\n",
       "      <td>455.000000</td>\n",
       "      <td>1600.000000</td>\n",
       "    </tr>\n",
       "    <tr>\n",
       "      <th>50%</th>\n",
       "      <td>1.354030e+06</td>\n",
       "      <td>952.000000</td>\n",
       "      <td>4.208330</td>\n",
       "      <td>4.210420</td>\n",
       "      <td>4.210420</td>\n",
       "      <td>33.000000</td>\n",
       "      <td>23.000000</td>\n",
       "      <td>0.000000</td>\n",
       "      <td>455.000000</td>\n",
       "      <td>4160.000000</td>\n",
       "    </tr>\n",
       "    <tr>\n",
       "      <th>75%</th>\n",
       "      <td>2.121547e+06</td>\n",
       "      <td>2931.000000</td>\n",
       "      <td>4.450000</td>\n",
       "      <td>4.450945</td>\n",
       "      <td>4.450945</td>\n",
       "      <td>112.000000</td>\n",
       "      <td>39.000000</td>\n",
       "      <td>0.000000</td>\n",
       "      <td>455.000000</td>\n",
       "      <td>8640.000000</td>\n",
       "    </tr>\n",
       "    <tr>\n",
       "      <th>max</th>\n",
       "      <td>3.469452e+06</td>\n",
       "      <td>374836.000000</td>\n",
       "      <td>5.000000</td>\n",
       "      <td>5.000000</td>\n",
       "      <td>5.000000</td>\n",
       "      <td>78006.000000</td>\n",
       "      <td>699.000000</td>\n",
       "      <td>2.000000</td>\n",
       "      <td>3200.000000</td>\n",
       "      <td>12800.000000</td>\n",
       "    </tr>\n",
       "  </tbody>\n",
       "</table>\n",
       "</div>"
      ],
      "text/plain": [
       "                 id  num_subscribers   avg_rating  avg_rating_recent  \\\n",
       "count  9.263000e+03      9263.000000  9263.000000        9263.000000   \n",
       "mean   1.440125e+06      3447.991040     4.143260           4.130015   \n",
       "std    8.939289e+05     10544.441345     0.451043           0.474871   \n",
       "min    2.762000e+03         3.000000     1.000000           1.000000   \n",
       "25%    6.611100e+05       150.000000     3.900000           3.882860   \n",
       "50%    1.354030e+06       952.000000     4.208330           4.210420   \n",
       "75%    2.121547e+06      2931.000000     4.450000           4.450945   \n",
       "max    3.469452e+06    374836.000000     5.000000           5.000000   \n",
       "\n",
       "            rating   num_reviews  num_published_lectures  \\\n",
       "count  9263.000000   9263.000000             9263.000000   \n",
       "mean      4.130015    303.977221               35.084206   \n",
       "std       0.474871   1844.509839               46.257922   \n",
       "min       1.000000      3.000000                1.000000   \n",
       "25%       3.882860     12.000000               14.000000   \n",
       "50%       4.210420     33.000000               23.000000   \n",
       "75%       4.450945    112.000000               39.000000   \n",
       "max       5.000000  78006.000000              699.000000   \n",
       "\n",
       "       num_published_practice_tests  discount_price__amount  \\\n",
       "count                   9263.000000             8757.000000   \n",
       "mean                       0.031955              487.275437   \n",
       "std                        0.215603              240.558922   \n",
       "min                        0.000000              455.000000   \n",
       "25%                        0.000000              455.000000   \n",
       "50%                        0.000000              455.000000   \n",
       "75%                        0.000000              455.000000   \n",
       "max                        2.000000             3200.000000   \n",
       "\n",
       "       price_detail__amount  \n",
       "count           9263.000000  \n",
       "mean            4868.850264  \n",
       "std             3111.880545  \n",
       "min             1280.000000  \n",
       "25%             1600.000000  \n",
       "50%             4160.000000  \n",
       "75%             8640.000000  \n",
       "max            12800.000000  "
      ]
     },
     "execution_count": 6,
     "metadata": {},
     "output_type": "execute_result"
    }
   ],
   "source": [
    "data = data.query('num_published_lectures > 0')\n",
    "data.describe()"
   ]
  },
  {
   "cell_type": "markdown",
   "id": "143b42b2",
   "metadata": {
    "papermill": {
     "duration": 0.017347,
     "end_time": "2022-06-01T15:29:14.833477",
     "exception": false,
     "start_time": "2022-06-01T15:29:14.816130",
     "status": "completed"
    },
    "tags": []
   },
   "source": [
    "#### O máximo de número de aulas publicadas é bem destoante dos quartis, é importante verificar."
   ]
  },
  {
   "cell_type": "code",
   "execution_count": 7,
   "id": "1bf0a607",
   "metadata": {
    "execution": {
     "iopub.execute_input": "2022-06-01T15:29:14.870495Z",
     "iopub.status.busy": "2022-06-01T15:29:14.870180Z",
     "iopub.status.idle": "2022-06-01T15:29:14.875301Z",
     "shell.execute_reply": "2022-06-01T15:29:14.874574Z"
    },
    "papermill": {
     "duration": 0.025812,
     "end_time": "2022-06-01T15:29:14.877084",
     "exception": false,
     "start_time": "2022-06-01T15:29:14.851272",
     "status": "completed"
    },
    "tags": []
   },
   "outputs": [],
   "source": [
    "#Dando alguns ajuses te cor e estilo ao seaborn.\n",
    "sns.set_palette('PRGn')\n",
    "sns.set_style('ticks')"
   ]
  },
  {
   "cell_type": "code",
   "execution_count": 8,
   "id": "82bcbaec",
   "metadata": {
    "execution": {
     "iopub.execute_input": "2022-06-01T15:29:14.915181Z",
     "iopub.status.busy": "2022-06-01T15:29:14.914689Z",
     "iopub.status.idle": "2022-06-01T15:29:15.202272Z",
     "shell.execute_reply": "2022-06-01T15:29:15.201497Z"
    },
    "papermill": {
     "duration": 0.30888,
     "end_time": "2022-06-01T15:29:15.203785",
     "exception": false,
     "start_time": "2022-06-01T15:29:14.894905",
     "status": "completed"
    },
    "tags": []
   },
   "outputs": [
    {
     "name": "stderr",
     "output_type": "stream",
     "text": [
      "/opt/conda/lib/python3.7/site-packages/seaborn/distributions.py:2619: FutureWarning: `distplot` is a deprecated function and will be removed in a future version. Please adapt your code to use either `displot` (a figure-level function with similar flexibility) or `histplot` (an axes-level function for histograms).\n",
      "  warnings.warn(msg, FutureWarning)\n"
     ]
    },
    {
     "data": {
      "text/plain": [
       "<AxesSubplot:title={'center':'Distribuição de aulas publicadas'}, xlabel='Aulas publicadas', ylabel='Frequencia'>"
      ]
     },
     "execution_count": 8,
     "metadata": {},
     "output_type": "execute_result"
    },
    {
     "data": {
      "image/png": "[encoded data removed]",
      "text/plain": [
       "<Figure size 432x288 with 1 Axes>"
      ]
     },
     "metadata": {},
     "output_type": "display_data"
    }
   ],
   "source": [
    "ax = sns.distplot(data['num_published_lectures'], kde=False, norm_hist=False)\n",
    "ax.set_title('Distribuição de aulas publicadas')\n",
    "ax.set(xlabel='Aulas publicadas', ylabel='Frequencia')\n",
    "ax"
   ]
  },
  {
   "cell_type": "code",
   "execution_count": 9,
   "id": "4f30b9b9",
   "metadata": {
    "execution": {
     "iopub.execute_input": "2022-06-01T15:29:15.228955Z",
     "iopub.status.busy": "2022-06-01T15:29:15.228602Z",
     "iopub.status.idle": "2022-06-01T15:29:15.360610Z",
     "shell.execute_reply": "2022-06-01T15:29:15.359921Z"
    },
    "papermill": {
     "duration": 0.146325,
     "end_time": "2022-06-01T15:29:15.362008",
     "exception": false,
     "start_time": "2022-06-01T15:29:15.215683",
     "status": "completed"
    },
    "tags": []
   },
   "outputs": [
    {
     "name": "stderr",
     "output_type": "stream",
     "text": [
      "/opt/conda/lib/python3.7/site-packages/seaborn/_decorators.py:43: FutureWarning: Pass the following variable as a keyword arg: x. From version 0.12, the only valid positional argument will be `data`, and passing other arguments without an explicit keyword will result in an error or misinterpretation.\n",
      "  FutureWarning\n"
     ]
    },
    {
     "data": {
      "text/plain": [
       "<AxesSubplot:title={'center':'Aulas publicadas'}, xlabel='num_published_lectures'>"
      ]
     },
     "execution_count": 9,
     "metadata": {},
     "output_type": "execute_result"
    },
    {
     "data": {
      "image/png": "[encoded data removed]",
      "text/plain": [
       "<Figure size 432x288 with 1 Axes>"
      ]
     },
     "metadata": {},
     "output_type": "display_data"
    }
   ],
   "source": [
    "ax = sns.boxplot(data['num_published_lectures'])\n",
    "ax.set_title('Aulas publicadas')\n",
    "ax"
   ]
  },
  {
   "cell_type": "code",
   "execution_count": 10,
   "id": "5851dae9",
   "metadata": {
    "execution": {
     "iopub.execute_input": "2022-06-01T15:29:15.393100Z",
     "iopub.status.busy": "2022-06-01T15:29:15.392382Z",
     "iopub.status.idle": "2022-06-01T15:29:15.429838Z",
     "shell.execute_reply": "2022-06-01T15:29:15.428923Z"
    },
    "papermill": {
     "duration": 0.054544,
     "end_time": "2022-06-01T15:29:15.431860",
     "exception": false,
     "start_time": "2022-06-01T15:29:15.377316",
     "status": "completed"
    },
    "tags": []
   },
   "outputs": [
    {
     "data": {
      "text/html": [
       "<div>\n",
       "<style scoped>\n",
       "    .dataframe tbody tr th:only-of-type {\n",
       "        vertical-align: middle;\n",
       "    }\n",
       "\n",
       "    .dataframe tbody tr th {\n",
       "        vertical-align: top;\n",
       "    }\n",
       "\n",
       "    .dataframe thead th {\n",
       "        text-align: right;\n",
       "    }\n",
       "</style>\n",
       "<table border=\"1\" class=\"dataframe\">\n",
       "  <thead>\n",
       "    <tr style=\"text-align: right;\">\n",
       "      <th></th>\n",
       "      <th>id</th>\n",
       "      <th>title</th>\n",
       "      <th>url</th>\n",
       "      <th>is_paid</th>\n",
       "      <th>num_subscribers</th>\n",
       "      <th>avg_rating</th>\n",
       "      <th>avg_rating_recent</th>\n",
       "      <th>rating</th>\n",
       "      <th>num_reviews</th>\n",
       "      <th>is_wishlisted</th>\n",
       "      <th>num_published_lectures</th>\n",
       "      <th>num_published_practice_tests</th>\n",
       "      <th>created</th>\n",
       "      <th>published_time</th>\n",
       "      <th>discount_price__amount</th>\n",
       "      <th>discount_price__currency</th>\n",
       "      <th>discount_price__price_string</th>\n",
       "      <th>price_detail__amount</th>\n",
       "      <th>price_detail__currency</th>\n",
       "      <th>price_detail__price_string</th>\n",
       "    </tr>\n",
       "  </thead>\n",
       "  <tbody>\n",
       "    <tr>\n",
       "      <th>2</th>\n",
       "      <td>1361790</td>\n",
       "      <td>PMP Exam Prep Seminar -  PMBOK Guide 6</td>\n",
       "      <td>/course/pmp-pmbok6-35-pdus/</td>\n",
       "      <td>True</td>\n",
       "      <td>155282</td>\n",
       "      <td>4.59491</td>\n",
       "      <td>4.59326</td>\n",
       "      <td>4.59326</td>\n",
       "      <td>52653</td>\n",
       "      <td>False</td>\n",
       "      <td>292</td>\n",
       "      <td>2</td>\n",
       "      <td>2017-09-26T16:32:48Z</td>\n",
       "      <td>2017-11-14T23:58:14Z</td>\n",
       "      <td>455.0</td>\n",
       "      <td>INR</td>\n",
       "      <td>₹455</td>\n",
       "      <td>8640.0</td>\n",
       "      <td>INR</td>\n",
       "      <td>₹8,640</td>\n",
       "    </tr>\n",
       "    <tr>\n",
       "      <th>3</th>\n",
       "      <td>648826</td>\n",
       "      <td>The Complete Financial Analyst Course 2020</td>\n",
       "      <td>/course/the-complete-financial-analyst-course/</td>\n",
       "      <td>True</td>\n",
       "      <td>245860</td>\n",
       "      <td>4.54407</td>\n",
       "      <td>4.53772</td>\n",
       "      <td>4.53772</td>\n",
       "      <td>46447</td>\n",
       "      <td>False</td>\n",
       "      <td>338</td>\n",
       "      <td>0</td>\n",
       "      <td>2015-10-23T13:34:35Z</td>\n",
       "      <td>2016-01-21T01:38:48Z</td>\n",
       "      <td>455.0</td>\n",
       "      <td>INR</td>\n",
       "      <td>₹455</td>\n",
       "      <td>8640.0</td>\n",
       "      <td>INR</td>\n",
       "      <td>₹8,640</td>\n",
       "    </tr>\n",
       "    <tr>\n",
       "      <th>5</th>\n",
       "      <td>1208634</td>\n",
       "      <td>Microsoft Power BI - A Complete Introduction [...</td>\n",
       "      <td>/course/powerbi-complete-introduction/</td>\n",
       "      <td>True</td>\n",
       "      <td>124180</td>\n",
       "      <td>4.56228</td>\n",
       "      <td>4.57676</td>\n",
       "      <td>4.57676</td>\n",
       "      <td>38093</td>\n",
       "      <td>False</td>\n",
       "      <td>275</td>\n",
       "      <td>0</td>\n",
       "      <td>2017-05-08T13:03:21Z</td>\n",
       "      <td>2017-05-15T18:48:54Z</td>\n",
       "      <td>455.0</td>\n",
       "      <td>INR</td>\n",
       "      <td>₹455</td>\n",
       "      <td>8640.0</td>\n",
       "      <td>INR</td>\n",
       "      <td>₹8,640</td>\n",
       "    </tr>\n",
       "    <tr>\n",
       "      <th>7</th>\n",
       "      <td>321410</td>\n",
       "      <td>Beginner to Pro in Excel: Financial Modeling a...</td>\n",
       "      <td>/course/beginner-to-pro-in-excel-financial-mod...</td>\n",
       "      <td>True</td>\n",
       "      <td>127680</td>\n",
       "      <td>4.54034</td>\n",
       "      <td>4.53346</td>\n",
       "      <td>4.53346</td>\n",
       "      <td>28665</td>\n",
       "      <td>False</td>\n",
       "      <td>275</td>\n",
       "      <td>0</td>\n",
       "      <td>2014-10-17T08:39:52Z</td>\n",
       "      <td>2014-11-25T23:00:40Z</td>\n",
       "      <td>455.0</td>\n",
       "      <td>INR</td>\n",
       "      <td>₹455</td>\n",
       "      <td>8640.0</td>\n",
       "      <td>INR</td>\n",
       "      <td>₹8,640</td>\n",
       "    </tr>\n",
       "    <tr>\n",
       "      <th>8</th>\n",
       "      <td>673654</td>\n",
       "      <td>Become a Product Manager | Learn the Skills &amp; ...</td>\n",
       "      <td>/course/become-a-product-manager-learn-the-ski...</td>\n",
       "      <td>True</td>\n",
       "      <td>112572</td>\n",
       "      <td>4.50386</td>\n",
       "      <td>4.50080</td>\n",
       "      <td>4.50080</td>\n",
       "      <td>27408</td>\n",
       "      <td>False</td>\n",
       "      <td>144</td>\n",
       "      <td>0</td>\n",
       "      <td>2015-11-18T19:35:12Z</td>\n",
       "      <td>2016-03-17T17:04:59Z</td>\n",
       "      <td>455.0</td>\n",
       "      <td>INR</td>\n",
       "      <td>₹455</td>\n",
       "      <td>8640.0</td>\n",
       "      <td>INR</td>\n",
       "      <td>₹8,640</td>\n",
       "    </tr>\n",
       "    <tr>\n",
       "      <th>...</th>\n",
       "      <td>...</td>\n",
       "      <td>...</td>\n",
       "      <td>...</td>\n",
       "      <td>...</td>\n",
       "      <td>...</td>\n",
       "      <td>...</td>\n",
       "      <td>...</td>\n",
       "      <td>...</td>\n",
       "      <td>...</td>\n",
       "      <td>...</td>\n",
       "      <td>...</td>\n",
       "      <td>...</td>\n",
       "      <td>...</td>\n",
       "      <td>...</td>\n",
       "      <td>...</td>\n",
       "      <td>...</td>\n",
       "      <td>...</td>\n",
       "      <td>...</td>\n",
       "      <td>...</td>\n",
       "      <td>...</td>\n",
       "    </tr>\n",
       "    <tr>\n",
       "      <th>9197</th>\n",
       "      <td>3311364</td>\n",
       "      <td>Emotional Intelligence Master Class: Complete ...</td>\n",
       "      <td>/course/emotional-intelligence-master-class-co...</td>\n",
       "      <td>True</td>\n",
       "      <td>33</td>\n",
       "      <td>4.33333</td>\n",
       "      <td>4.26262</td>\n",
       "      <td>4.26262</td>\n",
       "      <td>3</td>\n",
       "      <td>False</td>\n",
       "      <td>197</td>\n",
       "      <td>0</td>\n",
       "      <td>2020-07-08T05:36:24Z</td>\n",
       "      <td>2020-07-22T03:23:27Z</td>\n",
       "      <td>455.0</td>\n",
       "      <td>INR</td>\n",
       "      <td>₹455</td>\n",
       "      <td>8640.0</td>\n",
       "      <td>INR</td>\n",
       "      <td>₹8,640</td>\n",
       "    </tr>\n",
       "    <tr>\n",
       "      <th>9212</th>\n",
       "      <td>581518</td>\n",
       "      <td>Results Coach Mastery</td>\n",
       "      <td>/course/resultscoachmastery/</td>\n",
       "      <td>True</td>\n",
       "      <td>32</td>\n",
       "      <td>4.16667</td>\n",
       "      <td>4.07336</td>\n",
       "      <td>4.07336</td>\n",
       "      <td>3</td>\n",
       "      <td>False</td>\n",
       "      <td>214</td>\n",
       "      <td>0</td>\n",
       "      <td>2015-08-12T19:52:09Z</td>\n",
       "      <td>2018-02-21T21:48:38Z</td>\n",
       "      <td>3200.0</td>\n",
       "      <td>INR</td>\n",
       "      <td>₹3,200</td>\n",
       "      <td>8640.0</td>\n",
       "      <td>INR</td>\n",
       "      <td>₹8,640</td>\n",
       "    </tr>\n",
       "    <tr>\n",
       "      <th>9242</th>\n",
       "      <td>2749804</td>\n",
       "      <td>Mastering MS Excel - From Beginner to Advanced...</td>\n",
       "      <td>/course/microsoft-excel-from-start-to-finish/</td>\n",
       "      <td>True</td>\n",
       "      <td>11</td>\n",
       "      <td>5.00000</td>\n",
       "      <td>5.00000</td>\n",
       "      <td>5.00000</td>\n",
       "      <td>3</td>\n",
       "      <td>False</td>\n",
       "      <td>116</td>\n",
       "      <td>0</td>\n",
       "      <td>2020-01-09T19:36:14Z</td>\n",
       "      <td>2020-02-26T18:07:16Z</td>\n",
       "      <td>455.0</td>\n",
       "      <td>INR</td>\n",
       "      <td>₹455</td>\n",
       "      <td>1600.0</td>\n",
       "      <td>INR</td>\n",
       "      <td>₹1,600</td>\n",
       "    </tr>\n",
       "    <tr>\n",
       "      <th>9352</th>\n",
       "      <td>420926</td>\n",
       "      <td>CFA® Level 1 2014 – Financial Reporting and An...</td>\n",
       "      <td>/course/cfa-level1-fra/</td>\n",
       "      <td>True</td>\n",
       "      <td>164</td>\n",
       "      <td>4.66667</td>\n",
       "      <td>4.59733</td>\n",
       "      <td>4.59733</td>\n",
       "      <td>3</td>\n",
       "      <td>False</td>\n",
       "      <td>102</td>\n",
       "      <td>0</td>\n",
       "      <td>2015-02-13T09:20:17Z</td>\n",
       "      <td>2015-02-26T08:48:32Z</td>\n",
       "      <td>NaN</td>\n",
       "      <td>NaN</td>\n",
       "      <td>NaN</td>\n",
       "      <td>3200.0</td>\n",
       "      <td>INR</td>\n",
       "      <td>₹3,200</td>\n",
       "    </tr>\n",
       "    <tr>\n",
       "      <th>9377</th>\n",
       "      <td>3028516</td>\n",
       "      <td>PMI_PBA Preparation Course _In English</td>\n",
       "      <td>/course/pmi_pba-preparation-course-_in-english/</td>\n",
       "      <td>True</td>\n",
       "      <td>13</td>\n",
       "      <td>3.50000</td>\n",
       "      <td>3.36868</td>\n",
       "      <td>3.36868</td>\n",
       "      <td>3</td>\n",
       "      <td>False</td>\n",
       "      <td>172</td>\n",
       "      <td>2</td>\n",
       "      <td>2020-04-20T12:39:31Z</td>\n",
       "      <td>2020-05-26T02:46:09Z</td>\n",
       "      <td>NaN</td>\n",
       "      <td>NaN</td>\n",
       "      <td>NaN</td>\n",
       "      <td>10560.0</td>\n",
       "      <td>INR</td>\n",
       "      <td>₹10,560</td>\n",
       "    </tr>\n",
       "  </tbody>\n",
       "</table>\n",
       "<p>428 rows × 20 columns</p>\n",
       "</div>"
      ],
      "text/plain": [
       "           id                                              title  \\\n",
       "2     1361790             PMP Exam Prep Seminar -  PMBOK Guide 6   \n",
       "3      648826         The Complete Financial Analyst Course 2020   \n",
       "5     1208634  Microsoft Power BI - A Complete Introduction [...   \n",
       "7      321410  Beginner to Pro in Excel: Financial Modeling a...   \n",
       "8      673654  Become a Product Manager | Learn the Skills & ...   \n",
       "...       ...                                                ...   \n",
       "9197  3311364  Emotional Intelligence Master Class: Complete ...   \n",
       "9212   581518                              Results Coach Mastery   \n",
       "9242  2749804  Mastering MS Excel - From Beginner to Advanced...   \n",
       "9352   420926  CFA® Level 1 2014 – Financial Reporting and An...   \n",
       "9377  3028516             PMI_PBA Preparation Course _In English   \n",
       "\n",
       "                                                    url  is_paid  \\\n",
       "2                           /course/pmp-pmbok6-35-pdus/     True   \n",
       "3        /course/the-complete-financial-analyst-course/     True   \n",
       "5                /course/powerbi-complete-introduction/     True   \n",
       "7     /course/beginner-to-pro-in-excel-financial-mod...     True   \n",
       "8     /course/become-a-product-manager-learn-the-ski...     True   \n",
       "...                                                 ...      ...   \n",
       "9197  /course/emotional-intelligence-master-class-co...     True   \n",
       "9212                       /course/resultscoachmastery/     True   \n",
       "9242      /course/microsoft-excel-from-start-to-finish/     True   \n",
       "9352                            /course/cfa-level1-fra/     True   \n",
       "9377    /course/pmi_pba-preparation-course-_in-english/     True   \n",
       "\n",
       "      num_subscribers  avg_rating  avg_rating_recent   rating  num_reviews  \\\n",
       "2              155282     4.59491            4.59326  4.59326        52653   \n",
       "3              245860     4.54407            4.53772  4.53772        46447   \n",
       "5              124180     4.56228            4.57676  4.57676        38093   \n",
       "7              127680     4.54034            4.53346  4.53346        28665   \n",
       "8              112572     4.50386            4.50080  4.50080        27408   \n",
       "...               ...         ...                ...      ...          ...   \n",
       "9197               33     4.33333            4.26262  4.26262            3   \n",
       "9212               32     4.16667            4.07336  4.07336            3   \n",
       "9242               11     5.00000            5.00000  5.00000            3   \n",
       "9352              164     4.66667            4.59733  4.59733            3   \n",
       "9377               13     3.50000            3.36868  3.36868            3   \n",
       "\n",
       "      is_wishlisted  num_published_lectures  num_published_practice_tests  \\\n",
       "2             False                     292                             2   \n",
       "3             False                     338                             0   \n",
       "5             False                     275                             0   \n",
       "7             False                     275                             0   \n",
       "8             False                     144                             0   \n",
       "...             ...                     ...                           ...   \n",
       "9197          False                     197                             0   \n",
       "9212          False                     214                             0   \n",
       "9242          False                     116                             0   \n",
       "9352          False                     102                             0   \n",
       "9377          False                     172                             2   \n",
       "\n",
       "                   created        published_time  discount_price__amount  \\\n",
       "2     2017-09-26T16:32:48Z  2017-11-14T23:58:14Z                   455.0   \n",
       "3     2015-10-23T13:34:35Z  2016-01-21T01:38:48Z                   455.0   \n",
       "5     2017-05-08T13:03:21Z  2017-05-15T18:48:54Z                   455.0   \n",
       "7     2014-10-17T08:39:52Z  2014-11-25T23:00:40Z                   455.0   \n",
       "8     2015-11-18T19:35:12Z  2016-03-17T17:04:59Z                   455.0   \n",
       "...                    ...                   ...                     ...   \n",
       "9197  2020-07-08T05:36:24Z  2020-07-22T03:23:27Z                   455.0   \n",
       "9212  2015-08-12T19:52:09Z  2018-02-21T21:48:38Z                  3200.0   \n",
       "9242  2020-01-09T19:36:14Z  2020-02-26T18:07:16Z                   455.0   \n",
       "9352  2015-02-13T09:20:17Z  2015-02-26T08:48:32Z                     NaN   \n",
       "9377  2020-04-20T12:39:31Z  2020-05-26T02:46:09Z                     NaN   \n",
       "\n",
       "     discount_price__currency discount_price__price_string  \\\n",
       "2                         INR                         ₹455   \n",
       "3                         INR                         ₹455   \n",
       "5                         INR                         ₹455   \n",
       "7                         INR                         ₹455   \n",
       "8                         INR                         ₹455   \n",
       "...                       ...                          ...   \n",
       "9197                      INR                         ₹455   \n",
       "9212                      INR                       ₹3,200   \n",
       "9242                      INR                         ₹455   \n",
       "9352                      NaN                          NaN   \n",
       "9377                      NaN                          NaN   \n",
       "\n",
       "      price_detail__amount price_detail__currency price_detail__price_string  \n",
       "2                   8640.0                    INR                     ₹8,640  \n",
       "3                   8640.0                    INR                     ₹8,640  \n",
       "5                   8640.0                    INR                     ₹8,640  \n",
       "7                   8640.0                    INR                     ₹8,640  \n",
       "8                   8640.0                    INR                     ₹8,640  \n",
       "...                    ...                    ...                        ...  \n",
       "9197                8640.0                    INR                     ₹8,640  \n",
       "9212                8640.0                    INR                     ₹8,640  \n",
       "9242                1600.0                    INR                     ₹1,600  \n",
       "9352                3200.0                    INR                     ₹3,200  \n",
       "9377               10560.0                    INR                    ₹10,560  \n",
       "\n",
       "[428 rows x 20 columns]"
      ]
     },
     "execution_count": 10,
     "metadata": {},
     "output_type": "execute_result"
    }
   ],
   "source": [
    "data.query('num_published_lectures > 100')"
   ]
  },
  {
   "cell_type": "markdown",
   "id": "4eb8a13d",
   "metadata": {
    "papermill": {
     "duration": 0.019133,
     "end_time": "2022-06-01T15:29:15.470557",
     "exception": false,
     "start_time": "2022-06-01T15:29:15.451424",
     "status": "completed"
    },
    "tags": []
   },
   "source": [
    "#### Os cursos muito longos são agregados de uma série de cursos de uma mesma área. O fato de existir grande preferência por esse tipo de curso deve ser considerado na análise. Seria possível segmentar a análise para tornar ela mais exata, entretanto nesse estudo será optado por manter uma análise geral, entendendo que o curso completo compete com o curso especializado e menos procurado. \n",
    "\n",
    "#### Agora, vamos explorar o número de inscritos, que é a variável dependente, para saber a qualidade dos dados."
   ]
  },
  {
   "cell_type": "code",
   "execution_count": 11,
   "id": "fbca89ec",
   "metadata": {
    "execution": {
     "iopub.execute_input": "2022-06-01T15:29:15.512675Z",
     "iopub.status.busy": "2022-06-01T15:29:15.511861Z",
     "iopub.status.idle": "2022-06-01T15:29:15.517900Z",
     "shell.execute_reply": "2022-06-01T15:29:15.516671Z"
    },
    "papermill": {
     "duration": 0.028891,
     "end_time": "2022-06-01T15:29:15.519851",
     "exception": false,
     "start_time": "2022-06-01T15:29:15.490960",
     "status": "completed"
    },
    "tags": []
   },
   "outputs": [],
   "source": [
    "#Dando alguns ajuses te cor e estilo ao seaborn.\n",
    "sns.set_palette('PRGn')\n",
    "sns.set_style('ticks')"
   ]
  },
  {
   "cell_type": "code",
   "execution_count": 12,
   "id": "ab964bb0",
   "metadata": {
    "execution": {
     "iopub.execute_input": "2022-06-01T15:29:15.546420Z",
     "iopub.status.busy": "2022-06-01T15:29:15.545887Z",
     "iopub.status.idle": "2022-06-01T15:29:15.793771Z",
     "shell.execute_reply": "2022-06-01T15:29:15.793199Z"
    },
    "papermill": {
     "duration": 0.262421,
     "end_time": "2022-06-01T15:29:15.795066",
     "exception": false,
     "start_time": "2022-06-01T15:29:15.532645",
     "status": "completed"
    },
    "tags": []
   },
   "outputs": [
    {
     "name": "stderr",
     "output_type": "stream",
     "text": [
      "/opt/conda/lib/python3.7/site-packages/seaborn/distributions.py:2619: FutureWarning: `distplot` is a deprecated function and will be removed in a future version. Please adapt your code to use either `displot` (a figure-level function with similar flexibility) or `histplot` (an axes-level function for histograms).\n",
      "  warnings.warn(msg, FutureWarning)\n"
     ]
    },
    {
     "data": {
      "text/plain": [
       "<AxesSubplot:title={'center':'Distribuição de inscritos'}, xlabel='Inscritos', ylabel='Frequencia'>"
      ]
     },
     "execution_count": 12,
     "metadata": {},
     "output_type": "execute_result"
    },
    {
     "data": {
      "image/png": "[encoded data removed]",
      "text/plain": [
       "<Figure size 432x288 with 1 Axes>"
      ]
     },
     "metadata": {},
     "output_type": "display_data"
    }
   ],
   "source": [
    "ax = sns.distplot(data['num_subscribers'], kde=False, norm_hist=False)\n",
    "ax.set_title('Distribuição de inscritos')\n",
    "ax.set(xlabel='Inscritos', ylabel='Frequencia')\n",
    "ax"
   ]
  },
  {
   "cell_type": "code",
   "execution_count": 13,
   "id": "29e7b28a",
   "metadata": {
    "execution": {
     "iopub.execute_input": "2022-06-01T15:29:15.821985Z",
     "iopub.status.busy": "2022-06-01T15:29:15.821211Z",
     "iopub.status.idle": "2022-06-01T15:29:16.229014Z",
     "shell.execute_reply": "2022-06-01T15:29:16.228096Z"
    },
    "papermill": {
     "duration": 0.422727,
     "end_time": "2022-06-01T15:29:16.230446",
     "exception": false,
     "start_time": "2022-06-01T15:29:15.807719",
     "status": "completed"
    },
    "tags": []
   },
   "outputs": [
    {
     "data": {
      "text/plain": [
       "<AxesSubplot:title={'center':'Distribuição de inscritos'}, xlabel='Inscritos', ylabel='Frequencia'>"
      ]
     },
     "execution_count": 13,
     "metadata": {},
     "output_type": "execute_result"
    },
    {
     "data": {
      "image/png": "[encoded data removed]",
      "text/plain": [
       "<Figure size 432x288 with 1 Axes>"
      ]
     },
     "metadata": {},
     "output_type": "display_data"
    }
   ],
   "source": [
    "#Para confirmar que existe uma distribuição quase toda em valores muito baixos, \n",
    "#estou colocando de forma cumulativa, utilizando códigos do matplotlib. \n",
    "ax = sns.distplot(data['num_subscribers'], hist_kws={'cumulative':True}, kde_kws={'cumulative':True})\n",
    "ax.set_title('Distribuição de inscritos')\n",
    "ax.set(xlabel='Inscritos', ylabel='Frequencia')\n",
    "ax"
   ]
  },
  {
   "cell_type": "code",
   "execution_count": 14,
   "id": "1a0f8a33",
   "metadata": {
    "execution": {
     "iopub.execute_input": "2022-06-01T15:29:16.257860Z",
     "iopub.status.busy": "2022-06-01T15:29:16.257505Z",
     "iopub.status.idle": "2022-06-01T15:29:16.386514Z",
     "shell.execute_reply": "2022-06-01T15:29:16.385802Z"
    },
    "papermill": {
     "duration": 0.144954,
     "end_time": "2022-06-01T15:29:16.388463",
     "exception": false,
     "start_time": "2022-06-01T15:29:16.243509",
     "status": "completed"
    },
    "tags": []
   },
   "outputs": [
    {
     "name": "stderr",
     "output_type": "stream",
     "text": [
      "/opt/conda/lib/python3.7/site-packages/seaborn/_decorators.py:43: FutureWarning: Pass the following variable as a keyword arg: x. From version 0.12, the only valid positional argument will be `data`, and passing other arguments without an explicit keyword will result in an error or misinterpretation.\n",
      "  FutureWarning\n"
     ]
    },
    {
     "data": {
      "text/plain": [
       "<AxesSubplot:title={'center':'Inscritos'}, xlabel='num_subscribers'>"
      ]
     },
     "execution_count": 14,
     "metadata": {},
     "output_type": "execute_result"
    },
    {
     "data": {
      "image/png": "[encoded data removed]",
      "text/plain": [
       "<Figure size 432x288 with 1 Axes>"
      ]
     },
     "metadata": {},
     "output_type": "display_data"
    }
   ],
   "source": [
    "ax = sns.boxplot(data['num_subscribers'])\n",
    "ax.set_title('Inscritos')\n",
    "ax"
   ]
  },
  {
   "cell_type": "code",
   "execution_count": 15,
   "id": "19c15983",
   "metadata": {
    "execution": {
     "iopub.execute_input": "2022-06-01T15:29:16.433523Z",
     "iopub.status.busy": "2022-06-01T15:29:16.432036Z",
     "iopub.status.idle": "2022-06-01T15:29:16.468450Z",
     "shell.execute_reply": "2022-06-01T15:29:16.467692Z"
    },
    "papermill": {
     "duration": 0.060296,
     "end_time": "2022-06-01T15:29:16.470220",
     "exception": false,
     "start_time": "2022-06-01T15:29:16.409924",
     "status": "completed"
    },
    "tags": []
   },
   "outputs": [
    {
     "data": {
      "text/html": [
       "<div>\n",
       "<style scoped>\n",
       "    .dataframe tbody tr th:only-of-type {\n",
       "        vertical-align: middle;\n",
       "    }\n",
       "\n",
       "    .dataframe tbody tr th {\n",
       "        vertical-align: top;\n",
       "    }\n",
       "\n",
       "    .dataframe thead th {\n",
       "        text-align: right;\n",
       "    }\n",
       "</style>\n",
       "<table border=\"1\" class=\"dataframe\">\n",
       "  <thead>\n",
       "    <tr style=\"text-align: right;\">\n",
       "      <th></th>\n",
       "      <th>id</th>\n",
       "      <th>title</th>\n",
       "      <th>url</th>\n",
       "      <th>is_paid</th>\n",
       "      <th>num_subscribers</th>\n",
       "      <th>avg_rating</th>\n",
       "      <th>avg_rating_recent</th>\n",
       "      <th>rating</th>\n",
       "      <th>num_reviews</th>\n",
       "      <th>is_wishlisted</th>\n",
       "      <th>num_published_lectures</th>\n",
       "      <th>num_published_practice_tests</th>\n",
       "      <th>created</th>\n",
       "      <th>published_time</th>\n",
       "      <th>discount_price__amount</th>\n",
       "      <th>discount_price__currency</th>\n",
       "      <th>discount_price__price_string</th>\n",
       "      <th>price_detail__amount</th>\n",
       "      <th>price_detail__currency</th>\n",
       "      <th>price_detail__price_string</th>\n",
       "    </tr>\n",
       "  </thead>\n",
       "  <tbody>\n",
       "    <tr>\n",
       "      <th>0</th>\n",
       "      <td>762616</td>\n",
       "      <td>The Complete SQL Bootcamp 2020: Go from Zero t...</td>\n",
       "      <td>/course/the-complete-sql-bootcamp/</td>\n",
       "      <td>True</td>\n",
       "      <td>295509</td>\n",
       "      <td>4.66019</td>\n",
       "      <td>4.67874</td>\n",
       "      <td>4.67874</td>\n",
       "      <td>78006</td>\n",
       "      <td>False</td>\n",
       "      <td>84</td>\n",
       "      <td>0</td>\n",
       "      <td>2016-02-14T22:57:48Z</td>\n",
       "      <td>2016-04-06T05:16:11Z</td>\n",
       "      <td>455.0</td>\n",
       "      <td>INR</td>\n",
       "      <td>₹455</td>\n",
       "      <td>8640.0</td>\n",
       "      <td>INR</td>\n",
       "      <td>₹8,640</td>\n",
       "    </tr>\n",
       "    <tr>\n",
       "      <th>1</th>\n",
       "      <td>937678</td>\n",
       "      <td>Tableau 2020 A-Z: Hands-On Tableau Training fo...</td>\n",
       "      <td>/course/tableau10/</td>\n",
       "      <td>True</td>\n",
       "      <td>209070</td>\n",
       "      <td>4.58956</td>\n",
       "      <td>4.60015</td>\n",
       "      <td>4.60015</td>\n",
       "      <td>54581</td>\n",
       "      <td>False</td>\n",
       "      <td>78</td>\n",
       "      <td>0</td>\n",
       "      <td>2016-08-22T12:10:18Z</td>\n",
       "      <td>2016-08-23T16:59:49Z</td>\n",
       "      <td>455.0</td>\n",
       "      <td>INR</td>\n",
       "      <td>₹455</td>\n",
       "      <td>8640.0</td>\n",
       "      <td>INR</td>\n",
       "      <td>₹8,640</td>\n",
       "    </tr>\n",
       "    <tr>\n",
       "      <th>2</th>\n",
       "      <td>1361790</td>\n",
       "      <td>PMP Exam Prep Seminar -  PMBOK Guide 6</td>\n",
       "      <td>/course/pmp-pmbok6-35-pdus/</td>\n",
       "      <td>True</td>\n",
       "      <td>155282</td>\n",
       "      <td>4.59491</td>\n",
       "      <td>4.59326</td>\n",
       "      <td>4.59326</td>\n",
       "      <td>52653</td>\n",
       "      <td>False</td>\n",
       "      <td>292</td>\n",
       "      <td>2</td>\n",
       "      <td>2017-09-26T16:32:48Z</td>\n",
       "      <td>2017-11-14T23:58:14Z</td>\n",
       "      <td>455.0</td>\n",
       "      <td>INR</td>\n",
       "      <td>₹455</td>\n",
       "      <td>8640.0</td>\n",
       "      <td>INR</td>\n",
       "      <td>₹8,640</td>\n",
       "    </tr>\n",
       "    <tr>\n",
       "      <th>3</th>\n",
       "      <td>648826</td>\n",
       "      <td>The Complete Financial Analyst Course 2020</td>\n",
       "      <td>/course/the-complete-financial-analyst-course/</td>\n",
       "      <td>True</td>\n",
       "      <td>245860</td>\n",
       "      <td>4.54407</td>\n",
       "      <td>4.53772</td>\n",
       "      <td>4.53772</td>\n",
       "      <td>46447</td>\n",
       "      <td>False</td>\n",
       "      <td>338</td>\n",
       "      <td>0</td>\n",
       "      <td>2015-10-23T13:34:35Z</td>\n",
       "      <td>2016-01-21T01:38:48Z</td>\n",
       "      <td>455.0</td>\n",
       "      <td>INR</td>\n",
       "      <td>₹455</td>\n",
       "      <td>8640.0</td>\n",
       "      <td>INR</td>\n",
       "      <td>₹8,640</td>\n",
       "    </tr>\n",
       "    <tr>\n",
       "      <th>4</th>\n",
       "      <td>637930</td>\n",
       "      <td>An Entire MBA in 1 Course:Award Winning Busine...</td>\n",
       "      <td>/course/an-entire-mba-in-1-courseaward-winning...</td>\n",
       "      <td>True</td>\n",
       "      <td>374836</td>\n",
       "      <td>4.47080</td>\n",
       "      <td>4.47173</td>\n",
       "      <td>4.47173</td>\n",
       "      <td>41630</td>\n",
       "      <td>False</td>\n",
       "      <td>83</td>\n",
       "      <td>0</td>\n",
       "      <td>2015-10-12T06:39:46Z</td>\n",
       "      <td>2016-01-11T21:39:33Z</td>\n",
       "      <td>455.0</td>\n",
       "      <td>INR</td>\n",
       "      <td>₹455</td>\n",
       "      <td>8640.0</td>\n",
       "      <td>INR</td>\n",
       "      <td>₹8,640</td>\n",
       "    </tr>\n",
       "    <tr>\n",
       "      <th>5</th>\n",
       "      <td>1208634</td>\n",
       "      <td>Microsoft Power BI - A Complete Introduction [...</td>\n",
       "      <td>/course/powerbi-complete-introduction/</td>\n",
       "      <td>True</td>\n",
       "      <td>124180</td>\n",
       "      <td>4.56228</td>\n",
       "      <td>4.57676</td>\n",
       "      <td>4.57676</td>\n",
       "      <td>38093</td>\n",
       "      <td>False</td>\n",
       "      <td>275</td>\n",
       "      <td>0</td>\n",
       "      <td>2017-05-08T13:03:21Z</td>\n",
       "      <td>2017-05-15T18:48:54Z</td>\n",
       "      <td>455.0</td>\n",
       "      <td>INR</td>\n",
       "      <td>₹455</td>\n",
       "      <td>8640.0</td>\n",
       "      <td>INR</td>\n",
       "      <td>₹8,640</td>\n",
       "    </tr>\n",
       "    <tr>\n",
       "      <th>7</th>\n",
       "      <td>321410</td>\n",
       "      <td>Beginner to Pro in Excel: Financial Modeling a...</td>\n",
       "      <td>/course/beginner-to-pro-in-excel-financial-mod...</td>\n",
       "      <td>True</td>\n",
       "      <td>127680</td>\n",
       "      <td>4.54034</td>\n",
       "      <td>4.53346</td>\n",
       "      <td>4.53346</td>\n",
       "      <td>28665</td>\n",
       "      <td>False</td>\n",
       "      <td>275</td>\n",
       "      <td>0</td>\n",
       "      <td>2014-10-17T08:39:52Z</td>\n",
       "      <td>2014-11-25T23:00:40Z</td>\n",
       "      <td>455.0</td>\n",
       "      <td>INR</td>\n",
       "      <td>₹455</td>\n",
       "      <td>8640.0</td>\n",
       "      <td>INR</td>\n",
       "      <td>₹8,640</td>\n",
       "    </tr>\n",
       "    <tr>\n",
       "      <th>8</th>\n",
       "      <td>673654</td>\n",
       "      <td>Become a Product Manager | Learn the Skills &amp; ...</td>\n",
       "      <td>/course/become-a-product-manager-learn-the-ski...</td>\n",
       "      <td>True</td>\n",
       "      <td>112572</td>\n",
       "      <td>4.50386</td>\n",
       "      <td>4.50080</td>\n",
       "      <td>4.50080</td>\n",
       "      <td>27408</td>\n",
       "      <td>False</td>\n",
       "      <td>144</td>\n",
       "      <td>0</td>\n",
       "      <td>2015-11-18T19:35:12Z</td>\n",
       "      <td>2016-03-17T17:04:59Z</td>\n",
       "      <td>455.0</td>\n",
       "      <td>INR</td>\n",
       "      <td>₹455</td>\n",
       "      <td>8640.0</td>\n",
       "      <td>INR</td>\n",
       "      <td>₹8,640</td>\n",
       "    </tr>\n",
       "    <tr>\n",
       "      <th>9</th>\n",
       "      <td>1653432</td>\n",
       "      <td>The Business Intelligence Analyst Course 2020</td>\n",
       "      <td>/course/the-business-intelligence-analyst-cour...</td>\n",
       "      <td>True</td>\n",
       "      <td>115269</td>\n",
       "      <td>4.50067</td>\n",
       "      <td>4.49575</td>\n",
       "      <td>4.49575</td>\n",
       "      <td>23906</td>\n",
       "      <td>False</td>\n",
       "      <td>413</td>\n",
       "      <td>0</td>\n",
       "      <td>2018-04-19T07:00:09Z</td>\n",
       "      <td>2018-04-25T18:40:55Z</td>\n",
       "      <td>455.0</td>\n",
       "      <td>INR</td>\n",
       "      <td>₹455</td>\n",
       "      <td>8640.0</td>\n",
       "      <td>INR</td>\n",
       "      <td>₹8,640</td>\n",
       "    </tr>\n",
       "    <tr>\n",
       "      <th>15</th>\n",
       "      <td>1202988</td>\n",
       "      <td>The Complete Financial Analyst Training &amp; Inve...</td>\n",
       "      <td>/course/the-complete-financial-analyst-trainin...</td>\n",
       "      <td>True</td>\n",
       "      <td>182002</td>\n",
       "      <td>4.49571</td>\n",
       "      <td>4.49507</td>\n",
       "      <td>4.49507</td>\n",
       "      <td>21421</td>\n",
       "      <td>False</td>\n",
       "      <td>225</td>\n",
       "      <td>0</td>\n",
       "      <td>2017-05-03T17:04:31Z</td>\n",
       "      <td>2017-08-17T17:53:15Z</td>\n",
       "      <td>455.0</td>\n",
       "      <td>INR</td>\n",
       "      <td>₹455</td>\n",
       "      <td>8640.0</td>\n",
       "      <td>INR</td>\n",
       "      <td>₹8,640</td>\n",
       "    </tr>\n",
       "    <tr>\n",
       "      <th>16</th>\n",
       "      <td>996228</td>\n",
       "      <td>The Ultimate Hands-On Hadoop - Tame your Big D...</td>\n",
       "      <td>/course/the-ultimate-hands-on-hadoop-tame-your...</td>\n",
       "      <td>True</td>\n",
       "      <td>114945</td>\n",
       "      <td>4.51251</td>\n",
       "      <td>4.52998</td>\n",
       "      <td>4.52998</td>\n",
       "      <td>21394</td>\n",
       "      <td>False</td>\n",
       "      <td>101</td>\n",
       "      <td>0</td>\n",
       "      <td>2016-10-27T21:39:22Z</td>\n",
       "      <td>2017-02-23T18:42:20Z</td>\n",
       "      <td>455.0</td>\n",
       "      <td>INR</td>\n",
       "      <td>₹455</td>\n",
       "      <td>8640.0</td>\n",
       "      <td>INR</td>\n",
       "      <td>₹8,640</td>\n",
       "    </tr>\n",
       "    <tr>\n",
       "      <th>19</th>\n",
       "      <td>980086</td>\n",
       "      <td>Deep Learning Prerequisites: The Numpy Stack i...</td>\n",
       "      <td>/course/deep-learning-prerequisites-the-numpy-...</td>\n",
       "      <td>True</td>\n",
       "      <td>239309</td>\n",
       "      <td>4.47381</td>\n",
       "      <td>4.54005</td>\n",
       "      <td>4.54005</td>\n",
       "      <td>18322</td>\n",
       "      <td>False</td>\n",
       "      <td>47</td>\n",
       "      <td>0</td>\n",
       "      <td>2016-10-10T06:34:58Z</td>\n",
       "      <td>2016-10-12T16:51:08Z</td>\n",
       "      <td>455.0</td>\n",
       "      <td>INR</td>\n",
       "      <td>₹455</td>\n",
       "      <td>1280.0</td>\n",
       "      <td>INR</td>\n",
       "      <td>₹1,280</td>\n",
       "    </tr>\n",
       "    <tr>\n",
       "      <th>22</th>\n",
       "      <td>888716</td>\n",
       "      <td>Introduction to Finance, Accounting, Modeling ...</td>\n",
       "      <td>/course/introduction-to-accounting-finance-mod...</td>\n",
       "      <td>True</td>\n",
       "      <td>140676</td>\n",
       "      <td>4.47580</td>\n",
       "      <td>4.46916</td>\n",
       "      <td>4.46916</td>\n",
       "      <td>17013</td>\n",
       "      <td>False</td>\n",
       "      <td>61</td>\n",
       "      <td>0</td>\n",
       "      <td>2016-06-26T14:37:28Z</td>\n",
       "      <td>2016-06-28T06:12:23Z</td>\n",
       "      <td>500.0</td>\n",
       "      <td>INR</td>\n",
       "      <td>₹500</td>\n",
       "      <td>9280.0</td>\n",
       "      <td>INR</td>\n",
       "      <td>₹9,280</td>\n",
       "    </tr>\n",
       "    <tr>\n",
       "      <th>26</th>\n",
       "      <td>196152</td>\n",
       "      <td>Writing With Flair: How To Become An Exception...</td>\n",
       "      <td>/course/writing-with-flair-how-to-become-an-ex...</td>\n",
       "      <td>True</td>\n",
       "      <td>102727</td>\n",
       "      <td>4.55248</td>\n",
       "      <td>4.56591</td>\n",
       "      <td>4.56591</td>\n",
       "      <td>12478</td>\n",
       "      <td>False</td>\n",
       "      <td>78</td>\n",
       "      <td>0</td>\n",
       "      <td>2014-04-09T07:34:01Z</td>\n",
       "      <td>2014-04-30T02:11:11Z</td>\n",
       "      <td>455.0</td>\n",
       "      <td>INR</td>\n",
       "      <td>₹455</td>\n",
       "      <td>8640.0</td>\n",
       "      <td>INR</td>\n",
       "      <td>₹8,640</td>\n",
       "    </tr>\n",
       "    <tr>\n",
       "      <th>35</th>\n",
       "      <td>1098006</td>\n",
       "      <td>The Complete Presentation and Public Speaking/...</td>\n",
       "      <td>/course/the-complete-presentation-and-public-s...</td>\n",
       "      <td>True</td>\n",
       "      <td>158654</td>\n",
       "      <td>4.46745</td>\n",
       "      <td>4.44446</td>\n",
       "      <td>4.44446</td>\n",
       "      <td>10288</td>\n",
       "      <td>False</td>\n",
       "      <td>206</td>\n",
       "      <td>0</td>\n",
       "      <td>2017-01-31T21:07:05Z</td>\n",
       "      <td>2017-05-02T05:34:33Z</td>\n",
       "      <td>540.0</td>\n",
       "      <td>INR</td>\n",
       "      <td>₹540</td>\n",
       "      <td>10240.0</td>\n",
       "      <td>INR</td>\n",
       "      <td>₹10,240</td>\n",
       "    </tr>\n",
       "  </tbody>\n",
       "</table>\n",
       "</div>"
      ],
      "text/plain": [
       "         id                                              title  \\\n",
       "0    762616  The Complete SQL Bootcamp 2020: Go from Zero t...   \n",
       "1    937678  Tableau 2020 A-Z: Hands-On Tableau Training fo...   \n",
       "2   1361790             PMP Exam Prep Seminar -  PMBOK Guide 6   \n",
       "3    648826         The Complete Financial Analyst Course 2020   \n",
       "4    637930  An Entire MBA in 1 Course:Award Winning Busine...   \n",
       "5   1208634  Microsoft Power BI - A Complete Introduction [...   \n",
       "7    321410  Beginner to Pro in Excel: Financial Modeling a...   \n",
       "8    673654  Become a Product Manager | Learn the Skills & ...   \n",
       "9   1653432      The Business Intelligence Analyst Course 2020   \n",
       "15  1202988  The Complete Financial Analyst Training & Inve...   \n",
       "16   996228  The Ultimate Hands-On Hadoop - Tame your Big D...   \n",
       "19   980086  Deep Learning Prerequisites: The Numpy Stack i...   \n",
       "22   888716  Introduction to Finance, Accounting, Modeling ...   \n",
       "26   196152  Writing With Flair: How To Become An Exception...   \n",
       "35  1098006  The Complete Presentation and Public Speaking/...   \n",
       "\n",
       "                                                  url  is_paid  \\\n",
       "0                  /course/the-complete-sql-bootcamp/     True   \n",
       "1                                  /course/tableau10/     True   \n",
       "2                         /course/pmp-pmbok6-35-pdus/     True   \n",
       "3      /course/the-complete-financial-analyst-course/     True   \n",
       "4   /course/an-entire-mba-in-1-courseaward-winning...     True   \n",
       "5              /course/powerbi-complete-introduction/     True   \n",
       "7   /course/beginner-to-pro-in-excel-financial-mod...     True   \n",
       "8   /course/become-a-product-manager-learn-the-ski...     True   \n",
       "9   /course/the-business-intelligence-analyst-cour...     True   \n",
       "15  /course/the-complete-financial-analyst-trainin...     True   \n",
       "16  /course/the-ultimate-hands-on-hadoop-tame-your...     True   \n",
       "19  /course/deep-learning-prerequisites-the-numpy-...     True   \n",
       "22  /course/introduction-to-accounting-finance-mod...     True   \n",
       "26  /course/writing-with-flair-how-to-become-an-ex...     True   \n",
       "35  /course/the-complete-presentation-and-public-s...     True   \n",
       "\n",
       "    num_subscribers  avg_rating  avg_rating_recent   rating  num_reviews  \\\n",
       "0            295509     4.66019            4.67874  4.67874        78006   \n",
       "1            209070     4.58956            4.60015  4.60015        54581   \n",
       "2            155282     4.59491            4.59326  4.59326        52653   \n",
       "3            245860     4.54407            4.53772  4.53772        46447   \n",
       "4            374836     4.47080            4.47173  4.47173        41630   \n",
       "5            124180     4.56228            4.57676  4.57676        38093   \n",
       "7            127680     4.54034            4.53346  4.53346        28665   \n",
       "8            112572     4.50386            4.50080  4.50080        27408   \n",
       "9            115269     4.50067            4.49575  4.49575        23906   \n",
       "15           182002     4.49571            4.49507  4.49507        21421   \n",
       "16           114945     4.51251            4.52998  4.52998        21394   \n",
       "19           239309     4.47381            4.54005  4.54005        18322   \n",
       "22           140676     4.47580            4.46916  4.46916        17013   \n",
       "26           102727     4.55248            4.56591  4.56591        12478   \n",
       "35           158654     4.46745            4.44446  4.44446        10288   \n",
       "\n",
       "    is_wishlisted  num_published_lectures  num_published_practice_tests  \\\n",
       "0           False                      84                             0   \n",
       "1           False                      78                             0   \n",
       "2           False                     292                             2   \n",
       "3           False                     338                             0   \n",
       "4           False                      83                             0   \n",
       "5           False                     275                             0   \n",
       "7           False                     275                             0   \n",
       "8           False                     144                             0   \n",
       "9           False                     413                             0   \n",
       "15          False                     225                             0   \n",
       "16          False                     101                             0   \n",
       "19          False                      47                             0   \n",
       "22          False                      61                             0   \n",
       "26          False                      78                             0   \n",
       "35          False                     206                             0   \n",
       "\n",
       "                 created        published_time  discount_price__amount  \\\n",
       "0   2016-02-14T22:57:48Z  2016-04-06T05:16:11Z                   455.0   \n",
       "1   2016-08-22T12:10:18Z  2016-08-23T16:59:49Z                   455.0   \n",
       "2   2017-09-26T16:32:48Z  2017-11-14T23:58:14Z                   455.0   \n",
       "3   2015-10-23T13:34:35Z  2016-01-21T01:38:48Z                   455.0   \n",
       "4   2015-10-12T06:39:46Z  2016-01-11T21:39:33Z                   455.0   \n",
       "5   2017-05-08T13:03:21Z  2017-05-15T18:48:54Z                   455.0   \n",
       "7   2014-10-17T08:39:52Z  2014-11-25T23:00:40Z                   455.0   \n",
       "8   2015-11-18T19:35:12Z  2016-03-17T17:04:59Z                   455.0   \n",
       "9   2018-04-19T07:00:09Z  2018-04-25T18:40:55Z                   455.0   \n",
       "15  2017-05-03T17:04:31Z  2017-08-17T17:53:15Z                   455.0   \n",
       "16  2016-10-27T21:39:22Z  2017-02-23T18:42:20Z                   455.0   \n",
       "19  2016-10-10T06:34:58Z  2016-10-12T16:51:08Z                   455.0   \n",
       "22  2016-06-26T14:37:28Z  2016-06-28T06:12:23Z                   500.0   \n",
       "26  2014-04-09T07:34:01Z  2014-04-30T02:11:11Z                   455.0   \n",
       "35  2017-01-31T21:07:05Z  2017-05-02T05:34:33Z                   540.0   \n",
       "\n",
       "   discount_price__currency discount_price__price_string  \\\n",
       "0                       INR                         ₹455   \n",
       "1                       INR                         ₹455   \n",
       "2                       INR                         ₹455   \n",
       "3                       INR                         ₹455   \n",
       "4                       INR                         ₹455   \n",
       "5                       INR                         ₹455   \n",
       "7                       INR                         ₹455   \n",
       "8                       INR                         ₹455   \n",
       "9                       INR                         ₹455   \n",
       "15                      INR                         ₹455   \n",
       "16                      INR                         ₹455   \n",
       "19                      INR                         ₹455   \n",
       "22                      INR                         ₹500   \n",
       "26                      INR                         ₹455   \n",
       "35                      INR                         ₹540   \n",
       "\n",
       "    price_detail__amount price_detail__currency price_detail__price_string  \n",
       "0                 8640.0                    INR                     ₹8,640  \n",
       "1                 8640.0                    INR                     ₹8,640  \n",
       "2                 8640.0                    INR                     ₹8,640  \n",
       "3                 8640.0                    INR                     ₹8,640  \n",
       "4                 8640.0                    INR                     ₹8,640  \n",
       "5                 8640.0                    INR                     ₹8,640  \n",
       "7                 8640.0                    INR                     ₹8,640  \n",
       "8                 8640.0                    INR                     ₹8,640  \n",
       "9                 8640.0                    INR                     ₹8,640  \n",
       "15                8640.0                    INR                     ₹8,640  \n",
       "16                8640.0                    INR                     ₹8,640  \n",
       "19                1280.0                    INR                     ₹1,280  \n",
       "22                9280.0                    INR                     ₹9,280  \n",
       "26                8640.0                    INR                     ₹8,640  \n",
       "35               10240.0                    INR                    ₹10,240  "
      ]
     },
     "execution_count": 15,
     "metadata": {},
     "output_type": "execute_result"
    }
   ],
   "source": [
    "data.query('num_subscribers > 100000')"
   ]
  },
  {
   "cell_type": "markdown",
   "id": "fc46cebd",
   "metadata": {
    "papermill": {
     "duration": 0.021489,
     "end_time": "2022-06-01T15:29:16.513621",
     "exception": false,
     "start_time": "2022-06-01T15:29:16.492132",
     "status": "completed"
    },
    "tags": []
   },
   "source": [
    "#### Avaliando o número de inscritos, fica evidente que existe um descompasso nos cursos. Alguns com quantidades imensas de inscritos e outros com quantidades significativamente menores. É o mesmo tipo de problema na distribuição encontrado no número de aulas. Esse tipo de distribuição deve ser encontrada em outras variáveis e serão trabalhadas com uma transformação logarítmica para normalizar as distribuições."
   ]
  },
  {
   "cell_type": "markdown",
   "id": "b0f88e25",
   "metadata": {
    "papermill": {
     "duration": 0.021579,
     "end_time": "2022-06-01T15:29:16.557104",
     "exception": false,
     "start_time": "2022-06-01T15:29:16.535525",
     "status": "completed"
    },
    "tags": []
   },
   "source": [
    "#### Segue-se, portanto, com a visualização de outras variáveis relevantes na amostra."
   ]
  },
  {
   "cell_type": "code",
   "execution_count": 16,
   "id": "7233934a",
   "metadata": {
    "execution": {
     "iopub.execute_input": "2022-06-01T15:29:16.604085Z",
     "iopub.status.busy": "2022-06-01T15:29:16.601990Z",
     "iopub.status.idle": "2022-06-01T15:29:16.844013Z",
     "shell.execute_reply": "2022-06-01T15:29:16.843100Z"
    },
    "papermill": {
     "duration": 0.266812,
     "end_time": "2022-06-01T15:29:16.845920",
     "exception": false,
     "start_time": "2022-06-01T15:29:16.579108",
     "status": "completed"
    },
    "tags": []
   },
   "outputs": [
    {
     "name": "stderr",
     "output_type": "stream",
     "text": [
      "/opt/conda/lib/python3.7/site-packages/seaborn/distributions.py:2619: FutureWarning: `distplot` is a deprecated function and will be removed in a future version. Please adapt your code to use either `displot` (a figure-level function with similar flexibility) or `histplot` (an axes-level function for histograms).\n",
      "  warnings.warn(msg, FutureWarning)\n"
     ]
    },
    {
     "data": {
      "text/plain": [
       "<AxesSubplot:title={'center':'Frequencia da nota média'}, xlabel='Nota média', ylabel='Frequencia'>"
      ]
     },
     "execution_count": 16,
     "metadata": {},
     "output_type": "execute_result"
    },
    {
     "data": {
      "image/png": "[encoded data removed]",
      "text/plain": [
       "<Figure size 432x288 with 1 Axes>"
      ]
     },
     "metadata": {},
     "output_type": "display_data"
    }
   ],
   "source": [
    "ax = sns.distplot(data['avg_rating'], kde=False, norm_hist=False)\n",
    "ax.set_title('Frequencia da nota média')\n",
    "ax.set(xlabel='Nota média', ylabel='Frequencia')\n",
    "ax"
   ]
  },
  {
   "cell_type": "code",
   "execution_count": 17,
   "id": "ecf20e6a",
   "metadata": {
    "execution": {
     "iopub.execute_input": "2022-06-01T15:29:16.891978Z",
     "iopub.status.busy": "2022-06-01T15:29:16.891626Z",
     "iopub.status.idle": "2022-06-01T15:29:16.991177Z",
     "shell.execute_reply": "2022-06-01T15:29:16.990386Z"
    },
    "papermill": {
     "duration": 0.124449,
     "end_time": "2022-06-01T15:29:16.992708",
     "exception": false,
     "start_time": "2022-06-01T15:29:16.868259",
     "status": "completed"
    },
    "tags": []
   },
   "outputs": [
    {
     "name": "stderr",
     "output_type": "stream",
     "text": [
      "/opt/conda/lib/python3.7/site-packages/seaborn/_decorators.py:43: FutureWarning: Pass the following variable as a keyword arg: x. From version 0.12, the only valid positional argument will be `data`, and passing other arguments without an explicit keyword will result in an error or misinterpretation.\n",
      "  FutureWarning\n"
     ]
    },
    {
     "data": {
      "text/plain": [
       "<AxesSubplot:title={'center':'Nota Média'}, xlabel='avg_rating'>"
      ]
     },
     "execution_count": 17,
     "metadata": {},
     "output_type": "execute_result"
    },
    {
     "data": {
      "image/png": "[encoded data removed]",
      "text/plain": [
       "<Figure size 432x288 with 1 Axes>"
      ]
     },
     "metadata": {},
     "output_type": "display_data"
    }
   ],
   "source": [
    "ax = sns.boxplot(data['avg_rating'])\n",
    "ax.set_title('Nota Média')\n",
    "ax"
   ]
  },
  {
   "cell_type": "markdown",
   "id": "caaa77ca",
   "metadata": {
    "papermill": {
     "duration": 0.014412,
     "end_time": "2022-06-01T15:29:17.022011",
     "exception": false,
     "start_time": "2022-06-01T15:29:17.007599",
     "status": "completed"
    },
    "tags": []
   },
   "source": [
    "#### A nota média tem uma distribuição que tende para a direita, como é esperado do comportamento de avaliação de serviços, em que as pessoas tendem a dar notas mais altas. Há uma nota que parece ser 1 que merece ser investigada."
   ]
  },
  {
   "cell_type": "code",
   "execution_count": 18,
   "id": "7f2f01f0",
   "metadata": {
    "execution": {
     "iopub.execute_input": "2022-06-01T15:29:17.053604Z",
     "iopub.status.busy": "2022-06-01T15:29:17.052843Z",
     "iopub.status.idle": "2022-06-01T15:29:17.075715Z",
     "shell.execute_reply": "2022-06-01T15:29:17.074319Z"
    },
    "papermill": {
     "duration": 0.040357,
     "end_time": "2022-06-01T15:29:17.077282",
     "exception": false,
     "start_time": "2022-06-01T15:29:17.036925",
     "status": "completed"
    },
    "tags": []
   },
   "outputs": [
    {
     "data": {
      "text/html": [
       "<div>\n",
       "<style scoped>\n",
       "    .dataframe tbody tr th:only-of-type {\n",
       "        vertical-align: middle;\n",
       "    }\n",
       "\n",
       "    .dataframe tbody tr th {\n",
       "        vertical-align: top;\n",
       "    }\n",
       "\n",
       "    .dataframe thead th {\n",
       "        text-align: right;\n",
       "    }\n",
       "</style>\n",
       "<table border=\"1\" class=\"dataframe\">\n",
       "  <thead>\n",
       "    <tr style=\"text-align: right;\">\n",
       "      <th></th>\n",
       "      <th>id</th>\n",
       "      <th>title</th>\n",
       "      <th>url</th>\n",
       "      <th>is_paid</th>\n",
       "      <th>num_subscribers</th>\n",
       "      <th>avg_rating</th>\n",
       "      <th>avg_rating_recent</th>\n",
       "      <th>rating</th>\n",
       "      <th>num_reviews</th>\n",
       "      <th>is_wishlisted</th>\n",
       "      <th>num_published_lectures</th>\n",
       "      <th>num_published_practice_tests</th>\n",
       "      <th>created</th>\n",
       "      <th>published_time</th>\n",
       "      <th>discount_price__amount</th>\n",
       "      <th>discount_price__currency</th>\n",
       "      <th>discount_price__price_string</th>\n",
       "      <th>price_detail__amount</th>\n",
       "      <th>price_detail__currency</th>\n",
       "      <th>price_detail__price_string</th>\n",
       "    </tr>\n",
       "  </thead>\n",
       "  <tbody>\n",
       "    <tr>\n",
       "      <th>9374</th>\n",
       "      <td>2188386</td>\n",
       "      <td>Excel based Solar Plant Financial Modelling Co...</td>\n",
       "      <td>/course/online-solar-financial-modelling-course/</td>\n",
       "      <td>True</td>\n",
       "      <td>11</td>\n",
       "      <td>1.0</td>\n",
       "      <td>1.0</td>\n",
       "      <td>1.0</td>\n",
       "      <td>3</td>\n",
       "      <td>False</td>\n",
       "      <td>20</td>\n",
       "      <td>0</td>\n",
       "      <td>2019-01-31T09:32:14Z</td>\n",
       "      <td>2019-05-02T02:12:22Z</td>\n",
       "      <td>1200.0</td>\n",
       "      <td>INR</td>\n",
       "      <td>₹1,200</td>\n",
       "      <td>4800.0</td>\n",
       "      <td>INR</td>\n",
       "      <td>₹4,800</td>\n",
       "    </tr>\n",
       "  </tbody>\n",
       "</table>\n",
       "</div>"
      ],
      "text/plain": [
       "           id                                              title  \\\n",
       "9374  2188386  Excel based Solar Plant Financial Modelling Co...   \n",
       "\n",
       "                                                   url  is_paid  \\\n",
       "9374  /course/online-solar-financial-modelling-course/     True   \n",
       "\n",
       "      num_subscribers  avg_rating  avg_rating_recent  rating  num_reviews  \\\n",
       "9374               11         1.0                1.0     1.0            3   \n",
       "\n",
       "      is_wishlisted  num_published_lectures  num_published_practice_tests  \\\n",
       "9374          False                      20                             0   \n",
       "\n",
       "                   created        published_time  discount_price__amount  \\\n",
       "9374  2019-01-31T09:32:14Z  2019-05-02T02:12:22Z                  1200.0   \n",
       "\n",
       "     discount_price__currency discount_price__price_string  \\\n",
       "9374                      INR                       ₹1,200   \n",
       "\n",
       "      price_detail__amount price_detail__currency price_detail__price_string  \n",
       "9374                4800.0                    INR                     ₹4,800  "
      ]
     },
     "execution_count": 18,
     "metadata": {},
     "output_type": "execute_result"
    }
   ],
   "source": [
    "data.query('avg_rating == 1')"
   ]
  },
  {
   "cell_type": "markdown",
   "id": "076a0c5e",
   "metadata": {
    "papermill": {
     "duration": 0.014555,
     "end_time": "2022-06-01T15:29:17.106731",
     "exception": false,
     "start_time": "2022-06-01T15:29:17.092176",
     "status": "completed"
    },
    "tags": []
   },
   "source": [
    "#### O curso teve poucos inscritos, poucos avaliadores e uma nota baixa, o que é aceitável com somente 3 avaliadores. \n",
    "\n",
    "#### Como tratado anteriormente, cursos com poucos inscritos parecem fazer parte de cursos muito segmentados, sendo esse um extremo. Não parece ser o caso de um dado mal inscrito, mas de um curso péssimamente avaliado e com poucos alunos. Para a análise, é válido seguir com ele, pois ele representa um caso de falha que deve ser avaliado."
   ]
  },
  {
   "cell_type": "markdown",
   "id": "ad392e79",
   "metadata": {
    "papermill": {
     "duration": 0.014931,
     "end_time": "2022-06-01T15:29:17.136585",
     "exception": false,
     "start_time": "2022-06-01T15:29:17.121654",
     "status": "completed"
    },
    "tags": []
   },
   "source": [
    "#### retirando valores com na, pois eles não poderão ser avaliados."
   ]
  },
  {
   "cell_type": "markdown",
   "id": "dd7e64ed",
   "metadata": {
    "execution": {
     "iopub.execute_input": "2022-05-31T20:11:51.867937Z",
     "iopub.status.busy": "2022-05-31T20:11:51.867492Z",
     "iopub.status.idle": "2022-05-31T20:11:51.889418Z",
     "shell.execute_reply": "2022-05-31T20:11:51.888451Z",
     "shell.execute_reply.started": "2022-05-31T20:11:51.867902Z"
    },
    "papermill": {
     "duration": 0.014547,
     "end_time": "2022-06-01T15:29:17.165972",
     "exception": false,
     "start_time": "2022-06-01T15:29:17.151425",
     "status": "completed"
    },
    "tags": []
   },
   "source": [
    "#### O mínimo do desconto não é zero, portanto os NA são, certamente, a ausência de desconto.\n",
    "#### Dessa forma, é válido transoformar o NA em 0 para seguir o estudo. "
   ]
  },
  {
   "cell_type": "code",
   "execution_count": 19,
   "id": "10e2446a",
   "metadata": {
    "execution": {
     "iopub.execute_input": "2022-06-01T15:29:17.197385Z",
     "iopub.status.busy": "2022-06-01T15:29:17.196821Z",
     "iopub.status.idle": "2022-06-01T15:29:17.202595Z",
     "shell.execute_reply": "2022-06-01T15:29:17.202062Z"
    },
    "papermill": {
     "duration": 0.023338,
     "end_time": "2022-06-01T15:29:17.204002",
     "exception": false,
     "start_time": "2022-06-01T15:29:17.180664",
     "status": "completed"
    },
    "tags": []
   },
   "outputs": [
    {
     "data": {
      "text/plain": [
       "506"
      ]
     },
     "execution_count": 19,
     "metadata": {},
     "output_type": "execute_result"
    }
   ],
   "source": [
    "#Desconfiando de que existam na no desconto em cursos sem desconto, é melhor verificar.\n",
    "data['discount_price__amount'].isna().sum()"
   ]
  },
  {
   "cell_type": "code",
   "execution_count": 20,
   "id": "ca996e4e",
   "metadata": {
    "execution": {
     "iopub.execute_input": "2022-06-01T15:29:17.236624Z",
     "iopub.status.busy": "2022-06-01T15:29:17.235784Z",
     "iopub.status.idle": "2022-06-01T15:29:17.243367Z",
     "shell.execute_reply": "2022-06-01T15:29:17.242571Z"
    },
    "papermill": {
     "duration": 0.026214,
     "end_time": "2022-06-01T15:29:17.245087",
     "exception": false,
     "start_time": "2022-06-01T15:29:17.218873",
     "status": "completed"
    },
    "tags": []
   },
   "outputs": [
    {
     "data": {
      "text/plain": [
       "0"
      ]
     },
     "execution_count": 20,
     "metadata": {},
     "output_type": "execute_result"
    }
   ],
   "source": [
    "data['discount_price__amount'] = data['discount_price__amount'].fillna(0)\n",
    "data['discount_price__amount'].isna().sum()"
   ]
  },
  {
   "cell_type": "code",
   "execution_count": 21,
   "id": "de000b2f",
   "metadata": {
    "execution": {
     "iopub.execute_input": "2022-06-01T15:29:17.294245Z",
     "iopub.status.busy": "2022-06-01T15:29:17.293689Z",
     "iopub.status.idle": "2022-06-01T15:29:17.543951Z",
     "shell.execute_reply": "2022-06-01T15:29:17.543047Z"
    },
    "papermill": {
     "duration": 0.276718,
     "end_time": "2022-06-01T15:29:17.545580",
     "exception": false,
     "start_time": "2022-06-01T15:29:17.268862",
     "status": "completed"
    },
    "tags": []
   },
   "outputs": [
    {
     "name": "stderr",
     "output_type": "stream",
     "text": [
      "/opt/conda/lib/python3.7/site-packages/seaborn/distributions.py:2619: FutureWarning: `distplot` is a deprecated function and will be removed in a future version. Please adapt your code to use either `displot` (a figure-level function with similar flexibility) or `histplot` (an axes-level function for histograms).\n",
      "  warnings.warn(msg, FutureWarning)\n"
     ]
    },
    {
     "data": {
      "text/plain": [
       "<AxesSubplot:title={'center':'Frequencia de desconto do curso'}, xlabel='Desconto', ylabel='Frequencia'>"
      ]
     },
     "execution_count": 21,
     "metadata": {},
     "output_type": "execute_result"
    },
    {
     "data": {
      "image/png": "[encoded data removed]",
      "text/plain": [
       "<Figure size 432x288 with 1 Axes>"
      ]
     },
     "metadata": {},
     "output_type": "display_data"
    }
   ],
   "source": [
    "ax = sns.distplot(data['discount_price__amount'], kde=False, norm_hist=False)\n",
    "ax.set_title('Frequencia de desconto do curso')\n",
    "ax.set(xlabel='Desconto', ylabel='Frequencia')\n",
    "ax"
   ]
  },
  {
   "cell_type": "code",
   "execution_count": 22,
   "id": "8dc858b4",
   "metadata": {
    "execution": {
     "iopub.execute_input": "2022-06-01T15:29:17.580558Z",
     "iopub.status.busy": "2022-06-01T15:29:17.580183Z",
     "iopub.status.idle": "2022-06-01T15:29:17.687481Z",
     "shell.execute_reply": "2022-06-01T15:29:17.686864Z"
    },
    "papermill": {
     "duration": 0.125613,
     "end_time": "2022-06-01T15:29:17.689200",
     "exception": false,
     "start_time": "2022-06-01T15:29:17.563587",
     "status": "completed"
    },
    "tags": []
   },
   "outputs": [
    {
     "name": "stderr",
     "output_type": "stream",
     "text": [
      "/opt/conda/lib/python3.7/site-packages/seaborn/_decorators.py:43: FutureWarning: Pass the following variable as a keyword arg: x. From version 0.12, the only valid positional argument will be `data`, and passing other arguments without an explicit keyword will result in an error or misinterpretation.\n",
      "  FutureWarning\n"
     ]
    },
    {
     "data": {
      "text/plain": [
       "<AxesSubplot:title={'center':'Nota Média'}, xlabel='discount_price__amount'>"
      ]
     },
     "execution_count": 22,
     "metadata": {},
     "output_type": "execute_result"
    },
    {
     "data": {
      "image/png": "[encoded data removed]",
      "text/plain": [
       "<Figure size 432x288 with 1 Axes>"
      ]
     },
     "metadata": {},
     "output_type": "display_data"
    }
   ],
   "source": [
    "ax = sns.boxplot(data['discount_price__amount'])\n",
    "ax.set_title('Nota Média')\n",
    "ax"
   ]
  },
  {
   "cell_type": "code",
   "execution_count": 23,
   "id": "874991c0",
   "metadata": {
    "execution": {
     "iopub.execute_input": "2022-06-01T15:29:17.735178Z",
     "iopub.status.busy": "2022-06-01T15:29:17.733978Z",
     "iopub.status.idle": "2022-06-01T15:29:17.879639Z",
     "shell.execute_reply": "2022-06-01T15:29:17.878839Z"
    },
    "papermill": {
     "duration": 0.171694,
     "end_time": "2022-06-01T15:29:17.882533",
     "exception": false,
     "start_time": "2022-06-01T15:29:17.710839",
     "status": "completed"
    },
    "tags": []
   },
   "outputs": [
    {
     "name": "stderr",
     "output_type": "stream",
     "text": [
      "/opt/conda/lib/python3.7/site-packages/seaborn/distributions.py:2619: FutureWarning: `distplot` is a deprecated function and will be removed in a future version. Please adapt your code to use either `displot` (a figure-level function with similar flexibility) or `histplot` (an axes-level function for histograms).\n",
      "  warnings.warn(msg, FutureWarning)\n"
     ]
    },
    {
     "data": {
      "text/plain": [
       "<AxesSubplot:title={'center':'Frequencia do custo do curso'}, xlabel='Custo', ylabel='Frequencia'>"
      ]
     },
     "execution_count": 23,
     "metadata": {},
     "output_type": "execute_result"
    },
    {
     "data": {
      "image/png": "[encoded data removed]",
      "text/plain": [
       "<Figure size 432x288 with 1 Axes>"
      ]
     },
     "metadata": {},
     "output_type": "display_data"
    }
   ],
   "source": [
    "ax = sns.distplot(data['price_detail__amount'], kde=False, norm_hist=False)\n",
    "ax.set_title('Frequencia do custo do curso')\n",
    "ax.set(xlabel='Custo', ylabel='Frequencia')\n",
    "ax"
   ]
  },
  {
   "cell_type": "code",
   "execution_count": 24,
   "id": "9ae85b60",
   "metadata": {
    "execution": {
     "iopub.execute_input": "2022-06-01T15:29:17.934466Z",
     "iopub.status.busy": "2022-06-01T15:29:17.933794Z",
     "iopub.status.idle": "2022-06-01T15:29:18.026088Z",
     "shell.execute_reply": "2022-06-01T15:29:18.025245Z"
    },
    "papermill": {
     "duration": 0.120958,
     "end_time": "2022-06-01T15:29:18.028920",
     "exception": false,
     "start_time": "2022-06-01T15:29:17.907962",
     "status": "completed"
    },
    "tags": []
   },
   "outputs": [
    {
     "name": "stderr",
     "output_type": "stream",
     "text": [
      "/opt/conda/lib/python3.7/site-packages/seaborn/_decorators.py:43: FutureWarning: Pass the following variable as a keyword arg: x. From version 0.12, the only valid positional argument will be `data`, and passing other arguments without an explicit keyword will result in an error or misinterpretation.\n",
      "  FutureWarning\n"
     ]
    },
    {
     "data": {
      "text/plain": [
       "<AxesSubplot:title={'center':'Custo'}, xlabel='price_detail__amount'>"
      ]
     },
     "execution_count": 24,
     "metadata": {},
     "output_type": "execute_result"
    },
    {
     "data": {
      "image/png": "[encoded data removed]",
      "text/plain": [
       "<Figure size 432x288 with 1 Axes>"
      ]
     },
     "metadata": {},
     "output_type": "display_data"
    }
   ],
   "source": [
    "ax = sns.boxplot(data['price_detail__amount'])\n",
    "ax.set_title('Custo')\n",
    "ax"
   ]
  },
  {
   "cell_type": "code",
   "execution_count": 25,
   "id": "bbad1cb4",
   "metadata": {
    "execution": {
     "iopub.execute_input": "2022-06-01T15:29:18.090752Z",
     "iopub.status.busy": "2022-06-01T15:29:18.090402Z",
     "iopub.status.idle": "2022-06-01T15:29:18.320083Z",
     "shell.execute_reply": "2022-06-01T15:29:18.319142Z"
    },
    "papermill": {
     "duration": 0.260874,
     "end_time": "2022-06-01T15:29:18.321479",
     "exception": false,
     "start_time": "2022-06-01T15:29:18.060605",
     "status": "completed"
    },
    "tags": []
   },
   "outputs": [
    {
     "name": "stderr",
     "output_type": "stream",
     "text": [
      "/opt/conda/lib/python3.7/site-packages/seaborn/distributions.py:2619: FutureWarning: `distplot` is a deprecated function and will be removed in a future version. Please adapt your code to use either `displot` (a figure-level function with similar flexibility) or `histplot` (an axes-level function for histograms).\n",
      "  warnings.warn(msg, FutureWarning)\n"
     ]
    },
    {
     "data": {
      "text/plain": [
       "<AxesSubplot:title={'center':'Frequencia de avaliações do curso'}, xlabel='Avaliações', ylabel='Frequencia'>"
      ]
     },
     "execution_count": 25,
     "metadata": {},
     "output_type": "execute_result"
    },
    {
     "data": {
      "image/png": "[encoded data removed]",
      "text/plain": [
       "<Figure size 432x288 with 1 Axes>"
      ]
     },
     "metadata": {},
     "output_type": "display_data"
    }
   ],
   "source": [
    "ax = sns.distplot(data['num_reviews'], kde=False, norm_hist=False)\n",
    "ax.set_title('Frequencia de avaliações do curso')\n",
    "ax.set(xlabel='Avaliações', ylabel='Frequencia')\n",
    "ax"
   ]
  },
  {
   "cell_type": "code",
   "execution_count": 26,
   "id": "7705e96b",
   "metadata": {
    "execution": {
     "iopub.execute_input": "2022-06-01T15:29:18.375844Z",
     "iopub.status.busy": "2022-06-01T15:29:18.374414Z",
     "iopub.status.idle": "2022-06-01T15:29:18.595085Z",
     "shell.execute_reply": "2022-06-01T15:29:18.594531Z"
    },
    "papermill": {
     "duration": 0.258687,
     "end_time": "2022-06-01T15:29:18.597014",
     "exception": false,
     "start_time": "2022-06-01T15:29:18.338327",
     "status": "completed"
    },
    "tags": []
   },
   "outputs": [
    {
     "name": "stderr",
     "output_type": "stream",
     "text": [
      "/opt/conda/lib/python3.7/site-packages/seaborn/_decorators.py:43: FutureWarning: Pass the following variable as a keyword arg: x. From version 0.12, the only valid positional argument will be `data`, and passing other arguments without an explicit keyword will result in an error or misinterpretation.\n",
      "  FutureWarning\n"
     ]
    },
    {
     "data": {
      "text/plain": [
       "<AxesSubplot:title={'center':'Número de avaliações'}, xlabel='num_reviews'>"
      ]
     },
     "execution_count": 26,
     "metadata": {},
     "output_type": "execute_result"
    },
    {
     "data": {
      "image/png": "[encoded data removed]",
      "text/plain": [
       "<Figure size 432x288 with 1 Axes>"
      ]
     },
     "metadata": {},
     "output_type": "display_data"
    }
   ],
   "source": [
    "ax = sns.boxplot(data['num_reviews'])\n",
    "ax.set_title('Número de avaliações')\n",
    "ax"
   ]
  },
  {
   "cell_type": "markdown",
   "id": "6b3132bb",
   "metadata": {
    "papermill": {
     "duration": 0.026466,
     "end_time": "2022-06-01T15:29:18.656256",
     "exception": false,
     "start_time": "2022-06-01T15:29:18.629790",
     "status": "completed"
    },
    "tags": []
   },
   "source": [
    "#### A transgformação logarítmica será necessária para normalizar a distribuição das amostras."
   ]
  },
  {
   "cell_type": "code",
   "execution_count": 27,
   "id": "2de7e687",
   "metadata": {
    "execution": {
     "iopub.execute_input": "2022-06-01T15:29:18.710836Z",
     "iopub.status.busy": "2022-06-01T15:29:18.710421Z",
     "iopub.status.idle": "2022-06-01T15:29:18.718131Z",
     "shell.execute_reply": "2022-06-01T15:29:18.717627Z"
    },
    "papermill": {
     "duration": 0.037638,
     "end_time": "2022-06-01T15:29:18.720419",
     "exception": false,
     "start_time": "2022-06-01T15:29:18.682781",
     "status": "completed"
    },
    "tags": []
   },
   "outputs": [],
   "source": [
    "data['log_inscritos'] = np.log(data['num_subscribers'])\n",
    "data['log_avaliacao_media'] = np.log(data['avg_rating'])\n",
    "data['log_desconto'] = np.log(data['discount_price__amount']+1)\n",
    "data['log_valor'] = np.log(data['price_detail__amount'])\n",
    "data['log_aulas_publicadas'] = np.log(data['num_published_lectures'])\n",
    "data['log_n_avaliacoes'] = np.log(data['num_reviews'])\n"
   ]
  },
  {
   "cell_type": "code",
   "execution_count": 28,
   "id": "c83e8b9a",
   "metadata": {
    "execution": {
     "iopub.execute_input": "2022-06-01T15:29:18.775730Z",
     "iopub.status.busy": "2022-06-01T15:29:18.775365Z",
     "iopub.status.idle": "2022-06-01T15:29:25.302470Z",
     "shell.execute_reply": "2022-06-01T15:29:25.300984Z"
    },
    "papermill": {
     "duration": 6.556977,
     "end_time": "2022-06-01T15:29:25.303989",
     "exception": false,
     "start_time": "2022-06-01T15:29:18.747012",
     "status": "completed"
    },
    "tags": []
   },
   "outputs": [
    {
     "data": {
      "text/plain": [
       "<seaborn.axisgrid.PairGrid at 0x7fb6326414d0>"
      ]
     },
     "execution_count": 28,
     "metadata": {},
     "output_type": "execute_result"
    },
    {
     "data": {
      "image/png": "[encoded data removed]",
      "text/plain": [
       "<Figure size 1800x360 with 5 Axes>"
      ]
     },
     "metadata": {},
     "output_type": "display_data"
    }
   ],
   "source": [
    "ax = sns.pairplot(data, y_vars='log_inscritos', x_vars=['log_avaliacao_media','log_desconto','log_valor',\n",
    "                                              'log_aulas_publicadas','log_n_avaliacoes'], height=5, kind='reg')\n",
    "ax.fig.suptitle('Dispersão entre as Variáveis Transformadas', fontsize=20, y=1.05)\n",
    "ax"
   ]
  },
  {
   "cell_type": "markdown",
   "id": "b5a566bb",
   "metadata": {
    "papermill": {
     "duration": 0.019081,
     "end_time": "2022-06-01T15:29:25.342789",
     "exception": false,
     "start_time": "2022-06-01T15:29:25.323708",
     "status": "completed"
    },
    "tags": []
   },
   "source": [
    "#### Avaliação média segue com muito peso em um dos lados e não apresenta boa distribuição.\n",
    "#### Número de avaliações parece ser a variável mais eficiente. "
   ]
  },
  {
   "cell_type": "code",
   "execution_count": 29,
   "id": "2fadf95f",
   "metadata": {
    "execution": {
     "iopub.execute_input": "2022-06-01T15:29:25.383467Z",
     "iopub.status.busy": "2022-06-01T15:29:25.382839Z",
     "iopub.status.idle": "2022-06-01T15:29:25.565833Z",
     "shell.execute_reply": "2022-06-01T15:29:25.564802Z"
    },
    "papermill": {
     "duration": 0.206033,
     "end_time": "2022-06-01T15:29:25.568157",
     "exception": false,
     "start_time": "2022-06-01T15:29:25.362124",
     "status": "completed"
    },
    "tags": []
   },
   "outputs": [],
   "source": [
    "from sklearn.model_selection import train_test_split"
   ]
  },
  {
   "cell_type": "code",
   "execution_count": 30,
   "id": "d3ca5b38",
   "metadata": {
    "execution": {
     "iopub.execute_input": "2022-06-01T15:29:25.628083Z",
     "iopub.status.busy": "2022-06-01T15:29:25.627741Z",
     "iopub.status.idle": "2022-06-01T15:29:25.632790Z",
     "shell.execute_reply": "2022-06-01T15:29:25.632041Z"
    },
    "papermill": {
     "duration": 0.036999,
     "end_time": "2022-06-01T15:29:25.634562",
     "exception": false,
     "start_time": "2022-06-01T15:29:25.597563",
     "status": "completed"
    },
    "tags": []
   },
   "outputs": [],
   "source": [
    "y = data['log_inscritos']\n",
    "X = data[['log_avaliacao_media','log_desconto','log_valor',\n",
    "                                              'log_aulas_publicadas','log_n_avaliacoes']]"
   ]
  },
  {
   "cell_type": "code",
   "execution_count": 31,
   "id": "7ce8fe2e",
   "metadata": {
    "execution": {
     "iopub.execute_input": "2022-06-01T15:29:25.694195Z",
     "iopub.status.busy": "2022-06-01T15:29:25.693601Z",
     "iopub.status.idle": "2022-06-01T15:29:25.699913Z",
     "shell.execute_reply": "2022-06-01T15:29:25.699290Z"
    },
    "papermill": {
     "duration": 0.038739,
     "end_time": "2022-06-01T15:29:25.701977",
     "exception": false,
     "start_time": "2022-06-01T15:29:25.663238",
     "status": "completed"
    },
    "tags": []
   },
   "outputs": [],
   "source": [
    "#Dividindo os dados em treino e teste\n",
    "X_train, X_test, y_train, y_test = train_test_split(X, y, test_size = 0.2)"
   ]
  },
  {
   "cell_type": "code",
   "execution_count": 32,
   "id": "8151c680",
   "metadata": {
    "execution": {
     "iopub.execute_input": "2022-06-01T15:29:25.761886Z",
     "iopub.status.busy": "2022-06-01T15:29:25.761310Z",
     "iopub.status.idle": "2022-06-01T15:29:26.450106Z",
     "shell.execute_reply": "2022-06-01T15:29:26.449472Z"
    },
    "papermill": {
     "duration": 0.720447,
     "end_time": "2022-06-01T15:29:26.451892",
     "exception": false,
     "start_time": "2022-06-01T15:29:25.731445",
     "status": "completed"
    },
    "tags": []
   },
   "outputs": [],
   "source": [
    "#A constante vai ser adicionada no treino para testar o treino com OLS\n",
    "import statsmodels.api as sm\n",
    "X_train_com_constante = sm.add_constant(X_train)"
   ]
  },
  {
   "cell_type": "code",
   "execution_count": 33,
   "id": "ea5100a8",
   "metadata": {
    "execution": {
     "iopub.execute_input": "2022-06-01T15:29:26.492596Z",
     "iopub.status.busy": "2022-06-01T15:29:26.492267Z",
     "iopub.status.idle": "2022-06-01T15:29:26.501061Z",
     "shell.execute_reply": "2022-06-01T15:29:26.500392Z"
    },
    "papermill": {
     "duration": 0.032068,
     "end_time": "2022-06-01T15:29:26.503737",
     "exception": false,
     "start_time": "2022-06-01T15:29:26.471669",
     "status": "completed"
    },
    "tags": []
   },
   "outputs": [],
   "source": [
    "modelo_stats_models = sm.OLS(y_train, X_train_com_constante, hasconst = True).fit()"
   ]
  },
  {
   "cell_type": "code",
   "execution_count": 34,
   "id": "1009a6b4",
   "metadata": {
    "execution": {
     "iopub.execute_input": "2022-06-01T15:29:26.577706Z",
     "iopub.status.busy": "2022-06-01T15:29:26.577311Z",
     "iopub.status.idle": "2022-06-01T15:29:26.597777Z",
     "shell.execute_reply": "2022-06-01T15:29:26.596384Z"
    },
    "papermill": {
     "duration": 0.060942,
     "end_time": "2022-06-01T15:29:26.601195",
     "exception": false,
     "start_time": "2022-06-01T15:29:26.540253",
     "status": "completed"
    },
    "tags": []
   },
   "outputs": [
    {
     "name": "stdout",
     "output_type": "stream",
     "text": [
      "                            OLS Regression Results                            \n",
      "==============================================================================\n",
      "Dep. Variable:          log_inscritos   R-squared:                       0.505\n",
      "Model:                            OLS   Adj. R-squared:                  0.504\n",
      "Method:                 Least Squares   F-statistic:                     1508.\n",
      "Date:                Wed, 01 Jun 2022   Prob (F-statistic):               0.00\n",
      "Time:                        15:29:26   Log-Likelihood:                -13077.\n",
      "No. Observations:                7410   AIC:                         2.617e+04\n",
      "Df Residuals:                    7404   BIC:                         2.621e+04\n",
      "Df Model:                           5                                         \n",
      "Covariance Type:            nonrobust                                         \n",
      "========================================================================================\n",
      "                           coef    std err          t      P>|t|      [0.025      0.975]\n",
      "----------------------------------------------------------------------------------------\n",
      "const                    4.9238      0.265     18.580      0.000       4.404       5.443\n",
      "log_avaliacao_media     -1.8611      0.141    -13.198      0.000      -2.138      -1.585\n",
      "log_desconto             0.0915      0.011      8.003      0.000       0.069       0.114\n",
      "log_valor                0.0183      0.023      0.800      0.423      -0.026       0.063\n",
      "log_aulas_publicadas     0.1591      0.023      7.033      0.000       0.115       0.203\n",
      "log_n_avaliacoes         0.8163      0.010     77.955      0.000       0.796       0.837\n",
      "==============================================================================\n",
      "Omnibus:                      841.884   Durbin-Watson:                   2.011\n",
      "Prob(Omnibus):                  0.000   Jarque-Bera (JB):              374.401\n",
      "Skew:                           0.368   Prob(JB):                     5.01e-82\n",
      "Kurtosis:                       2.181   Cond. No.                         198.\n",
      "==============================================================================\n",
      "\n",
      "Notes:\n",
      "[1] Standard Errors assume that the covariance matrix of the errors is correctly specified.\n"
     ]
    }
   ],
   "source": [
    "print(modelo_stats_models.summary())"
   ]
  },
  {
   "cell_type": "markdown",
   "id": "4b53a1f6",
   "metadata": {
    "papermill": {
     "duration": 0.035557,
     "end_time": "2022-06-01T15:29:26.673273",
     "exception": false,
     "start_time": "2022-06-01T15:29:26.637716",
     "status": "completed"
    },
    "tags": []
   },
   "source": [
    "#### O modelo saiu com uma probabilidade F abaixo de 0.00, o que indica significância, o Rquadrado de 0.5 é aceitável, porém baixo. \n",
    "\n",
    "#### Pela análise t, o valor não parece exibir efeito significativo, mas a média de avaliações, aulas publicadas e número de avialiações aparecem correlação. Sendo uma correlação negativa com avaliação média e positiva com os outros. O maior efeito foi em número de avaliações.\n",
    "\n",
    "#### O modelo revela que um maior número de avaliações está fortemente correlacionado com o número de inscritos em um curso, o que é imaginável desde o início, pois é uma correlação de cursos com mais inscritos e mais avaliados. Como resultados interessantes tem-se:\n",
    "#### Cursos com mais aulas potencialmente atraem mais alunos.\n",
    "#### Descontos maiores atraem mais alunos.\n",
    "#### Cursos com mais alunos tendem a ter avaliações piores."
   ]
  },
  {
   "cell_type": "markdown",
   "id": "76aa1374",
   "metadata": {
    "papermill": {
     "duration": 0.028767,
     "end_time": "2022-06-01T15:29:26.736392",
     "exception": false,
     "start_time": "2022-06-01T15:29:26.707625",
     "status": "completed"
    },
    "tags": []
   },
   "source": [
    "#### Vamos avaliar o ajuste com dados de treino no teste"
   ]
  },
  {
   "cell_type": "code",
   "execution_count": 35,
   "id": "1d5c1026",
   "metadata": {
    "execution": {
     "iopub.execute_input": "2022-06-01T15:29:26.795730Z",
     "iopub.status.busy": "2022-06-01T15:29:26.795395Z",
     "iopub.status.idle": "2022-06-01T15:29:26.868008Z",
     "shell.execute_reply": "2022-06-01T15:29:26.867479Z"
    },
    "papermill": {
     "duration": 0.104431,
     "end_time": "2022-06-01T15:29:26.870029",
     "exception": false,
     "start_time": "2022-06-01T15:29:26.765598",
     "status": "completed"
    },
    "tags": []
   },
   "outputs": [],
   "source": [
    "from sklearn.linear_model import LinearRegression\n",
    "from sklearn import metrics"
   ]
  },
  {
   "cell_type": "code",
   "execution_count": 36,
   "id": "3d886ae6",
   "metadata": {
    "execution": {
     "iopub.execute_input": "2022-06-01T15:29:26.929715Z",
     "iopub.status.busy": "2022-06-01T15:29:26.929320Z",
     "iopub.status.idle": "2022-06-01T15:29:26.950787Z",
     "shell.execute_reply": "2022-06-01T15:29:26.950357Z"
    },
    "papermill": {
     "duration": 0.053498,
     "end_time": "2022-06-01T15:29:26.952503",
     "exception": false,
     "start_time": "2022-06-01T15:29:26.899005",
     "status": "completed"
    },
    "tags": []
   },
   "outputs": [
    {
     "data": {
      "text/plain": [
       "LinearRegression()"
      ]
     },
     "execution_count": 36,
     "metadata": {},
     "output_type": "execute_result"
    }
   ],
   "source": [
    "modelo = LinearRegression()\n",
    "modelo.fit(X_train, y_train)"
   ]
  },
  {
   "cell_type": "code",
   "execution_count": 37,
   "id": "2f619e09",
   "metadata": {
    "execution": {
     "iopub.execute_input": "2022-06-01T15:29:27.012760Z",
     "iopub.status.busy": "2022-06-01T15:29:27.012297Z",
     "iopub.status.idle": "2022-06-01T15:29:27.018975Z",
     "shell.execute_reply": "2022-06-01T15:29:27.018455Z"
    },
    "papermill": {
     "duration": 0.038694,
     "end_time": "2022-06-01T15:29:27.020853",
     "exception": false,
     "start_time": "2022-06-01T15:29:26.982159",
     "status": "completed"
    },
    "tags": []
   },
   "outputs": [],
   "source": [
    "y_previsto = modelo.predict(X_test)"
   ]
  },
  {
   "cell_type": "code",
   "execution_count": 38,
   "id": "5bbe0872",
   "metadata": {
    "execution": {
     "iopub.execute_input": "2022-06-01T15:29:27.096030Z",
     "iopub.status.busy": "2022-06-01T15:29:27.095695Z",
     "iopub.status.idle": "2022-06-01T15:29:27.100046Z",
     "shell.execute_reply": "2022-06-01T15:29:27.099526Z"
    },
    "papermill": {
     "duration": 0.046578,
     "end_time": "2022-06-01T15:29:27.104566",
     "exception": false,
     "start_time": "2022-06-01T15:29:27.057988",
     "status": "completed"
    },
    "tags": []
   },
   "outputs": [
    {
     "name": "stdout",
     "output_type": "stream",
     "text": [
      "R² 0.4820617049566731\n"
     ]
    }
   ],
   "source": [
    "#O R² está muito parecido, como esperado, utilizando essa forma de testar.\n",
    "print('R² %s' % metrics.r2_score(y_test, y_previsto))"
   ]
  },
  {
   "cell_type": "code",
   "execution_count": 39,
   "id": "2dcb365e",
   "metadata": {
    "execution": {
     "iopub.execute_input": "2022-06-01T15:29:27.170779Z",
     "iopub.status.busy": "2022-06-01T15:29:27.170523Z",
     "iopub.status.idle": "2022-06-01T15:29:27.174993Z",
     "shell.execute_reply": "2022-06-01T15:29:27.174483Z"
    },
    "papermill": {
     "duration": 0.035978,
     "end_time": "2022-06-01T15:29:27.176755",
     "exception": false,
     "start_time": "2022-06-01T15:29:27.140777",
     "status": "completed"
    },
    "tags": []
   },
   "outputs": [],
   "source": [
    "#Vamos gerar as previsões para os dados de treino\n",
    "y_previsto_train = modelo.predict(X_train)"
   ]
  },
  {
   "cell_type": "code",
   "execution_count": 40,
   "id": "430e3853",
   "metadata": {
    "execution": {
     "iopub.execute_input": "2022-06-01T15:29:27.251507Z",
     "iopub.status.busy": "2022-06-01T15:29:27.250723Z",
     "iopub.status.idle": "2022-06-01T15:29:27.429851Z",
     "shell.execute_reply": "2022-06-01T15:29:27.429051Z"
    },
    "papermill": {
     "duration": 0.218467,
     "end_time": "2022-06-01T15:29:27.431788",
     "exception": false,
     "start_time": "2022-06-01T15:29:27.213321",
     "status": "completed"
    },
    "tags": []
   },
   "outputs": [
    {
     "data": {
      "text/plain": [
       "<AxesSubplot:title={'center':'Previsão vs Amostra'}, xlabel='Previsão', ylabel='Amostra'>"
      ]
     },
     "execution_count": 40,
     "metadata": {},
     "output_type": "execute_result"
    },
    {
     "data": {
      "image/png": "[encoded data removed]",
      "text/plain": [
       "<Figure size 864x432 with 1 Axes>"
      ]
     },
     "metadata": {},
     "output_type": "display_data"
    }
   ],
   "source": [
    "#Vamos criar um gráfico de dispersão utilizando o dado previsto usando o modelo e o dado de treino.\n",
    "ax = sns.scatterplot(x=y_previsto_train, y=y_train)\n",
    "ax.figure.set_size_inches(12, 6)\n",
    "ax.set_title('Previsão vs Amostra', fontsize=20)\n",
    "ax.set_xlabel('Previsão', fontsize=14)\n",
    "ax.set_ylabel('Amostra', fontsize=14)\n",
    "ax"
   ]
  },
  {
   "cell_type": "markdown",
   "id": "b1e152b7",
   "metadata": {
    "papermill": {
     "duration": 0.020912,
     "end_time": "2022-06-01T15:29:27.474314",
     "exception": false,
     "start_time": "2022-06-01T15:29:27.453402",
     "status": "completed"
    },
    "tags": []
   },
   "source": [
    "#### O modelo preditivo não é ideal, mas tende à linearidade. Um novo modelo pode ser interessante para comparar e tentar melhorar a preditividade. "
   ]
  },
  {
   "cell_type": "code",
   "execution_count": null,
   "id": "605bd5be",
   "metadata": {
    "papermill": {
     "duration": 0.020899,
     "end_time": "2022-06-01T15:29:27.516513",
     "exception": false,
     "start_time": "2022-06-01T15:29:27.495614",
     "status": "completed"
    },
    "tags": []
   },
   "outputs": [],
   "source": []
  }
 ],
 "metadata": {
  "kernelspec": {
   "display_name": "Python 3",
   "language": "python",
   "name": "python3"
  },
  "language_info": {
   "codemirror_mode": {
    "name": "ipython",
    "version": 3
   },
   "file_extension": ".py",
   "mimetype": "text/x-python",
   "name": "python",
   "nbconvert_exporter": "python",
   "pygments_lexer": "ipython3",
   "version": "3.7.12"
  },
  "papermill": {
   "default_parameters": {},
   "duration": 25.962099,
   "end_time": "2022-06-01T15:29:28.660095",
   "environment_variables": {},
   "exception": null,
   "input_path": "__notebook__.ipynb",
   "output_path": "__notebook__.ipynb",
   "parameters": {},
   "start_time": "2022-06-01T15:29:02.697996",
   "version": "2.3.4"
  }
 },
 "nbformat": 4,
 "nbformat_minor": 5
}

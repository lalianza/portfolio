{
 "cells": [
  {
   "cell_type": "code",
   "execution_count": 1,
   "id": "8a1971c8",
   "metadata": {
    "execution": {
     "iopub.execute_input": "2022-06-01T01:58:21.394365Z",
     "iopub.status.busy": "2022-06-01T01:58:21.393645Z",
     "iopub.status.idle": "2022-06-01T01:58:22.624992Z",
     "shell.execute_reply": "2022-06-01T01:58:22.624060Z"
    },
    "papermill": {
     "duration": 1.253852,
     "end_time": "2022-06-01T01:58:22.627464",
     "exception": false,
     "start_time": "2022-06-01T01:58:21.373612",
     "status": "completed"
    },
    "tags": []
   },
   "outputs": [],
   "source": [
    "import pandas as pd\n",
    "import seaborn as sns\n",
    "import numpy as np"
   ]
  },
  {
   "cell_type": "code",
   "execution_count": 2,
   "id": "86b644e0",
   "metadata": {
    "execution": {
     "iopub.execute_input": "2022-06-01T01:58:22.662136Z",
     "iopub.status.busy": "2022-06-01T01:58:22.661661Z",
     "iopub.status.idle": "2022-06-01T01:58:22.703115Z",
     "shell.execute_reply": "2022-06-01T01:58:22.702045Z"
    },
    "papermill": {
     "duration": 0.061946,
     "end_time": "2022-06-01T01:58:22.705903",
     "exception": false,
     "start_time": "2022-06-01T01:58:22.643957",
     "status": "completed"
    },
    "tags": []
   },
   "outputs": [
    {
     "data": {
      "text/html": [
       "<div>\n",
       "<style scoped>\n",
       "    .dataframe tbody tr th:only-of-type {\n",
       "        vertical-align: middle;\n",
       "    }\n",
       "\n",
       "    .dataframe tbody tr th {\n",
       "        vertical-align: top;\n",
       "    }\n",
       "\n",
       "    .dataframe thead th {\n",
       "        text-align: right;\n",
       "    }\n",
       "</style>\n",
       "<table border=\"1\" class=\"dataframe\">\n",
       "  <thead>\n",
       "    <tr style=\"text-align: right;\">\n",
       "      <th></th>\n",
       "      <th>X</th>\n",
       "      <th>Y</th>\n",
       "    </tr>\n",
       "  </thead>\n",
       "  <tbody>\n",
       "    <tr>\n",
       "      <th>0</th>\n",
       "      <td>1</td>\n",
       "      <td>3.888889</td>\n",
       "    </tr>\n",
       "    <tr>\n",
       "      <th>1</th>\n",
       "      <td>2</td>\n",
       "      <td>4.555556</td>\n",
       "    </tr>\n",
       "    <tr>\n",
       "      <th>2</th>\n",
       "      <td>3</td>\n",
       "      <td>5.222222</td>\n",
       "    </tr>\n",
       "    <tr>\n",
       "      <th>3</th>\n",
       "      <td>4</td>\n",
       "      <td>5.888889</td>\n",
       "    </tr>\n",
       "    <tr>\n",
       "      <th>4</th>\n",
       "      <td>5</td>\n",
       "      <td>6.555556</td>\n",
       "    </tr>\n",
       "    <tr>\n",
       "      <th>...</th>\n",
       "      <td>...</td>\n",
       "      <td>...</td>\n",
       "    </tr>\n",
       "    <tr>\n",
       "      <th>295</th>\n",
       "      <td>296</td>\n",
       "      <td>200.555556</td>\n",
       "    </tr>\n",
       "    <tr>\n",
       "      <th>296</th>\n",
       "      <td>297</td>\n",
       "      <td>201.222222</td>\n",
       "    </tr>\n",
       "    <tr>\n",
       "      <th>297</th>\n",
       "      <td>298</td>\n",
       "      <td>201.888889</td>\n",
       "    </tr>\n",
       "    <tr>\n",
       "      <th>298</th>\n",
       "      <td>299</td>\n",
       "      <td>1.888889</td>\n",
       "    </tr>\n",
       "    <tr>\n",
       "      <th>299</th>\n",
       "      <td>300</td>\n",
       "      <td>1.888889</td>\n",
       "    </tr>\n",
       "  </tbody>\n",
       "</table>\n",
       "<p>300 rows × 2 columns</p>\n",
       "</div>"
      ],
      "text/plain": [
       "       X           Y\n",
       "0      1    3.888889\n",
       "1      2    4.555556\n",
       "2      3    5.222222\n",
       "3      4    5.888889\n",
       "4      5    6.555556\n",
       "..   ...         ...\n",
       "295  296  200.555556\n",
       "296  297  201.222222\n",
       "297  298  201.888889\n",
       "298  299    1.888889\n",
       "299  300    1.888889\n",
       "\n",
       "[300 rows x 2 columns]"
      ]
     },
     "execution_count": 2,
     "metadata": {},
     "output_type": "execute_result"
    }
   ],
   "source": [
    "data = pd.read_csv('../input/linear-regression-dataset/Linear Regression - Sheet1.csv')\n",
    "data"
   ]
  },
  {
   "cell_type": "code",
   "execution_count": 3,
   "id": "e5e10761",
   "metadata": {
    "execution": {
     "iopub.execute_input": "2022-06-01T01:58:22.744755Z",
     "iopub.status.busy": "2022-06-01T01:58:22.744195Z",
     "iopub.status.idle": "2022-06-01T01:58:22.775885Z",
     "shell.execute_reply": "2022-06-01T01:58:22.775208Z"
    },
    "papermill": {
     "duration": 0.051926,
     "end_time": "2022-06-01T01:58:22.777955",
     "exception": false,
     "start_time": "2022-06-01T01:58:22.726029",
     "status": "completed"
    },
    "tags": []
   },
   "outputs": [
    {
     "data": {
      "text/html": [
       "<div>\n",
       "<style scoped>\n",
       "    .dataframe tbody tr th:only-of-type {\n",
       "        vertical-align: middle;\n",
       "    }\n",
       "\n",
       "    .dataframe tbody tr th {\n",
       "        vertical-align: top;\n",
       "    }\n",
       "\n",
       "    .dataframe thead th {\n",
       "        text-align: right;\n",
       "    }\n",
       "</style>\n",
       "<table border=\"1\" class=\"dataframe\">\n",
       "  <thead>\n",
       "    <tr style=\"text-align: right;\">\n",
       "      <th></th>\n",
       "      <th>X</th>\n",
       "      <th>Y</th>\n",
       "    </tr>\n",
       "  </thead>\n",
       "  <tbody>\n",
       "    <tr>\n",
       "      <th>count</th>\n",
       "      <td>300.000000</td>\n",
       "      <td>300.000000</td>\n",
       "    </tr>\n",
       "    <tr>\n",
       "      <th>mean</th>\n",
       "      <td>150.500000</td>\n",
       "      <td>102.215556</td>\n",
       "    </tr>\n",
       "    <tr>\n",
       "      <th>std</th>\n",
       "      <td>86.746758</td>\n",
       "      <td>57.842711</td>\n",
       "    </tr>\n",
       "    <tr>\n",
       "      <th>min</th>\n",
       "      <td>1.000000</td>\n",
       "      <td>1.888889</td>\n",
       "    </tr>\n",
       "    <tr>\n",
       "      <th>25%</th>\n",
       "      <td>75.750000</td>\n",
       "      <td>52.388889</td>\n",
       "    </tr>\n",
       "    <tr>\n",
       "      <th>50%</th>\n",
       "      <td>150.500000</td>\n",
       "      <td>102.222222</td>\n",
       "    </tr>\n",
       "    <tr>\n",
       "      <th>75%</th>\n",
       "      <td>225.250000</td>\n",
       "      <td>152.055556</td>\n",
       "    </tr>\n",
       "    <tr>\n",
       "      <th>max</th>\n",
       "      <td>300.000000</td>\n",
       "      <td>201.888889</td>\n",
       "    </tr>\n",
       "  </tbody>\n",
       "</table>\n",
       "</div>"
      ],
      "text/plain": [
       "                X           Y\n",
       "count  300.000000  300.000000\n",
       "mean   150.500000  102.215556\n",
       "std     86.746758   57.842711\n",
       "min      1.000000    1.888889\n",
       "25%     75.750000   52.388889\n",
       "50%    150.500000  102.222222\n",
       "75%    225.250000  152.055556\n",
       "max    300.000000  201.888889"
      ]
     },
     "execution_count": 3,
     "metadata": {},
     "output_type": "execute_result"
    }
   ],
   "source": [
    "data.describe()"
   ]
  },
  {
   "cell_type": "code",
   "execution_count": 4,
   "id": "6ab837d2",
   "metadata": {
    "execution": {
     "iopub.execute_input": "2022-06-01T01:58:22.815372Z",
     "iopub.status.busy": "2022-06-01T01:58:22.814832Z",
     "iopub.status.idle": "2022-06-01T01:58:22.828576Z",
     "shell.execute_reply": "2022-06-01T01:58:22.827818Z"
    },
    "papermill": {
     "duration": 0.035373,
     "end_time": "2022-06-01T01:58:22.830581",
     "exception": false,
     "start_time": "2022-06-01T01:58:22.795208",
     "status": "completed"
    },
    "tags": []
   },
   "outputs": [
    {
     "data": {
      "text/html": [
       "<div>\n",
       "<style scoped>\n",
       "    .dataframe tbody tr th:only-of-type {\n",
       "        vertical-align: middle;\n",
       "    }\n",
       "\n",
       "    .dataframe tbody tr th {\n",
       "        vertical-align: top;\n",
       "    }\n",
       "\n",
       "    .dataframe thead th {\n",
       "        text-align: right;\n",
       "    }\n",
       "</style>\n",
       "<table border=\"1\" class=\"dataframe\">\n",
       "  <thead>\n",
       "    <tr style=\"text-align: right;\">\n",
       "      <th></th>\n",
       "      <th>X</th>\n",
       "      <th>Y</th>\n",
       "    </tr>\n",
       "  </thead>\n",
       "  <tbody>\n",
       "    <tr>\n",
       "      <th>X</th>\n",
       "      <td>1.00</td>\n",
       "      <td>0.96</td>\n",
       "    </tr>\n",
       "    <tr>\n",
       "      <th>Y</th>\n",
       "      <td>0.96</td>\n",
       "      <td>1.00</td>\n",
       "    </tr>\n",
       "  </tbody>\n",
       "</table>\n",
       "</div>"
      ],
      "text/plain": [
       "      X     Y\n",
       "X  1.00  0.96\n",
       "Y  0.96  1.00"
      ]
     },
     "execution_count": 4,
     "metadata": {},
     "output_type": "execute_result"
    }
   ],
   "source": [
    "data.corr().round(2)"
   ]
  },
  {
   "cell_type": "code",
   "execution_count": 5,
   "id": "b9100b2f",
   "metadata": {
    "execution": {
     "iopub.execute_input": "2022-06-01T01:58:22.869758Z",
     "iopub.status.busy": "2022-06-01T01:58:22.869189Z",
     "iopub.status.idle": "2022-06-01T01:58:23.067568Z",
     "shell.execute_reply": "2022-06-01T01:58:23.066770Z"
    },
    "papermill": {
     "duration": 0.219734,
     "end_time": "2022-06-01T01:58:23.069860",
     "exception": false,
     "start_time": "2022-06-01T01:58:22.850126",
     "status": "completed"
    },
    "tags": []
   },
   "outputs": [
    {
     "data": {
      "text/plain": [
       "<AxesSubplot:>"
      ]
     },
     "execution_count": 5,
     "metadata": {},
     "output_type": "execute_result"
    },
    {
     "data": {
      "image/png": "[encoded data removed]",
      "text/plain": [
       "<Figure size 432x288 with 1 Axes>"
      ]
     },
     "metadata": {
      "needs_background": "light"
     },
     "output_type": "display_data"
    }
   ],
   "source": [
    "data.boxplot()"
   ]
  },
  {
   "cell_type": "code",
   "execution_count": 6,
   "id": "313e860c",
   "metadata": {
    "execution": {
     "iopub.execute_input": "2022-06-01T01:58:23.111961Z",
     "iopub.status.busy": "2022-06-01T01:58:23.111230Z",
     "iopub.status.idle": "2022-06-01T01:58:23.341186Z",
     "shell.execute_reply": "2022-06-01T01:58:23.340279Z"
    },
    "papermill": {
     "duration": 0.254079,
     "end_time": "2022-06-01T01:58:23.343651",
     "exception": false,
     "start_time": "2022-06-01T01:58:23.089572",
     "status": "completed"
    },
    "tags": []
   },
   "outputs": [
    {
     "name": "stderr",
     "output_type": "stream",
     "text": [
      "/opt/conda/lib/python3.7/site-packages/seaborn/distributions.py:2619: FutureWarning: `distplot` is a deprecated function and will be removed in a future version. Please adapt your code to use either `displot` (a figure-level function with similar flexibility) or `histplot` (an axes-level function for histograms).\n",
      "  warnings.warn(msg, FutureWarning)\n"
     ]
    },
    {
     "data": {
      "text/plain": [
       "<AxesSubplot:xlabel='Y', ylabel='Density'>"
      ]
     },
     "execution_count": 6,
     "metadata": {},
     "output_type": "execute_result"
    },
    {
     "data": {
      "image/png": "[encoded data removed]",
      "text/plain": [
       "<Figure size 432x288 with 1 Axes>"
      ]
     },
     "metadata": {
      "needs_background": "light"
     },
     "output_type": "display_data"
    }
   ],
   "source": [
    "sns.distplot(data.Y)"
   ]
  },
  {
   "cell_type": "code",
   "execution_count": 7,
   "id": "a9ee2dfe",
   "metadata": {
    "execution": {
     "iopub.execute_input": "2022-06-01T01:58:23.388094Z",
     "iopub.status.busy": "2022-06-01T01:58:23.387779Z",
     "iopub.status.idle": "2022-06-01T01:58:24.352265Z",
     "shell.execute_reply": "2022-06-01T01:58:24.351219Z"
    },
    "papermill": {
     "duration": 0.989497,
     "end_time": "2022-06-01T01:58:24.354614",
     "exception": false,
     "start_time": "2022-06-01T01:58:23.365117",
     "status": "completed"
    },
    "tags": []
   },
   "outputs": [
    {
     "data": {
      "text/plain": [
       "<seaborn.axisgrid.PairGrid at 0x7f2647f7b350>"
      ]
     },
     "execution_count": 7,
     "metadata": {},
     "output_type": "execute_result"
    },
    {
     "data": {
      "image/png": "[encoded data removed]",
      "text/plain": [
       "<Figure size 360x360 with 6 Axes>"
      ]
     },
     "metadata": {
      "needs_background": "light"
     },
     "output_type": "display_data"
    }
   ],
   "source": [
    "sns.pairplot(data)"
   ]
  },
  {
   "cell_type": "code",
   "execution_count": 8,
   "id": "15c93969",
   "metadata": {
    "execution": {
     "iopub.execute_input": "2022-06-01T01:58:24.402991Z",
     "iopub.status.busy": "2022-06-01T01:58:24.402191Z",
     "iopub.status.idle": "2022-06-01T01:58:24.711364Z",
     "shell.execute_reply": "2022-06-01T01:58:24.710435Z"
    },
    "papermill": {
     "duration": 0.33596,
     "end_time": "2022-06-01T01:58:24.714013",
     "exception": false,
     "start_time": "2022-06-01T01:58:24.378053",
     "status": "completed"
    },
    "tags": []
   },
   "outputs": [],
   "source": [
    "from sklearn.model_selection import train_test_split\n",
    "from sklearn.linear_model import LinearRegression\n",
    "from sklearn import metrics"
   ]
  },
  {
   "cell_type": "code",
   "execution_count": 9,
   "id": "f94918d6",
   "metadata": {
    "execution": {
     "iopub.execute_input": "2022-06-01T01:58:24.759475Z",
     "iopub.status.busy": "2022-06-01T01:58:24.759192Z",
     "iopub.status.idle": "2022-06-01T01:58:24.765581Z",
     "shell.execute_reply": "2022-06-01T01:58:24.764687Z"
    },
    "papermill": {
     "duration": 0.031522,
     "end_time": "2022-06-01T01:58:24.767645",
     "exception": false,
     "start_time": "2022-06-01T01:58:24.736123",
     "status": "completed"
    },
    "tags": []
   },
   "outputs": [],
   "source": [
    "y = data[['Y']]\n",
    "x = data[['X']]"
   ]
  },
  {
   "cell_type": "code",
   "execution_count": 10,
   "id": "3d253900",
   "metadata": {
    "execution": {
     "iopub.execute_input": "2022-06-01T01:58:24.814350Z",
     "iopub.status.busy": "2022-06-01T01:58:24.814063Z",
     "iopub.status.idle": "2022-06-01T01:58:24.819873Z",
     "shell.execute_reply": "2022-06-01T01:58:24.819193Z"
    },
    "papermill": {
     "duration": 0.03185,
     "end_time": "2022-06-01T01:58:24.821865",
     "exception": false,
     "start_time": "2022-06-01T01:58:24.790015",
     "status": "completed"
    },
    "tags": []
   },
   "outputs": [],
   "source": [
    "x_train, x_test, y_train, y_test = train_test_split(x, y, test_size=0.3)"
   ]
  },
  {
   "cell_type": "code",
   "execution_count": 11,
   "id": "0a930379",
   "metadata": {
    "execution": {
     "iopub.execute_input": "2022-06-01T01:58:24.867040Z",
     "iopub.status.busy": "2022-06-01T01:58:24.866502Z",
     "iopub.status.idle": "2022-06-01T01:58:24.870815Z",
     "shell.execute_reply": "2022-06-01T01:58:24.869907Z"
    },
    "papermill": {
     "duration": 0.029438,
     "end_time": "2022-06-01T01:58:24.872945",
     "exception": false,
     "start_time": "2022-06-01T01:58:24.843507",
     "status": "completed"
    },
    "tags": []
   },
   "outputs": [],
   "source": [
    "model = LinearRegression()"
   ]
  },
  {
   "cell_type": "code",
   "execution_count": 12,
   "id": "9ec4f3f7",
   "metadata": {
    "execution": {
     "iopub.execute_input": "2022-06-01T01:58:24.919422Z",
     "iopub.status.busy": "2022-06-01T01:58:24.919144Z",
     "iopub.status.idle": "2022-06-01T01:58:24.938720Z",
     "shell.execute_reply": "2022-06-01T01:58:24.937862Z"
    },
    "papermill": {
     "duration": 0.046102,
     "end_time": "2022-06-01T01:58:24.940829",
     "exception": false,
     "start_time": "2022-06-01T01:58:24.894727",
     "status": "completed"
    },
    "tags": []
   },
   "outputs": [
    {
     "data": {
      "text/plain": [
       "LinearRegression()"
      ]
     },
     "execution_count": 12,
     "metadata": {},
     "output_type": "execute_result"
    }
   ],
   "source": [
    "model.fit(x_train, y_train)"
   ]
  },
  {
   "cell_type": "code",
   "execution_count": 13,
   "id": "af86574a",
   "metadata": {
    "execution": {
     "iopub.execute_input": "2022-06-01T01:58:24.987680Z",
     "iopub.status.busy": "2022-06-01T01:58:24.987354Z",
     "iopub.status.idle": "2022-06-01T01:58:24.994684Z",
     "shell.execute_reply": "2022-06-01T01:58:24.993787Z"
    },
    "papermill": {
     "duration": 0.033094,
     "end_time": "2022-06-01T01:58:24.996824",
     "exception": false,
     "start_time": "2022-06-01T01:58:24.963730",
     "status": "completed"
    },
    "tags": []
   },
   "outputs": [],
   "source": [
    "y_predicted = model.predict(x_test)"
   ]
  },
  {
   "cell_type": "code",
   "execution_count": 14,
   "id": "7953e6b3",
   "metadata": {
    "execution": {
     "iopub.execute_input": "2022-06-01T01:58:25.043319Z",
     "iopub.status.busy": "2022-06-01T01:58:25.042627Z",
     "iopub.status.idle": "2022-06-01T01:58:25.058765Z",
     "shell.execute_reply": "2022-06-01T01:58:25.057865Z"
    },
    "papermill": {
     "duration": 0.041984,
     "end_time": "2022-06-01T01:58:25.060890",
     "exception": false,
     "start_time": "2022-06-01T01:58:25.018906",
     "status": "completed"
    },
    "tags": []
   },
   "outputs": [
    {
     "data": {
      "text/html": [
       "<div>\n",
       "<style scoped>\n",
       "    .dataframe tbody tr th:only-of-type {\n",
       "        vertical-align: middle;\n",
       "    }\n",
       "\n",
       "    .dataframe tbody tr th {\n",
       "        vertical-align: top;\n",
       "    }\n",
       "\n",
       "    .dataframe thead th {\n",
       "        text-align: right;\n",
       "    }\n",
       "</style>\n",
       "<table border=\"1\" class=\"dataframe\">\n",
       "  <thead>\n",
       "    <tr style=\"text-align: right;\">\n",
       "      <th></th>\n",
       "      <th>Metrics</th>\n",
       "    </tr>\n",
       "  </thead>\n",
       "  <tbody>\n",
       "    <tr>\n",
       "      <th>MSE</th>\n",
       "      <td>13.14</td>\n",
       "    </tr>\n",
       "    <tr>\n",
       "      <th>MSD</th>\n",
       "      <td>3.62</td>\n",
       "    </tr>\n",
       "    <tr>\n",
       "      <th>R²</th>\n",
       "      <td>1.00</td>\n",
       "    </tr>\n",
       "  </tbody>\n",
       "</table>\n",
       "</div>"
      ],
      "text/plain": [
       "     Metrics\n",
       "MSE    13.14\n",
       "MSD     3.62\n",
       "R²      1.00"
      ]
     },
     "execution_count": 14,
     "metadata": {},
     "output_type": "execute_result"
    }
   ],
   "source": [
    "MSE = metrics.mean_squared_error(y_test, y_predicted).round(2)\n",
    "MSD = np.sqrt(metrics.mean_squared_error(y_test, y_predicted)).round(2)\n",
    "R2 = metrics.r2_score(y_test, y_predicted).round(2)\n",
    "\n",
    "pd.DataFrame([MSE, MSD, R2], ['MSE', 'MSD', 'R²'], columns = ['Metrics'])"
   ]
  },
  {
   "cell_type": "code",
   "execution_count": null,
   "id": "3ec03560",
   "metadata": {
    "papermill": {
     "duration": 0.022316,
     "end_time": "2022-06-01T01:58:25.106481",
     "exception": false,
     "start_time": "2022-06-01T01:58:25.084165",
     "status": "completed"
    },
    "tags": []
   },
   "outputs": [],
   "source": []
  }
 ],
 "metadata": {
  "kernelspec": {
   "display_name": "Python 3",
   "language": "python",
   "name": "python3"
  },
  "language_info": {
   "codemirror_mode": {
    "name": "ipython",
    "version": 3
   },
   "file_extension": ".py",
   "mimetype": "text/x-python",
   "name": "python",
   "nbconvert_exporter": "python",
   "pygments_lexer": "ipython3",
   "version": "3.7.12"
  },
  "papermill": {
   "default_parameters": {},
   "duration": 15.410516,
   "end_time": "2022-06-01T01:58:25.951324",
   "environment_variables": {},
   "exception": null,
   "input_path": "__notebook__.ipynb",
   "output_path": "__notebook__.ipynb",
   "parameters": {},
   "start_time": "2022-06-01T01:58:10.540808",
   "version": "2.3.4"
  }
 },
 "nbformat": 4,
 "nbformat_minor": 5
}

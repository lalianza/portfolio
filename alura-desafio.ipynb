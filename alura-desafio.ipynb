{
 "cells": [
  {
   "cell_type": "code",
   "execution_count": 1,
   "id": "3603da55",
   "metadata": {
    "execution": {
     "iopub.execute_input": "2022-07-05T21:16:36.369859Z",
     "iopub.status.busy": "2022-07-05T21:16:36.368968Z",
     "iopub.status.idle": "2022-07-05T21:16:36.871240Z",
     "shell.execute_reply": "2022-07-05T21:16:36.870151Z"
    },
    "papermill": {
     "duration": 0.515306,
     "end_time": "2022-07-05T21:16:36.874161",
     "exception": false,
     "start_time": "2022-07-05T21:16:36.358855",
     "status": "completed"
    },
    "tags": []
   },
   "outputs": [
    {
     "data": {
      "text/html": [
       "<div>\n",
       "<style scoped>\n",
       "    .dataframe tbody tr th:only-of-type {\n",
       "        vertical-align: middle;\n",
       "    }\n",
       "\n",
       "    .dataframe tbody tr th {\n",
       "        vertical-align: top;\n",
       "    }\n",
       "\n",
       "    .dataframe thead th {\n",
       "        text-align: right;\n",
       "    }\n",
       "</style>\n",
       "<table border=\"1\" class=\"dataframe\">\n",
       "  <thead>\n",
       "    <tr style=\"text-align: right;\">\n",
       "      <th></th>\n",
       "      <th>customerID</th>\n",
       "      <th>Churn</th>\n",
       "      <th>customer</th>\n",
       "      <th>phone</th>\n",
       "      <th>internet</th>\n",
       "      <th>account</th>\n",
       "    </tr>\n",
       "  </thead>\n",
       "  <tbody>\n",
       "    <tr>\n",
       "      <th>0</th>\n",
       "      <td>0002-ORFBO</td>\n",
       "      <td>No</td>\n",
       "      <td>{'gender': 'Female', 'SeniorCitizen': 0, 'Part...</td>\n",
       "      <td>{'PhoneService': 'Yes', 'MultipleLines': 'No'}</td>\n",
       "      <td>{'InternetService': 'DSL', 'OnlineSecurity': '...</td>\n",
       "      <td>{'Contract': 'One year', 'PaperlessBilling': '...</td>\n",
       "    </tr>\n",
       "    <tr>\n",
       "      <th>1</th>\n",
       "      <td>0003-MKNFE</td>\n",
       "      <td>No</td>\n",
       "      <td>{'gender': 'Male', 'SeniorCitizen': 0, 'Partne...</td>\n",
       "      <td>{'PhoneService': 'Yes', 'MultipleLines': 'Yes'}</td>\n",
       "      <td>{'InternetService': 'DSL', 'OnlineSecurity': '...</td>\n",
       "      <td>{'Contract': 'Month-to-month', 'PaperlessBilli...</td>\n",
       "    </tr>\n",
       "    <tr>\n",
       "      <th>2</th>\n",
       "      <td>0004-TLHLJ</td>\n",
       "      <td>Yes</td>\n",
       "      <td>{'gender': 'Male', 'SeniorCitizen': 0, 'Partne...</td>\n",
       "      <td>{'PhoneService': 'Yes', 'MultipleLines': 'No'}</td>\n",
       "      <td>{'InternetService': 'Fiber optic', 'OnlineSecu...</td>\n",
       "      <td>{'Contract': 'Month-to-month', 'PaperlessBilli...</td>\n",
       "    </tr>\n",
       "    <tr>\n",
       "      <th>3</th>\n",
       "      <td>0011-IGKFF</td>\n",
       "      <td>Yes</td>\n",
       "      <td>{'gender': 'Male', 'SeniorCitizen': 1, 'Partne...</td>\n",
       "      <td>{'PhoneService': 'Yes', 'MultipleLines': 'No'}</td>\n",
       "      <td>{'InternetService': 'Fiber optic', 'OnlineSecu...</td>\n",
       "      <td>{'Contract': 'Month-to-month', 'PaperlessBilli...</td>\n",
       "    </tr>\n",
       "    <tr>\n",
       "      <th>4</th>\n",
       "      <td>0013-EXCHZ</td>\n",
       "      <td>Yes</td>\n",
       "      <td>{'gender': 'Female', 'SeniorCitizen': 1, 'Part...</td>\n",
       "      <td>{'PhoneService': 'Yes', 'MultipleLines': 'No'}</td>\n",
       "      <td>{'InternetService': 'Fiber optic', 'OnlineSecu...</td>\n",
       "      <td>{'Contract': 'Month-to-month', 'PaperlessBilli...</td>\n",
       "    </tr>\n",
       "  </tbody>\n",
       "</table>\n",
       "</div>"
      ],
      "text/plain": [
       "   customerID Churn                                           customer  \\\n",
       "0  0002-ORFBO    No  {'gender': 'Female', 'SeniorCitizen': 0, 'Part...   \n",
       "1  0003-MKNFE    No  {'gender': 'Male', 'SeniorCitizen': 0, 'Partne...   \n",
       "2  0004-TLHLJ   Yes  {'gender': 'Male', 'SeniorCitizen': 0, 'Partne...   \n",
       "3  0011-IGKFF   Yes  {'gender': 'Male', 'SeniorCitizen': 1, 'Partne...   \n",
       "4  0013-EXCHZ   Yes  {'gender': 'Female', 'SeniorCitizen': 1, 'Part...   \n",
       "\n",
       "                                             phone  \\\n",
       "0   {'PhoneService': 'Yes', 'MultipleLines': 'No'}   \n",
       "1  {'PhoneService': 'Yes', 'MultipleLines': 'Yes'}   \n",
       "2   {'PhoneService': 'Yes', 'MultipleLines': 'No'}   \n",
       "3   {'PhoneService': 'Yes', 'MultipleLines': 'No'}   \n",
       "4   {'PhoneService': 'Yes', 'MultipleLines': 'No'}   \n",
       "\n",
       "                                            internet  \\\n",
       "0  {'InternetService': 'DSL', 'OnlineSecurity': '...   \n",
       "1  {'InternetService': 'DSL', 'OnlineSecurity': '...   \n",
       "2  {'InternetService': 'Fiber optic', 'OnlineSecu...   \n",
       "3  {'InternetService': 'Fiber optic', 'OnlineSecu...   \n",
       "4  {'InternetService': 'Fiber optic', 'OnlineSecu...   \n",
       "\n",
       "                                             account  \n",
       "0  {'Contract': 'One year', 'PaperlessBilling': '...  \n",
       "1  {'Contract': 'Month-to-month', 'PaperlessBilli...  \n",
       "2  {'Contract': 'Month-to-month', 'PaperlessBilli...  \n",
       "3  {'Contract': 'Month-to-month', 'PaperlessBilli...  \n",
       "4  {'Contract': 'Month-to-month', 'PaperlessBilli...  "
      ]
     },
     "execution_count": 1,
     "metadata": {},
     "output_type": "execute_result"
    }
   ],
   "source": [
    "import pandas as pd\n",
    "\n",
    "data = \"https://raw.githubusercontent.com/sthemonica/alura-voz/main/Dados/Telco-Customer-Churn.json\"\n",
    "dados = pd.read_json(data)\n",
    "dados.head()"
   ]
  },
  {
   "cell_type": "code",
   "execution_count": 2,
   "id": "a45c44c7",
   "metadata": {
    "execution": {
     "iopub.execute_input": "2022-07-05T21:16:36.889387Z",
     "iopub.status.busy": "2022-07-05T21:16:36.888780Z",
     "iopub.status.idle": "2022-07-05T21:16:36.896413Z",
     "shell.execute_reply": "2022-07-05T21:16:36.894985Z"
    },
    "papermill": {
     "duration": 0.017885,
     "end_time": "2022-07-05T21:16:36.898750",
     "exception": false,
     "start_time": "2022-07-05T21:16:36.880865",
     "status": "completed"
    },
    "tags": []
   },
   "outputs": [
    {
     "name": "stdout",
     "output_type": "stream",
     "text": [
      "customerID <class 'str'>\n",
      "Churn <class 'str'>\n",
      "customer <class 'dict'>\n",
      "phone <class 'dict'>\n",
      "internet <class 'dict'>\n",
      "account <class 'dict'>\n"
     ]
    }
   ],
   "source": [
    "#verificando os tipos dos dados disponíveis a partir do dado na primeira informação em cada coluna. \n",
    "for column in dados.columns:\n",
    "    print(column, type(dados[column][0]))"
   ]
  },
  {
   "cell_type": "code",
   "execution_count": 3,
   "id": "b238e58d",
   "metadata": {
    "execution": {
     "iopub.execute_input": "2022-07-05T21:16:36.913779Z",
     "iopub.status.busy": "2022-07-05T21:16:36.913392Z",
     "iopub.status.idle": "2022-07-05T21:16:36.919827Z",
     "shell.execute_reply": "2022-07-05T21:16:36.918598Z"
    },
    "papermill": {
     "duration": 0.016776,
     "end_time": "2022-07-05T21:16:36.922260",
     "exception": false,
     "start_time": "2022-07-05T21:16:36.905484",
     "status": "completed"
    },
    "tags": []
   },
   "outputs": [
    {
     "name": "stdout",
     "output_type": "stream",
     "text": [
      "dict_keys(['gender', 'SeniorCitizen', 'Partner', 'Dependents', 'tenure'])\n",
      "dict_keys(['PhoneService', 'MultipleLines'])\n",
      "dict_keys(['InternetService', 'OnlineSecurity', 'OnlineBackup', 'DeviceProtection', 'TechSupport', 'StreamingTV', 'StreamingMovies'])\n",
      "dict_keys(['Contract', 'PaperlessBilling', 'PaymentMethod', 'Charges'])\n"
     ]
    }
   ],
   "source": [
    "#verificando as keys dos dicts\n",
    "for key in ['customer', 'phone', 'internet', 'account']:\n",
    "    print(dados[key][0].keys())"
   ]
  },
  {
   "cell_type": "code",
   "execution_count": 4,
   "id": "c4ee47b8",
   "metadata": {
    "execution": {
     "iopub.execute_input": "2022-07-05T21:16:36.937606Z",
     "iopub.status.busy": "2022-07-05T21:16:36.937006Z",
     "iopub.status.idle": "2022-07-05T21:16:37.013635Z",
     "shell.execute_reply": "2022-07-05T21:16:37.012444Z"
    },
    "papermill": {
     "duration": 0.087109,
     "end_time": "2022-07-05T21:16:37.016068",
     "exception": false,
     "start_time": "2022-07-05T21:16:36.928959",
     "status": "completed"
    },
    "tags": []
   },
   "outputs": [
    {
     "data": {
      "text/html": [
       "<div>\n",
       "<style scoped>\n",
       "    .dataframe tbody tr th:only-of-type {\n",
       "        vertical-align: middle;\n",
       "    }\n",
       "\n",
       "    .dataframe tbody tr th {\n",
       "        vertical-align: top;\n",
       "    }\n",
       "\n",
       "    .dataframe thead th {\n",
       "        text-align: right;\n",
       "    }\n",
       "</style>\n",
       "<table border=\"1\" class=\"dataframe\">\n",
       "  <thead>\n",
       "    <tr style=\"text-align: right;\">\n",
       "      <th></th>\n",
       "      <th>gender</th>\n",
       "      <th>SeniorCitizen</th>\n",
       "      <th>Partner</th>\n",
       "      <th>Dependents</th>\n",
       "      <th>tenure</th>\n",
       "    </tr>\n",
       "  </thead>\n",
       "  <tbody>\n",
       "    <tr>\n",
       "      <th>0</th>\n",
       "      <td>Female</td>\n",
       "      <td>0</td>\n",
       "      <td>Yes</td>\n",
       "      <td>Yes</td>\n",
       "      <td>9</td>\n",
       "    </tr>\n",
       "    <tr>\n",
       "      <th>1</th>\n",
       "      <td>Male</td>\n",
       "      <td>0</td>\n",
       "      <td>No</td>\n",
       "      <td>No</td>\n",
       "      <td>9</td>\n",
       "    </tr>\n",
       "    <tr>\n",
       "      <th>2</th>\n",
       "      <td>Male</td>\n",
       "      <td>0</td>\n",
       "      <td>No</td>\n",
       "      <td>No</td>\n",
       "      <td>4</td>\n",
       "    </tr>\n",
       "    <tr>\n",
       "      <th>3</th>\n",
       "      <td>Male</td>\n",
       "      <td>1</td>\n",
       "      <td>Yes</td>\n",
       "      <td>No</td>\n",
       "      <td>13</td>\n",
       "    </tr>\n",
       "    <tr>\n",
       "      <th>4</th>\n",
       "      <td>Female</td>\n",
       "      <td>1</td>\n",
       "      <td>Yes</td>\n",
       "      <td>No</td>\n",
       "      <td>3</td>\n",
       "    </tr>\n",
       "    <tr>\n",
       "      <th>...</th>\n",
       "      <td>...</td>\n",
       "      <td>...</td>\n",
       "      <td>...</td>\n",
       "      <td>...</td>\n",
       "      <td>...</td>\n",
       "    </tr>\n",
       "    <tr>\n",
       "      <th>7262</th>\n",
       "      <td>Female</td>\n",
       "      <td>0</td>\n",
       "      <td>No</td>\n",
       "      <td>No</td>\n",
       "      <td>13</td>\n",
       "    </tr>\n",
       "    <tr>\n",
       "      <th>7263</th>\n",
       "      <td>Male</td>\n",
       "      <td>0</td>\n",
       "      <td>Yes</td>\n",
       "      <td>No</td>\n",
       "      <td>22</td>\n",
       "    </tr>\n",
       "    <tr>\n",
       "      <th>7264</th>\n",
       "      <td>Male</td>\n",
       "      <td>0</td>\n",
       "      <td>No</td>\n",
       "      <td>No</td>\n",
       "      <td>2</td>\n",
       "    </tr>\n",
       "    <tr>\n",
       "      <th>7265</th>\n",
       "      <td>Male</td>\n",
       "      <td>0</td>\n",
       "      <td>Yes</td>\n",
       "      <td>Yes</td>\n",
       "      <td>67</td>\n",
       "    </tr>\n",
       "    <tr>\n",
       "      <th>7266</th>\n",
       "      <td>Male</td>\n",
       "      <td>0</td>\n",
       "      <td>Yes</td>\n",
       "      <td>Yes</td>\n",
       "      <td>63</td>\n",
       "    </tr>\n",
       "  </tbody>\n",
       "</table>\n",
       "<p>7267 rows × 5 columns</p>\n",
       "</div>"
      ],
      "text/plain": [
       "      gender  SeniorCitizen Partner Dependents  tenure\n",
       "0     Female              0     Yes        Yes       9\n",
       "1       Male              0      No         No       9\n",
       "2       Male              0      No         No       4\n",
       "3       Male              1     Yes         No      13\n",
       "4     Female              1     Yes         No       3\n",
       "...      ...            ...     ...        ...     ...\n",
       "7262  Female              0      No         No      13\n",
       "7263    Male              0     Yes         No      22\n",
       "7264    Male              0      No         No       2\n",
       "7265    Male              0     Yes        Yes      67\n",
       "7266    Male              0     Yes        Yes      63\n",
       "\n",
       "[7267 rows x 5 columns]"
      ]
     },
     "execution_count": 4,
     "metadata": {},
     "output_type": "execute_result"
    }
   ],
   "source": [
    "normal_customer = pd.json_normalize(data=dados['customer'], sep='_')\n",
    "normal_customer"
   ]
  },
  {
   "cell_type": "code",
   "execution_count": 5,
   "id": "46eda02f",
   "metadata": {
    "execution": {
     "iopub.execute_input": "2022-07-05T21:16:37.033185Z",
     "iopub.status.busy": "2022-07-05T21:16:37.032136Z",
     "iopub.status.idle": "2022-07-05T21:16:37.318944Z",
     "shell.execute_reply": "2022-07-05T21:16:37.317897Z"
    },
    "papermill": {
     "duration": 0.298074,
     "end_time": "2022-07-05T21:16:37.321248",
     "exception": false,
     "start_time": "2022-07-05T21:16:37.023174",
     "status": "completed"
    },
    "tags": []
   },
   "outputs": [
    {
     "data": {
      "text/html": [
       "<div>\n",
       "<style scoped>\n",
       "    .dataframe tbody tr th:only-of-type {\n",
       "        vertical-align: middle;\n",
       "    }\n",
       "\n",
       "    .dataframe tbody tr th {\n",
       "        vertical-align: top;\n",
       "    }\n",
       "\n",
       "    .dataframe thead th {\n",
       "        text-align: right;\n",
       "    }\n",
       "</style>\n",
       "<table border=\"1\" class=\"dataframe\">\n",
       "  <thead>\n",
       "    <tr style=\"text-align: right;\">\n",
       "      <th></th>\n",
       "      <th>customerID</th>\n",
       "      <th>Churn</th>\n",
       "      <th>customer</th>\n",
       "      <th>phone</th>\n",
       "      <th>internet</th>\n",
       "      <th>account</th>\n",
       "      <th>gender</th>\n",
       "      <th>SeniorCitizen</th>\n",
       "      <th>Partner</th>\n",
       "      <th>Dependents</th>\n",
       "      <th>...</th>\n",
       "      <th>OnlineBackup</th>\n",
       "      <th>DeviceProtection</th>\n",
       "      <th>TechSupport</th>\n",
       "      <th>StreamingTV</th>\n",
       "      <th>StreamingMovies</th>\n",
       "      <th>Contract</th>\n",
       "      <th>PaperlessBilling</th>\n",
       "      <th>PaymentMethod</th>\n",
       "      <th>Charges_Monthly</th>\n",
       "      <th>Charges_Total</th>\n",
       "    </tr>\n",
       "  </thead>\n",
       "  <tbody>\n",
       "    <tr>\n",
       "      <th>0</th>\n",
       "      <td>0002-ORFBO</td>\n",
       "      <td>No</td>\n",
       "      <td>{'gender': 'Female', 'SeniorCitizen': 0, 'Part...</td>\n",
       "      <td>{'PhoneService': 'Yes', 'MultipleLines': 'No'}</td>\n",
       "      <td>{'InternetService': 'DSL', 'OnlineSecurity': '...</td>\n",
       "      <td>{'Contract': 'One year', 'PaperlessBilling': '...</td>\n",
       "      <td>Female</td>\n",
       "      <td>0</td>\n",
       "      <td>Yes</td>\n",
       "      <td>Yes</td>\n",
       "      <td>...</td>\n",
       "      <td>Yes</td>\n",
       "      <td>No</td>\n",
       "      <td>Yes</td>\n",
       "      <td>Yes</td>\n",
       "      <td>No</td>\n",
       "      <td>One year</td>\n",
       "      <td>Yes</td>\n",
       "      <td>Mailed check</td>\n",
       "      <td>65.6</td>\n",
       "      <td>593.3</td>\n",
       "    </tr>\n",
       "    <tr>\n",
       "      <th>1</th>\n",
       "      <td>0003-MKNFE</td>\n",
       "      <td>No</td>\n",
       "      <td>{'gender': 'Male', 'SeniorCitizen': 0, 'Partne...</td>\n",
       "      <td>{'PhoneService': 'Yes', 'MultipleLines': 'Yes'}</td>\n",
       "      <td>{'InternetService': 'DSL', 'OnlineSecurity': '...</td>\n",
       "      <td>{'Contract': 'Month-to-month', 'PaperlessBilli...</td>\n",
       "      <td>Male</td>\n",
       "      <td>0</td>\n",
       "      <td>No</td>\n",
       "      <td>No</td>\n",
       "      <td>...</td>\n",
       "      <td>No</td>\n",
       "      <td>No</td>\n",
       "      <td>No</td>\n",
       "      <td>No</td>\n",
       "      <td>Yes</td>\n",
       "      <td>Month-to-month</td>\n",
       "      <td>No</td>\n",
       "      <td>Mailed check</td>\n",
       "      <td>59.9</td>\n",
       "      <td>542.4</td>\n",
       "    </tr>\n",
       "    <tr>\n",
       "      <th>2</th>\n",
       "      <td>0004-TLHLJ</td>\n",
       "      <td>Yes</td>\n",
       "      <td>{'gender': 'Male', 'SeniorCitizen': 0, 'Partne...</td>\n",
       "      <td>{'PhoneService': 'Yes', 'MultipleLines': 'No'}</td>\n",
       "      <td>{'InternetService': 'Fiber optic', 'OnlineSecu...</td>\n",
       "      <td>{'Contract': 'Month-to-month', 'PaperlessBilli...</td>\n",
       "      <td>Male</td>\n",
       "      <td>0</td>\n",
       "      <td>No</td>\n",
       "      <td>No</td>\n",
       "      <td>...</td>\n",
       "      <td>No</td>\n",
       "      <td>Yes</td>\n",
       "      <td>No</td>\n",
       "      <td>No</td>\n",
       "      <td>No</td>\n",
       "      <td>Month-to-month</td>\n",
       "      <td>Yes</td>\n",
       "      <td>Electronic check</td>\n",
       "      <td>73.9</td>\n",
       "      <td>280.85</td>\n",
       "    </tr>\n",
       "    <tr>\n",
       "      <th>3</th>\n",
       "      <td>0011-IGKFF</td>\n",
       "      <td>Yes</td>\n",
       "      <td>{'gender': 'Male', 'SeniorCitizen': 1, 'Partne...</td>\n",
       "      <td>{'PhoneService': 'Yes', 'MultipleLines': 'No'}</td>\n",
       "      <td>{'InternetService': 'Fiber optic', 'OnlineSecu...</td>\n",
       "      <td>{'Contract': 'Month-to-month', 'PaperlessBilli...</td>\n",
       "      <td>Male</td>\n",
       "      <td>1</td>\n",
       "      <td>Yes</td>\n",
       "      <td>No</td>\n",
       "      <td>...</td>\n",
       "      <td>Yes</td>\n",
       "      <td>Yes</td>\n",
       "      <td>No</td>\n",
       "      <td>Yes</td>\n",
       "      <td>Yes</td>\n",
       "      <td>Month-to-month</td>\n",
       "      <td>Yes</td>\n",
       "      <td>Electronic check</td>\n",
       "      <td>98.0</td>\n",
       "      <td>1237.85</td>\n",
       "    </tr>\n",
       "    <tr>\n",
       "      <th>4</th>\n",
       "      <td>0013-EXCHZ</td>\n",
       "      <td>Yes</td>\n",
       "      <td>{'gender': 'Female', 'SeniorCitizen': 1, 'Part...</td>\n",
       "      <td>{'PhoneService': 'Yes', 'MultipleLines': 'No'}</td>\n",
       "      <td>{'InternetService': 'Fiber optic', 'OnlineSecu...</td>\n",
       "      <td>{'Contract': 'Month-to-month', 'PaperlessBilli...</td>\n",
       "      <td>Female</td>\n",
       "      <td>1</td>\n",
       "      <td>Yes</td>\n",
       "      <td>No</td>\n",
       "      <td>...</td>\n",
       "      <td>No</td>\n",
       "      <td>No</td>\n",
       "      <td>Yes</td>\n",
       "      <td>Yes</td>\n",
       "      <td>No</td>\n",
       "      <td>Month-to-month</td>\n",
       "      <td>Yes</td>\n",
       "      <td>Mailed check</td>\n",
       "      <td>83.9</td>\n",
       "      <td>267.4</td>\n",
       "    </tr>\n",
       "  </tbody>\n",
       "</table>\n",
       "<p>5 rows × 25 columns</p>\n",
       "</div>"
      ],
      "text/plain": [
       "   customerID Churn                                           customer  \\\n",
       "0  0002-ORFBO    No  {'gender': 'Female', 'SeniorCitizen': 0, 'Part...   \n",
       "1  0003-MKNFE    No  {'gender': 'Male', 'SeniorCitizen': 0, 'Partne...   \n",
       "2  0004-TLHLJ   Yes  {'gender': 'Male', 'SeniorCitizen': 0, 'Partne...   \n",
       "3  0011-IGKFF   Yes  {'gender': 'Male', 'SeniorCitizen': 1, 'Partne...   \n",
       "4  0013-EXCHZ   Yes  {'gender': 'Female', 'SeniorCitizen': 1, 'Part...   \n",
       "\n",
       "                                             phone  \\\n",
       "0   {'PhoneService': 'Yes', 'MultipleLines': 'No'}   \n",
       "1  {'PhoneService': 'Yes', 'MultipleLines': 'Yes'}   \n",
       "2   {'PhoneService': 'Yes', 'MultipleLines': 'No'}   \n",
       "3   {'PhoneService': 'Yes', 'MultipleLines': 'No'}   \n",
       "4   {'PhoneService': 'Yes', 'MultipleLines': 'No'}   \n",
       "\n",
       "                                            internet  \\\n",
       "0  {'InternetService': 'DSL', 'OnlineSecurity': '...   \n",
       "1  {'InternetService': 'DSL', 'OnlineSecurity': '...   \n",
       "2  {'InternetService': 'Fiber optic', 'OnlineSecu...   \n",
       "3  {'InternetService': 'Fiber optic', 'OnlineSecu...   \n",
       "4  {'InternetService': 'Fiber optic', 'OnlineSecu...   \n",
       "\n",
       "                                             account  gender  SeniorCitizen  \\\n",
       "0  {'Contract': 'One year', 'PaperlessBilling': '...  Female              0   \n",
       "1  {'Contract': 'Month-to-month', 'PaperlessBilli...    Male              0   \n",
       "2  {'Contract': 'Month-to-month', 'PaperlessBilli...    Male              0   \n",
       "3  {'Contract': 'Month-to-month', 'PaperlessBilli...    Male              1   \n",
       "4  {'Contract': 'Month-to-month', 'PaperlessBilli...  Female              1   \n",
       "\n",
       "  Partner Dependents  ...  OnlineBackup DeviceProtection TechSupport  \\\n",
       "0     Yes        Yes  ...           Yes               No         Yes   \n",
       "1      No         No  ...            No               No          No   \n",
       "2      No         No  ...            No              Yes          No   \n",
       "3     Yes         No  ...           Yes              Yes          No   \n",
       "4     Yes         No  ...            No               No         Yes   \n",
       "\n",
       "  StreamingTV StreamingMovies        Contract PaperlessBilling  \\\n",
       "0         Yes              No        One year              Yes   \n",
       "1          No             Yes  Month-to-month               No   \n",
       "2          No              No  Month-to-month              Yes   \n",
       "3         Yes             Yes  Month-to-month              Yes   \n",
       "4         Yes              No  Month-to-month              Yes   \n",
       "\n",
       "      PaymentMethod Charges_Monthly Charges_Total  \n",
       "0      Mailed check            65.6         593.3  \n",
       "1      Mailed check            59.9         542.4  \n",
       "2  Electronic check            73.9        280.85  \n",
       "3  Electronic check            98.0       1237.85  \n",
       "4      Mailed check            83.9         267.4  \n",
       "\n",
       "[5 rows x 25 columns]"
      ]
     },
     "execution_count": 5,
     "metadata": {},
     "output_type": "execute_result"
    }
   ],
   "source": [
    "#separando os dicts\n",
    "\n",
    "for dict in ['customer', 'phone', 'internet', 'account']:\n",
    "    dict_normal = pd.json_normalize(data=dados[dict], sep='_')\n",
    "    dados = pd.concat([dados, dict_normal], axis=1)\n",
    "    \n",
    "dados.head()"
   ]
  },
  {
   "cell_type": "code",
   "execution_count": 6,
   "id": "85a66f36",
   "metadata": {
    "execution": {
     "iopub.execute_input": "2022-07-05T21:16:37.338061Z",
     "iopub.status.busy": "2022-07-05T21:16:37.337657Z",
     "iopub.status.idle": "2022-07-05T21:16:37.365525Z",
     "shell.execute_reply": "2022-07-05T21:16:37.364429Z"
    },
    "papermill": {
     "duration": 0.039352,
     "end_time": "2022-07-05T21:16:37.368333",
     "exception": false,
     "start_time": "2022-07-05T21:16:37.328981",
     "status": "completed"
    },
    "tags": []
   },
   "outputs": [],
   "source": [
    "dados.drop(['customer', 'phone', 'internet', 'account'], inplace=True, axis=1)"
   ]
  },
  {
   "cell_type": "code",
   "execution_count": 7,
   "id": "1a61e9fd",
   "metadata": {
    "execution": {
     "iopub.execute_input": "2022-07-05T21:16:37.384687Z",
     "iopub.status.busy": "2022-07-05T21:16:37.384282Z",
     "iopub.status.idle": "2022-07-05T21:16:37.391838Z",
     "shell.execute_reply": "2022-07-05T21:16:37.390698Z"
    },
    "papermill": {
     "duration": 0.018562,
     "end_time": "2022-07-05T21:16:37.394355",
     "exception": false,
     "start_time": "2022-07-05T21:16:37.375793",
     "status": "completed"
    },
    "tags": []
   },
   "outputs": [
    {
     "name": "stdout",
     "output_type": "stream",
     "text": [
      "customerID <class 'str'>\n",
      "Churn <class 'str'>\n",
      "gender <class 'str'>\n",
      "SeniorCitizen <class 'numpy.int64'>\n",
      "Partner <class 'str'>\n",
      "Dependents <class 'str'>\n",
      "tenure <class 'numpy.int64'>\n",
      "PhoneService <class 'str'>\n",
      "MultipleLines <class 'str'>\n",
      "InternetService <class 'str'>\n",
      "OnlineSecurity <class 'str'>\n",
      "OnlineBackup <class 'str'>\n",
      "DeviceProtection <class 'str'>\n",
      "TechSupport <class 'str'>\n",
      "StreamingTV <class 'str'>\n",
      "StreamingMovies <class 'str'>\n",
      "Contract <class 'str'>\n",
      "PaperlessBilling <class 'str'>\n",
      "PaymentMethod <class 'str'>\n",
      "Charges_Monthly <class 'numpy.float64'>\n",
      "Charges_Total <class 'str'>\n"
     ]
    }
   ],
   "source": [
    "for column in dados.columns:\n",
    "    print(column, type(dados[column][0]))"
   ]
  },
  {
   "cell_type": "code",
   "execution_count": 8,
   "id": "0f8cd479",
   "metadata": {
    "execution": {
     "iopub.execute_input": "2022-07-05T21:16:37.411454Z",
     "iopub.status.busy": "2022-07-05T21:16:37.410586Z",
     "iopub.status.idle": "2022-07-05T21:16:37.464401Z",
     "shell.execute_reply": "2022-07-05T21:16:37.463214Z"
    },
    "papermill": {
     "duration": 0.065743,
     "end_time": "2022-07-05T21:16:37.467635",
     "exception": false,
     "start_time": "2022-07-05T21:16:37.401892",
     "status": "completed"
    },
    "tags": []
   },
   "outputs": [
    {
     "name": "stdout",
     "output_type": "stream",
     "text": [
      "Male      3675\n",
      "Female    3592\n",
      "Name: gender, dtype: int64\n",
      "No     3749\n",
      "Yes    3518\n",
      "Name: Partner, dtype: int64\n",
      "No     5086\n",
      "Yes    2181\n",
      "Name: Dependents, dtype: int64\n",
      "Yes    6560\n",
      "No      707\n",
      "Name: PhoneService, dtype: int64\n",
      "No                  3495\n",
      "Yes                 3065\n",
      "No phone service     707\n",
      "Name: MultipleLines, dtype: int64\n",
      "Fiber optic    3198\n",
      "DSL            2488\n",
      "No             1581\n",
      "Name: InternetService, dtype: int64\n",
      "No                     3608\n",
      "Yes                    2078\n",
      "No internet service    1581\n",
      "Name: OnlineSecurity, dtype: int64\n",
      "No                     3182\n",
      "Yes                    2504\n",
      "No internet service    1581\n",
      "Name: OnlineBackup, dtype: int64\n",
      "No                     3195\n",
      "Yes                    2491\n",
      "No internet service    1581\n",
      "Name: DeviceProtection, dtype: int64\n",
      "No                     3582\n",
      "Yes                    2104\n",
      "No internet service    1581\n",
      "Name: TechSupport, dtype: int64\n",
      "No                     2896\n",
      "Yes                    2790\n",
      "No internet service    1581\n",
      "Name: StreamingTV, dtype: int64\n",
      "No                     2870\n",
      "Yes                    2816\n",
      "No internet service    1581\n",
      "Name: StreamingMovies, dtype: int64\n",
      "Month-to-month    4005\n",
      "Two year          1743\n",
      "One year          1519\n",
      "Name: Contract, dtype: int64\n",
      "Yes    4311\n",
      "No     2956\n",
      "Name: PaperlessBilling, dtype: int64\n",
      "Electronic check             2445\n",
      "Mailed check                 1665\n",
      "Bank transfer (automatic)    1589\n",
      "Credit card (automatic)      1568\n",
      "Name: PaymentMethod, dtype: int64\n"
     ]
    }
   ],
   "source": [
    "strings = ['gender', 'Partner', 'Dependents', 'PhoneService', 'MultipleLines', 'InternetService', 'OnlineSecurity',\n",
    "          'OnlineBackup', 'DeviceProtection', 'TechSupport', 'StreamingTV', 'StreamingMovies', 'Contract',\n",
    "          'PaperlessBilling', 'PaymentMethod']\n",
    "for values in strings:\n",
    "    print(dados[values].value_counts())"
   ]
  },
  {
   "cell_type": "code",
   "execution_count": 9,
   "id": "40af227e",
   "metadata": {
    "execution": {
     "iopub.execute_input": "2022-07-05T21:16:37.486091Z",
     "iopub.status.busy": "2022-07-05T21:16:37.485679Z",
     "iopub.status.idle": "2022-07-05T21:16:37.521662Z",
     "shell.execute_reply": "2022-07-05T21:16:37.520463Z"
    },
    "papermill": {
     "duration": 0.048038,
     "end_time": "2022-07-05T21:16:37.524137",
     "exception": false,
     "start_time": "2022-07-05T21:16:37.476099",
     "status": "completed"
    },
    "tags": []
   },
   "outputs": [
    {
     "data": {
      "text/html": [
       "<div>\n",
       "<style scoped>\n",
       "    .dataframe tbody tr th:only-of-type {\n",
       "        vertical-align: middle;\n",
       "    }\n",
       "\n",
       "    .dataframe tbody tr th {\n",
       "        vertical-align: top;\n",
       "    }\n",
       "\n",
       "    .dataframe thead th {\n",
       "        text-align: right;\n",
       "    }\n",
       "</style>\n",
       "<table border=\"1\" class=\"dataframe\">\n",
       "  <thead>\n",
       "    <tr style=\"text-align: right;\">\n",
       "      <th></th>\n",
       "      <th>customerID</th>\n",
       "      <th>Churn</th>\n",
       "      <th>gender</th>\n",
       "      <th>SeniorCitizen</th>\n",
       "      <th>Partner</th>\n",
       "      <th>Dependents</th>\n",
       "      <th>tenure</th>\n",
       "      <th>PhoneService</th>\n",
       "      <th>MultipleLines</th>\n",
       "      <th>InternetService</th>\n",
       "      <th>...</th>\n",
       "      <th>OnlineBackup</th>\n",
       "      <th>DeviceProtection</th>\n",
       "      <th>TechSupport</th>\n",
       "      <th>StreamingTV</th>\n",
       "      <th>StreamingMovies</th>\n",
       "      <th>Contract</th>\n",
       "      <th>PaperlessBilling</th>\n",
       "      <th>PaymentMethod</th>\n",
       "      <th>Charges_Monthly</th>\n",
       "      <th>Charges_Total</th>\n",
       "    </tr>\n",
       "  </thead>\n",
       "  <tbody>\n",
       "    <tr>\n",
       "      <th>975</th>\n",
       "      <td>1371-DWPAZ</td>\n",
       "      <td>No</td>\n",
       "      <td>Female</td>\n",
       "      <td>0</td>\n",
       "      <td>Yes</td>\n",
       "      <td>Yes</td>\n",
       "      <td>0</td>\n",
       "      <td>No</td>\n",
       "      <td>No phone service</td>\n",
       "      <td>DSL</td>\n",
       "      <td>...</td>\n",
       "      <td>Yes</td>\n",
       "      <td>Yes</td>\n",
       "      <td>Yes</td>\n",
       "      <td>Yes</td>\n",
       "      <td>No</td>\n",
       "      <td>Two year</td>\n",
       "      <td>No</td>\n",
       "      <td>Credit card (automatic)</td>\n",
       "      <td>56.05</td>\n",
       "      <td></td>\n",
       "    </tr>\n",
       "    <tr>\n",
       "      <th>1775</th>\n",
       "      <td>2520-SGTTA</td>\n",
       "      <td>No</td>\n",
       "      <td>Female</td>\n",
       "      <td>0</td>\n",
       "      <td>Yes</td>\n",
       "      <td>Yes</td>\n",
       "      <td>0</td>\n",
       "      <td>Yes</td>\n",
       "      <td>No</td>\n",
       "      <td>No</td>\n",
       "      <td>...</td>\n",
       "      <td>No internet service</td>\n",
       "      <td>No internet service</td>\n",
       "      <td>No internet service</td>\n",
       "      <td>No internet service</td>\n",
       "      <td>No internet service</td>\n",
       "      <td>Two year</td>\n",
       "      <td>No</td>\n",
       "      <td>Mailed check</td>\n",
       "      <td>20.00</td>\n",
       "      <td></td>\n",
       "    </tr>\n",
       "    <tr>\n",
       "      <th>1955</th>\n",
       "      <td>2775-SEFEE</td>\n",
       "      <td>No</td>\n",
       "      <td>Male</td>\n",
       "      <td>0</td>\n",
       "      <td>No</td>\n",
       "      <td>Yes</td>\n",
       "      <td>0</td>\n",
       "      <td>Yes</td>\n",
       "      <td>Yes</td>\n",
       "      <td>DSL</td>\n",
       "      <td>...</td>\n",
       "      <td>Yes</td>\n",
       "      <td>No</td>\n",
       "      <td>Yes</td>\n",
       "      <td>No</td>\n",
       "      <td>No</td>\n",
       "      <td>Two year</td>\n",
       "      <td>Yes</td>\n",
       "      <td>Bank transfer (automatic)</td>\n",
       "      <td>61.90</td>\n",
       "      <td></td>\n",
       "    </tr>\n",
       "    <tr>\n",
       "      <th>2075</th>\n",
       "      <td>2923-ARZLG</td>\n",
       "      <td>No</td>\n",
       "      <td>Male</td>\n",
       "      <td>0</td>\n",
       "      <td>Yes</td>\n",
       "      <td>Yes</td>\n",
       "      <td>0</td>\n",
       "      <td>Yes</td>\n",
       "      <td>No</td>\n",
       "      <td>No</td>\n",
       "      <td>...</td>\n",
       "      <td>No internet service</td>\n",
       "      <td>No internet service</td>\n",
       "      <td>No internet service</td>\n",
       "      <td>No internet service</td>\n",
       "      <td>No internet service</td>\n",
       "      <td>One year</td>\n",
       "      <td>Yes</td>\n",
       "      <td>Mailed check</td>\n",
       "      <td>19.70</td>\n",
       "      <td></td>\n",
       "    </tr>\n",
       "    <tr>\n",
       "      <th>2232</th>\n",
       "      <td>3115-CZMZD</td>\n",
       "      <td>No</td>\n",
       "      <td>Male</td>\n",
       "      <td>0</td>\n",
       "      <td>No</td>\n",
       "      <td>Yes</td>\n",
       "      <td>0</td>\n",
       "      <td>Yes</td>\n",
       "      <td>No</td>\n",
       "      <td>No</td>\n",
       "      <td>...</td>\n",
       "      <td>No internet service</td>\n",
       "      <td>No internet service</td>\n",
       "      <td>No internet service</td>\n",
       "      <td>No internet service</td>\n",
       "      <td>No internet service</td>\n",
       "      <td>Two year</td>\n",
       "      <td>No</td>\n",
       "      <td>Mailed check</td>\n",
       "      <td>20.25</td>\n",
       "      <td></td>\n",
       "    </tr>\n",
       "    <tr>\n",
       "      <th>2308</th>\n",
       "      <td>3213-VVOLG</td>\n",
       "      <td>No</td>\n",
       "      <td>Male</td>\n",
       "      <td>0</td>\n",
       "      <td>Yes</td>\n",
       "      <td>Yes</td>\n",
       "      <td>0</td>\n",
       "      <td>Yes</td>\n",
       "      <td>Yes</td>\n",
       "      <td>No</td>\n",
       "      <td>...</td>\n",
       "      <td>No internet service</td>\n",
       "      <td>No internet service</td>\n",
       "      <td>No internet service</td>\n",
       "      <td>No internet service</td>\n",
       "      <td>No internet service</td>\n",
       "      <td>Two year</td>\n",
       "      <td>No</td>\n",
       "      <td>Mailed check</td>\n",
       "      <td>25.35</td>\n",
       "      <td></td>\n",
       "    </tr>\n",
       "    <tr>\n",
       "      <th>2930</th>\n",
       "      <td>4075-WKNIU</td>\n",
       "      <td>No</td>\n",
       "      <td>Female</td>\n",
       "      <td>0</td>\n",
       "      <td>Yes</td>\n",
       "      <td>Yes</td>\n",
       "      <td>0</td>\n",
       "      <td>Yes</td>\n",
       "      <td>Yes</td>\n",
       "      <td>DSL</td>\n",
       "      <td>...</td>\n",
       "      <td>Yes</td>\n",
       "      <td>Yes</td>\n",
       "      <td>Yes</td>\n",
       "      <td>Yes</td>\n",
       "      <td>No</td>\n",
       "      <td>Two year</td>\n",
       "      <td>No</td>\n",
       "      <td>Mailed check</td>\n",
       "      <td>73.35</td>\n",
       "      <td></td>\n",
       "    </tr>\n",
       "    <tr>\n",
       "      <th>3134</th>\n",
       "      <td>4367-NUYAO</td>\n",
       "      <td>No</td>\n",
       "      <td>Male</td>\n",
       "      <td>0</td>\n",
       "      <td>Yes</td>\n",
       "      <td>Yes</td>\n",
       "      <td>0</td>\n",
       "      <td>Yes</td>\n",
       "      <td>Yes</td>\n",
       "      <td>No</td>\n",
       "      <td>...</td>\n",
       "      <td>No internet service</td>\n",
       "      <td>No internet service</td>\n",
       "      <td>No internet service</td>\n",
       "      <td>No internet service</td>\n",
       "      <td>No internet service</td>\n",
       "      <td>Two year</td>\n",
       "      <td>No</td>\n",
       "      <td>Mailed check</td>\n",
       "      <td>25.75</td>\n",
       "      <td></td>\n",
       "    </tr>\n",
       "    <tr>\n",
       "      <th>3203</th>\n",
       "      <td>4472-LVYGI</td>\n",
       "      <td>No</td>\n",
       "      <td>Female</td>\n",
       "      <td>0</td>\n",
       "      <td>Yes</td>\n",
       "      <td>Yes</td>\n",
       "      <td>0</td>\n",
       "      <td>No</td>\n",
       "      <td>No phone service</td>\n",
       "      <td>DSL</td>\n",
       "      <td>...</td>\n",
       "      <td>No</td>\n",
       "      <td>Yes</td>\n",
       "      <td>Yes</td>\n",
       "      <td>Yes</td>\n",
       "      <td>No</td>\n",
       "      <td>Two year</td>\n",
       "      <td>Yes</td>\n",
       "      <td>Bank transfer (automatic)</td>\n",
       "      <td>52.55</td>\n",
       "      <td></td>\n",
       "    </tr>\n",
       "    <tr>\n",
       "      <th>4169</th>\n",
       "      <td>5709-LVOEQ</td>\n",
       "      <td>No</td>\n",
       "      <td>Female</td>\n",
       "      <td>0</td>\n",
       "      <td>Yes</td>\n",
       "      <td>Yes</td>\n",
       "      <td>0</td>\n",
       "      <td>Yes</td>\n",
       "      <td>No</td>\n",
       "      <td>DSL</td>\n",
       "      <td>...</td>\n",
       "      <td>Yes</td>\n",
       "      <td>Yes</td>\n",
       "      <td>No</td>\n",
       "      <td>Yes</td>\n",
       "      <td>Yes</td>\n",
       "      <td>Two year</td>\n",
       "      <td>No</td>\n",
       "      <td>Mailed check</td>\n",
       "      <td>80.85</td>\n",
       "      <td></td>\n",
       "    </tr>\n",
       "    <tr>\n",
       "      <th>5599</th>\n",
       "      <td>7644-OMVMY</td>\n",
       "      <td>No</td>\n",
       "      <td>Male</td>\n",
       "      <td>0</td>\n",
       "      <td>Yes</td>\n",
       "      <td>Yes</td>\n",
       "      <td>0</td>\n",
       "      <td>Yes</td>\n",
       "      <td>No</td>\n",
       "      <td>No</td>\n",
       "      <td>...</td>\n",
       "      <td>No internet service</td>\n",
       "      <td>No internet service</td>\n",
       "      <td>No internet service</td>\n",
       "      <td>No internet service</td>\n",
       "      <td>No internet service</td>\n",
       "      <td>Two year</td>\n",
       "      <td>No</td>\n",
       "      <td>Mailed check</td>\n",
       "      <td>19.85</td>\n",
       "      <td></td>\n",
       "    </tr>\n",
       "  </tbody>\n",
       "</table>\n",
       "<p>11 rows × 21 columns</p>\n",
       "</div>"
      ],
      "text/plain": [
       "      customerID Churn  gender  SeniorCitizen Partner Dependents  tenure  \\\n",
       "975   1371-DWPAZ    No  Female              0     Yes        Yes       0   \n",
       "1775  2520-SGTTA    No  Female              0     Yes        Yes       0   \n",
       "1955  2775-SEFEE    No    Male              0      No        Yes       0   \n",
       "2075  2923-ARZLG    No    Male              0     Yes        Yes       0   \n",
       "2232  3115-CZMZD    No    Male              0      No        Yes       0   \n",
       "2308  3213-VVOLG    No    Male              0     Yes        Yes       0   \n",
       "2930  4075-WKNIU    No  Female              0     Yes        Yes       0   \n",
       "3134  4367-NUYAO    No    Male              0     Yes        Yes       0   \n",
       "3203  4472-LVYGI    No  Female              0     Yes        Yes       0   \n",
       "4169  5709-LVOEQ    No  Female              0     Yes        Yes       0   \n",
       "5599  7644-OMVMY    No    Male              0     Yes        Yes       0   \n",
       "\n",
       "     PhoneService     MultipleLines InternetService  ...         OnlineBackup  \\\n",
       "975            No  No phone service             DSL  ...                  Yes   \n",
       "1775          Yes                No              No  ...  No internet service   \n",
       "1955          Yes               Yes             DSL  ...                  Yes   \n",
       "2075          Yes                No              No  ...  No internet service   \n",
       "2232          Yes                No              No  ...  No internet service   \n",
       "2308          Yes               Yes              No  ...  No internet service   \n",
       "2930          Yes               Yes             DSL  ...                  Yes   \n",
       "3134          Yes               Yes              No  ...  No internet service   \n",
       "3203           No  No phone service             DSL  ...                   No   \n",
       "4169          Yes                No             DSL  ...                  Yes   \n",
       "5599          Yes                No              No  ...  No internet service   \n",
       "\n",
       "         DeviceProtection          TechSupport          StreamingTV  \\\n",
       "975                   Yes                  Yes                  Yes   \n",
       "1775  No internet service  No internet service  No internet service   \n",
       "1955                   No                  Yes                   No   \n",
       "2075  No internet service  No internet service  No internet service   \n",
       "2232  No internet service  No internet service  No internet service   \n",
       "2308  No internet service  No internet service  No internet service   \n",
       "2930                  Yes                  Yes                  Yes   \n",
       "3134  No internet service  No internet service  No internet service   \n",
       "3203                  Yes                  Yes                  Yes   \n",
       "4169                  Yes                   No                  Yes   \n",
       "5599  No internet service  No internet service  No internet service   \n",
       "\n",
       "          StreamingMovies  Contract PaperlessBilling  \\\n",
       "975                    No  Two year               No   \n",
       "1775  No internet service  Two year               No   \n",
       "1955                   No  Two year              Yes   \n",
       "2075  No internet service  One year              Yes   \n",
       "2232  No internet service  Two year               No   \n",
       "2308  No internet service  Two year               No   \n",
       "2930                   No  Two year               No   \n",
       "3134  No internet service  Two year               No   \n",
       "3203                   No  Two year              Yes   \n",
       "4169                  Yes  Two year               No   \n",
       "5599  No internet service  Two year               No   \n",
       "\n",
       "                  PaymentMethod Charges_Monthly  Charges_Total  \n",
       "975     Credit card (automatic)           56.05                 \n",
       "1775               Mailed check           20.00                 \n",
       "1955  Bank transfer (automatic)           61.90                 \n",
       "2075               Mailed check           19.70                 \n",
       "2232               Mailed check           20.25                 \n",
       "2308               Mailed check           25.35                 \n",
       "2930               Mailed check           73.35                 \n",
       "3134               Mailed check           25.75                 \n",
       "3203  Bank transfer (automatic)           52.55                 \n",
       "4169               Mailed check           80.85                 \n",
       "5599               Mailed check           19.85                 \n",
       "\n",
       "[11 rows x 21 columns]"
      ]
     },
     "execution_count": 9,
     "metadata": {},
     "output_type": "execute_result"
    }
   ],
   "source": [
    "#11 desses dados não possuem valor.\n",
    "dados.query(\"Charges_Total == ' '\")"
   ]
  },
  {
   "cell_type": "code",
   "execution_count": 10,
   "id": "163b3bd0",
   "metadata": {
    "execution": {
     "iopub.execute_input": "2022-07-05T21:16:37.543045Z",
     "iopub.status.busy": "2022-07-05T21:16:37.542680Z",
     "iopub.status.idle": "2022-07-05T21:16:37.562949Z",
     "shell.execute_reply": "2022-07-05T21:16:37.561478Z"
    },
    "papermill": {
     "duration": 0.033186,
     "end_time": "2022-07-05T21:16:37.565901",
     "exception": false,
     "start_time": "2022-07-05T21:16:37.532715",
     "status": "completed"
    },
    "tags": []
   },
   "outputs": [
    {
     "name": "stdout",
     "output_type": "stream",
     "text": [
      "<class 'str'>\n",
      "<class 'numpy.float64'>\n"
     ]
    }
   ],
   "source": [
    "#Charges Total não devira ser str, vamos converter em float.\n",
    "#Existem dados faltantes, vamos utilizar coerce para transformar os erros em NaN.\n",
    "\n",
    "print(type(dados['Charges_Total'][0]))\n",
    "\n",
    "dados['Charges_Total'] = pd.to_numeric(dados['Charges_Total'], errors='coerce')\n",
    "\n",
    "print(type(dados['Charges_Total'][0]))"
   ]
  },
  {
   "cell_type": "code",
   "execution_count": 11,
   "id": "03c4201c",
   "metadata": {
    "execution": {
     "iopub.execute_input": "2022-07-05T21:16:37.585568Z",
     "iopub.status.busy": "2022-07-05T21:16:37.585173Z",
     "iopub.status.idle": "2022-07-05T21:16:37.590767Z",
     "shell.execute_reply": "2022-07-05T21:16:37.589994Z"
    },
    "papermill": {
     "duration": 0.018883,
     "end_time": "2022-07-05T21:16:37.593861",
     "exception": false,
     "start_time": "2022-07-05T21:16:37.574978",
     "status": "completed"
    },
    "tags": []
   },
   "outputs": [
    {
     "name": "stdout",
     "output_type": "stream",
     "text": [
      "11\n"
     ]
    }
   ],
   "source": [
    "#Confirmando que somente os 11 vazios foram convertidos em NaN\n",
    "print(dados['Charges_Total'].isna().sum())"
   ]
  },
  {
   "cell_type": "code",
   "execution_count": 12,
   "id": "a19928dc",
   "metadata": {
    "execution": {
     "iopub.execute_input": "2022-07-05T21:16:37.613909Z",
     "iopub.status.busy": "2022-07-05T21:16:37.613534Z",
     "iopub.status.idle": "2022-07-05T21:16:37.647019Z",
     "shell.execute_reply": "2022-07-05T21:16:37.645841Z"
    },
    "papermill": {
     "duration": 0.046103,
     "end_time": "2022-07-05T21:16:37.649604",
     "exception": false,
     "start_time": "2022-07-05T21:16:37.603501",
     "status": "completed"
    },
    "tags": []
   },
   "outputs": [
    {
     "name": "stdout",
     "output_type": "stream",
     "text": [
      "customerID 0\n",
      "Churn 0\n",
      "gender 0\n",
      "SeniorCitizen 0\n",
      "Partner 0\n",
      "Dependents 0\n",
      "tenure 0\n",
      "PhoneService 0\n",
      "MultipleLines 0\n",
      "InternetService 0\n",
      "OnlineSecurity 0\n",
      "OnlineBackup 0\n",
      "DeviceProtection 0\n",
      "TechSupport 0\n",
      "StreamingTV 0\n",
      "StreamingMovies 0\n",
      "Contract 0\n",
      "PaperlessBilling 0\n",
      "PaymentMethod 0\n",
      "Charges_Monthly 0\n",
      "Charges_Total 11\n"
     ]
    }
   ],
   "source": [
    "#Verificando NaN no dataset\n",
    "for valor in dados.columns:\n",
    "    print(valor, dados[valor].isna().sum())"
   ]
  },
  {
   "cell_type": "code",
   "execution_count": 13,
   "id": "41575da9",
   "metadata": {
    "execution": {
     "iopub.execute_input": "2022-07-05T21:16:37.668632Z",
     "iopub.status.busy": "2022-07-05T21:16:37.668198Z",
     "iopub.status.idle": "2022-07-05T21:16:37.704913Z",
     "shell.execute_reply": "2022-07-05T21:16:37.703389Z"
    },
    "papermill": {
     "duration": 0.049165,
     "end_time": "2022-07-05T21:16:37.707353",
     "exception": false,
     "start_time": "2022-07-05T21:16:37.658188",
     "status": "completed"
    },
    "tags": []
   },
   "outputs": [
    {
     "name": "stdout",
     "output_type": "stream",
     "text": [
      "7267\n",
      "7256\n"
     ]
    }
   ],
   "source": [
    "#Como é um dataset com mais de 7000 entradas e esses 11 valores parecem não ter sido colocados por erro, \n",
    "#iremos tirar esses 11.\n",
    "print(dados.shape[0])\n",
    "dados.dropna(inplace=True)\n",
    "print(dados.shape[0])"
   ]
  },
  {
   "cell_type": "markdown",
   "id": "712bd960",
   "metadata": {
    "papermill": {
     "duration": 0.008378,
     "end_time": "2022-07-05T21:16:37.724610",
     "exception": false,
     "start_time": "2022-07-05T21:16:37.716232",
     "status": "completed"
    },
    "tags": []
   },
   "source": [
    "Vamos traduzir o dataframe"
   ]
  },
  {
   "cell_type": "code",
   "execution_count": 14,
   "id": "17ef0130",
   "metadata": {
    "execution": {
     "iopub.execute_input": "2022-07-05T21:16:37.743745Z",
     "iopub.status.busy": "2022-07-05T21:16:37.743326Z",
     "iopub.status.idle": "2022-07-05T21:16:37.748450Z",
     "shell.execute_reply": "2022-07-05T21:16:37.747625Z"
    },
    "papermill": {
     "duration": 0.019496,
     "end_time": "2022-07-05T21:16:37.752529",
     "exception": false,
     "start_time": "2022-07-05T21:16:37.733033",
     "status": "completed"
    },
    "tags": []
   },
   "outputs": [
    {
     "name": "stdout",
     "output_type": "stream",
     "text": [
      "Index(['customerID', 'Churn', 'gender', 'SeniorCitizen', 'Partner',\n",
      "       'Dependents', 'tenure', 'PhoneService', 'MultipleLines',\n",
      "       'InternetService', 'OnlineSecurity', 'OnlineBackup', 'DeviceProtection',\n",
      "       'TechSupport', 'StreamingTV', 'StreamingMovies', 'Contract',\n",
      "       'PaperlessBilling', 'PaymentMethod', 'Charges_Monthly',\n",
      "       'Charges_Total'],\n",
      "      dtype='object')\n"
     ]
    }
   ],
   "source": [
    "print(dados.columns)"
   ]
  },
  {
   "cell_type": "code",
   "execution_count": 15,
   "id": "e667a28d",
   "metadata": {
    "execution": {
     "iopub.execute_input": "2022-07-05T21:16:37.771690Z",
     "iopub.status.busy": "2022-07-05T21:16:37.771291Z",
     "iopub.status.idle": "2022-07-05T21:16:37.779817Z",
     "shell.execute_reply": "2022-07-05T21:16:37.779042Z"
    },
    "papermill": {
     "duration": 0.020491,
     "end_time": "2022-07-05T21:16:37.781845",
     "exception": false,
     "start_time": "2022-07-05T21:16:37.761354",
     "status": "completed"
    },
    "tags": []
   },
   "outputs": [
    {
     "name": "stdout",
     "output_type": "stream",
     "text": [
      "Index(['ID_Cliente', 'Churn', 'Genero', 'E_Idoso', 'Tem_Parceiro',\n",
      "       'Tem_Dependentes', 'Tempo_de_Posse', 'Tem_Servico_Telefone',\n",
      "       'Tem_Multiplas_Linhas', 'Tem_Servico_Internet',\n",
      "       'Tem_Servico_Seguranca_Online', 'Tem_Backup_Online',\n",
      "       'Tem_Protecao_Aparelho', 'Tem_Suporte_Tecnico', 'Tem_Tv_Streaming',\n",
      "       'Tem_Filmes_Streaming', 'Contrato', 'Cobranca_Sem_Papel',\n",
      "       'Metodo_de_Pagamento', 'Cobra_Mensalmente', 'Cobranca_Total'],\n",
      "      dtype='object')\n"
     ]
    }
   ],
   "source": [
    "#Começando por renomear as colunas (churn é um termo importado e não será mudado)\n",
    "dados.rename(columns={'customerID': 'ID_Cliente', 'gender': 'Genero', 'SeniorCitizen': 'E_Idoso',\n",
    "                     'Partner': 'Tem_Parceiro', 'Dependents': 'Tem_Dependentes', 'tenure': 'Tempo_de_Posse',\n",
    "                     'PhoneService': 'Tem_Servico_Telefone', 'MultipleLines': 'Tem_Multiplas_Linhas',\n",
    "                     'InternetService': 'Tem_Servico_Internet', 'OnlineSecurity': 'Tem_Servico_Seguranca_Online',\n",
    "                     'OnlineBackup': 'Tem_Backup_Online', 'DeviceProtection': 'Tem_Protecao_Aparelho',\n",
    "                     'TechSupport': 'Tem_Suporte_Tecnico', 'StreamingTV': 'Tem_Tv_Streaming', 'StreamingMovies': 'Tem_Filmes_Streaming',\n",
    "                     'Contract': 'Contrato', 'PaperlessBilling': 'Cobranca_Sem_Papel', 'PaymentMethod': 'Metodo_de_Pagamento',\n",
    "                     'Charges_Monthly': 'Cobra_Mensalmente', 'Charges_Total': 'Cobranca_Total'}, inplace=True)\n",
    "print(dados.columns)"
   ]
  },
  {
   "cell_type": "code",
   "execution_count": 16,
   "id": "ba140bf8",
   "metadata": {
    "execution": {
     "iopub.execute_input": "2022-07-05T21:16:37.801301Z",
     "iopub.status.busy": "2022-07-05T21:16:37.800945Z",
     "iopub.status.idle": "2022-07-05T21:16:37.814314Z",
     "shell.execute_reply": "2022-07-05T21:16:37.813121Z"
    },
    "papermill": {
     "duration": 0.025667,
     "end_time": "2022-07-05T21:16:37.816679",
     "exception": false,
     "start_time": "2022-07-05T21:16:37.791012",
     "status": "completed"
    },
    "tags": []
   },
   "outputs": [
    {
     "data": {
      "text/plain": [
       "20.05     65\n",
       "19.90     46\n",
       "19.55     45\n",
       "19.85     45\n",
       "19.95     44\n",
       "          ..\n",
       "23.45      1\n",
       "116.55     1\n",
       "106.85     1\n",
       "68.55      1\n",
       "67.85      1\n",
       "Name: Cobra_Mensalmente, Length: 1584, dtype: int64"
      ]
     },
     "execution_count": 16,
     "metadata": {},
     "output_type": "execute_result"
    }
   ],
   "source": [
    "dados.Cobra_Mensalmente.value_counts()"
   ]
  },
  {
   "cell_type": "code",
   "execution_count": 17,
   "id": "690cd5a5",
   "metadata": {
    "execution": {
     "iopub.execute_input": "2022-07-05T21:16:37.836563Z",
     "iopub.status.busy": "2022-07-05T21:16:37.836166Z",
     "iopub.status.idle": "2022-07-05T21:16:38.004124Z",
     "shell.execute_reply": "2022-07-05T21:16:38.003234Z"
    },
    "papermill": {
     "duration": 0.180627,
     "end_time": "2022-07-05T21:16:38.006510",
     "exception": false,
     "start_time": "2022-07-05T21:16:37.825883",
     "status": "completed"
    },
    "tags": []
   },
   "outputs": [],
   "source": [
    "#Traduzir resultados \n",
    "dados.replace('Yes', 1, inplace=True)\n",
    "dados.replace('No', 0, inplace=True)\n",
    "dados.replace('Female', 0, inplace=True)\n",
    "dados.replace('Male', 1, inplace=True)\n",
    "dados.replace('Fiber optic', 1, inplace=True)\n",
    "dados.replace('DSL', 2, inplace=True)\n",
    "dados.replace('No phone service', 999, inplace=True)\n",
    "dados.replace('No internet service', 999, inplace=True)\n",
    "dados.replace('Month-to-month', 0, inplace=True)\n",
    "dados.replace('Two year', 2, inplace=True)\n",
    "dados.replace('One year', 1, inplace=True)\n",
    "dados.replace('Electronic check', 0, inplace=True)\n",
    "dados.replace('Mailed check', 1, inplace=True)\n",
    "dados.replace('Bank transfer (automatic)', 2, inplace=True)\n",
    "dados.replace('Credit card (automatic)', 3, inplace=True)"
   ]
  },
  {
   "cell_type": "code",
   "execution_count": 18,
   "id": "0565dca7",
   "metadata": {
    "execution": {
     "iopub.execute_input": "2022-07-05T21:16:38.026383Z",
     "iopub.status.busy": "2022-07-05T21:16:38.025811Z",
     "iopub.status.idle": "2022-07-05T21:16:38.035350Z",
     "shell.execute_reply": "2022-07-05T21:16:38.034107Z"
    },
    "papermill": {
     "duration": 0.022357,
     "end_time": "2022-07-05T21:16:38.037771",
     "exception": false,
     "start_time": "2022-07-05T21:16:38.015414",
     "status": "completed"
    },
    "tags": []
   },
   "outputs": [
    {
     "data": {
      "text/plain": [
       "0       2.19\n",
       "1       2.00\n",
       "2       2.46\n",
       "3       3.27\n",
       "4       2.80\n",
       "        ... \n",
       "7262    1.84\n",
       "7263    2.84\n",
       "7264    1.68\n",
       "7265    2.26\n",
       "7266    1.97\n",
       "Name: Gastos_Diarios, Length: 7256, dtype: float64"
      ]
     },
     "execution_count": 18,
     "metadata": {},
     "output_type": "execute_result"
    }
   ],
   "source": [
    "#Vamos criar uma coluna com os gastos diários de cada indivíduo baseando-se no gasto mensal\n",
    "dados['Gastos_Diarios'] = (dados['Cobra_Mensalmente']/30).round(2)\n",
    "dados['Gastos_Diarios']"
   ]
  },
  {
   "cell_type": "code",
   "execution_count": 19,
   "id": "ef9fb804",
   "metadata": {
    "execution": {
     "iopub.execute_input": "2022-07-05T21:16:38.058247Z",
     "iopub.status.busy": "2022-07-05T21:16:38.057860Z",
     "iopub.status.idle": "2022-07-05T21:16:38.067978Z",
     "shell.execute_reply": "2022-07-05T21:16:38.066569Z"
    },
    "papermill": {
     "duration": 0.023004,
     "end_time": "2022-07-05T21:16:38.070214",
     "exception": false,
     "start_time": "2022-07-05T21:16:38.047210",
     "status": "completed"
    },
    "tags": []
   },
   "outputs": [
    {
     "data": {
      "text/plain": [
       "0    5163\n",
       "1    1869\n",
       "      224\n",
       "Name: Churn, dtype: int64"
      ]
     },
     "execution_count": 19,
     "metadata": {},
     "output_type": "execute_result"
    }
   ],
   "source": [
    "dados.Churn.value_counts() #existem 224 sem o dado de Churn\n"
   ]
  },
  {
   "cell_type": "code",
   "execution_count": 20,
   "id": "bab4149f",
   "metadata": {
    "execution": {
     "iopub.execute_input": "2022-07-05T21:16:38.091600Z",
     "iopub.status.busy": "2022-07-05T21:16:38.090865Z",
     "iopub.status.idle": "2022-07-05T21:16:38.110653Z",
     "shell.execute_reply": "2022-07-05T21:16:38.109788Z"
    },
    "papermill": {
     "duration": 0.033069,
     "end_time": "2022-07-05T21:16:38.112804",
     "exception": false,
     "start_time": "2022-07-05T21:16:38.079735",
     "status": "completed"
    },
    "tags": []
   },
   "outputs": [
    {
     "data": {
      "text/plain": [
       "0    5163\n",
       "1    1869\n",
       "Name: Churn, dtype: int64"
      ]
     },
     "execution_count": 20,
     "metadata": {},
     "output_type": "execute_result"
    }
   ],
   "source": [
    "tirar = dados.query('Churn != 0 & Churn !=1').index\n",
    "dados.drop(labels=tirar, axis=0, inplace=True)\n",
    "dados.Churn.value_counts()"
   ]
  },
  {
   "cell_type": "code",
   "execution_count": null,
   "id": "643cca6c",
   "metadata": {
    "papermill": {
     "duration": 0.00877,
     "end_time": "2022-07-05T21:16:38.130653",
     "exception": false,
     "start_time": "2022-07-05T21:16:38.121883",
     "status": "completed"
    },
    "tags": []
   },
   "outputs": [],
   "source": []
  }
 ],
 "metadata": {
  "kernelspec": {
   "display_name": "Python 3",
   "language": "python",
   "name": "python3"
  },
  "language_info": {
   "codemirror_mode": {
    "name": "ipython",
    "version": 3
   },
   "file_extension": ".py",
   "mimetype": "text/x-python",
   "name": "python",
   "nbconvert_exporter": "python",
   "pygments_lexer": "ipython3",
   "version": "3.7.12"
  },
  "papermill": {
   "default_parameters": {},
   "duration": 12.325314,
   "end_time": "2022-07-05T21:16:38.762880",
   "environment_variables": {},
   "exception": null,
   "input_path": "__notebook__.ipynb",
   "output_path": "__notebook__.ipynb",
   "parameters": {},
   "start_time": "2022-07-05T21:16:26.437566",
   "version": "2.3.4"
  }
 },
 "nbformat": 4,
 "nbformat_minor": 5
}

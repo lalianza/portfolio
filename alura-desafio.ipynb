{
 "cells": [
  {
   "cell_type": "code",
   "execution_count": 1,
   "id": "3e73463f",
   "metadata": {
    "execution": {
     "iopub.execute_input": "2022-07-06T00:15:35.395149Z",
     "iopub.status.busy": "2022-07-06T00:15:35.394728Z",
     "iopub.status.idle": "2022-07-06T00:15:35.842025Z",
     "shell.execute_reply": "2022-07-06T00:15:35.840879Z"
    },
    "papermill": {
     "duration": 0.460508,
     "end_time": "2022-07-06T00:15:35.845345",
     "exception": false,
     "start_time": "2022-07-06T00:15:35.384837",
     "status": "completed"
    },
    "tags": []
   },
   "outputs": [
    {
     "data": {
      "text/html": [
       "<div>\n",
       "<style scoped>\n",
       "    .dataframe tbody tr th:only-of-type {\n",
       "        vertical-align: middle;\n",
       "    }\n",
       "\n",
       "    .dataframe tbody tr th {\n",
       "        vertical-align: top;\n",
       "    }\n",
       "\n",
       "    .dataframe thead th {\n",
       "        text-align: right;\n",
       "    }\n",
       "</style>\n",
       "<table border=\"1\" class=\"dataframe\">\n",
       "  <thead>\n",
       "    <tr style=\"text-align: right;\">\n",
       "      <th></th>\n",
       "      <th>customerID</th>\n",
       "      <th>Churn</th>\n",
       "      <th>customer</th>\n",
       "      <th>phone</th>\n",
       "      <th>internet</th>\n",
       "      <th>account</th>\n",
       "    </tr>\n",
       "  </thead>\n",
       "  <tbody>\n",
       "    <tr>\n",
       "      <th>0</th>\n",
       "      <td>0002-ORFBO</td>\n",
       "      <td>No</td>\n",
       "      <td>{'gender': 'Female', 'SeniorCitizen': 0, 'Part...</td>\n",
       "      <td>{'PhoneService': 'Yes', 'MultipleLines': 'No'}</td>\n",
       "      <td>{'InternetService': 'DSL', 'OnlineSecurity': '...</td>\n",
       "      <td>{'Contract': 'One year', 'PaperlessBilling': '...</td>\n",
       "    </tr>\n",
       "    <tr>\n",
       "      <th>1</th>\n",
       "      <td>0003-MKNFE</td>\n",
       "      <td>No</td>\n",
       "      <td>{'gender': 'Male', 'SeniorCitizen': 0, 'Partne...</td>\n",
       "      <td>{'PhoneService': 'Yes', 'MultipleLines': 'Yes'}</td>\n",
       "      <td>{'InternetService': 'DSL', 'OnlineSecurity': '...</td>\n",
       "      <td>{'Contract': 'Month-to-month', 'PaperlessBilli...</td>\n",
       "    </tr>\n",
       "    <tr>\n",
       "      <th>2</th>\n",
       "      <td>0004-TLHLJ</td>\n",
       "      <td>Yes</td>\n",
       "      <td>{'gender': 'Male', 'SeniorCitizen': 0, 'Partne...</td>\n",
       "      <td>{'PhoneService': 'Yes', 'MultipleLines': 'No'}</td>\n",
       "      <td>{'InternetService': 'Fiber optic', 'OnlineSecu...</td>\n",
       "      <td>{'Contract': 'Month-to-month', 'PaperlessBilli...</td>\n",
       "    </tr>\n",
       "    <tr>\n",
       "      <th>3</th>\n",
       "      <td>0011-IGKFF</td>\n",
       "      <td>Yes</td>\n",
       "      <td>{'gender': 'Male', 'SeniorCitizen': 1, 'Partne...</td>\n",
       "      <td>{'PhoneService': 'Yes', 'MultipleLines': 'No'}</td>\n",
       "      <td>{'InternetService': 'Fiber optic', 'OnlineSecu...</td>\n",
       "      <td>{'Contract': 'Month-to-month', 'PaperlessBilli...</td>\n",
       "    </tr>\n",
       "    <tr>\n",
       "      <th>4</th>\n",
       "      <td>0013-EXCHZ</td>\n",
       "      <td>Yes</td>\n",
       "      <td>{'gender': 'Female', 'SeniorCitizen': 1, 'Part...</td>\n",
       "      <td>{'PhoneService': 'Yes', 'MultipleLines': 'No'}</td>\n",
       "      <td>{'InternetService': 'Fiber optic', 'OnlineSecu...</td>\n",
       "      <td>{'Contract': 'Month-to-month', 'PaperlessBilli...</td>\n",
       "    </tr>\n",
       "  </tbody>\n",
       "</table>\n",
       "</div>"
      ],
      "text/plain": [
       "   customerID Churn                                           customer  \\\n",
       "0  0002-ORFBO    No  {'gender': 'Female', 'SeniorCitizen': 0, 'Part...   \n",
       "1  0003-MKNFE    No  {'gender': 'Male', 'SeniorCitizen': 0, 'Partne...   \n",
       "2  0004-TLHLJ   Yes  {'gender': 'Male', 'SeniorCitizen': 0, 'Partne...   \n",
       "3  0011-IGKFF   Yes  {'gender': 'Male', 'SeniorCitizen': 1, 'Partne...   \n",
       "4  0013-EXCHZ   Yes  {'gender': 'Female', 'SeniorCitizen': 1, 'Part...   \n",
       "\n",
       "                                             phone  \\\n",
       "0   {'PhoneService': 'Yes', 'MultipleLines': 'No'}   \n",
       "1  {'PhoneService': 'Yes', 'MultipleLines': 'Yes'}   \n",
       "2   {'PhoneService': 'Yes', 'MultipleLines': 'No'}   \n",
       "3   {'PhoneService': 'Yes', 'MultipleLines': 'No'}   \n",
       "4   {'PhoneService': 'Yes', 'MultipleLines': 'No'}   \n",
       "\n",
       "                                            internet  \\\n",
       "0  {'InternetService': 'DSL', 'OnlineSecurity': '...   \n",
       "1  {'InternetService': 'DSL', 'OnlineSecurity': '...   \n",
       "2  {'InternetService': 'Fiber optic', 'OnlineSecu...   \n",
       "3  {'InternetService': 'Fiber optic', 'OnlineSecu...   \n",
       "4  {'InternetService': 'Fiber optic', 'OnlineSecu...   \n",
       "\n",
       "                                             account  \n",
       "0  {'Contract': 'One year', 'PaperlessBilling': '...  \n",
       "1  {'Contract': 'Month-to-month', 'PaperlessBilli...  \n",
       "2  {'Contract': 'Month-to-month', 'PaperlessBilli...  \n",
       "3  {'Contract': 'Month-to-month', 'PaperlessBilli...  \n",
       "4  {'Contract': 'Month-to-month', 'PaperlessBilli...  "
      ]
     },
     "execution_count": 1,
     "metadata": {},
     "output_type": "execute_result"
    }
   ],
   "source": [
    "import pandas as pd\n",
    "\n",
    "data = \"https://raw.githubusercontent.com/sthemonica/alura-voz/main/Dados/Telco-Customer-Churn.json\"\n",
    "dados = pd.read_json(data)\n",
    "dados.head()"
   ]
  },
  {
   "cell_type": "code",
   "execution_count": 2,
   "id": "dc127599",
   "metadata": {
    "execution": {
     "iopub.execute_input": "2022-07-06T00:15:35.862526Z",
     "iopub.status.busy": "2022-07-06T00:15:35.862163Z",
     "iopub.status.idle": "2022-07-06T00:15:35.868932Z",
     "shell.execute_reply": "2022-07-06T00:15:35.867739Z"
    },
    "papermill": {
     "duration": 0.018085,
     "end_time": "2022-07-06T00:15:35.871188",
     "exception": false,
     "start_time": "2022-07-06T00:15:35.853103",
     "status": "completed"
    },
    "tags": []
   },
   "outputs": [
    {
     "name": "stdout",
     "output_type": "stream",
     "text": [
      "customerID <class 'str'>\n",
      "Churn <class 'str'>\n",
      "customer <class 'dict'>\n",
      "phone <class 'dict'>\n",
      "internet <class 'dict'>\n",
      "account <class 'dict'>\n"
     ]
    }
   ],
   "source": [
    "#verificando os tipos dos dados disponíveis a partir do dado na primeira informação em cada coluna. \n",
    "for column in dados.columns:\n",
    "    print(column, type(dados[column][0]))"
   ]
  },
  {
   "cell_type": "code",
   "execution_count": 3,
   "id": "1278b40d",
   "metadata": {
    "execution": {
     "iopub.execute_input": "2022-07-06T00:15:35.888975Z",
     "iopub.status.busy": "2022-07-06T00:15:35.888307Z",
     "iopub.status.idle": "2022-07-06T00:15:35.894857Z",
     "shell.execute_reply": "2022-07-06T00:15:35.893545Z"
    },
    "papermill": {
     "duration": 0.01857,
     "end_time": "2022-07-06T00:15:35.897923",
     "exception": false,
     "start_time": "2022-07-06T00:15:35.879353",
     "status": "completed"
    },
    "tags": []
   },
   "outputs": [
    {
     "name": "stdout",
     "output_type": "stream",
     "text": [
      "dict_keys(['gender', 'SeniorCitizen', 'Partner', 'Dependents', 'tenure'])\n",
      "dict_keys(['PhoneService', 'MultipleLines'])\n",
      "dict_keys(['InternetService', 'OnlineSecurity', 'OnlineBackup', 'DeviceProtection', 'TechSupport', 'StreamingTV', 'StreamingMovies'])\n",
      "dict_keys(['Contract', 'PaperlessBilling', 'PaymentMethod', 'Charges'])\n"
     ]
    }
   ],
   "source": [
    "#verificando as keys dos dicts\n",
    "for key in ['customer', 'phone', 'internet', 'account']:\n",
    "    print(dados[key][0].keys())"
   ]
  },
  {
   "cell_type": "code",
   "execution_count": 4,
   "id": "de465203",
   "metadata": {
    "execution": {
     "iopub.execute_input": "2022-07-06T00:15:35.916454Z",
     "iopub.status.busy": "2022-07-06T00:15:35.916052Z",
     "iopub.status.idle": "2022-07-06T00:15:35.995976Z",
     "shell.execute_reply": "2022-07-06T00:15:35.994686Z"
    },
    "papermill": {
     "duration": 0.091606,
     "end_time": "2022-07-06T00:15:35.998398",
     "exception": false,
     "start_time": "2022-07-06T00:15:35.906792",
     "status": "completed"
    },
    "tags": []
   },
   "outputs": [
    {
     "data": {
      "text/html": [
       "<div>\n",
       "<style scoped>\n",
       "    .dataframe tbody tr th:only-of-type {\n",
       "        vertical-align: middle;\n",
       "    }\n",
       "\n",
       "    .dataframe tbody tr th {\n",
       "        vertical-align: top;\n",
       "    }\n",
       "\n",
       "    .dataframe thead th {\n",
       "        text-align: right;\n",
       "    }\n",
       "</style>\n",
       "<table border=\"1\" class=\"dataframe\">\n",
       "  <thead>\n",
       "    <tr style=\"text-align: right;\">\n",
       "      <th></th>\n",
       "      <th>gender</th>\n",
       "      <th>SeniorCitizen</th>\n",
       "      <th>Partner</th>\n",
       "      <th>Dependents</th>\n",
       "      <th>tenure</th>\n",
       "    </tr>\n",
       "  </thead>\n",
       "  <tbody>\n",
       "    <tr>\n",
       "      <th>0</th>\n",
       "      <td>Female</td>\n",
       "      <td>0</td>\n",
       "      <td>Yes</td>\n",
       "      <td>Yes</td>\n",
       "      <td>9</td>\n",
       "    </tr>\n",
       "    <tr>\n",
       "      <th>1</th>\n",
       "      <td>Male</td>\n",
       "      <td>0</td>\n",
       "      <td>No</td>\n",
       "      <td>No</td>\n",
       "      <td>9</td>\n",
       "    </tr>\n",
       "    <tr>\n",
       "      <th>2</th>\n",
       "      <td>Male</td>\n",
       "      <td>0</td>\n",
       "      <td>No</td>\n",
       "      <td>No</td>\n",
       "      <td>4</td>\n",
       "    </tr>\n",
       "    <tr>\n",
       "      <th>3</th>\n",
       "      <td>Male</td>\n",
       "      <td>1</td>\n",
       "      <td>Yes</td>\n",
       "      <td>No</td>\n",
       "      <td>13</td>\n",
       "    </tr>\n",
       "    <tr>\n",
       "      <th>4</th>\n",
       "      <td>Female</td>\n",
       "      <td>1</td>\n",
       "      <td>Yes</td>\n",
       "      <td>No</td>\n",
       "      <td>3</td>\n",
       "    </tr>\n",
       "    <tr>\n",
       "      <th>...</th>\n",
       "      <td>...</td>\n",
       "      <td>...</td>\n",
       "      <td>...</td>\n",
       "      <td>...</td>\n",
       "      <td>...</td>\n",
       "    </tr>\n",
       "    <tr>\n",
       "      <th>7262</th>\n",
       "      <td>Female</td>\n",
       "      <td>0</td>\n",
       "      <td>No</td>\n",
       "      <td>No</td>\n",
       "      <td>13</td>\n",
       "    </tr>\n",
       "    <tr>\n",
       "      <th>7263</th>\n",
       "      <td>Male</td>\n",
       "      <td>0</td>\n",
       "      <td>Yes</td>\n",
       "      <td>No</td>\n",
       "      <td>22</td>\n",
       "    </tr>\n",
       "    <tr>\n",
       "      <th>7264</th>\n",
       "      <td>Male</td>\n",
       "      <td>0</td>\n",
       "      <td>No</td>\n",
       "      <td>No</td>\n",
       "      <td>2</td>\n",
       "    </tr>\n",
       "    <tr>\n",
       "      <th>7265</th>\n",
       "      <td>Male</td>\n",
       "      <td>0</td>\n",
       "      <td>Yes</td>\n",
       "      <td>Yes</td>\n",
       "      <td>67</td>\n",
       "    </tr>\n",
       "    <tr>\n",
       "      <th>7266</th>\n",
       "      <td>Male</td>\n",
       "      <td>0</td>\n",
       "      <td>Yes</td>\n",
       "      <td>Yes</td>\n",
       "      <td>63</td>\n",
       "    </tr>\n",
       "  </tbody>\n",
       "</table>\n",
       "<p>7267 rows × 5 columns</p>\n",
       "</div>"
      ],
      "text/plain": [
       "      gender  SeniorCitizen Partner Dependents  tenure\n",
       "0     Female              0     Yes        Yes       9\n",
       "1       Male              0      No         No       9\n",
       "2       Male              0      No         No       4\n",
       "3       Male              1     Yes         No      13\n",
       "4     Female              1     Yes         No       3\n",
       "...      ...            ...     ...        ...     ...\n",
       "7262  Female              0      No         No      13\n",
       "7263    Male              0     Yes         No      22\n",
       "7264    Male              0      No         No       2\n",
       "7265    Male              0     Yes        Yes      67\n",
       "7266    Male              0     Yes        Yes      63\n",
       "\n",
       "[7267 rows x 5 columns]"
      ]
     },
     "execution_count": 4,
     "metadata": {},
     "output_type": "execute_result"
    }
   ],
   "source": [
    "normal_customer = pd.json_normalize(data=dados['customer'], sep='_')\n",
    "normal_customer"
   ]
  },
  {
   "cell_type": "code",
   "execution_count": 5,
   "id": "f585c19a",
   "metadata": {
    "execution": {
     "iopub.execute_input": "2022-07-06T00:15:36.016598Z",
     "iopub.status.busy": "2022-07-06T00:15:36.016176Z",
     "iopub.status.idle": "2022-07-06T00:15:36.305256Z",
     "shell.execute_reply": "2022-07-06T00:15:36.303867Z"
    },
    "papermill": {
     "duration": 0.301344,
     "end_time": "2022-07-06T00:15:36.307864",
     "exception": false,
     "start_time": "2022-07-06T00:15:36.006520",
     "status": "completed"
    },
    "tags": []
   },
   "outputs": [
    {
     "data": {
      "text/html": [
       "<div>\n",
       "<style scoped>\n",
       "    .dataframe tbody tr th:only-of-type {\n",
       "        vertical-align: middle;\n",
       "    }\n",
       "\n",
       "    .dataframe tbody tr th {\n",
       "        vertical-align: top;\n",
       "    }\n",
       "\n",
       "    .dataframe thead th {\n",
       "        text-align: right;\n",
       "    }\n",
       "</style>\n",
       "<table border=\"1\" class=\"dataframe\">\n",
       "  <thead>\n",
       "    <tr style=\"text-align: right;\">\n",
       "      <th></th>\n",
       "      <th>customerID</th>\n",
       "      <th>Churn</th>\n",
       "      <th>customer</th>\n",
       "      <th>phone</th>\n",
       "      <th>internet</th>\n",
       "      <th>account</th>\n",
       "      <th>gender</th>\n",
       "      <th>SeniorCitizen</th>\n",
       "      <th>Partner</th>\n",
       "      <th>Dependents</th>\n",
       "      <th>...</th>\n",
       "      <th>OnlineBackup</th>\n",
       "      <th>DeviceProtection</th>\n",
       "      <th>TechSupport</th>\n",
       "      <th>StreamingTV</th>\n",
       "      <th>StreamingMovies</th>\n",
       "      <th>Contract</th>\n",
       "      <th>PaperlessBilling</th>\n",
       "      <th>PaymentMethod</th>\n",
       "      <th>Charges_Monthly</th>\n",
       "      <th>Charges_Total</th>\n",
       "    </tr>\n",
       "  </thead>\n",
       "  <tbody>\n",
       "    <tr>\n",
       "      <th>0</th>\n",
       "      <td>0002-ORFBO</td>\n",
       "      <td>No</td>\n",
       "      <td>{'gender': 'Female', 'SeniorCitizen': 0, 'Part...</td>\n",
       "      <td>{'PhoneService': 'Yes', 'MultipleLines': 'No'}</td>\n",
       "      <td>{'InternetService': 'DSL', 'OnlineSecurity': '...</td>\n",
       "      <td>{'Contract': 'One year', 'PaperlessBilling': '...</td>\n",
       "      <td>Female</td>\n",
       "      <td>0</td>\n",
       "      <td>Yes</td>\n",
       "      <td>Yes</td>\n",
       "      <td>...</td>\n",
       "      <td>Yes</td>\n",
       "      <td>No</td>\n",
       "      <td>Yes</td>\n",
       "      <td>Yes</td>\n",
       "      <td>No</td>\n",
       "      <td>One year</td>\n",
       "      <td>Yes</td>\n",
       "      <td>Mailed check</td>\n",
       "      <td>65.6</td>\n",
       "      <td>593.3</td>\n",
       "    </tr>\n",
       "    <tr>\n",
       "      <th>1</th>\n",
       "      <td>0003-MKNFE</td>\n",
       "      <td>No</td>\n",
       "      <td>{'gender': 'Male', 'SeniorCitizen': 0, 'Partne...</td>\n",
       "      <td>{'PhoneService': 'Yes', 'MultipleLines': 'Yes'}</td>\n",
       "      <td>{'InternetService': 'DSL', 'OnlineSecurity': '...</td>\n",
       "      <td>{'Contract': 'Month-to-month', 'PaperlessBilli...</td>\n",
       "      <td>Male</td>\n",
       "      <td>0</td>\n",
       "      <td>No</td>\n",
       "      <td>No</td>\n",
       "      <td>...</td>\n",
       "      <td>No</td>\n",
       "      <td>No</td>\n",
       "      <td>No</td>\n",
       "      <td>No</td>\n",
       "      <td>Yes</td>\n",
       "      <td>Month-to-month</td>\n",
       "      <td>No</td>\n",
       "      <td>Mailed check</td>\n",
       "      <td>59.9</td>\n",
       "      <td>542.4</td>\n",
       "    </tr>\n",
       "    <tr>\n",
       "      <th>2</th>\n",
       "      <td>0004-TLHLJ</td>\n",
       "      <td>Yes</td>\n",
       "      <td>{'gender': 'Male', 'SeniorCitizen': 0, 'Partne...</td>\n",
       "      <td>{'PhoneService': 'Yes', 'MultipleLines': 'No'}</td>\n",
       "      <td>{'InternetService': 'Fiber optic', 'OnlineSecu...</td>\n",
       "      <td>{'Contract': 'Month-to-month', 'PaperlessBilli...</td>\n",
       "      <td>Male</td>\n",
       "      <td>0</td>\n",
       "      <td>No</td>\n",
       "      <td>No</td>\n",
       "      <td>...</td>\n",
       "      <td>No</td>\n",
       "      <td>Yes</td>\n",
       "      <td>No</td>\n",
       "      <td>No</td>\n",
       "      <td>No</td>\n",
       "      <td>Month-to-month</td>\n",
       "      <td>Yes</td>\n",
       "      <td>Electronic check</td>\n",
       "      <td>73.9</td>\n",
       "      <td>280.85</td>\n",
       "    </tr>\n",
       "    <tr>\n",
       "      <th>3</th>\n",
       "      <td>0011-IGKFF</td>\n",
       "      <td>Yes</td>\n",
       "      <td>{'gender': 'Male', 'SeniorCitizen': 1, 'Partne...</td>\n",
       "      <td>{'PhoneService': 'Yes', 'MultipleLines': 'No'}</td>\n",
       "      <td>{'InternetService': 'Fiber optic', 'OnlineSecu...</td>\n",
       "      <td>{'Contract': 'Month-to-month', 'PaperlessBilli...</td>\n",
       "      <td>Male</td>\n",
       "      <td>1</td>\n",
       "      <td>Yes</td>\n",
       "      <td>No</td>\n",
       "      <td>...</td>\n",
       "      <td>Yes</td>\n",
       "      <td>Yes</td>\n",
       "      <td>No</td>\n",
       "      <td>Yes</td>\n",
       "      <td>Yes</td>\n",
       "      <td>Month-to-month</td>\n",
       "      <td>Yes</td>\n",
       "      <td>Electronic check</td>\n",
       "      <td>98.0</td>\n",
       "      <td>1237.85</td>\n",
       "    </tr>\n",
       "    <tr>\n",
       "      <th>4</th>\n",
       "      <td>0013-EXCHZ</td>\n",
       "      <td>Yes</td>\n",
       "      <td>{'gender': 'Female', 'SeniorCitizen': 1, 'Part...</td>\n",
       "      <td>{'PhoneService': 'Yes', 'MultipleLines': 'No'}</td>\n",
       "      <td>{'InternetService': 'Fiber optic', 'OnlineSecu...</td>\n",
       "      <td>{'Contract': 'Month-to-month', 'PaperlessBilli...</td>\n",
       "      <td>Female</td>\n",
       "      <td>1</td>\n",
       "      <td>Yes</td>\n",
       "      <td>No</td>\n",
       "      <td>...</td>\n",
       "      <td>No</td>\n",
       "      <td>No</td>\n",
       "      <td>Yes</td>\n",
       "      <td>Yes</td>\n",
       "      <td>No</td>\n",
       "      <td>Month-to-month</td>\n",
       "      <td>Yes</td>\n",
       "      <td>Mailed check</td>\n",
       "      <td>83.9</td>\n",
       "      <td>267.4</td>\n",
       "    </tr>\n",
       "  </tbody>\n",
       "</table>\n",
       "<p>5 rows × 25 columns</p>\n",
       "</div>"
      ],
      "text/plain": [
       "   customerID Churn                                           customer  \\\n",
       "0  0002-ORFBO    No  {'gender': 'Female', 'SeniorCitizen': 0, 'Part...   \n",
       "1  0003-MKNFE    No  {'gender': 'Male', 'SeniorCitizen': 0, 'Partne...   \n",
       "2  0004-TLHLJ   Yes  {'gender': 'Male', 'SeniorCitizen': 0, 'Partne...   \n",
       "3  0011-IGKFF   Yes  {'gender': 'Male', 'SeniorCitizen': 1, 'Partne...   \n",
       "4  0013-EXCHZ   Yes  {'gender': 'Female', 'SeniorCitizen': 1, 'Part...   \n",
       "\n",
       "                                             phone  \\\n",
       "0   {'PhoneService': 'Yes', 'MultipleLines': 'No'}   \n",
       "1  {'PhoneService': 'Yes', 'MultipleLines': 'Yes'}   \n",
       "2   {'PhoneService': 'Yes', 'MultipleLines': 'No'}   \n",
       "3   {'PhoneService': 'Yes', 'MultipleLines': 'No'}   \n",
       "4   {'PhoneService': 'Yes', 'MultipleLines': 'No'}   \n",
       "\n",
       "                                            internet  \\\n",
       "0  {'InternetService': 'DSL', 'OnlineSecurity': '...   \n",
       "1  {'InternetService': 'DSL', 'OnlineSecurity': '...   \n",
       "2  {'InternetService': 'Fiber optic', 'OnlineSecu...   \n",
       "3  {'InternetService': 'Fiber optic', 'OnlineSecu...   \n",
       "4  {'InternetService': 'Fiber optic', 'OnlineSecu...   \n",
       "\n",
       "                                             account  gender  SeniorCitizen  \\\n",
       "0  {'Contract': 'One year', 'PaperlessBilling': '...  Female              0   \n",
       "1  {'Contract': 'Month-to-month', 'PaperlessBilli...    Male              0   \n",
       "2  {'Contract': 'Month-to-month', 'PaperlessBilli...    Male              0   \n",
       "3  {'Contract': 'Month-to-month', 'PaperlessBilli...    Male              1   \n",
       "4  {'Contract': 'Month-to-month', 'PaperlessBilli...  Female              1   \n",
       "\n",
       "  Partner Dependents  ...  OnlineBackup DeviceProtection TechSupport  \\\n",
       "0     Yes        Yes  ...           Yes               No         Yes   \n",
       "1      No         No  ...            No               No          No   \n",
       "2      No         No  ...            No              Yes          No   \n",
       "3     Yes         No  ...           Yes              Yes          No   \n",
       "4     Yes         No  ...            No               No         Yes   \n",
       "\n",
       "  StreamingTV StreamingMovies        Contract PaperlessBilling  \\\n",
       "0         Yes              No        One year              Yes   \n",
       "1          No             Yes  Month-to-month               No   \n",
       "2          No              No  Month-to-month              Yes   \n",
       "3         Yes             Yes  Month-to-month              Yes   \n",
       "4         Yes              No  Month-to-month              Yes   \n",
       "\n",
       "      PaymentMethod Charges_Monthly Charges_Total  \n",
       "0      Mailed check            65.6         593.3  \n",
       "1      Mailed check            59.9         542.4  \n",
       "2  Electronic check            73.9        280.85  \n",
       "3  Electronic check            98.0       1237.85  \n",
       "4      Mailed check            83.9         267.4  \n",
       "\n",
       "[5 rows x 25 columns]"
      ]
     },
     "execution_count": 5,
     "metadata": {},
     "output_type": "execute_result"
    }
   ],
   "source": [
    "#separando os dicts\n",
    "\n",
    "for dict in ['customer', 'phone', 'internet', 'account']:\n",
    "    dict_normal = pd.json_normalize(data=dados[dict], sep='_')\n",
    "    dados = pd.concat([dados, dict_normal], axis=1)\n",
    "    \n",
    "dados.head()"
   ]
  },
  {
   "cell_type": "code",
   "execution_count": 6,
   "id": "42063b83",
   "metadata": {
    "execution": {
     "iopub.execute_input": "2022-07-06T00:15:36.326235Z",
     "iopub.status.busy": "2022-07-06T00:15:36.325866Z",
     "iopub.status.idle": "2022-07-06T00:15:36.355408Z",
     "shell.execute_reply": "2022-07-06T00:15:36.354445Z"
    },
    "papermill": {
     "duration": 0.041742,
     "end_time": "2022-07-06T00:15:36.358106",
     "exception": false,
     "start_time": "2022-07-06T00:15:36.316364",
     "status": "completed"
    },
    "tags": []
   },
   "outputs": [],
   "source": [
    "dados.drop(['customer', 'phone', 'internet', 'account'], inplace=True, axis=1)"
   ]
  },
  {
   "cell_type": "code",
   "execution_count": 7,
   "id": "4384b528",
   "metadata": {
    "execution": {
     "iopub.execute_input": "2022-07-06T00:15:36.376510Z",
     "iopub.status.busy": "2022-07-06T00:15:36.376144Z",
     "iopub.status.idle": "2022-07-06T00:15:36.383758Z",
     "shell.execute_reply": "2022-07-06T00:15:36.382558Z"
    },
    "papermill": {
     "duration": 0.020367,
     "end_time": "2022-07-06T00:15:36.386945",
     "exception": false,
     "start_time": "2022-07-06T00:15:36.366578",
     "status": "completed"
    },
    "tags": []
   },
   "outputs": [
    {
     "name": "stdout",
     "output_type": "stream",
     "text": [
      "customerID <class 'str'>\n",
      "Churn <class 'str'>\n",
      "gender <class 'str'>\n",
      "SeniorCitizen <class 'numpy.int64'>\n",
      "Partner <class 'str'>\n",
      "Dependents <class 'str'>\n",
      "tenure <class 'numpy.int64'>\n",
      "PhoneService <class 'str'>\n",
      "MultipleLines <class 'str'>\n",
      "InternetService <class 'str'>\n",
      "OnlineSecurity <class 'str'>\n",
      "OnlineBackup <class 'str'>\n",
      "DeviceProtection <class 'str'>\n",
      "TechSupport <class 'str'>\n",
      "StreamingTV <class 'str'>\n",
      "StreamingMovies <class 'str'>\n",
      "Contract <class 'str'>\n",
      "PaperlessBilling <class 'str'>\n",
      "PaymentMethod <class 'str'>\n",
      "Charges_Monthly <class 'numpy.float64'>\n",
      "Charges_Total <class 'str'>\n"
     ]
    }
   ],
   "source": [
    "for column in dados.columns:\n",
    "    print(column, type(dados[column][0]))"
   ]
  },
  {
   "cell_type": "code",
   "execution_count": 8,
   "id": "576c19fe",
   "metadata": {
    "execution": {
     "iopub.execute_input": "2022-07-06T00:15:36.406322Z",
     "iopub.status.busy": "2022-07-06T00:15:36.405735Z",
     "iopub.status.idle": "2022-07-06T00:15:36.460357Z",
     "shell.execute_reply": "2022-07-06T00:15:36.459189Z"
    },
    "papermill": {
     "duration": 0.067134,
     "end_time": "2022-07-06T00:15:36.463111",
     "exception": false,
     "start_time": "2022-07-06T00:15:36.395977",
     "status": "completed"
    },
    "tags": []
   },
   "outputs": [
    {
     "name": "stdout",
     "output_type": "stream",
     "text": [
      "Male      3675\n",
      "Female    3592\n",
      "Name: gender, dtype: int64\n",
      "No     3749\n",
      "Yes    3518\n",
      "Name: Partner, dtype: int64\n",
      "No     5086\n",
      "Yes    2181\n",
      "Name: Dependents, dtype: int64\n",
      "Yes    6560\n",
      "No      707\n",
      "Name: PhoneService, dtype: int64\n",
      "No                  3495\n",
      "Yes                 3065\n",
      "No phone service     707\n",
      "Name: MultipleLines, dtype: int64\n",
      "Fiber optic    3198\n",
      "DSL            2488\n",
      "No             1581\n",
      "Name: InternetService, dtype: int64\n",
      "No                     3608\n",
      "Yes                    2078\n",
      "No internet service    1581\n",
      "Name: OnlineSecurity, dtype: int64\n",
      "No                     3182\n",
      "Yes                    2504\n",
      "No internet service    1581\n",
      "Name: OnlineBackup, dtype: int64\n",
      "No                     3195\n",
      "Yes                    2491\n",
      "No internet service    1581\n",
      "Name: DeviceProtection, dtype: int64\n",
      "No                     3582\n",
      "Yes                    2104\n",
      "No internet service    1581\n",
      "Name: TechSupport, dtype: int64\n",
      "No                     2896\n",
      "Yes                    2790\n",
      "No internet service    1581\n",
      "Name: StreamingTV, dtype: int64\n",
      "No                     2870\n",
      "Yes                    2816\n",
      "No internet service    1581\n",
      "Name: StreamingMovies, dtype: int64\n",
      "Month-to-month    4005\n",
      "Two year          1743\n",
      "One year          1519\n",
      "Name: Contract, dtype: int64\n",
      "Yes    4311\n",
      "No     2956\n",
      "Name: PaperlessBilling, dtype: int64\n",
      "Electronic check             2445\n",
      "Mailed check                 1665\n",
      "Bank transfer (automatic)    1589\n",
      "Credit card (automatic)      1568\n",
      "Name: PaymentMethod, dtype: int64\n"
     ]
    }
   ],
   "source": [
    "strings = ['gender', 'Partner', 'Dependents', 'PhoneService', 'MultipleLines', 'InternetService', 'OnlineSecurity',\n",
    "          'OnlineBackup', 'DeviceProtection', 'TechSupport', 'StreamingTV', 'StreamingMovies', 'Contract',\n",
    "          'PaperlessBilling', 'PaymentMethod']\n",
    "for values in strings:\n",
    "    print(dados[values].value_counts())"
   ]
  },
  {
   "cell_type": "code",
   "execution_count": 9,
   "id": "11946288",
   "metadata": {
    "execution": {
     "iopub.execute_input": "2022-07-06T00:15:36.482465Z",
     "iopub.status.busy": "2022-07-06T00:15:36.482116Z",
     "iopub.status.idle": "2022-07-06T00:15:36.519230Z",
     "shell.execute_reply": "2022-07-06T00:15:36.517965Z"
    },
    "papermill": {
     "duration": 0.049835,
     "end_time": "2022-07-06T00:15:36.521546",
     "exception": false,
     "start_time": "2022-07-06T00:15:36.471711",
     "status": "completed"
    },
    "tags": []
   },
   "outputs": [
    {
     "data": {
      "text/html": [
       "<div>\n",
       "<style scoped>\n",
       "    .dataframe tbody tr th:only-of-type {\n",
       "        vertical-align: middle;\n",
       "    }\n",
       "\n",
       "    .dataframe tbody tr th {\n",
       "        vertical-align: top;\n",
       "    }\n",
       "\n",
       "    .dataframe thead th {\n",
       "        text-align: right;\n",
       "    }\n",
       "</style>\n",
       "<table border=\"1\" class=\"dataframe\">\n",
       "  <thead>\n",
       "    <tr style=\"text-align: right;\">\n",
       "      <th></th>\n",
       "      <th>customerID</th>\n",
       "      <th>Churn</th>\n",
       "      <th>gender</th>\n",
       "      <th>SeniorCitizen</th>\n",
       "      <th>Partner</th>\n",
       "      <th>Dependents</th>\n",
       "      <th>tenure</th>\n",
       "      <th>PhoneService</th>\n",
       "      <th>MultipleLines</th>\n",
       "      <th>InternetService</th>\n",
       "      <th>...</th>\n",
       "      <th>OnlineBackup</th>\n",
       "      <th>DeviceProtection</th>\n",
       "      <th>TechSupport</th>\n",
       "      <th>StreamingTV</th>\n",
       "      <th>StreamingMovies</th>\n",
       "      <th>Contract</th>\n",
       "      <th>PaperlessBilling</th>\n",
       "      <th>PaymentMethod</th>\n",
       "      <th>Charges_Monthly</th>\n",
       "      <th>Charges_Total</th>\n",
       "    </tr>\n",
       "  </thead>\n",
       "  <tbody>\n",
       "    <tr>\n",
       "      <th>975</th>\n",
       "      <td>1371-DWPAZ</td>\n",
       "      <td>No</td>\n",
       "      <td>Female</td>\n",
       "      <td>0</td>\n",
       "      <td>Yes</td>\n",
       "      <td>Yes</td>\n",
       "      <td>0</td>\n",
       "      <td>No</td>\n",
       "      <td>No phone service</td>\n",
       "      <td>DSL</td>\n",
       "      <td>...</td>\n",
       "      <td>Yes</td>\n",
       "      <td>Yes</td>\n",
       "      <td>Yes</td>\n",
       "      <td>Yes</td>\n",
       "      <td>No</td>\n",
       "      <td>Two year</td>\n",
       "      <td>No</td>\n",
       "      <td>Credit card (automatic)</td>\n",
       "      <td>56.05</td>\n",
       "      <td></td>\n",
       "    </tr>\n",
       "    <tr>\n",
       "      <th>1775</th>\n",
       "      <td>2520-SGTTA</td>\n",
       "      <td>No</td>\n",
       "      <td>Female</td>\n",
       "      <td>0</td>\n",
       "      <td>Yes</td>\n",
       "      <td>Yes</td>\n",
       "      <td>0</td>\n",
       "      <td>Yes</td>\n",
       "      <td>No</td>\n",
       "      <td>No</td>\n",
       "      <td>...</td>\n",
       "      <td>No internet service</td>\n",
       "      <td>No internet service</td>\n",
       "      <td>No internet service</td>\n",
       "      <td>No internet service</td>\n",
       "      <td>No internet service</td>\n",
       "      <td>Two year</td>\n",
       "      <td>No</td>\n",
       "      <td>Mailed check</td>\n",
       "      <td>20.00</td>\n",
       "      <td></td>\n",
       "    </tr>\n",
       "    <tr>\n",
       "      <th>1955</th>\n",
       "      <td>2775-SEFEE</td>\n",
       "      <td>No</td>\n",
       "      <td>Male</td>\n",
       "      <td>0</td>\n",
       "      <td>No</td>\n",
       "      <td>Yes</td>\n",
       "      <td>0</td>\n",
       "      <td>Yes</td>\n",
       "      <td>Yes</td>\n",
       "      <td>DSL</td>\n",
       "      <td>...</td>\n",
       "      <td>Yes</td>\n",
       "      <td>No</td>\n",
       "      <td>Yes</td>\n",
       "      <td>No</td>\n",
       "      <td>No</td>\n",
       "      <td>Two year</td>\n",
       "      <td>Yes</td>\n",
       "      <td>Bank transfer (automatic)</td>\n",
       "      <td>61.90</td>\n",
       "      <td></td>\n",
       "    </tr>\n",
       "    <tr>\n",
       "      <th>2075</th>\n",
       "      <td>2923-ARZLG</td>\n",
       "      <td>No</td>\n",
       "      <td>Male</td>\n",
       "      <td>0</td>\n",
       "      <td>Yes</td>\n",
       "      <td>Yes</td>\n",
       "      <td>0</td>\n",
       "      <td>Yes</td>\n",
       "      <td>No</td>\n",
       "      <td>No</td>\n",
       "      <td>...</td>\n",
       "      <td>No internet service</td>\n",
       "      <td>No internet service</td>\n",
       "      <td>No internet service</td>\n",
       "      <td>No internet service</td>\n",
       "      <td>No internet service</td>\n",
       "      <td>One year</td>\n",
       "      <td>Yes</td>\n",
       "      <td>Mailed check</td>\n",
       "      <td>19.70</td>\n",
       "      <td></td>\n",
       "    </tr>\n",
       "    <tr>\n",
       "      <th>2232</th>\n",
       "      <td>3115-CZMZD</td>\n",
       "      <td>No</td>\n",
       "      <td>Male</td>\n",
       "      <td>0</td>\n",
       "      <td>No</td>\n",
       "      <td>Yes</td>\n",
       "      <td>0</td>\n",
       "      <td>Yes</td>\n",
       "      <td>No</td>\n",
       "      <td>No</td>\n",
       "      <td>...</td>\n",
       "      <td>No internet service</td>\n",
       "      <td>No internet service</td>\n",
       "      <td>No internet service</td>\n",
       "      <td>No internet service</td>\n",
       "      <td>No internet service</td>\n",
       "      <td>Two year</td>\n",
       "      <td>No</td>\n",
       "      <td>Mailed check</td>\n",
       "      <td>20.25</td>\n",
       "      <td></td>\n",
       "    </tr>\n",
       "    <tr>\n",
       "      <th>2308</th>\n",
       "      <td>3213-VVOLG</td>\n",
       "      <td>No</td>\n",
       "      <td>Male</td>\n",
       "      <td>0</td>\n",
       "      <td>Yes</td>\n",
       "      <td>Yes</td>\n",
       "      <td>0</td>\n",
       "      <td>Yes</td>\n",
       "      <td>Yes</td>\n",
       "      <td>No</td>\n",
       "      <td>...</td>\n",
       "      <td>No internet service</td>\n",
       "      <td>No internet service</td>\n",
       "      <td>No internet service</td>\n",
       "      <td>No internet service</td>\n",
       "      <td>No internet service</td>\n",
       "      <td>Two year</td>\n",
       "      <td>No</td>\n",
       "      <td>Mailed check</td>\n",
       "      <td>25.35</td>\n",
       "      <td></td>\n",
       "    </tr>\n",
       "    <tr>\n",
       "      <th>2930</th>\n",
       "      <td>4075-WKNIU</td>\n",
       "      <td>No</td>\n",
       "      <td>Female</td>\n",
       "      <td>0</td>\n",
       "      <td>Yes</td>\n",
       "      <td>Yes</td>\n",
       "      <td>0</td>\n",
       "      <td>Yes</td>\n",
       "      <td>Yes</td>\n",
       "      <td>DSL</td>\n",
       "      <td>...</td>\n",
       "      <td>Yes</td>\n",
       "      <td>Yes</td>\n",
       "      <td>Yes</td>\n",
       "      <td>Yes</td>\n",
       "      <td>No</td>\n",
       "      <td>Two year</td>\n",
       "      <td>No</td>\n",
       "      <td>Mailed check</td>\n",
       "      <td>73.35</td>\n",
       "      <td></td>\n",
       "    </tr>\n",
       "    <tr>\n",
       "      <th>3134</th>\n",
       "      <td>4367-NUYAO</td>\n",
       "      <td>No</td>\n",
       "      <td>Male</td>\n",
       "      <td>0</td>\n",
       "      <td>Yes</td>\n",
       "      <td>Yes</td>\n",
       "      <td>0</td>\n",
       "      <td>Yes</td>\n",
       "      <td>Yes</td>\n",
       "      <td>No</td>\n",
       "      <td>...</td>\n",
       "      <td>No internet service</td>\n",
       "      <td>No internet service</td>\n",
       "      <td>No internet service</td>\n",
       "      <td>No internet service</td>\n",
       "      <td>No internet service</td>\n",
       "      <td>Two year</td>\n",
       "      <td>No</td>\n",
       "      <td>Mailed check</td>\n",
       "      <td>25.75</td>\n",
       "      <td></td>\n",
       "    </tr>\n",
       "    <tr>\n",
       "      <th>3203</th>\n",
       "      <td>4472-LVYGI</td>\n",
       "      <td>No</td>\n",
       "      <td>Female</td>\n",
       "      <td>0</td>\n",
       "      <td>Yes</td>\n",
       "      <td>Yes</td>\n",
       "      <td>0</td>\n",
       "      <td>No</td>\n",
       "      <td>No phone service</td>\n",
       "      <td>DSL</td>\n",
       "      <td>...</td>\n",
       "      <td>No</td>\n",
       "      <td>Yes</td>\n",
       "      <td>Yes</td>\n",
       "      <td>Yes</td>\n",
       "      <td>No</td>\n",
       "      <td>Two year</td>\n",
       "      <td>Yes</td>\n",
       "      <td>Bank transfer (automatic)</td>\n",
       "      <td>52.55</td>\n",
       "      <td></td>\n",
       "    </tr>\n",
       "    <tr>\n",
       "      <th>4169</th>\n",
       "      <td>5709-LVOEQ</td>\n",
       "      <td>No</td>\n",
       "      <td>Female</td>\n",
       "      <td>0</td>\n",
       "      <td>Yes</td>\n",
       "      <td>Yes</td>\n",
       "      <td>0</td>\n",
       "      <td>Yes</td>\n",
       "      <td>No</td>\n",
       "      <td>DSL</td>\n",
       "      <td>...</td>\n",
       "      <td>Yes</td>\n",
       "      <td>Yes</td>\n",
       "      <td>No</td>\n",
       "      <td>Yes</td>\n",
       "      <td>Yes</td>\n",
       "      <td>Two year</td>\n",
       "      <td>No</td>\n",
       "      <td>Mailed check</td>\n",
       "      <td>80.85</td>\n",
       "      <td></td>\n",
       "    </tr>\n",
       "    <tr>\n",
       "      <th>5599</th>\n",
       "      <td>7644-OMVMY</td>\n",
       "      <td>No</td>\n",
       "      <td>Male</td>\n",
       "      <td>0</td>\n",
       "      <td>Yes</td>\n",
       "      <td>Yes</td>\n",
       "      <td>0</td>\n",
       "      <td>Yes</td>\n",
       "      <td>No</td>\n",
       "      <td>No</td>\n",
       "      <td>...</td>\n",
       "      <td>No internet service</td>\n",
       "      <td>No internet service</td>\n",
       "      <td>No internet service</td>\n",
       "      <td>No internet service</td>\n",
       "      <td>No internet service</td>\n",
       "      <td>Two year</td>\n",
       "      <td>No</td>\n",
       "      <td>Mailed check</td>\n",
       "      <td>19.85</td>\n",
       "      <td></td>\n",
       "    </tr>\n",
       "  </tbody>\n",
       "</table>\n",
       "<p>11 rows × 21 columns</p>\n",
       "</div>"
      ],
      "text/plain": [
       "      customerID Churn  gender  SeniorCitizen Partner Dependents  tenure  \\\n",
       "975   1371-DWPAZ    No  Female              0     Yes        Yes       0   \n",
       "1775  2520-SGTTA    No  Female              0     Yes        Yes       0   \n",
       "1955  2775-SEFEE    No    Male              0      No        Yes       0   \n",
       "2075  2923-ARZLG    No    Male              0     Yes        Yes       0   \n",
       "2232  3115-CZMZD    No    Male              0      No        Yes       0   \n",
       "2308  3213-VVOLG    No    Male              0     Yes        Yes       0   \n",
       "2930  4075-WKNIU    No  Female              0     Yes        Yes       0   \n",
       "3134  4367-NUYAO    No    Male              0     Yes        Yes       0   \n",
       "3203  4472-LVYGI    No  Female              0     Yes        Yes       0   \n",
       "4169  5709-LVOEQ    No  Female              0     Yes        Yes       0   \n",
       "5599  7644-OMVMY    No    Male              0     Yes        Yes       0   \n",
       "\n",
       "     PhoneService     MultipleLines InternetService  ...         OnlineBackup  \\\n",
       "975            No  No phone service             DSL  ...                  Yes   \n",
       "1775          Yes                No              No  ...  No internet service   \n",
       "1955          Yes               Yes             DSL  ...                  Yes   \n",
       "2075          Yes                No              No  ...  No internet service   \n",
       "2232          Yes                No              No  ...  No internet service   \n",
       "2308          Yes               Yes              No  ...  No internet service   \n",
       "2930          Yes               Yes             DSL  ...                  Yes   \n",
       "3134          Yes               Yes              No  ...  No internet service   \n",
       "3203           No  No phone service             DSL  ...                   No   \n",
       "4169          Yes                No             DSL  ...                  Yes   \n",
       "5599          Yes                No              No  ...  No internet service   \n",
       "\n",
       "         DeviceProtection          TechSupport          StreamingTV  \\\n",
       "975                   Yes                  Yes                  Yes   \n",
       "1775  No internet service  No internet service  No internet service   \n",
       "1955                   No                  Yes                   No   \n",
       "2075  No internet service  No internet service  No internet service   \n",
       "2232  No internet service  No internet service  No internet service   \n",
       "2308  No internet service  No internet service  No internet service   \n",
       "2930                  Yes                  Yes                  Yes   \n",
       "3134  No internet service  No internet service  No internet service   \n",
       "3203                  Yes                  Yes                  Yes   \n",
       "4169                  Yes                   No                  Yes   \n",
       "5599  No internet service  No internet service  No internet service   \n",
       "\n",
       "          StreamingMovies  Contract PaperlessBilling  \\\n",
       "975                    No  Two year               No   \n",
       "1775  No internet service  Two year               No   \n",
       "1955                   No  Two year              Yes   \n",
       "2075  No internet service  One year              Yes   \n",
       "2232  No internet service  Two year               No   \n",
       "2308  No internet service  Two year               No   \n",
       "2930                   No  Two year               No   \n",
       "3134  No internet service  Two year               No   \n",
       "3203                   No  Two year              Yes   \n",
       "4169                  Yes  Two year               No   \n",
       "5599  No internet service  Two year               No   \n",
       "\n",
       "                  PaymentMethod Charges_Monthly  Charges_Total  \n",
       "975     Credit card (automatic)           56.05                 \n",
       "1775               Mailed check           20.00                 \n",
       "1955  Bank transfer (automatic)           61.90                 \n",
       "2075               Mailed check           19.70                 \n",
       "2232               Mailed check           20.25                 \n",
       "2308               Mailed check           25.35                 \n",
       "2930               Mailed check           73.35                 \n",
       "3134               Mailed check           25.75                 \n",
       "3203  Bank transfer (automatic)           52.55                 \n",
       "4169               Mailed check           80.85                 \n",
       "5599               Mailed check           19.85                 \n",
       "\n",
       "[11 rows x 21 columns]"
      ]
     },
     "execution_count": 9,
     "metadata": {},
     "output_type": "execute_result"
    }
   ],
   "source": [
    "#11 desses dados não possuem valor.\n",
    "dados.query(\"Charges_Total == ' '\")"
   ]
  },
  {
   "cell_type": "code",
   "execution_count": 10,
   "id": "b0593dca",
   "metadata": {
    "execution": {
     "iopub.execute_input": "2022-07-06T00:15:36.542011Z",
     "iopub.status.busy": "2022-07-06T00:15:36.541644Z",
     "iopub.status.idle": "2022-07-06T00:15:36.560891Z",
     "shell.execute_reply": "2022-07-06T00:15:36.559684Z"
    },
    "papermill": {
     "duration": 0.033013,
     "end_time": "2022-07-06T00:15:36.563893",
     "exception": false,
     "start_time": "2022-07-06T00:15:36.530880",
     "status": "completed"
    },
    "tags": []
   },
   "outputs": [
    {
     "name": "stdout",
     "output_type": "stream",
     "text": [
      "<class 'str'>\n",
      "<class 'numpy.float64'>\n"
     ]
    }
   ],
   "source": [
    "#Charges Total não devira ser str, vamos converter em float.\n",
    "#Existem dados faltantes, vamos utilizar coerce para transformar os erros em NaN.\n",
    "\n",
    "print(type(dados['Charges_Total'][0]))\n",
    "\n",
    "dados['Charges_Total'] = pd.to_numeric(dados['Charges_Total'], errors='coerce')\n",
    "\n",
    "print(type(dados['Charges_Total'][0]))"
   ]
  },
  {
   "cell_type": "code",
   "execution_count": 11,
   "id": "5f5525d7",
   "metadata": {
    "execution": {
     "iopub.execute_input": "2022-07-06T00:15:36.585285Z",
     "iopub.status.busy": "2022-07-06T00:15:36.584905Z",
     "iopub.status.idle": "2022-07-06T00:15:36.590760Z",
     "shell.execute_reply": "2022-07-06T00:15:36.589544Z"
    },
    "papermill": {
     "duration": 0.019572,
     "end_time": "2022-07-06T00:15:36.593463",
     "exception": false,
     "start_time": "2022-07-06T00:15:36.573891",
     "status": "completed"
    },
    "tags": []
   },
   "outputs": [
    {
     "name": "stdout",
     "output_type": "stream",
     "text": [
      "11\n"
     ]
    }
   ],
   "source": [
    "#Confirmando que somente os 11 vazios foram convertidos em NaN\n",
    "print(dados['Charges_Total'].isna().sum())"
   ]
  },
  {
   "cell_type": "code",
   "execution_count": 12,
   "id": "209b2cf5",
   "metadata": {
    "execution": {
     "iopub.execute_input": "2022-07-06T00:15:36.613629Z",
     "iopub.status.busy": "2022-07-06T00:15:36.613183Z",
     "iopub.status.idle": "2022-07-06T00:15:36.648397Z",
     "shell.execute_reply": "2022-07-06T00:15:36.647092Z"
    },
    "papermill": {
     "duration": 0.04937,
     "end_time": "2022-07-06T00:15:36.652164",
     "exception": false,
     "start_time": "2022-07-06T00:15:36.602794",
     "status": "completed"
    },
    "tags": []
   },
   "outputs": [
    {
     "name": "stdout",
     "output_type": "stream",
     "text": [
      "customerID 0\n",
      "Churn 0\n",
      "gender 0\n",
      "SeniorCitizen 0\n",
      "Partner 0\n",
      "Dependents 0\n",
      "tenure 0\n",
      "PhoneService 0\n",
      "MultipleLines 0\n",
      "InternetService 0\n",
      "OnlineSecurity 0\n",
      "OnlineBackup 0\n",
      "DeviceProtection 0\n",
      "TechSupport 0\n",
      "StreamingTV 0\n",
      "StreamingMovies 0\n",
      "Contract 0\n",
      "PaperlessBilling 0\n",
      "PaymentMethod 0\n",
      "Charges_Monthly 0\n",
      "Charges_Total 11\n"
     ]
    }
   ],
   "source": [
    "#Verificando NaN no dataset\n",
    "for valor in dados.columns:\n",
    "    print(valor, dados[valor].isna().sum())"
   ]
  },
  {
   "cell_type": "code",
   "execution_count": 13,
   "id": "47eac434",
   "metadata": {
    "execution": {
     "iopub.execute_input": "2022-07-06T00:15:36.674631Z",
     "iopub.status.busy": "2022-07-06T00:15:36.674096Z",
     "iopub.status.idle": "2022-07-06T00:15:36.710070Z",
     "shell.execute_reply": "2022-07-06T00:15:36.709060Z"
    },
    "papermill": {
     "duration": 0.049381,
     "end_time": "2022-07-06T00:15:36.712233",
     "exception": false,
     "start_time": "2022-07-06T00:15:36.662852",
     "status": "completed"
    },
    "tags": []
   },
   "outputs": [
    {
     "name": "stdout",
     "output_type": "stream",
     "text": [
      "7267\n",
      "7256\n"
     ]
    }
   ],
   "source": [
    "#Como é um dataset com mais de 7000 entradas e esses 11 valores parecem não ter sido colocados por erro, \n",
    "#iremos tirar esses 11.\n",
    "print(dados.shape[0])\n",
    "dados.dropna(inplace=True)\n",
    "print(dados.shape[0])"
   ]
  },
  {
   "cell_type": "markdown",
   "id": "c3149504",
   "metadata": {
    "papermill": {
     "duration": 0.009057,
     "end_time": "2022-07-06T00:15:36.730814",
     "exception": false,
     "start_time": "2022-07-06T00:15:36.721757",
     "status": "completed"
    },
    "tags": []
   },
   "source": [
    "Vamos traduzir o dataframe"
   ]
  },
  {
   "cell_type": "code",
   "execution_count": 14,
   "id": "a10ee662",
   "metadata": {
    "execution": {
     "iopub.execute_input": "2022-07-06T00:15:36.751945Z",
     "iopub.status.busy": "2022-07-06T00:15:36.751522Z",
     "iopub.status.idle": "2022-07-06T00:15:36.756818Z",
     "shell.execute_reply": "2022-07-06T00:15:36.755827Z"
    },
    "papermill": {
     "duration": 0.019282,
     "end_time": "2022-07-06T00:15:36.759413",
     "exception": false,
     "start_time": "2022-07-06T00:15:36.740131",
     "status": "completed"
    },
    "tags": []
   },
   "outputs": [
    {
     "name": "stdout",
     "output_type": "stream",
     "text": [
      "Index(['customerID', 'Churn', 'gender', 'SeniorCitizen', 'Partner',\n",
      "       'Dependents', 'tenure', 'PhoneService', 'MultipleLines',\n",
      "       'InternetService', 'OnlineSecurity', 'OnlineBackup', 'DeviceProtection',\n",
      "       'TechSupport', 'StreamingTV', 'StreamingMovies', 'Contract',\n",
      "       'PaperlessBilling', 'PaymentMethod', 'Charges_Monthly',\n",
      "       'Charges_Total'],\n",
      "      dtype='object')\n"
     ]
    }
   ],
   "source": [
    "print(dados.columns)"
   ]
  },
  {
   "cell_type": "code",
   "execution_count": 15,
   "id": "38965c08",
   "metadata": {
    "execution": {
     "iopub.execute_input": "2022-07-06T00:15:36.780937Z",
     "iopub.status.busy": "2022-07-06T00:15:36.780174Z",
     "iopub.status.idle": "2022-07-06T00:15:36.789634Z",
     "shell.execute_reply": "2022-07-06T00:15:36.788453Z"
    },
    "papermill": {
     "duration": 0.022639,
     "end_time": "2022-07-06T00:15:36.792099",
     "exception": false,
     "start_time": "2022-07-06T00:15:36.769460",
     "status": "completed"
    },
    "tags": []
   },
   "outputs": [
    {
     "name": "stdout",
     "output_type": "stream",
     "text": [
      "Index(['ID_Cliente', 'Churn', 'Genero', 'E_Idoso', 'Tem_Parceiro',\n",
      "       'Tem_Dependentes', 'Tempo_de_Posse', 'Tem_Servico_Telefone',\n",
      "       'Tem_Multiplas_Linhas', 'Tem_Servico_Internet',\n",
      "       'Tem_Servico_Seguranca_Online', 'Tem_Backup_Online',\n",
      "       'Tem_Protecao_Aparelho', 'Tem_Suporte_Tecnico', 'Tem_Tv_Streaming',\n",
      "       'Tem_Filmes_Streaming', 'Contrato', 'Cobranca_Sem_Papel',\n",
      "       'Metodo_de_Pagamento', 'Cobra_Mensalmente', 'Cobranca_Total'],\n",
      "      dtype='object')\n"
     ]
    }
   ],
   "source": [
    "#Começando por renomear as colunas (churn é um termo importado e não será mudado)\n",
    "dados.rename(columns={'customerID': 'ID_Cliente', 'gender': 'Genero', 'SeniorCitizen': 'E_Idoso',\n",
    "                     'Partner': 'Tem_Parceiro', 'Dependents': 'Tem_Dependentes', 'tenure': 'Tempo_de_Posse',\n",
    "                     'PhoneService': 'Tem_Servico_Telefone', 'MultipleLines': 'Tem_Multiplas_Linhas',\n",
    "                     'InternetService': 'Tem_Servico_Internet', 'OnlineSecurity': 'Tem_Servico_Seguranca_Online',\n",
    "                     'OnlineBackup': 'Tem_Backup_Online', 'DeviceProtection': 'Tem_Protecao_Aparelho',\n",
    "                     'TechSupport': 'Tem_Suporte_Tecnico', 'StreamingTV': 'Tem_Tv_Streaming', 'StreamingMovies': 'Tem_Filmes_Streaming',\n",
    "                     'Contract': 'Contrato', 'PaperlessBilling': 'Cobranca_Sem_Papel', 'PaymentMethod': 'Metodo_de_Pagamento',\n",
    "                     'Charges_Monthly': 'Cobra_Mensalmente', 'Charges_Total': 'Cobranca_Total'}, inplace=True)\n",
    "print(dados.columns)"
   ]
  },
  {
   "cell_type": "code",
   "execution_count": 16,
   "id": "1adaba8a",
   "metadata": {
    "execution": {
     "iopub.execute_input": "2022-07-06T00:15:36.814979Z",
     "iopub.status.busy": "2022-07-06T00:15:36.813848Z",
     "iopub.status.idle": "2022-07-06T00:15:36.827270Z",
     "shell.execute_reply": "2022-07-06T00:15:36.826146Z"
    },
    "papermill": {
     "duration": 0.027876,
     "end_time": "2022-07-06T00:15:36.829681",
     "exception": false,
     "start_time": "2022-07-06T00:15:36.801805",
     "status": "completed"
    },
    "tags": []
   },
   "outputs": [
    {
     "data": {
      "text/plain": [
       "20.05     65\n",
       "19.90     46\n",
       "19.55     45\n",
       "19.85     45\n",
       "19.95     44\n",
       "          ..\n",
       "23.45      1\n",
       "116.55     1\n",
       "106.85     1\n",
       "68.55      1\n",
       "67.85      1\n",
       "Name: Cobra_Mensalmente, Length: 1584, dtype: int64"
      ]
     },
     "execution_count": 16,
     "metadata": {},
     "output_type": "execute_result"
    }
   ],
   "source": [
    "dados.Cobra_Mensalmente.value_counts()"
   ]
  },
  {
   "cell_type": "code",
   "execution_count": 17,
   "id": "c0df6d34",
   "metadata": {
    "execution": {
     "iopub.execute_input": "2022-07-06T00:15:36.851762Z",
     "iopub.status.busy": "2022-07-06T00:15:36.851298Z",
     "iopub.status.idle": "2022-07-06T00:15:37.017721Z",
     "shell.execute_reply": "2022-07-06T00:15:37.016832Z"
    },
    "papermill": {
     "duration": 0.180419,
     "end_time": "2022-07-06T00:15:37.020223",
     "exception": false,
     "start_time": "2022-07-06T00:15:36.839804",
     "status": "completed"
    },
    "tags": []
   },
   "outputs": [],
   "source": [
    "#Traduzir resultados \n",
    "dados.replace('Yes', 1, inplace=True)\n",
    "dados.replace('No', 0, inplace=True)\n",
    "dados.replace('Female', 0, inplace=True)\n",
    "dados.replace('Male', 1, inplace=True)\n",
    "dados.replace('Fiber optic', 1, inplace=True)\n",
    "dados.replace('DSL', 2, inplace=True)\n",
    "dados.replace('No phone service', 999, inplace=True)\n",
    "dados.replace('No internet service', 999, inplace=True)\n",
    "dados.replace('Month-to-month', 0, inplace=True)\n",
    "dados.replace('Two year', 2, inplace=True)\n",
    "dados.replace('One year', 1, inplace=True)\n",
    "dados.replace('Electronic check', 0, inplace=True)\n",
    "dados.replace('Mailed check', 1, inplace=True)\n",
    "dados.replace('Bank transfer (automatic)', 2, inplace=True)\n",
    "dados.replace('Credit card (automatic)', 3, inplace=True)"
   ]
  },
  {
   "cell_type": "code",
   "execution_count": 18,
   "id": "d2acdfb7",
   "metadata": {
    "execution": {
     "iopub.execute_input": "2022-07-06T00:15:37.042451Z",
     "iopub.status.busy": "2022-07-06T00:15:37.041620Z",
     "iopub.status.idle": "2022-07-06T00:15:37.053855Z",
     "shell.execute_reply": "2022-07-06T00:15:37.052828Z"
    },
    "papermill": {
     "duration": 0.026095,
     "end_time": "2022-07-06T00:15:37.055981",
     "exception": false,
     "start_time": "2022-07-06T00:15:37.029886",
     "status": "completed"
    },
    "tags": []
   },
   "outputs": [
    {
     "data": {
      "text/plain": [
       "0       2.19\n",
       "1       2.00\n",
       "2       2.46\n",
       "3       3.27\n",
       "4       2.80\n",
       "        ... \n",
       "7262    1.84\n",
       "7263    2.84\n",
       "7264    1.68\n",
       "7265    2.26\n",
       "7266    1.97\n",
       "Name: Gastos_Diarios, Length: 7256, dtype: float64"
      ]
     },
     "execution_count": 18,
     "metadata": {},
     "output_type": "execute_result"
    }
   ],
   "source": [
    "#Vamos criar uma coluna com os gastos diários de cada indivíduo baseando-se no gasto mensal\n",
    "dados['Gastos_Diarios'] = (dados['Cobra_Mensalmente']/30).round(2)\n",
    "dados['Gastos_Diarios']"
   ]
  },
  {
   "cell_type": "markdown",
   "id": "198f9d58",
   "metadata": {
    "papermill": {
     "duration": 0.00944,
     "end_time": "2022-07-06T00:15:37.075440",
     "exception": false,
     "start_time": "2022-07-06T00:15:37.066000",
     "status": "completed"
    },
    "tags": []
   },
   "source": [
    "__Vamos começar a avaliar o Churn__"
   ]
  },
  {
   "cell_type": "code",
   "execution_count": 19,
   "id": "94771117",
   "metadata": {
    "execution": {
     "iopub.execute_input": "2022-07-06T00:15:37.097005Z",
     "iopub.status.busy": "2022-07-06T00:15:37.096098Z",
     "iopub.status.idle": "2022-07-06T00:15:37.105432Z",
     "shell.execute_reply": "2022-07-06T00:15:37.104390Z"
    },
    "papermill": {
     "duration": 0.022796,
     "end_time": "2022-07-06T00:15:37.108036",
     "exception": false,
     "start_time": "2022-07-06T00:15:37.085240",
     "status": "completed"
    },
    "tags": []
   },
   "outputs": [
    {
     "data": {
      "text/plain": [
       "0    5163\n",
       "1    1869\n",
       "      224\n",
       "Name: Churn, dtype: int64"
      ]
     },
     "execution_count": 19,
     "metadata": {},
     "output_type": "execute_result"
    }
   ],
   "source": [
    "dados.Churn.value_counts() #existem 224 sem o dado de Churn\n"
   ]
  },
  {
   "cell_type": "code",
   "execution_count": 20,
   "id": "ae0dbc78",
   "metadata": {
    "execution": {
     "iopub.execute_input": "2022-07-06T00:15:37.129550Z",
     "iopub.status.busy": "2022-07-06T00:15:37.129195Z",
     "iopub.status.idle": "2022-07-06T00:15:37.149516Z",
     "shell.execute_reply": "2022-07-06T00:15:37.148375Z"
    },
    "papermill": {
     "duration": 0.033734,
     "end_time": "2022-07-06T00:15:37.151782",
     "exception": false,
     "start_time": "2022-07-06T00:15:37.118048",
     "status": "completed"
    },
    "tags": []
   },
   "outputs": [
    {
     "data": {
      "text/plain": [
       "0    5163\n",
       "1    1869\n",
       "Name: Churn, dtype: int64"
      ]
     },
     "execution_count": 20,
     "metadata": {},
     "output_type": "execute_result"
    }
   ],
   "source": [
    "tirar = dados.query('Churn != 0 & Churn !=1').index\n",
    "dados.drop(labels=tirar, axis=0, inplace=True)\n",
    "dados.Churn.value_counts()"
   ]
  },
  {
   "cell_type": "code",
   "execution_count": 21,
   "id": "8354964d",
   "metadata": {
    "execution": {
     "iopub.execute_input": "2022-07-06T00:15:37.173767Z",
     "iopub.status.busy": "2022-07-06T00:15:37.173183Z",
     "iopub.status.idle": "2022-07-06T00:15:38.354831Z",
     "shell.execute_reply": "2022-07-06T00:15:38.353659Z"
    },
    "papermill": {
     "duration": 1.195643,
     "end_time": "2022-07-06T00:15:38.357505",
     "exception": false,
     "start_time": "2022-07-06T00:15:37.161862",
     "status": "completed"
    },
    "tags": []
   },
   "outputs": [],
   "source": [
    "import seaborn as sns\n",
    "import matplotlib.pyplot as plt\n",
    "\n",
    "sns.set_palette('rocket_r')\n",
    "sns.set_style('darkgrid')"
   ]
  },
  {
   "cell_type": "code",
   "execution_count": 22,
   "id": "9d4d59af",
   "metadata": {
    "execution": {
     "iopub.execute_input": "2022-07-06T00:15:38.380044Z",
     "iopub.status.busy": "2022-07-06T00:15:38.379329Z",
     "iopub.status.idle": "2022-07-06T00:15:38.591642Z",
     "shell.execute_reply": "2022-07-06T00:15:38.590548Z"
    },
    "papermill": {
     "duration": 0.226345,
     "end_time": "2022-07-06T00:15:38.594160",
     "exception": false,
     "start_time": "2022-07-06T00:15:38.367815",
     "status": "completed"
    },
    "tags": []
   },
   "outputs": [
    {
     "data": {
      "text/plain": [
       "Text(0.5, 1.0, 'Distribuição do Churn')"
      ]
     },
     "execution_count": 22,
     "metadata": {},
     "output_type": "execute_result"
    },
    {
     "data": {
      "image/png": "[encoded data removed]",
      "text/plain": [
       "<Figure size 1080x576 with 1 Axes>"
      ]
     },
     "metadata": {},
     "output_type": "display_data"
    }
   ],
   "source": [
    "Sim = len(dados.query('Churn == 1')['Churn'])\n",
    "Nao = len(dados.query('Churn == 0')['Churn'])\n",
    "Categoria = ['Sim', 'Não']\n",
    "\n",
    "plt.figure(figsize=(15,8))\n",
    "\n",
    "sns.barplot(x=Categoria, y=[Sim, Nao])\n",
    "plt.title('Distribuição do Churn', fontsize=25)\n"
   ]
  },
  {
   "cell_type": "code",
   "execution_count": 23,
   "id": "116b146a",
   "metadata": {
    "execution": {
     "iopub.execute_input": "2022-07-06T00:15:38.618461Z",
     "iopub.status.busy": "2022-07-06T00:15:38.617783Z",
     "iopub.status.idle": "2022-07-06T00:15:39.056575Z",
     "shell.execute_reply": "2022-07-06T00:15:39.055334Z"
    },
    "papermill": {
     "duration": 0.45366,
     "end_time": "2022-07-06T00:15:39.059173",
     "exception": false,
     "start_time": "2022-07-06T00:15:38.605513",
     "status": "completed"
    },
    "tags": []
   },
   "outputs": [
    {
     "data": {
      "text/plain": [
       "<AxesSubplot:title={'center':'Cobrança por Gênero e o Churn em cada categoria'}, xlabel='Gênero', ylabel='Cobrança Total'>"
      ]
     },
     "execution_count": 23,
     "metadata": {},
     "output_type": "execute_result"
    },
    {
     "data": {
      "image/png": "[encoded data removed]",
      "text/plain": [
       "<Figure size 1080x576 with 1 Axes>"
      ]
     },
     "metadata": {},
     "output_type": "display_data"
    }
   ],
   "source": [
    "plt.figure(figsize=(15,8))\n",
    "ax = sns.barplot(data=dados, x='Genero', y='Cobranca_Total', hue='Churn')\n",
    "plt.title('Cobrança por Gênero e o Churn em cada categoria', fontsize=20)\n",
    "ax.set_xlabel('Gênero', fontsize=15)\n",
    "ax.set_ylabel('Cobrança Total', fontsize=15)\n",
    "\n",
    "ax"
   ]
  },
  {
   "cell_type": "code",
   "execution_count": null,
   "id": "91102509",
   "metadata": {
    "papermill": {
     "duration": 0.010986,
     "end_time": "2022-07-06T00:15:39.081550",
     "exception": false,
     "start_time": "2022-07-06T00:15:39.070564",
     "status": "completed"
    },
    "tags": []
   },
   "outputs": [],
   "source": []
  }
 ],
 "metadata": {
  "kernelspec": {
   "display_name": "Python 3",
   "language": "python",
   "name": "python3"
  },
  "language_info": {
   "codemirror_mode": {
    "name": "ipython",
    "version": 3
   },
   "file_extension": ".py",
   "mimetype": "text/x-python",
   "name": "python",
   "nbconvert_exporter": "python",
   "pygments_lexer": "ipython3",
   "version": "3.7.12"
  },
  "papermill": {
   "default_parameters": {},
   "duration": 14.849387,
   "end_time": "2022-07-06T00:15:39.816306",
   "environment_variables": {},
   "exception": null,
   "input_path": "__notebook__.ipynb",
   "output_path": "__notebook__.ipynb",
   "parameters": {},
   "start_time": "2022-07-06T00:15:24.966919",
   "version": "2.3.4"
  }
 },
 "nbformat": 4,
 "nbformat_minor": 5
}
